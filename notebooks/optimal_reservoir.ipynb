{
 "cells": [
  {
   "cell_type": "markdown",
   "metadata": {},
   "source": [
    "# Optimal reservoir operation\n",
    "\n",
    "\n",
    "### CIVE 70019/70057\n",
    "Department of Civil and Environmental Engineering, Imperial College London"
   ]
  },
  {
   "cell_type": "markdown",
   "metadata": {},
   "source": [
    "Initialise module GitHub repository."
   ]
  },
  {
   "cell_type": "code",
   "execution_count": 1,
   "metadata": {},
   "outputs": [
    {
     "name": "stderr",
     "output_type": "stream",
     "text": [
      "UsageError: Line magic function `%%capture` not found.\n"
     ]
    }
   ],
   "source": [
    "# Run this cell once\n",
    "%%capture\n",
    "import sys\n",
    "import os\n",
    "\n",
    "if 'google.colab' in sys.modules:\n",
    "  !git clone https://github.com/bradleywjenks/CIVE_70019_70057.git"
   ]
  },
  {
   "cell_type": "code",
   "execution_count": 2,
   "metadata": {},
   "outputs": [],
   "source": [
    "# Load packages\n",
    "import cvxpy as cp\n",
    "import numpy as np\n",
    "import matplotlib.pyplot as plt\n",
    "import scipy.io\n",
    "\n",
    "# Improve matplotlib image quality\n",
    "plt.rcParams['figure.dpi'] = 300\n",
    "plt.rcParams['savefig.dpi'] = 300\n",
    "from IPython.display import set_matplotlib_formats\n",
    "set_matplotlib_formats('svg')"
   ]
  },
  {
   "cell_type": "markdown",
   "metadata": {},
   "source": [
    "### Problem formulation\n",
    "\n",
    "We consider an example of reservoir operation optimisation problem, using a simplified (and convex) model.\n",
    "\n",
    "The system has a single reservoir, a single release, and a single demand point. \n",
    "\n",
    "* $I_t $ is the reservoir inflow at time $t \\in \\{0,\\ldots,T-1\\}$ (**known** in advance)\n",
    "* $S_{\\text{cap}}$ is the storage capacity (**known** in advance)\n",
    "* $S_0$ is the initial storage level (**known** in advance)\n",
    "* $d_t$ is the water demand at time $t \\in \\{0,\\ldots,T-1\\}$ (**known** in advance)\n",
    "* $S_t$ is the reservoir storage at time $t \\in \\{0,\\ldots,T-1\\}$ (**state** variable)\n",
    "* $u_t$ is the reservoir release at time $t \\in \\{0,\\ldots,T-1\\}$ (first **control** variable)\n",
    "* $w_t$ is the reservoir spill at time $t \\in \\{0,\\ldots,T-1\\}$ (second **control** variable)     "
   ]
  },
  {
   "cell_type": "code",
   "execution_count": 4,
   "metadata": {},
   "outputs": [
    {
     "ename": "SyntaxError",
     "evalue": "invalid syntax (3187963584.py, line 2)",
     "output_type": "error",
     "traceback": [
      "\u001b[0;36m  Cell \u001b[0;32mIn[4], line 2\u001b[0;36m\u001b[0m\n\u001b[0;31m    <img src=os.path.join(figure_dir, \"image1.png\") width=\"300\"/>\u001b[0m\n\u001b[0m    ^\u001b[0m\n\u001b[0;31mSyntaxError\u001b[0m\u001b[0;31m:\u001b[0m invalid syntax\n"
     ]
    }
   ],
   "source": [
    "# Problem figure\n",
    "figure_dir = '/content/CIVE_70019_70057/data/figures/'\n",
    "<img src=os.path.join(figure_dir, \"image1.png\") width=\"300\"/>"
   ]
  },
  {
   "cell_type": "markdown",
   "metadata": {},
   "source": [
    "Our objective is to minimise the differences between water demand and realease. We also want to promote similarity between final and initial storage level, to aid re-implementation of the computed control settings (we assume the demand to be periodic).\n",
    "\n",
    "$$\\sum_{t=0}^{T-1}(u_t-d_t)^2 + (S_T-S_0)^2$$\n",
    "\n",
    "The optimization is subject to constraints modelling mass balance:\n",
    "\n",
    "$$S_{t+1} = S_t + I_t - u_t - w_t, \\quad t=0,\\ldots,T-1$$\n",
    "\n",
    "and constraints modelling physical requirements:\n",
    "\n",
    "$$0 \\leq w_t ,\\quad t \\in \\{0,\\ldots,T-1\\} $$\n",
    "$$0 \\leq S_t \\leq S_{cap} ,\\quad t \\in \\{0,\\ldots,T-1\\} $$\n",
    "$$0 \\leq u_t \\leq d_{t},\\quad t \\in \\{0,\\ldots,T-1\\} $$"
   ]
  },
  {
   "cell_type": "markdown",
   "metadata": {},
   "source": [
    "In the following we show how this problem is solved using CVXPY."
   ]
  },
  {
   "cell_type": "code",
   "execution_count": null,
   "metadata": {},
   "outputs": [],
   "source": [
    "# load data from .mat files\n",
    "data_dir = '/content/CIVE_70019_70057/data/optimal_reservoir/'\n",
    "data_name = 'reservoir_data.mat'\n",
    "data = scipy.io.loadmat(os.path.join(data_dir, data_name))\n",
    "\n",
    "I = data['I'].T[0] # reservoir inflow at time t\n",
    "d = data['d'].T[0] # water demand at time t\n",
    "S_cap =  data['S_cap'][0][0] # reservoir storage capacity\n",
    "S_ini =  data['S_ini'][0][0] # initial storage level\n",
    "T =  data['T'][0][0] # time steps"
   ]
  },
  {
   "cell_type": "code",
   "execution_count": null,
   "metadata": {},
   "outputs": [],
   "source": [
    "## define variables\n",
    "S = cp.Variable(T+1) # storage\n",
    "u = cp.Variable(T) # release\n",
    "w = cp.Variable(T) # spillage\n",
    "\n",
    "# Define objective function\n",
    "cost = cp.sum_squares(u - d) + (S[T] - S[0])**2\n",
    "objective = cp.Minimize( cost )\n",
    "\n",
    "# Define constraints\n",
    "constraint1 = [S[0] == S_ini]\n",
    "\n",
    "constraint2 = []\n",
    "constraint3 = []\n",
    "constraint4 = []\n",
    "constraint5 = []\n",
    "\n",
    "for t in range(T):\n",
    "    constraint2 += [S[t+1] == S[t] + I[t] - u[t] - w[t] ]\n",
    "    constraint3 += [w[t] >= 0]\n",
    "    constraint4 += [S[t] >= 0, S[t] <= S_cap]\n",
    "    constraint5 += [u[t] >= 0, u[t] <= d[t]]\n",
    "\n",
    "constraints = constraint1 + constraint2 + constraint3 + constraint4 + constraint5\n",
    "\n",
    "## Pass the problem to cvxpy\n",
    "prob = cp.Problem(objective,constraints)\n",
    "\n",
    "# Compute optimal objective value\n",
    "obj_value = prob.solve(verbose = True)\n",
    "\n",
    "# Print the optimal objetive values\n",
    "print(obj_value)\n",
    "# The optimal value for S is stored in `S.value`.\n",
    "#print(S.value)"
   ]
  },
  {
   "cell_type": "markdown",
   "metadata": {},
   "source": [
    "We display the results below."
   ]
  },
  {
   "cell_type": "code",
   "execution_count": null,
   "metadata": {},
   "outputs": [],
   "source": [
    "from matplotlib import rc\n",
    "rc('text', usetex=False)\n",
    "\n",
    "SMALL_SIZE = 10\n",
    "MEDIUM_SIZE = 12\n",
    "BIGGER_SIZE = 14\n",
    "\n",
    "plt.rc('font', size=SMALL_SIZE)          # controls default text sizes\n",
    "plt.rc('axes', titlesize=SMALL_SIZE)     # fontsize of the axes title\n",
    "plt.rc('axes', labelsize=MEDIUM_SIZE)    # fontsize of the x and y labels\n",
    "plt.rc('xtick', labelsize=SMALL_SIZE)    # fontsize of the tick labels\n",
    "plt.rc('ytick', labelsize=SMALL_SIZE)    # fontsize of the tick labels\n",
    "plt.rc('legend', fontsize=SMALL_SIZE)    # legend fontsize\n",
    "plt.rc('figure', titlesize=BIGGER_SIZE)  # fontsize of the figure title\n",
    "\n",
    "\n",
    "fig, axs = plt.subplots(4, 1)\n",
    "axs[0].plot(u.value, linewidth=2,label=r'$u_t$')\n",
    "axs[0].plot(d, linewidth=2, label=r'$d_t$')\n",
    "axs[0].set_xlabel('Weeks')\n",
    "axs[0].set_ylabel('Outflow (Ml/week)')\n",
    "leg = axs[0].legend(loc='right',edgecolor='k',borderpad=0.3,fancybox=False)\n",
    "leg.get_frame().set_linewidth(0.5)\n",
    "\n",
    "axs[1].plot(w.value, linewidth=2)\n",
    "axs[1].set_xlabel('Weeks')\n",
    "axs[1].set_ylabel(r'$w_t$ (Ml/week)')\n",
    "\n",
    "axs[2].plot(S.value, linewidth=2,label=r'$S_t$')\n",
    "axs[2].plot(S_cap * np.ones([np.size(S)]), linewidth=2, label=r'$S_{cap}$')\n",
    "axs[2].set_xlabel('Weeks')\n",
    "axs[2].set_ylabel(r'$S_t$ (Ml/week)')\n",
    "leg = axs[2].legend(loc='right',edgecolor='k',borderpad=0.3,fancybox=False)\n",
    "leg.get_frame().set_linewidth(0.5)\n",
    "\n",
    "axs[3].plot(I, linewidth=2)\n",
    "axs[3].set_xlabel('Weeks')\n",
    "axs[3].set_ylabel(r'$I_t$ (Ml/week)')\n",
    "\n",
    "for i in range(4):\n",
    "    axs[i].set_xlim([0,T])\n",
    "    #axs[i].set_ylim(bottom=0)\n",
    "    axs[i].set_xticks(np.arange(0, T, 50))\n",
    "    axs[i].tick_params(axis=\"both\", direction=\"in\", length=4, width=0.6)\n",
    "    axs[i].tick_params(right=True, top=True, labelright=False, labeltop=False,rotation=0)\n",
    "    for axis in ['top','bottom','left','right']:\n",
    "        axs[i].spines[axis].set_linewidth(0.5)\n",
    "\n",
    "fig.tight_layout()\n",
    "plt.show()"
   ]
  },
  {
   "cell_type": "markdown",
   "metadata": {},
   "source": [
    "Comment on the optimal reservoir operation results. Is demand met at all times? If not, what actions would need to be taken?"
   ]
  },
  {
   "cell_type": "markdown",
   "metadata": {},
   "source": [
    "Enter responses below:\n",
    "*   List item\n",
    "*   List item\n",
    "*   List item"
   ]
  }
 ],
 "metadata": {
  "kernelspec": {
   "display_name": "CIVE_module_env",
   "language": "python",
   "name": "python3"
  },
  "language_info": {
   "codemirror_mode": {
    "name": "ipython",
    "version": 3
   },
   "file_extension": ".py",
   "mimetype": "text/x-python",
   "name": "python",
   "nbconvert_exporter": "python",
   "pygments_lexer": "ipython3",
   "version": "3.10.11"
  },
  "orig_nbformat": 4
 },
 "nbformat": 4,
 "nbformat_minor": 2
}
