{
  "cells": [
    {
      "cell_type": "markdown",
      "metadata": {
        "id": "view-in-github",
        "colab_type": "text"
      },
      "source": [
        "<a href=\"https://colab.research.google.com/github/bradleywjenks/CIVE_70019_70057/blob/main/notebooks/hydraulic_modelling.ipynb\" target=\"_parent\"><img src=\"https://colab.research.google.com/assets/colab-badge.svg\" alt=\"Open In Colab\"/></a>"
      ]
    },
    {
      "cell_type": "markdown",
      "metadata": {
        "id": "Va8u5W5kun5k"
      },
      "source": [
        "# Hydraulic modelling in water distribution networks\n",
        "### CIVE 70019/70057\n",
        "Department of Civil and Environmental Engineering, Imperial College London\\\n",
        "June 2023"
      ]
    },
    {
      "cell_type": "markdown",
      "metadata": {
        "id": "QUYpp8r7un5n"
      },
      "source": [
        "### Preamble\n",
        "This notebook walks through code implementation for developing a solver to simulate hydraulics in water distribution networks (WDNs). Specifically, we cover the following items:\n",
        "- Using the `wntr` Python package for WDN analysis\n",
        "- System of mass and energy conservation equations\n",
        "- Newton-Raphson method for solving system of nonlinear equations\n",
        "- Block factorisation and the Schur complement\n",
        "- Application of hydraulic solver on different case networks\n",
        "- Remarks on computational performance"
      ]
    },
    {
      "cell_type": "markdown",
      "metadata": {
        "id": "UXjO2_VUjhGy"
      },
      "source": [
        "First, we must clone the repository and install dependencies."
      ]
    },
    {
      "cell_type": "code",
      "execution_count": 1,
      "metadata": {
        "colab": {
          "base_uri": "https://localhost:8080/"
        },
        "id": "r2GacZAfhBW7",
        "outputId": "438cd704-f6aa-4bb7-83b6-fb77e76f233a"
      },
      "outputs": [
        {
          "output_type": "stream",
          "name": "stdout",
          "text": [
            "Cloning into 'CIVE_70019_70057'...\n",
            "remote: Enumerating objects: 255, done.\u001b[K\n",
            "remote: Counting objects: 100% (65/65), done.\u001b[K\n",
            "remote: Compressing objects: 100% (58/58), done.\u001b[K\n",
            "remote: Total 255 (delta 32), reused 19 (delta 7), pack-reused 190\u001b[K\n",
            "Receiving objects: 100% (255/255), 2.91 MiB | 7.04 MiB/s, done.\n",
            "Resolving deltas: 100% (120/120), done.\n",
            "Collecting wntr\n",
            "  Downloading wntr-1.0.0-cp310-cp310-manylinux_2_17_x86_64.manylinux2014_x86_64.whl (4.2 MB)\n",
            "\u001b[2K     \u001b[90m━━━━━━━━━━━━━━━━━━━━━━━━━━━━━━━━━━━━━━━━\u001b[0m \u001b[32m4.2/4.2 MB\u001b[0m \u001b[31m6.5 MB/s\u001b[0m eta \u001b[36m0:00:00\u001b[0m\n",
            "\u001b[?25hRequirement already satisfied: numpy>=1.21 in /usr/local/lib/python3.10/dist-packages (from wntr) (1.23.5)\n",
            "Requirement already satisfied: scipy in /usr/local/lib/python3.10/dist-packages (from wntr) (1.10.1)\n",
            "Requirement already satisfied: networkx in /usr/local/lib/python3.10/dist-packages (from wntr) (3.1)\n",
            "Requirement already satisfied: pandas in /usr/local/lib/python3.10/dist-packages (from wntr) (1.5.3)\n",
            "Requirement already satisfied: matplotlib in /usr/local/lib/python3.10/dist-packages (from wntr) (3.7.1)\n",
            "Requirement already satisfied: contourpy>=1.0.1 in /usr/local/lib/python3.10/dist-packages (from matplotlib->wntr) (1.1.0)\n",
            "Requirement already satisfied: cycler>=0.10 in /usr/local/lib/python3.10/dist-packages (from matplotlib->wntr) (0.11.0)\n",
            "Requirement already satisfied: fonttools>=4.22.0 in /usr/local/lib/python3.10/dist-packages (from matplotlib->wntr) (4.42.0)\n",
            "Requirement already satisfied: kiwisolver>=1.0.1 in /usr/local/lib/python3.10/dist-packages (from matplotlib->wntr) (1.4.4)\n",
            "Requirement already satisfied: packaging>=20.0 in /usr/local/lib/python3.10/dist-packages (from matplotlib->wntr) (23.1)\n",
            "Requirement already satisfied: pillow>=6.2.0 in /usr/local/lib/python3.10/dist-packages (from matplotlib->wntr) (9.4.0)\n",
            "Requirement already satisfied: pyparsing>=2.3.1 in /usr/local/lib/python3.10/dist-packages (from matplotlib->wntr) (3.1.1)\n",
            "Requirement already satisfied: python-dateutil>=2.7 in /usr/local/lib/python3.10/dist-packages (from matplotlib->wntr) (2.8.2)\n",
            "Requirement already satisfied: pytz>=2020.1 in /usr/local/lib/python3.10/dist-packages (from pandas->wntr) (2023.3)\n",
            "Requirement already satisfied: six>=1.5 in /usr/local/lib/python3.10/dist-packages (from python-dateutil>=2.7->matplotlib->wntr) (1.16.0)\n",
            "Installing collected packages: wntr\n",
            "Successfully installed wntr-1.0.0\n",
            "Reading package lists... Done\n",
            "Building dependency tree... Done\n",
            "Reading state information... Done\n",
            "The following additional packages will be installed:\n",
            "  libamd2 libbtf1 libcamd2 libccolamd2 libcholmod3 libcolamd2 libcxsparse3\n",
            "  libgraphblas-dev libgraphblas6 libklu1 libldl2 libmetis5 libmongoose2\n",
            "  librbio2 libsliplu1 libspqr2 libsuitesparseconfig5 libumfpack5\n",
            "The following NEW packages will be installed:\n",
            "  libamd2 libbtf1 libcamd2 libccolamd2 libcholmod3 libcolamd2 libcxsparse3\n",
            "  libgraphblas-dev libgraphblas6 libklu1 libldl2 libmetis5 libmongoose2\n",
            "  librbio2 libsliplu1 libspqr2 libsuitesparse-dev libsuitesparseconfig5\n",
            "  libumfpack5\n",
            "0 upgraded, 19 newly installed, 0 to remove and 16 not upgraded.\n",
            "Need to get 22.4 MB of archives.\n",
            "After this operation, 169 MB of additional disk space will be used.\n",
            "Get:1 http://archive.ubuntu.com/ubuntu jammy/main amd64 libsuitesparseconfig5 amd64 1:5.10.1+dfsg-4build1 [10.4 kB]\n",
            "Get:2 http://archive.ubuntu.com/ubuntu jammy/universe amd64 libamd2 amd64 1:5.10.1+dfsg-4build1 [21.6 kB]\n",
            "Get:3 http://archive.ubuntu.com/ubuntu jammy/universe amd64 libbtf1 amd64 1:5.10.1+dfsg-4build1 [12.1 kB]\n",
            "Get:4 http://archive.ubuntu.com/ubuntu jammy/universe amd64 libcamd2 amd64 1:5.10.1+dfsg-4build1 [23.3 kB]\n",
            "Get:5 http://archive.ubuntu.com/ubuntu jammy/universe amd64 libccolamd2 amd64 1:5.10.1+dfsg-4build1 [25.2 kB]\n",
            "Get:6 http://archive.ubuntu.com/ubuntu jammy/main amd64 libcolamd2 amd64 1:5.10.1+dfsg-4build1 [18.0 kB]\n",
            "Get:7 http://archive.ubuntu.com/ubuntu jammy/universe amd64 libmetis5 amd64 5.1.0.dfsg-7build2 [181 kB]\n",
            "Get:8 http://archive.ubuntu.com/ubuntu jammy/universe amd64 libcholmod3 amd64 1:5.10.1+dfsg-4build1 [346 kB]\n",
            "Get:9 http://archive.ubuntu.com/ubuntu jammy/universe amd64 libcxsparse3 amd64 1:5.10.1+dfsg-4build1 [70.8 kB]\n",
            "Get:10 http://archive.ubuntu.com/ubuntu jammy/universe amd64 libgraphblas6 amd64 6.1.4+dfsg-2 [20.1 MB]\n",
            "Get:11 http://archive.ubuntu.com/ubuntu jammy/universe amd64 libgraphblas-dev amd64 6.1.4+dfsg-2 [54.4 kB]\n",
            "Get:12 http://archive.ubuntu.com/ubuntu jammy/universe amd64 libklu1 amd64 1:5.10.1+dfsg-4build1 [77.6 kB]\n",
            "Get:13 http://archive.ubuntu.com/ubuntu jammy/universe amd64 libldl2 amd64 1:5.10.1+dfsg-4build1 [11.7 kB]\n",
            "Get:14 http://archive.ubuntu.com/ubuntu jammy/universe amd64 libmongoose2 amd64 1:5.10.1+dfsg-4build1 [33.5 kB]\n",
            "Get:15 http://archive.ubuntu.com/ubuntu jammy/universe amd64 librbio2 amd64 1:5.10.1+dfsg-4build1 [26.6 kB]\n",
            "Get:16 http://archive.ubuntu.com/ubuntu jammy/universe amd64 libsliplu1 amd64 1:5.10.1+dfsg-4build1 [37.1 kB]\n",
            "Get:17 http://archive.ubuntu.com/ubuntu jammy/universe amd64 libspqr2 amd64 1:5.10.1+dfsg-4build1 [71.6 kB]\n",
            "Get:18 http://archive.ubuntu.com/ubuntu jammy/universe amd64 libumfpack5 amd64 1:5.10.1+dfsg-4build1 [250 kB]\n",
            "Get:19 http://archive.ubuntu.com/ubuntu jammy/universe amd64 libsuitesparse-dev amd64 1:5.10.1+dfsg-4build1 [1,058 kB]\n",
            "Fetched 22.4 MB in 4s (5,937 kB/s)\n",
            "Selecting previously unselected package libsuitesparseconfig5:amd64.\n",
            "(Reading database ... 120831 files and directories currently installed.)\n",
            "Preparing to unpack .../00-libsuitesparseconfig5_1%3a5.10.1+dfsg-4build1_amd64.deb ...\n",
            "Unpacking libsuitesparseconfig5:amd64 (1:5.10.1+dfsg-4build1) ...\n",
            "Selecting previously unselected package libamd2:amd64.\n",
            "Preparing to unpack .../01-libamd2_1%3a5.10.1+dfsg-4build1_amd64.deb ...\n",
            "Unpacking libamd2:amd64 (1:5.10.1+dfsg-4build1) ...\n",
            "Selecting previously unselected package libbtf1:amd64.\n",
            "Preparing to unpack .../02-libbtf1_1%3a5.10.1+dfsg-4build1_amd64.deb ...\n",
            "Unpacking libbtf1:amd64 (1:5.10.1+dfsg-4build1) ...\n",
            "Selecting previously unselected package libcamd2:amd64.\n",
            "Preparing to unpack .../03-libcamd2_1%3a5.10.1+dfsg-4build1_amd64.deb ...\n",
            "Unpacking libcamd2:amd64 (1:5.10.1+dfsg-4build1) ...\n",
            "Selecting previously unselected package libccolamd2:amd64.\n",
            "Preparing to unpack .../04-libccolamd2_1%3a5.10.1+dfsg-4build1_amd64.deb ...\n",
            "Unpacking libccolamd2:amd64 (1:5.10.1+dfsg-4build1) ...\n",
            "Selecting previously unselected package libcolamd2:amd64.\n",
            "Preparing to unpack .../05-libcolamd2_1%3a5.10.1+dfsg-4build1_amd64.deb ...\n",
            "Unpacking libcolamd2:amd64 (1:5.10.1+dfsg-4build1) ...\n",
            "Selecting previously unselected package libmetis5:amd64.\n",
            "Preparing to unpack .../06-libmetis5_5.1.0.dfsg-7build2_amd64.deb ...\n",
            "Unpacking libmetis5:amd64 (5.1.0.dfsg-7build2) ...\n",
            "Selecting previously unselected package libcholmod3:amd64.\n",
            "Preparing to unpack .../07-libcholmod3_1%3a5.10.1+dfsg-4build1_amd64.deb ...\n",
            "Unpacking libcholmod3:amd64 (1:5.10.1+dfsg-4build1) ...\n",
            "Selecting previously unselected package libcxsparse3:amd64.\n",
            "Preparing to unpack .../08-libcxsparse3_1%3a5.10.1+dfsg-4build1_amd64.deb ...\n",
            "Unpacking libcxsparse3:amd64 (1:5.10.1+dfsg-4build1) ...\n",
            "Selecting previously unselected package libgraphblas6:amd64.\n",
            "Preparing to unpack .../09-libgraphblas6_6.1.4+dfsg-2_amd64.deb ...\n",
            "Unpacking libgraphblas6:amd64 (6.1.4+dfsg-2) ...\n",
            "Selecting previously unselected package libgraphblas-dev:amd64.\n",
            "Preparing to unpack .../10-libgraphblas-dev_6.1.4+dfsg-2_amd64.deb ...\n",
            "Unpacking libgraphblas-dev:amd64 (6.1.4+dfsg-2) ...\n",
            "Selecting previously unselected package libklu1:amd64.\n",
            "Preparing to unpack .../11-libklu1_1%3a5.10.1+dfsg-4build1_amd64.deb ...\n",
            "Unpacking libklu1:amd64 (1:5.10.1+dfsg-4build1) ...\n",
            "Selecting previously unselected package libldl2:amd64.\n",
            "Preparing to unpack .../12-libldl2_1%3a5.10.1+dfsg-4build1_amd64.deb ...\n",
            "Unpacking libldl2:amd64 (1:5.10.1+dfsg-4build1) ...\n",
            "Selecting previously unselected package libmongoose2:amd64.\n",
            "Preparing to unpack .../13-libmongoose2_1%3a5.10.1+dfsg-4build1_amd64.deb ...\n",
            "Unpacking libmongoose2:amd64 (1:5.10.1+dfsg-4build1) ...\n",
            "Selecting previously unselected package librbio2:amd64.\n",
            "Preparing to unpack .../14-librbio2_1%3a5.10.1+dfsg-4build1_amd64.deb ...\n",
            "Unpacking librbio2:amd64 (1:5.10.1+dfsg-4build1) ...\n",
            "Selecting previously unselected package libsliplu1:amd64.\n",
            "Preparing to unpack .../15-libsliplu1_1%3a5.10.1+dfsg-4build1_amd64.deb ...\n",
            "Unpacking libsliplu1:amd64 (1:5.10.1+dfsg-4build1) ...\n",
            "Selecting previously unselected package libspqr2:amd64.\n",
            "Preparing to unpack .../16-libspqr2_1%3a5.10.1+dfsg-4build1_amd64.deb ...\n",
            "Unpacking libspqr2:amd64 (1:5.10.1+dfsg-4build1) ...\n",
            "Selecting previously unselected package libumfpack5:amd64.\n",
            "Preparing to unpack .../17-libumfpack5_1%3a5.10.1+dfsg-4build1_amd64.deb ...\n",
            "Unpacking libumfpack5:amd64 (1:5.10.1+dfsg-4build1) ...\n",
            "Selecting previously unselected package libsuitesparse-dev:amd64.\n",
            "Preparing to unpack .../18-libsuitesparse-dev_1%3a5.10.1+dfsg-4build1_amd64.deb ...\n",
            "Unpacking libsuitesparse-dev:amd64 (1:5.10.1+dfsg-4build1) ...\n",
            "Setting up libgraphblas6:amd64 (6.1.4+dfsg-2) ...\n",
            "Setting up libldl2:amd64 (1:5.10.1+dfsg-4build1) ...\n",
            "Setting up libmetis5:amd64 (5.1.0.dfsg-7build2) ...\n",
            "Setting up libbtf1:amd64 (1:5.10.1+dfsg-4build1) ...\n",
            "Setting up libgraphblas-dev:amd64 (6.1.4+dfsg-2) ...\n",
            "Setting up libcxsparse3:amd64 (1:5.10.1+dfsg-4build1) ...\n",
            "Setting up libsuitesparseconfig5:amd64 (1:5.10.1+dfsg-4build1) ...\n",
            "Setting up librbio2:amd64 (1:5.10.1+dfsg-4build1) ...\n",
            "Setting up libamd2:amd64 (1:5.10.1+dfsg-4build1) ...\n",
            "Setting up libcolamd2:amd64 (1:5.10.1+dfsg-4build1) ...\n",
            "Setting up libsliplu1:amd64 (1:5.10.1+dfsg-4build1) ...\n",
            "Setting up libcamd2:amd64 (1:5.10.1+dfsg-4build1) ...\n",
            "Setting up libmongoose2:amd64 (1:5.10.1+dfsg-4build1) ...\n",
            "Setting up libklu1:amd64 (1:5.10.1+dfsg-4build1) ...\n",
            "Setting up libccolamd2:amd64 (1:5.10.1+dfsg-4build1) ...\n",
            "Setting up libcholmod3:amd64 (1:5.10.1+dfsg-4build1) ...\n",
            "Setting up libspqr2:amd64 (1:5.10.1+dfsg-4build1) ...\n",
            "Setting up libumfpack5:amd64 (1:5.10.1+dfsg-4build1) ...\n",
            "Setting up libsuitesparse-dev:amd64 (1:5.10.1+dfsg-4build1) ...\n",
            "Processing triggers for libc-bin (2.35-0ubuntu3.1) ...\n",
            "/sbin/ldconfig.real: /usr/local/lib/libtbb.so.12 is not a symbolic link\n",
            "\n",
            "/sbin/ldconfig.real: /usr/local/lib/libtbbmalloc.so.2 is not a symbolic link\n",
            "\n",
            "/sbin/ldconfig.real: /usr/local/lib/libtbbmalloc_proxy.so.2 is not a symbolic link\n",
            "\n",
            "/sbin/ldconfig.real: /usr/local/lib/libtbbbind_2_5.so.3 is not a symbolic link\n",
            "\n",
            "/sbin/ldconfig.real: /usr/local/lib/libtbbbind_2_0.so.3 is not a symbolic link\n",
            "\n",
            "/sbin/ldconfig.real: /usr/local/lib/libtbbbind.so.3 is not a symbolic link\n",
            "\n",
            "Collecting scikit-sparse\n",
            "  Downloading scikit-sparse-0.4.12.tar.gz (214 kB)\n",
            "\u001b[2K     \u001b[90m━━━━━━━━━━━━━━━━━━━━━━━━━━━━━━━━━━━━━━━\u001b[0m \u001b[32m214.1/214.1 kB\u001b[0m \u001b[31m2.4 MB/s\u001b[0m eta \u001b[36m0:00:00\u001b[0m\n",
            "\u001b[?25h  Installing build dependencies ... \u001b[?25l\u001b[?25hdone\n",
            "  Getting requirements to build wheel ... \u001b[?25l\u001b[?25hdone\n",
            "  Preparing metadata (pyproject.toml) ... \u001b[?25l\u001b[?25hdone\n",
            "Requirement already satisfied: numpy>=1.13.3 in /usr/local/lib/python3.10/dist-packages (from scikit-sparse) (1.23.5)\n",
            "Requirement already satisfied: scipy>=0.19 in /usr/local/lib/python3.10/dist-packages (from scikit-sparse) (1.10.1)\n",
            "Building wheels for collected packages: scikit-sparse\n",
            "  Building wheel for scikit-sparse (pyproject.toml) ... \u001b[?25l\u001b[?25hdone\n",
            "  Created wheel for scikit-sparse: filename=scikit_sparse-0.4.12-cp310-cp310-linux_x86_64.whl size=702539 sha256=0d87fc4e94e25a046fd5bb7254fdbc89f1039a7dcaeac2ea6d56de0ed5a4739c\n",
            "  Stored in directory: /root/.cache/pip/wheels/25/fa/b3/dce4562e00f8f5abf47c0418efc3422f29aabcdd38fd4cc1eb\n",
            "Successfully built scikit-sparse\n",
            "Installing collected packages: scikit-sparse\n",
            "Successfully installed scikit-sparse-0.4.12\n"
          ]
        }
      ],
      "source": [
        "# Run this cell if in Google Colab\n",
        "!git clone https://github.com/bradleywjenks/CIVE_70019_70057.git\n",
        "!pip install wntr\n",
        "!apt-get install libsuitesparse-dev && pip install scikit-sparse"
      ]
    },
    {
      "cell_type": "markdown",
      "metadata": {
        "id": "Oaxj2Ateun5p"
      },
      "source": [
        "### WNTR Python package"
      ]
    },
    {
      "cell_type": "markdown",
      "metadata": {
        "id": "E5SO7eYLun5q"
      },
      "source": [
        "The Water Network Tool for Resilience (WNTR) Python package for simulating WDNs. It is based on the EPANET solvers. Here, we will be using `wntr` to load network data (.inp file) and compare hydraulic simulation results with our own solver."
      ]
    },
    {
      "cell_type": "markdown",
      "metadata": {
        "id": "IHqegeXdun5q"
      },
      "source": [
        "#### Using WNTR's hydraulic solver\n",
        "The code below follows an example from the `wntr` documentation: https://wntr.readthedocs.io/en/latest/index.html. Note that we have uploaded four (4) network (.inp) files for use in this notebook."
      ]
    },
    {
      "cell_type": "code",
      "execution_count": 2,
      "metadata": {
        "colab": {
          "base_uri": "https://localhost:8080/",
          "height": 839
        },
        "id": "E6JhrpfMun5q",
        "outputId": "ae57e2a3-2437-457c-dcd3-267715dac06d"
      },
      "outputs": [
        {
          "output_type": "display_data",
          "data": {
            "text/plain": [
              "<Figure size 640x480 with 1 Axes>"
            ],
            "image/png": "[encoded data removed]"
          },
          "metadata": {}
        },
        {
          "output_type": "display_data",
          "data": {
            "text/plain": [
              "<Figure size 640x480 with 2 Axes>"
            ],
            "image/png": "[encoded data removed]"
          },
          "metadata": {}
        }
      ],
      "source": [
        "# Load dependencies\n",
        "import os\n",
        "import wntr\n",
        "\n",
        "# net_name = 'demo.inp'\n",
        "net_name = 'pescara.inp'\n",
        "# net_name = 'BWSnet.inp'\n",
        "# net_name = 'bwfl_2022_05_hw.inp'\n",
        "\n",
        "# Create water network model\n",
        "# os.chdir('..'); net_dir = os.path.join(os.getcwd(), 'data/networks/') # if run locally\n",
        "net_dir = '/content/CIVE_70019_70057/data/networks/' # if run in Google Colab\n",
        "wn = wntr.network.WaterNetworkModel(os.path.join(net_dir, net_name))\n",
        "\n",
        "# Graph the network\n",
        "wntr.graphics.plot_network(wn, title='Network layout', node_size=30)\n",
        "\n",
        "# Simulate hydraulics\n",
        "sim = wntr.sim.EpanetSimulator(wn)\n",
        "results = sim.run_sim()\n",
        "\n",
        "# Plot results on the network\n",
        "hydraulic_state = 'head' # or 'flow' or 'head'\n",
        "\n",
        "if hydraulic_state == 'head':\n",
        "    head = results.node['head'].loc[0, :]\n",
        "    wntr.graphics.plot_network(wn, node_attribute=head,\n",
        "                            title='Hydraulic head', node_colorbar_label='Head [m]', node_size=30)\n",
        "elif hydraulic_state == 'pressure':\n",
        "    pressure = results.node['pressure'].loc[0, :]\n",
        "    wntr.graphics.plot_network(wn, node_attribute=pressure,\n",
        "                            title='Pressure head', node_colorbar_label='Pressure [m]', node_size=30)\n",
        "elif hydraulic_state == 'flow':\n",
        "    flow = results.link['flowrate'].loc[0, :]\n",
        "    wntr.graphics.plot_network(wn, link_attribute=flow,\n",
        "                            title='Link flow', link_colorbar_label='Flow [L/s]', node_size=0)"
      ]
    },
    {
      "cell_type": "markdown",
      "metadata": {
        "id": "FsuLdI2gun5r"
      },
      "source": [
        "#### Data extraction\n",
        "We will now use WNTR to extract network data for developing our own hydraulic solver."
      ]
    },
    {
      "cell_type": "code",
      "execution_count": 3,
      "metadata": {
        "id": "_BNVYphPun5r"
      },
      "outputs": [],
      "source": [
        "# Load additional dependencies\n",
        "import networkx as nx\n",
        "import pandas as pd\n",
        "import numpy as np\n",
        "import scipy.sparse as sp"
      ]
    },
    {
      "cell_type": "markdown",
      "metadata": {
        "id": "bcT2fMjcun5s"
      },
      "source": [
        "Get network elements and simulation information."
      ]
    },
    {
      "cell_type": "code",
      "execution_count": 4,
      "metadata": {
        "id": "AkhQRMAHun5s"
      },
      "outputs": [],
      "source": [
        "'''\n",
        "    nt = number of discrete time steps\n",
        "    nn = number of demand or junction nodes\n",
        "    np = number of links\n",
        "    n0 = number of source (reservoir) nodes\n",
        "'''\n",
        "\n",
        "nt = int(wn.options.time.duration / wn.options.time.hydraulic_timestep)\n",
        "nt = nt if nt>0 else 1\n",
        "net_info = dict(\n",
        "    np=wn.num_links,\n",
        "    nn=wn.num_junctions,\n",
        "    n0=wn.num_reservoirs,\n",
        "    nt=nt,\n",
        "    headloss=wn.options.hydraulic.headloss,\n",
        "    units=wn.options.hydraulic.inpfile_units,\n",
        "    reservoir_names=wn.reservoir_name_list,\n",
        "    junction_names=wn.junction_name_list,\n",
        "    pipe_names=wn.pipe_name_list,\n",
        "    valve_names=wn.valve_name_list,\n",
        "    prv_names=wn.prv_name_list\n",
        ")"
      ]
    },
    {
      "cell_type": "markdown",
      "metadata": {
        "id": "Yg_c1GZ9un5s"
      },
      "source": [
        "Extract link data."
      ]
    },
    {
      "cell_type": "code",
      "execution_count": 5,
      "metadata": {
        "colab": {
          "base_uri": "https://localhost:8080/",
          "height": 424
        },
        "id": "eAuy1z9Cun5s",
        "outputId": "f4b5c287-ddf7-4ea9-e4e8-00d655a26377"
      },
      "outputs": [
        {
          "output_type": "execute_result",
          "data": {
            "text/plain": [
              "   link_ID link_type diameter   length  n_exp      C node_out node_in\n",
              "0        1      pipe      0.1   977.36  1.852   98.0        1       2\n",
              "1        2      pipe     0.15   443.17  1.852  115.0        3       4\n",
              "2        3      pipe      0.1  1410.77  1.852   62.0        3       5\n",
              "3        4      pipe    0.125   269.61  1.852  102.0        3       1\n",
              "4        6      pipe      0.1   203.06  1.852   95.0        6       8\n",
              "..     ...       ...      ...      ...    ...    ...      ...     ...\n",
              "93     106      pipe      0.1   332.35  1.852  125.0       55      88\n",
              "94     107      pipe      0.1   325.03  1.852   82.0       88      51\n",
              "95     108      pipe      0.1   113.35  1.852   93.0       84      88\n",
              "96     109      pipe      0.1   150.82  1.852   90.0       88      89\n",
              "97     110      pipe      0.1   165.43  1.852   66.0       55      86\n",
              "\n",
              "[98 rows x 8 columns]"
            ],
            "text/html": [
              "\n",
              "  <div id=\"df-40611481-5163-4942-9e70-26a02aae98da\" class=\"colab-df-container\">\n",
              "    <div>\n",
              "<style scoped>\n",
              "    .dataframe tbody tr th:only-of-type {\n",
              "        vertical-align: middle;\n",
              "    }\n",
              "\n",
              "    .dataframe tbody tr th {\n",
              "        vertical-align: top;\n",
              "    }\n",
              "\n",
              "    .dataframe thead th {\n",
              "        text-align: right;\n",
              "    }\n",
              "</style>\n",
              "<table border=\"1\" class=\"dataframe\">\n",
              "  <thead>\n",
              "    <tr style=\"text-align: right;\">\n",
              "      <th></th>\n",
              "      <th>link_ID</th>\n",
              "      <th>link_type</th>\n",
              "      <th>diameter</th>\n",
              "      <th>length</th>\n",
              "      <th>n_exp</th>\n",
              "      <th>C</th>\n",
              "      <th>node_out</th>\n",
              "      <th>node_in</th>\n",
              "    </tr>\n",
              "  </thead>\n",
              "  <tbody>\n",
              "    <tr>\n",
              "      <th>0</th>\n",
              "      <td>1</td>\n",
              "      <td>pipe</td>\n",
              "      <td>0.1</td>\n",
              "      <td>977.36</td>\n",
              "      <td>1.852</td>\n",
              "      <td>98.0</td>\n",
              "      <td>1</td>\n",
              "      <td>2</td>\n",
              "    </tr>\n",
              "    <tr>\n",
              "      <th>1</th>\n",
              "      <td>2</td>\n",
              "      <td>pipe</td>\n",
              "      <td>0.15</td>\n",
              "      <td>443.17</td>\n",
              "      <td>1.852</td>\n",
              "      <td>115.0</td>\n",
              "      <td>3</td>\n",
              "      <td>4</td>\n",
              "    </tr>\n",
              "    <tr>\n",
              "      <th>2</th>\n",
              "      <td>3</td>\n",
              "      <td>pipe</td>\n",
              "      <td>0.1</td>\n",
              "      <td>1410.77</td>\n",
              "      <td>1.852</td>\n",
              "      <td>62.0</td>\n",
              "      <td>3</td>\n",
              "      <td>5</td>\n",
              "    </tr>\n",
              "    <tr>\n",
              "      <th>3</th>\n",
              "      <td>4</td>\n",
              "      <td>pipe</td>\n",
              "      <td>0.125</td>\n",
              "      <td>269.61</td>\n",
              "      <td>1.852</td>\n",
              "      <td>102.0</td>\n",
              "      <td>3</td>\n",
              "      <td>1</td>\n",
              "    </tr>\n",
              "    <tr>\n",
              "      <th>4</th>\n",
              "      <td>6</td>\n",
              "      <td>pipe</td>\n",
              "      <td>0.1</td>\n",
              "      <td>203.06</td>\n",
              "      <td>1.852</td>\n",
              "      <td>95.0</td>\n",
              "      <td>6</td>\n",
              "      <td>8</td>\n",
              "    </tr>\n",
              "    <tr>\n",
              "      <th>...</th>\n",
              "      <td>...</td>\n",
              "      <td>...</td>\n",
              "      <td>...</td>\n",
              "      <td>...</td>\n",
              "      <td>...</td>\n",
              "      <td>...</td>\n",
              "      <td>...</td>\n",
              "      <td>...</td>\n",
              "    </tr>\n",
              "    <tr>\n",
              "      <th>93</th>\n",
              "      <td>106</td>\n",
              "      <td>pipe</td>\n",
              "      <td>0.1</td>\n",
              "      <td>332.35</td>\n",
              "      <td>1.852</td>\n",
              "      <td>125.0</td>\n",
              "      <td>55</td>\n",
              "      <td>88</td>\n",
              "    </tr>\n",
              "    <tr>\n",
              "      <th>94</th>\n",
              "      <td>107</td>\n",
              "      <td>pipe</td>\n",
              "      <td>0.1</td>\n",
              "      <td>325.03</td>\n",
              "      <td>1.852</td>\n",
              "      <td>82.0</td>\n",
              "      <td>88</td>\n",
              "      <td>51</td>\n",
              "    </tr>\n",
              "    <tr>\n",
              "      <th>95</th>\n",
              "      <td>108</td>\n",
              "      <td>pipe</td>\n",
              "      <td>0.1</td>\n",
              "      <td>113.35</td>\n",
              "      <td>1.852</td>\n",
              "      <td>93.0</td>\n",
              "      <td>84</td>\n",
              "      <td>88</td>\n",
              "    </tr>\n",
              "    <tr>\n",
              "      <th>96</th>\n",
              "      <td>109</td>\n",
              "      <td>pipe</td>\n",
              "      <td>0.1</td>\n",
              "      <td>150.82</td>\n",
              "      <td>1.852</td>\n",
              "      <td>90.0</td>\n",
              "      <td>88</td>\n",
              "      <td>89</td>\n",
              "    </tr>\n",
              "    <tr>\n",
              "      <th>97</th>\n",
              "      <td>110</td>\n",
              "      <td>pipe</td>\n",
              "      <td>0.1</td>\n",
              "      <td>165.43</td>\n",
              "      <td>1.852</td>\n",
              "      <td>66.0</td>\n",
              "      <td>55</td>\n",
              "      <td>86</td>\n",
              "    </tr>\n",
              "  </tbody>\n",
              "</table>\n",
              "<p>98 rows × 8 columns</p>\n",
              "</div>\n",
              "    <div class=\"colab-df-buttons\">\n",
              "\n",
              "  <div class=\"colab-df-container\">\n",
              "    <button class=\"colab-df-convert\" onclick=\"convertToInteractive('df-40611481-5163-4942-9e70-26a02aae98da')\"\n",
              "            title=\"Convert this dataframe to an interactive table.\"\n",
              "            style=\"display:none;\">\n",
              "\n",
              "  <svg xmlns=\"http://www.w3.org/2000/svg\" height=\"24px\" viewBox=\"0 -960 960 960\">\n",
              "    <path d=\"M120-120v-720h720v720H120Zm60-500h600v-160H180v160Zm220 220h160v-160H400v160Zm0 220h160v-160H400v160ZM180-400h160v-160H180v160Zm440 0h160v-160H620v160ZM180-180h160v-160H180v160Zm440 0h160v-160H620v160Z\"/>\n",
              "  </svg>\n",
              "    </button>\n",
              "\n",
              "  <style>\n",
              "    .colab-df-container {\n",
              "      display:flex;\n",
              "      gap: 12px;\n",
              "    }\n",
              "\n",
              "    .colab-df-convert {\n",
              "      background-color: #E8F0FE;\n",
              "      border: none;\n",
              "      border-radius: 50%;\n",
              "      cursor: pointer;\n",
              "      display: none;\n",
              "      fill: #1967D2;\n",
              "      height: 32px;\n",
              "      padding: 0 0 0 0;\n",
              "      width: 32px;\n",
              "    }\n",
              "\n",
              "    .colab-df-convert:hover {\n",
              "      background-color: #E2EBFA;\n",
              "      box-shadow: 0px 1px 2px rgba(60, 64, 67, 0.3), 0px 1px 3px 1px rgba(60, 64, 67, 0.15);\n",
              "      fill: #174EA6;\n",
              "    }\n",
              "\n",
              "    .colab-df-buttons div {\n",
              "      margin-bottom: 4px;\n",
              "    }\n",
              "\n",
              "    [theme=dark] .colab-df-convert {\n",
              "      background-color: #3B4455;\n",
              "      fill: #D2E3FC;\n",
              "    }\n",
              "\n",
              "    [theme=dark] .colab-df-convert:hover {\n",
              "      background-color: #434B5C;\n",
              "      box-shadow: 0px 1px 3px 1px rgba(0, 0, 0, 0.15);\n",
              "      filter: drop-shadow(0px 1px 2px rgba(0, 0, 0, 0.3));\n",
              "      fill: #FFFFFF;\n",
              "    }\n",
              "  </style>\n",
              "\n",
              "    <script>\n",
              "      const buttonEl =\n",
              "        document.querySelector('#df-40611481-5163-4942-9e70-26a02aae98da button.colab-df-convert');\n",
              "      buttonEl.style.display =\n",
              "        google.colab.kernel.accessAllowed ? 'block' : 'none';\n",
              "\n",
              "      async function convertToInteractive(key) {\n",
              "        const element = document.querySelector('#df-40611481-5163-4942-9e70-26a02aae98da');\n",
              "        const dataTable =\n",
              "          await google.colab.kernel.invokeFunction('convertToInteractive',\n",
              "                                                    [key], {});\n",
              "        if (!dataTable) return;\n",
              "\n",
              "        const docLinkHtml = 'Like what you see? Visit the ' +\n",
              "          '<a target=\"_blank\" href=https://colab.research.google.com/notebooks/data_table.ipynb>data table notebook</a>'\n",
              "          + ' to learn more about interactive tables.';\n",
              "        element.innerHTML = '';\n",
              "        dataTable['output_type'] = 'display_data';\n",
              "        await google.colab.output.renderOutput(dataTable, element);\n",
              "        const docLink = document.createElement('div');\n",
              "        docLink.innerHTML = docLinkHtml;\n",
              "        element.appendChild(docLink);\n",
              "      }\n",
              "    </script>\n",
              "  </div>\n",
              "\n",
              "\n",
              "<div id=\"df-05f36fde-1959-42aa-999d-38d50b680f73\">\n",
              "  <button class=\"colab-df-quickchart\" onclick=\"quickchart('df-05f36fde-1959-42aa-999d-38d50b680f73')\"\n",
              "            title=\"Suggest charts.\"\n",
              "            style=\"display:none;\">\n",
              "\n",
              "<svg xmlns=\"http://www.w3.org/2000/svg\" height=\"24px\"viewBox=\"0 0 24 24\"\n",
              "     width=\"24px\">\n",
              "    <g>\n",
              "        <path d=\"M19 3H5c-1.1 0-2 .9-2 2v14c0 1.1.9 2 2 2h14c1.1 0 2-.9 2-2V5c0-1.1-.9-2-2-2zM9 17H7v-7h2v7zm4 0h-2V7h2v10zm4 0h-2v-4h2v4z\"/>\n",
              "    </g>\n",
              "</svg>\n",
              "  </button>\n",
              "\n",
              "<style>\n",
              "  .colab-df-quickchart {\n",
              "    background-color: #E8F0FE;\n",
              "    border: none;\n",
              "    border-radius: 50%;\n",
              "    cursor: pointer;\n",
              "    display: none;\n",
              "    fill: #1967D2;\n",
              "    height: 32px;\n",
              "    padding: 0 0 0 0;\n",
              "    width: 32px;\n",
              "  }\n",
              "\n",
              "  .colab-df-quickchart:hover {\n",
              "    background-color: #E2EBFA;\n",
              "    box-shadow: 0px 1px 2px rgba(60, 64, 67, 0.3), 0px 1px 3px 1px rgba(60, 64, 67, 0.15);\n",
              "    fill: #174EA6;\n",
              "  }\n",
              "\n",
              "  [theme=dark] .colab-df-quickchart {\n",
              "    background-color: #3B4455;\n",
              "    fill: #D2E3FC;\n",
              "  }\n",
              "\n",
              "  [theme=dark] .colab-df-quickchart:hover {\n",
              "    background-color: #434B5C;\n",
              "    box-shadow: 0px 1px 3px 1px rgba(0, 0, 0, 0.15);\n",
              "    filter: drop-shadow(0px 1px 2px rgba(0, 0, 0, 0.3));\n",
              "    fill: #FFFFFF;\n",
              "  }\n",
              "</style>\n",
              "\n",
              "  <script>\n",
              "    async function quickchart(key) {\n",
              "      const charts = await google.colab.kernel.invokeFunction(\n",
              "          'suggestCharts', [key], {});\n",
              "    }\n",
              "    (() => {\n",
              "      let quickchartButtonEl =\n",
              "        document.querySelector('#df-05f36fde-1959-42aa-999d-38d50b680f73 button');\n",
              "      quickchartButtonEl.style.display =\n",
              "        google.colab.kernel.accessAllowed ? 'block' : 'none';\n",
              "    })();\n",
              "  </script>\n",
              "</div>\n",
              "    </div>\n",
              "  </div>\n"
            ]
          },
          "metadata": {},
          "execution_count": 5
        }
      ],
      "source": [
        "# Check head loss model\n",
        "if net_info['headloss'] == 'H-W':\n",
        "    n_exp = 1.852\n",
        "elif net_info['headloss'] == 'D-W':\n",
        "    n_exp = 2\n",
        "\n",
        "# NB: 'C' denotes roughness or HW coefficient for pipes and local (minor) loss coefficient for valves\n",
        "link_df = pd.DataFrame(\n",
        "    index=pd.RangeIndex(net_info['np']),\n",
        "    columns=['link_ID', 'link_type', 'diameter', 'length', 'n_exp', 'C', 'node_out', 'node_in'],\n",
        ")\n",
        "def link_dict(link):\n",
        "    if isinstance(link, wntr.network.Pipe):  # check if the link is a pipe\n",
        "        return dict(\n",
        "            link_ID=link.name,\n",
        "            link_type='pipe',\n",
        "            diameter=link.diameter,\n",
        "            length=link.length,\n",
        "            n_exp=n_exp,\n",
        "            C=link.roughness,\n",
        "            node_out=link.start_node_name,\n",
        "            node_in=link.end_node_name\n",
        "        )\n",
        "    elif isinstance(link, wntr.network.Valve): # check if the link is a valve\n",
        "        return dict(\n",
        "            link_ID=link.name,\n",
        "            link_type='valve',\n",
        "            diameter=link.diameter,\n",
        "            length=2*link.diameter,\n",
        "            n_exp=2,\n",
        "            C=link.minor_loss,\n",
        "            node_out=link.start_node_name,\n",
        "            node_in=link.end_node_name\n",
        "        )\n",
        "\n",
        "for idx, link in enumerate(wn.links()):\n",
        "    link_df.loc[idx] = link_dict(link[1])\n",
        "\n",
        "link_df"
      ]
    },
    {
      "cell_type": "markdown",
      "metadata": {
        "id": "J-kyMo-Lun5t"
      },
      "source": [
        "Extract node data."
      ]
    },
    {
      "cell_type": "code",
      "execution_count": 6,
      "metadata": {
        "colab": {
          "base_uri": "https://localhost:8080/",
          "height": 424
        },
        "id": "QUOH1DKtun5t",
        "outputId": "b078298f-e3c1-4ef8-81c8-7cb5dc49399d"
      },
      "outputs": [
        {
          "output_type": "execute_result",
          "data": {
            "text/plain": [
              "   node_ID elev     xcoord     ycoord\n",
              "0        1  2.9  656582.88  963296.25\n",
              "1        2  5.0  657289.06   963069.5\n",
              "2        3  3.5  656852.19  963283.19\n",
              "3        4  3.8  657294.63  963262.25\n",
              "4        5  2.2  657933.44  963588.94\n",
              "..     ...  ...        ...        ...\n",
              "65      88  2.1  659408.69  963325.81\n",
              "66      89  1.5  659408.69  963476.63\n",
              "67      15    0  662492.56  962874.81\n",
              "68      43    0  658738.69  962454.75\n",
              "69      65    0  662568.19  960492.44\n",
              "\n",
              "[70 rows x 4 columns]"
            ],
            "text/html": [
              "\n",
              "  <div id=\"df-b002a133-66fa-4ec1-bfc4-d35433339c61\" class=\"colab-df-container\">\n",
              "    <div>\n",
              "<style scoped>\n",
              "    .dataframe tbody tr th:only-of-type {\n",
              "        vertical-align: middle;\n",
              "    }\n",
              "\n",
              "    .dataframe tbody tr th {\n",
              "        vertical-align: top;\n",
              "    }\n",
              "\n",
              "    .dataframe thead th {\n",
              "        text-align: right;\n",
              "    }\n",
              "</style>\n",
              "<table border=\"1\" class=\"dataframe\">\n",
              "  <thead>\n",
              "    <tr style=\"text-align: right;\">\n",
              "      <th></th>\n",
              "      <th>node_ID</th>\n",
              "      <th>elev</th>\n",
              "      <th>xcoord</th>\n",
              "      <th>ycoord</th>\n",
              "    </tr>\n",
              "  </thead>\n",
              "  <tbody>\n",
              "    <tr>\n",
              "      <th>0</th>\n",
              "      <td>1</td>\n",
              "      <td>2.9</td>\n",
              "      <td>656582.88</td>\n",
              "      <td>963296.25</td>\n",
              "    </tr>\n",
              "    <tr>\n",
              "      <th>1</th>\n",
              "      <td>2</td>\n",
              "      <td>5.0</td>\n",
              "      <td>657289.06</td>\n",
              "      <td>963069.5</td>\n",
              "    </tr>\n",
              "    <tr>\n",
              "      <th>2</th>\n",
              "      <td>3</td>\n",
              "      <td>3.5</td>\n",
              "      <td>656852.19</td>\n",
              "      <td>963283.19</td>\n",
              "    </tr>\n",
              "    <tr>\n",
              "      <th>3</th>\n",
              "      <td>4</td>\n",
              "      <td>3.8</td>\n",
              "      <td>657294.63</td>\n",
              "      <td>963262.25</td>\n",
              "    </tr>\n",
              "    <tr>\n",
              "      <th>4</th>\n",
              "      <td>5</td>\n",
              "      <td>2.2</td>\n",
              "      <td>657933.44</td>\n",
              "      <td>963588.94</td>\n",
              "    </tr>\n",
              "    <tr>\n",
              "      <th>...</th>\n",
              "      <td>...</td>\n",
              "      <td>...</td>\n",
              "      <td>...</td>\n",
              "      <td>...</td>\n",
              "    </tr>\n",
              "    <tr>\n",
              "      <th>65</th>\n",
              "      <td>88</td>\n",
              "      <td>2.1</td>\n",
              "      <td>659408.69</td>\n",
              "      <td>963325.81</td>\n",
              "    </tr>\n",
              "    <tr>\n",
              "      <th>66</th>\n",
              "      <td>89</td>\n",
              "      <td>1.5</td>\n",
              "      <td>659408.69</td>\n",
              "      <td>963476.63</td>\n",
              "    </tr>\n",
              "    <tr>\n",
              "      <th>67</th>\n",
              "      <td>15</td>\n",
              "      <td>0</td>\n",
              "      <td>662492.56</td>\n",
              "      <td>962874.81</td>\n",
              "    </tr>\n",
              "    <tr>\n",
              "      <th>68</th>\n",
              "      <td>43</td>\n",
              "      <td>0</td>\n",
              "      <td>658738.69</td>\n",
              "      <td>962454.75</td>\n",
              "    </tr>\n",
              "    <tr>\n",
              "      <th>69</th>\n",
              "      <td>65</td>\n",
              "      <td>0</td>\n",
              "      <td>662568.19</td>\n",
              "      <td>960492.44</td>\n",
              "    </tr>\n",
              "  </tbody>\n",
              "</table>\n",
              "<p>70 rows × 4 columns</p>\n",
              "</div>\n",
              "    <div class=\"colab-df-buttons\">\n",
              "\n",
              "  <div class=\"colab-df-container\">\n",
              "    <button class=\"colab-df-convert\" onclick=\"convertToInteractive('df-b002a133-66fa-4ec1-bfc4-d35433339c61')\"\n",
              "            title=\"Convert this dataframe to an interactive table.\"\n",
              "            style=\"display:none;\">\n",
              "\n",
              "  <svg xmlns=\"http://www.w3.org/2000/svg\" height=\"24px\" viewBox=\"0 -960 960 960\">\n",
              "    <path d=\"M120-120v-720h720v720H120Zm60-500h600v-160H180v160Zm220 220h160v-160H400v160Zm0 220h160v-160H400v160ZM180-400h160v-160H180v160Zm440 0h160v-160H620v160ZM180-180h160v-160H180v160Zm440 0h160v-160H620v160Z\"/>\n",
              "  </svg>\n",
              "    </button>\n",
              "\n",
              "  <style>\n",
              "    .colab-df-container {\n",
              "      display:flex;\n",
              "      gap: 12px;\n",
              "    }\n",
              "\n",
              "    .colab-df-convert {\n",
              "      background-color: #E8F0FE;\n",
              "      border: none;\n",
              "      border-radius: 50%;\n",
              "      cursor: pointer;\n",
              "      display: none;\n",
              "      fill: #1967D2;\n",
              "      height: 32px;\n",
              "      padding: 0 0 0 0;\n",
              "      width: 32px;\n",
              "    }\n",
              "\n",
              "    .colab-df-convert:hover {\n",
              "      background-color: #E2EBFA;\n",
              "      box-shadow: 0px 1px 2px rgba(60, 64, 67, 0.3), 0px 1px 3px 1px rgba(60, 64, 67, 0.15);\n",
              "      fill: #174EA6;\n",
              "    }\n",
              "\n",
              "    .colab-df-buttons div {\n",
              "      margin-bottom: 4px;\n",
              "    }\n",
              "\n",
              "    [theme=dark] .colab-df-convert {\n",
              "      background-color: #3B4455;\n",
              "      fill: #D2E3FC;\n",
              "    }\n",
              "\n",
              "    [theme=dark] .colab-df-convert:hover {\n",
              "      background-color: #434B5C;\n",
              "      box-shadow: 0px 1px 3px 1px rgba(0, 0, 0, 0.15);\n",
              "      filter: drop-shadow(0px 1px 2px rgba(0, 0, 0, 0.3));\n",
              "      fill: #FFFFFF;\n",
              "    }\n",
              "  </style>\n",
              "\n",
              "    <script>\n",
              "      const buttonEl =\n",
              "        document.querySelector('#df-b002a133-66fa-4ec1-bfc4-d35433339c61 button.colab-df-convert');\n",
              "      buttonEl.style.display =\n",
              "        google.colab.kernel.accessAllowed ? 'block' : 'none';\n",
              "\n",
              "      async function convertToInteractive(key) {\n",
              "        const element = document.querySelector('#df-b002a133-66fa-4ec1-bfc4-d35433339c61');\n",
              "        const dataTable =\n",
              "          await google.colab.kernel.invokeFunction('convertToInteractive',\n",
              "                                                    [key], {});\n",
              "        if (!dataTable) return;\n",
              "\n",
              "        const docLinkHtml = 'Like what you see? Visit the ' +\n",
              "          '<a target=\"_blank\" href=https://colab.research.google.com/notebooks/data_table.ipynb>data table notebook</a>'\n",
              "          + ' to learn more about interactive tables.';\n",
              "        element.innerHTML = '';\n",
              "        dataTable['output_type'] = 'display_data';\n",
              "        await google.colab.output.renderOutput(dataTable, element);\n",
              "        const docLink = document.createElement('div');\n",
              "        docLink.innerHTML = docLinkHtml;\n",
              "        element.appendChild(docLink);\n",
              "      }\n",
              "    </script>\n",
              "  </div>\n",
              "\n",
              "\n",
              "<div id=\"df-f9a782d9-efb3-4d62-a468-04f533e64aa3\">\n",
              "  <button class=\"colab-df-quickchart\" onclick=\"quickchart('df-f9a782d9-efb3-4d62-a468-04f533e64aa3')\"\n",
              "            title=\"Suggest charts.\"\n",
              "            style=\"display:none;\">\n",
              "\n",
              "<svg xmlns=\"http://www.w3.org/2000/svg\" height=\"24px\"viewBox=\"0 0 24 24\"\n",
              "     width=\"24px\">\n",
              "    <g>\n",
              "        <path d=\"M19 3H5c-1.1 0-2 .9-2 2v14c0 1.1.9 2 2 2h14c1.1 0 2-.9 2-2V5c0-1.1-.9-2-2-2zM9 17H7v-7h2v7zm4 0h-2V7h2v10zm4 0h-2v-4h2v4z\"/>\n",
              "    </g>\n",
              "</svg>\n",
              "  </button>\n",
              "\n",
              "<style>\n",
              "  .colab-df-quickchart {\n",
              "    background-color: #E8F0FE;\n",
              "    border: none;\n",
              "    border-radius: 50%;\n",
              "    cursor: pointer;\n",
              "    display: none;\n",
              "    fill: #1967D2;\n",
              "    height: 32px;\n",
              "    padding: 0 0 0 0;\n",
              "    width: 32px;\n",
              "  }\n",
              "\n",
              "  .colab-df-quickchart:hover {\n",
              "    background-color: #E2EBFA;\n",
              "    box-shadow: 0px 1px 2px rgba(60, 64, 67, 0.3), 0px 1px 3px 1px rgba(60, 64, 67, 0.15);\n",
              "    fill: #174EA6;\n",
              "  }\n",
              "\n",
              "  [theme=dark] .colab-df-quickchart {\n",
              "    background-color: #3B4455;\n",
              "    fill: #D2E3FC;\n",
              "  }\n",
              "\n",
              "  [theme=dark] .colab-df-quickchart:hover {\n",
              "    background-color: #434B5C;\n",
              "    box-shadow: 0px 1px 3px 1px rgba(0, 0, 0, 0.15);\n",
              "    filter: drop-shadow(0px 1px 2px rgba(0, 0, 0, 0.3));\n",
              "    fill: #FFFFFF;\n",
              "  }\n",
              "</style>\n",
              "\n",
              "  <script>\n",
              "    async function quickchart(key) {\n",
              "      const charts = await google.colab.kernel.invokeFunction(\n",
              "          'suggestCharts', [key], {});\n",
              "    }\n",
              "    (() => {\n",
              "      let quickchartButtonEl =\n",
              "        document.querySelector('#df-f9a782d9-efb3-4d62-a468-04f533e64aa3 button');\n",
              "      quickchartButtonEl.style.display =\n",
              "        google.colab.kernel.accessAllowed ? 'block' : 'none';\n",
              "    })();\n",
              "  </script>\n",
              "</div>\n",
              "    </div>\n",
              "  </div>\n"
            ]
          },
          "metadata": {},
          "execution_count": 6
        }
      ],
      "source": [
        "node_df = pd.DataFrame(\n",
        "    index=pd.RangeIndex(wn.num_nodes), columns=[\"node_ID\", \"elev\", \"xcoord\", \"ycoord\"]\n",
        ")\n",
        "\n",
        "def node_dict(node):\n",
        "    if isinstance(node, wntr.network.elements.Reservoir):\n",
        "        elev = 0\n",
        "    else:\n",
        "        elev = node.elevation\n",
        "    return dict(\n",
        "        node_ID=node.name,\n",
        "        elev=elev,\n",
        "        xcoord=node.coordinates[0],\n",
        "        ycoord=node.coordinates[1]\n",
        "    )\n",
        "\n",
        "for idx, node in enumerate(wn.nodes()):\n",
        "    node_df.loc[idx] = node_dict(node[1])\n",
        "\n",
        "node_df"
      ]
    },
    {
      "cell_type": "markdown",
      "metadata": {
        "id": "TJtQmREgun5u"
      },
      "source": [
        "Create network graph."
      ]
    },
    {
      "cell_type": "code",
      "execution_count": 7,
      "metadata": {
        "colab": {
          "base_uri": "https://localhost:8080/",
          "height": 516
        },
        "id": "EgpMMniLun5u",
        "outputId": "919de4d8-c9f1-44fb-e9d3-86e5d1588a0b"
      },
      "outputs": [
        {
          "output_type": "display_data",
          "data": {
            "text/plain": [
              "<Figure size 640x480 with 1 Axes>"
            ],
            "image/png": "[encoded data removed]"
          },
          "metadata": {}
        }
      ],
      "source": [
        "# extract network as a graph\n",
        "# G = wn.to_graph()\n",
        "# uG = G.to_undirected() # change to undirected graph structure\n",
        "uG = nx.from_pandas_edgelist(link_df, source='node_out', target='node_in')\n",
        "pos = {row['node_ID']: (row['xcoord'], row['ycoord']) for _, row in node_df.iterrows()}\n",
        "reservoir_labels = {node: 'Reservoir' for node in net_info['reservoir_names']}\n",
        "\n",
        "# draw entire network\n",
        "nx.draw(uG, pos, node_size=30, node_shape='o', node_color='black')\n",
        "# draw reservoir nodes\n",
        "nx.draw_networkx_nodes(uG, pos, nodelist=net_info['reservoir_names'], node_size=75, node_shape='s', node_color='black')\n",
        "# reservoir labels\n",
        "labels = nx.draw_networkx_labels(uG, pos, reservoir_labels, font_size=12, verticalalignment='bottom')\n",
        "for _, label in labels.items():\n",
        "    label.set_y(label.get_position()[1] + 80)\n",
        "\n",
        "\n",
        "# create adjacency matrices\n",
        "A = np.zeros((net_info['np'], net_info['nn']+net_info['n0']), dtype=int)\n",
        "for k, row in link_df.iterrows():\n",
        "    # find start node\n",
        "    out_name = row['node_out']\n",
        "    out_idx = node_df[node_df['node_ID']==out_name].index[0]\n",
        "    # find end node\n",
        "    in_name = row['node_in']\n",
        "    in_idx = node_df[node_df['node_ID']==in_name].index[0]\n",
        "\n",
        "    A[k, out_idx] = -1\n",
        "    A[k, in_idx] = 1\n",
        "\n",
        "junction_idx = node_df.index[node_df['node_ID'].isin(net_info['junction_names'])].tolist()\n",
        "reservoir_idx = node_df.index[node_df['node_ID'].isin(net_info['reservoir_names'])].tolist()\n",
        "\n",
        "# incident matrices\n",
        "A12 = A[:, junction_idx]; A12 = sp.csr_matrix(A12) # link-junction incident matrix\n",
        "A10 = A[:, reservoir_idx]; A10 = sp.csr_matrix(A10) # link-reservoir indicent matrix"
      ]
    },
    {
      "cell_type": "markdown",
      "metadata": {
        "id": "n9oHXBOUun5u"
      },
      "source": [
        "Extract operational data (e.g. demands, boundary heads)."
      ]
    },
    {
      "cell_type": "code",
      "execution_count": 8,
      "metadata": {
        "colab": {
          "base_uri": "https://localhost:8080/",
          "height": 424
        },
        "id": "ro6gf4Jnun5u",
        "outputId": "a3146526-d489-4391-d4cc-51a631fd1790",
        "scrolled": false
      },
      "outputs": [
        {
          "output_type": "execute_result",
          "data": {
            "text/plain": [
              "   node_ID  demands_1  demands_2  demands_3  demands_4  demands_5  demands_6  \\\n",
              "0        1   0.001368   0.001368   0.000701   0.000701   0.000701   0.000701   \n",
              "1        2   0.001699   0.001699   0.000870   0.000870   0.000870   0.000870   \n",
              "2        3   0.001162   0.001162   0.000595   0.000595   0.000595   0.000595   \n",
              "3        4   0.001162   0.001162   0.000595   0.000595   0.000595   0.000595   \n",
              "4        5   0.001656   0.001656   0.000848   0.000848   0.000848   0.000848   \n",
              "..     ...        ...        ...        ...        ...        ...        ...   \n",
              "62      85   0.000051   0.000051   0.000026   0.000026   0.000026   0.000026   \n",
              "63      86   0.000883   0.000883   0.000452   0.000452   0.000452   0.000452   \n",
              "64      87   0.003417   0.003417   0.001750   0.001750   0.001750   0.001750   \n",
              "65      88   0.000294   0.000294   0.000151   0.000151   0.000151   0.000151   \n",
              "66      89   0.000239   0.000239   0.000122   0.000122   0.000122   0.000122   \n",
              "\n",
              "    demands_7  demands_8  demands_9  ...  demands_15  demands_16  demands_17  \\\n",
              "0    0.002035   0.002035   0.003437  ...    0.002402    0.002402    0.002769   \n",
              "1    0.002527   0.002527   0.004268  ...    0.002983    0.002983    0.003439   \n",
              "2    0.001728   0.001728   0.002918  ...    0.002040    0.002040    0.002352   \n",
              "3    0.001728   0.001728   0.002918  ...    0.002040    0.002040    0.002352   \n",
              "4    0.002464   0.002464   0.004161  ...    0.002909    0.002909    0.003353   \n",
              "..        ...        ...        ...  ...         ...         ...         ...   \n",
              "62   0.000075   0.000075   0.000127  ...    0.000089    0.000089    0.000102   \n",
              "63   0.001314   0.001314   0.002218  ...    0.001550    0.001550    0.001787   \n",
              "64   0.005083   0.005083   0.008583  ...    0.006000    0.006000    0.006917   \n",
              "65   0.000437   0.000437   0.000738  ...    0.000516    0.000516    0.000595   \n",
              "66   0.000356   0.000356   0.000601  ...    0.000420    0.000420    0.000484   \n",
              "\n",
              "    demands_18  demands_19  demands_20  demands_21  demands_22  demands_23  \\\n",
              "0     0.002769    0.002402    0.002402    0.002069    0.001368    0.001368   \n",
              "1     0.003439    0.002983    0.002983    0.002569    0.001699    0.001699   \n",
              "2     0.002352    0.002040    0.002040    0.001757    0.001162    0.001162   \n",
              "3     0.002352    0.002040    0.002040    0.001757    0.001162    0.001162   \n",
              "4     0.003353    0.002909    0.002909    0.002505    0.001656    0.001656   \n",
              "..         ...         ...         ...         ...         ...         ...   \n",
              "62    0.000102    0.000089    0.000089    0.000076    0.000051    0.000051   \n",
              "63    0.001787    0.001550    0.001550    0.001335    0.000883    0.000883   \n",
              "64    0.006917    0.006000    0.006000    0.005167    0.003417    0.003417   \n",
              "65    0.000595    0.000516    0.000516    0.000444    0.000294    0.000294   \n",
              "66    0.000484    0.000420    0.000420    0.000362    0.000239    0.000239   \n",
              "\n",
              "    demands_24  \n",
              "0     0.001368  \n",
              "1     0.001699  \n",
              "2     0.001162  \n",
              "3     0.001162  \n",
              "4     0.001656  \n",
              "..         ...  \n",
              "62    0.000051  \n",
              "63    0.000883  \n",
              "64    0.003417  \n",
              "65    0.000294  \n",
              "66    0.000239  \n",
              "\n",
              "[67 rows x 25 columns]"
            ],
            "text/html": [
              "\n",
              "  <div id=\"df-4d676825-a941-4e74-a828-7420083b0a36\" class=\"colab-df-container\">\n",
              "    <div>\n",
              "<style scoped>\n",
              "    .dataframe tbody tr th:only-of-type {\n",
              "        vertical-align: middle;\n",
              "    }\n",
              "\n",
              "    .dataframe tbody tr th {\n",
              "        vertical-align: top;\n",
              "    }\n",
              "\n",
              "    .dataframe thead th {\n",
              "        text-align: right;\n",
              "    }\n",
              "</style>\n",
              "<table border=\"1\" class=\"dataframe\">\n",
              "  <thead>\n",
              "    <tr style=\"text-align: right;\">\n",
              "      <th></th>\n",
              "      <th>node_ID</th>\n",
              "      <th>demands_1</th>\n",
              "      <th>demands_2</th>\n",
              "      <th>demands_3</th>\n",
              "      <th>demands_4</th>\n",
              "      <th>demands_5</th>\n",
              "      <th>demands_6</th>\n",
              "      <th>demands_7</th>\n",
              "      <th>demands_8</th>\n",
              "      <th>demands_9</th>\n",
              "      <th>...</th>\n",
              "      <th>demands_15</th>\n",
              "      <th>demands_16</th>\n",
              "      <th>demands_17</th>\n",
              "      <th>demands_18</th>\n",
              "      <th>demands_19</th>\n",
              "      <th>demands_20</th>\n",
              "      <th>demands_21</th>\n",
              "      <th>demands_22</th>\n",
              "      <th>demands_23</th>\n",
              "      <th>demands_24</th>\n",
              "    </tr>\n",
              "  </thead>\n",
              "  <tbody>\n",
              "    <tr>\n",
              "      <th>0</th>\n",
              "      <td>1</td>\n",
              "      <td>0.001368</td>\n",
              "      <td>0.001368</td>\n",
              "      <td>0.000701</td>\n",
              "      <td>0.000701</td>\n",
              "      <td>0.000701</td>\n",
              "      <td>0.000701</td>\n",
              "      <td>0.002035</td>\n",
              "      <td>0.002035</td>\n",
              "      <td>0.003437</td>\n",
              "      <td>...</td>\n",
              "      <td>0.002402</td>\n",
              "      <td>0.002402</td>\n",
              "      <td>0.002769</td>\n",
              "      <td>0.002769</td>\n",
              "      <td>0.002402</td>\n",
              "      <td>0.002402</td>\n",
              "      <td>0.002069</td>\n",
              "      <td>0.001368</td>\n",
              "      <td>0.001368</td>\n",
              "      <td>0.001368</td>\n",
              "    </tr>\n",
              "    <tr>\n",
              "      <th>1</th>\n",
              "      <td>2</td>\n",
              "      <td>0.001699</td>\n",
              "      <td>0.001699</td>\n",
              "      <td>0.000870</td>\n",
              "      <td>0.000870</td>\n",
              "      <td>0.000870</td>\n",
              "      <td>0.000870</td>\n",
              "      <td>0.002527</td>\n",
              "      <td>0.002527</td>\n",
              "      <td>0.004268</td>\n",
              "      <td>...</td>\n",
              "      <td>0.002983</td>\n",
              "      <td>0.002983</td>\n",
              "      <td>0.003439</td>\n",
              "      <td>0.003439</td>\n",
              "      <td>0.002983</td>\n",
              "      <td>0.002983</td>\n",
              "      <td>0.002569</td>\n",
              "      <td>0.001699</td>\n",
              "      <td>0.001699</td>\n",
              "      <td>0.001699</td>\n",
              "    </tr>\n",
              "    <tr>\n",
              "      <th>2</th>\n",
              "      <td>3</td>\n",
              "      <td>0.001162</td>\n",
              "      <td>0.001162</td>\n",
              "      <td>0.000595</td>\n",
              "      <td>0.000595</td>\n",
              "      <td>0.000595</td>\n",
              "      <td>0.000595</td>\n",
              "      <td>0.001728</td>\n",
              "      <td>0.001728</td>\n",
              "      <td>0.002918</td>\n",
              "      <td>...</td>\n",
              "      <td>0.002040</td>\n",
              "      <td>0.002040</td>\n",
              "      <td>0.002352</td>\n",
              "      <td>0.002352</td>\n",
              "      <td>0.002040</td>\n",
              "      <td>0.002040</td>\n",
              "      <td>0.001757</td>\n",
              "      <td>0.001162</td>\n",
              "      <td>0.001162</td>\n",
              "      <td>0.001162</td>\n",
              "    </tr>\n",
              "    <tr>\n",
              "      <th>3</th>\n",
              "      <td>4</td>\n",
              "      <td>0.001162</td>\n",
              "      <td>0.001162</td>\n",
              "      <td>0.000595</td>\n",
              "      <td>0.000595</td>\n",
              "      <td>0.000595</td>\n",
              "      <td>0.000595</td>\n",
              "      <td>0.001728</td>\n",
              "      <td>0.001728</td>\n",
              "      <td>0.002918</td>\n",
              "      <td>...</td>\n",
              "      <td>0.002040</td>\n",
              "      <td>0.002040</td>\n",
              "      <td>0.002352</td>\n",
              "      <td>0.002352</td>\n",
              "      <td>0.002040</td>\n",
              "      <td>0.002040</td>\n",
              "      <td>0.001757</td>\n",
              "      <td>0.001162</td>\n",
              "      <td>0.001162</td>\n",
              "      <td>0.001162</td>\n",
              "    </tr>\n",
              "    <tr>\n",
              "      <th>4</th>\n",
              "      <td>5</td>\n",
              "      <td>0.001656</td>\n",
              "      <td>0.001656</td>\n",
              "      <td>0.000848</td>\n",
              "      <td>0.000848</td>\n",
              "      <td>0.000848</td>\n",
              "      <td>0.000848</td>\n",
              "      <td>0.002464</td>\n",
              "      <td>0.002464</td>\n",
              "      <td>0.004161</td>\n",
              "      <td>...</td>\n",
              "      <td>0.002909</td>\n",
              "      <td>0.002909</td>\n",
              "      <td>0.003353</td>\n",
              "      <td>0.003353</td>\n",
              "      <td>0.002909</td>\n",
              "      <td>0.002909</td>\n",
              "      <td>0.002505</td>\n",
              "      <td>0.001656</td>\n",
              "      <td>0.001656</td>\n",
              "      <td>0.001656</td>\n",
              "    </tr>\n",
              "    <tr>\n",
              "      <th>...</th>\n",
              "      <td>...</td>\n",
              "      <td>...</td>\n",
              "      <td>...</td>\n",
              "      <td>...</td>\n",
              "      <td>...</td>\n",
              "      <td>...</td>\n",
              "      <td>...</td>\n",
              "      <td>...</td>\n",
              "      <td>...</td>\n",
              "      <td>...</td>\n",
              "      <td>...</td>\n",
              "      <td>...</td>\n",
              "      <td>...</td>\n",
              "      <td>...</td>\n",
              "      <td>...</td>\n",
              "      <td>...</td>\n",
              "      <td>...</td>\n",
              "      <td>...</td>\n",
              "      <td>...</td>\n",
              "      <td>...</td>\n",
              "      <td>...</td>\n",
              "    </tr>\n",
              "    <tr>\n",
              "      <th>62</th>\n",
              "      <td>85</td>\n",
              "      <td>0.000051</td>\n",
              "      <td>0.000051</td>\n",
              "      <td>0.000026</td>\n",
              "      <td>0.000026</td>\n",
              "      <td>0.000026</td>\n",
              "      <td>0.000026</td>\n",
              "      <td>0.000075</td>\n",
              "      <td>0.000075</td>\n",
              "      <td>0.000127</td>\n",
              "      <td>...</td>\n",
              "      <td>0.000089</td>\n",
              "      <td>0.000089</td>\n",
              "      <td>0.000102</td>\n",
              "      <td>0.000102</td>\n",
              "      <td>0.000089</td>\n",
              "      <td>0.000089</td>\n",
              "      <td>0.000076</td>\n",
              "      <td>0.000051</td>\n",
              "      <td>0.000051</td>\n",
              "      <td>0.000051</td>\n",
              "    </tr>\n",
              "    <tr>\n",
              "      <th>63</th>\n",
              "      <td>86</td>\n",
              "      <td>0.000883</td>\n",
              "      <td>0.000883</td>\n",
              "      <td>0.000452</td>\n",
              "      <td>0.000452</td>\n",
              "      <td>0.000452</td>\n",
              "      <td>0.000452</td>\n",
              "      <td>0.001314</td>\n",
              "      <td>0.001314</td>\n",
              "      <td>0.002218</td>\n",
              "      <td>...</td>\n",
              "      <td>0.001550</td>\n",
              "      <td>0.001550</td>\n",
              "      <td>0.001787</td>\n",
              "      <td>0.001787</td>\n",
              "      <td>0.001550</td>\n",
              "      <td>0.001550</td>\n",
              "      <td>0.001335</td>\n",
              "      <td>0.000883</td>\n",
              "      <td>0.000883</td>\n",
              "      <td>0.000883</td>\n",
              "    </tr>\n",
              "    <tr>\n",
              "      <th>64</th>\n",
              "      <td>87</td>\n",
              "      <td>0.003417</td>\n",
              "      <td>0.003417</td>\n",
              "      <td>0.001750</td>\n",
              "      <td>0.001750</td>\n",
              "      <td>0.001750</td>\n",
              "      <td>0.001750</td>\n",
              "      <td>0.005083</td>\n",
              "      <td>0.005083</td>\n",
              "      <td>0.008583</td>\n",
              "      <td>...</td>\n",
              "      <td>0.006000</td>\n",
              "      <td>0.006000</td>\n",
              "      <td>0.006917</td>\n",
              "      <td>0.006917</td>\n",
              "      <td>0.006000</td>\n",
              "      <td>0.006000</td>\n",
              "      <td>0.005167</td>\n",
              "      <td>0.003417</td>\n",
              "      <td>0.003417</td>\n",
              "      <td>0.003417</td>\n",
              "    </tr>\n",
              "    <tr>\n",
              "      <th>65</th>\n",
              "      <td>88</td>\n",
              "      <td>0.000294</td>\n",
              "      <td>0.000294</td>\n",
              "      <td>0.000151</td>\n",
              "      <td>0.000151</td>\n",
              "      <td>0.000151</td>\n",
              "      <td>0.000151</td>\n",
              "      <td>0.000437</td>\n",
              "      <td>0.000437</td>\n",
              "      <td>0.000738</td>\n",
              "      <td>...</td>\n",
              "      <td>0.000516</td>\n",
              "      <td>0.000516</td>\n",
              "      <td>0.000595</td>\n",
              "      <td>0.000595</td>\n",
              "      <td>0.000516</td>\n",
              "      <td>0.000516</td>\n",
              "      <td>0.000444</td>\n",
              "      <td>0.000294</td>\n",
              "      <td>0.000294</td>\n",
              "      <td>0.000294</td>\n",
              "    </tr>\n",
              "    <tr>\n",
              "      <th>66</th>\n",
              "      <td>89</td>\n",
              "      <td>0.000239</td>\n",
              "      <td>0.000239</td>\n",
              "      <td>0.000122</td>\n",
              "      <td>0.000122</td>\n",
              "      <td>0.000122</td>\n",
              "      <td>0.000122</td>\n",
              "      <td>0.000356</td>\n",
              "      <td>0.000356</td>\n",
              "      <td>0.000601</td>\n",
              "      <td>...</td>\n",
              "      <td>0.000420</td>\n",
              "      <td>0.000420</td>\n",
              "      <td>0.000484</td>\n",
              "      <td>0.000484</td>\n",
              "      <td>0.000420</td>\n",
              "      <td>0.000420</td>\n",
              "      <td>0.000362</td>\n",
              "      <td>0.000239</td>\n",
              "      <td>0.000239</td>\n",
              "      <td>0.000239</td>\n",
              "    </tr>\n",
              "  </tbody>\n",
              "</table>\n",
              "<p>67 rows × 25 columns</p>\n",
              "</div>\n",
              "    <div class=\"colab-df-buttons\">\n",
              "\n",
              "  <div class=\"colab-df-container\">\n",
              "    <button class=\"colab-df-convert\" onclick=\"convertToInteractive('df-4d676825-a941-4e74-a828-7420083b0a36')\"\n",
              "            title=\"Convert this dataframe to an interactive table.\"\n",
              "            style=\"display:none;\">\n",
              "\n",
              "  <svg xmlns=\"http://www.w3.org/2000/svg\" height=\"24px\" viewBox=\"0 -960 960 960\">\n",
              "    <path d=\"M120-120v-720h720v720H120Zm60-500h600v-160H180v160Zm220 220h160v-160H400v160Zm0 220h160v-160H400v160ZM180-400h160v-160H180v160Zm440 0h160v-160H620v160ZM180-180h160v-160H180v160Zm440 0h160v-160H620v160Z\"/>\n",
              "  </svg>\n",
              "    </button>\n",
              "\n",
              "  <style>\n",
              "    .colab-df-container {\n",
              "      display:flex;\n",
              "      gap: 12px;\n",
              "    }\n",
              "\n",
              "    .colab-df-convert {\n",
              "      background-color: #E8F0FE;\n",
              "      border: none;\n",
              "      border-radius: 50%;\n",
              "      cursor: pointer;\n",
              "      display: none;\n",
              "      fill: #1967D2;\n",
              "      height: 32px;\n",
              "      padding: 0 0 0 0;\n",
              "      width: 32px;\n",
              "    }\n",
              "\n",
              "    .colab-df-convert:hover {\n",
              "      background-color: #E2EBFA;\n",
              "      box-shadow: 0px 1px 2px rgba(60, 64, 67, 0.3), 0px 1px 3px 1px rgba(60, 64, 67, 0.15);\n",
              "      fill: #174EA6;\n",
              "    }\n",
              "\n",
              "    .colab-df-buttons div {\n",
              "      margin-bottom: 4px;\n",
              "    }\n",
              "\n",
              "    [theme=dark] .colab-df-convert {\n",
              "      background-color: #3B4455;\n",
              "      fill: #D2E3FC;\n",
              "    }\n",
              "\n",
              "    [theme=dark] .colab-df-convert:hover {\n",
              "      background-color: #434B5C;\n",
              "      box-shadow: 0px 1px 3px 1px rgba(0, 0, 0, 0.15);\n",
              "      filter: drop-shadow(0px 1px 2px rgba(0, 0, 0, 0.3));\n",
              "      fill: #FFFFFF;\n",
              "    }\n",
              "  </style>\n",
              "\n",
              "    <script>\n",
              "      const buttonEl =\n",
              "        document.querySelector('#df-4d676825-a941-4e74-a828-7420083b0a36 button.colab-df-convert');\n",
              "      buttonEl.style.display =\n",
              "        google.colab.kernel.accessAllowed ? 'block' : 'none';\n",
              "\n",
              "      async function convertToInteractive(key) {\n",
              "        const element = document.querySelector('#df-4d676825-a941-4e74-a828-7420083b0a36');\n",
              "        const dataTable =\n",
              "          await google.colab.kernel.invokeFunction('convertToInteractive',\n",
              "                                                    [key], {});\n",
              "        if (!dataTable) return;\n",
              "\n",
              "        const docLinkHtml = 'Like what you see? Visit the ' +\n",
              "          '<a target=\"_blank\" href=https://colab.research.google.com/notebooks/data_table.ipynb>data table notebook</a>'\n",
              "          + ' to learn more about interactive tables.';\n",
              "        element.innerHTML = '';\n",
              "        dataTable['output_type'] = 'display_data';\n",
              "        await google.colab.output.renderOutput(dataTable, element);\n",
              "        const docLink = document.createElement('div');\n",
              "        docLink.innerHTML = docLinkHtml;\n",
              "        element.appendChild(docLink);\n",
              "      }\n",
              "    </script>\n",
              "  </div>\n",
              "\n",
              "\n",
              "<div id=\"df-4188000e-f743-407c-85bf-e003777fa99b\">\n",
              "  <button class=\"colab-df-quickchart\" onclick=\"quickchart('df-4188000e-f743-407c-85bf-e003777fa99b')\"\n",
              "            title=\"Suggest charts.\"\n",
              "            style=\"display:none;\">\n",
              "\n",
              "<svg xmlns=\"http://www.w3.org/2000/svg\" height=\"24px\"viewBox=\"0 0 24 24\"\n",
              "     width=\"24px\">\n",
              "    <g>\n",
              "        <path d=\"M19 3H5c-1.1 0-2 .9-2 2v14c0 1.1.9 2 2 2h14c1.1 0 2-.9 2-2V5c0-1.1-.9-2-2-2zM9 17H7v-7h2v7zm4 0h-2V7h2v10zm4 0h-2v-4h2v4z\"/>\n",
              "    </g>\n",
              "</svg>\n",
              "  </button>\n",
              "\n",
              "<style>\n",
              "  .colab-df-quickchart {\n",
              "    background-color: #E8F0FE;\n",
              "    border: none;\n",
              "    border-radius: 50%;\n",
              "    cursor: pointer;\n",
              "    display: none;\n",
              "    fill: #1967D2;\n",
              "    height: 32px;\n",
              "    padding: 0 0 0 0;\n",
              "    width: 32px;\n",
              "  }\n",
              "\n",
              "  .colab-df-quickchart:hover {\n",
              "    background-color: #E2EBFA;\n",
              "    box-shadow: 0px 1px 2px rgba(60, 64, 67, 0.3), 0px 1px 3px 1px rgba(60, 64, 67, 0.15);\n",
              "    fill: #174EA6;\n",
              "  }\n",
              "\n",
              "  [theme=dark] .colab-df-quickchart {\n",
              "    background-color: #3B4455;\n",
              "    fill: #D2E3FC;\n",
              "  }\n",
              "\n",
              "  [theme=dark] .colab-df-quickchart:hover {\n",
              "    background-color: #434B5C;\n",
              "    box-shadow: 0px 1px 3px 1px rgba(0, 0, 0, 0.15);\n",
              "    filter: drop-shadow(0px 1px 2px rgba(0, 0, 0, 0.3));\n",
              "    fill: #FFFFFF;\n",
              "  }\n",
              "</style>\n",
              "\n",
              "  <script>\n",
              "    async function quickchart(key) {\n",
              "      const charts = await google.colab.kernel.invokeFunction(\n",
              "          'suggestCharts', [key], {});\n",
              "    }\n",
              "    (() => {\n",
              "      let quickchartButtonEl =\n",
              "        document.querySelector('#df-4188000e-f743-407c-85bf-e003777fa99b button');\n",
              "      quickchartButtonEl.style.display =\n",
              "        google.colab.kernel.accessAllowed ? 'block' : 'none';\n",
              "    })();\n",
              "  </script>\n",
              "</div>\n",
              "    </div>\n",
              "  </div>\n"
            ]
          },
          "metadata": {},
          "execution_count": 8
        }
      ],
      "source": [
        "# demand data\n",
        "demand_df = results.node['demand'].T\n",
        "col_names = [f'demands_{t}' for t in range(1, len(demand_df.columns)+1)]\n",
        "demand_df.columns = col_names\n",
        "demand_df.reset_index(drop=False, inplace=True)\n",
        "demand_df = demand_df.rename(columns={'name': 'node_ID'})\n",
        "\n",
        "if net_info['nt'] > 1:\n",
        "    demand_df = demand_df.iloc[:, :-1] # delete last time step\n",
        "\n",
        "demand_df = demand_df[~demand_df['node_ID'].isin(net_info['reservoir_names'])] # delete reservoir nodes\n",
        "demand_df"
      ]
    },
    {
      "cell_type": "code",
      "execution_count": 9,
      "metadata": {
        "colab": {
          "base_uri": "https://localhost:8080/",
          "height": 173
        },
        "id": "HfgOBqrHun5v",
        "outputId": "6b4cbbdc-bd92-4418-869e-bf7a53793696"
      },
      "outputs": [
        {
          "output_type": "execute_result",
          "data": {
            "text/plain": [
              "   node_ID       h0_1       h0_2       h0_3       h0_4       h0_5       h0_6  \\\n",
              "67      15  57.000000  57.000000  57.000000  57.000000  57.000000  57.000000   \n",
              "68      43  53.080002  53.080002  53.080002  53.080002  53.080002  53.080002   \n",
              "69      65  55.000000  55.000000  55.000000  55.000000  55.000000  55.000000   \n",
              "\n",
              "         h0_7       h0_8       h0_9  ...      h0_15      h0_16      h0_17  \\\n",
              "67  57.000000  57.000000  57.000000  ...  57.000000  57.000000  57.000000   \n",
              "68  53.080002  53.080002  53.080002  ...  53.080002  53.080002  53.080002   \n",
              "69  55.000000  55.000000  55.000000  ...  55.000000  55.000000  55.000000   \n",
              "\n",
              "        h0_18      h0_19      h0_20      h0_21      h0_22      h0_23  \\\n",
              "67  57.000000  57.000000  57.000000  57.000000  57.000000  57.000000   \n",
              "68  53.080002  53.080002  53.080002  53.080002  53.080002  53.080002   \n",
              "69  55.000000  55.000000  55.000000  55.000000  55.000000  55.000000   \n",
              "\n",
              "        h0_24  \n",
              "67  57.000000  \n",
              "68  53.080002  \n",
              "69  55.000000  \n",
              "\n",
              "[3 rows x 25 columns]"
            ],
            "text/html": [
              "\n",
              "  <div id=\"df-a7b355d7-ac12-46f4-a24c-c3aec1c90b40\" class=\"colab-df-container\">\n",
              "    <div>\n",
              "<style scoped>\n",
              "    .dataframe tbody tr th:only-of-type {\n",
              "        vertical-align: middle;\n",
              "    }\n",
              "\n",
              "    .dataframe tbody tr th {\n",
              "        vertical-align: top;\n",
              "    }\n",
              "\n",
              "    .dataframe thead th {\n",
              "        text-align: right;\n",
              "    }\n",
              "</style>\n",
              "<table border=\"1\" class=\"dataframe\">\n",
              "  <thead>\n",
              "    <tr style=\"text-align: right;\">\n",
              "      <th></th>\n",
              "      <th>node_ID</th>\n",
              "      <th>h0_1</th>\n",
              "      <th>h0_2</th>\n",
              "      <th>h0_3</th>\n",
              "      <th>h0_4</th>\n",
              "      <th>h0_5</th>\n",
              "      <th>h0_6</th>\n",
              "      <th>h0_7</th>\n",
              "      <th>h0_8</th>\n",
              "      <th>h0_9</th>\n",
              "      <th>...</th>\n",
              "      <th>h0_15</th>\n",
              "      <th>h0_16</th>\n",
              "      <th>h0_17</th>\n",
              "      <th>h0_18</th>\n",
              "      <th>h0_19</th>\n",
              "      <th>h0_20</th>\n",
              "      <th>h0_21</th>\n",
              "      <th>h0_22</th>\n",
              "      <th>h0_23</th>\n",
              "      <th>h0_24</th>\n",
              "    </tr>\n",
              "  </thead>\n",
              "  <tbody>\n",
              "    <tr>\n",
              "      <th>67</th>\n",
              "      <td>15</td>\n",
              "      <td>57.000000</td>\n",
              "      <td>57.000000</td>\n",
              "      <td>57.000000</td>\n",
              "      <td>57.000000</td>\n",
              "      <td>57.000000</td>\n",
              "      <td>57.000000</td>\n",
              "      <td>57.000000</td>\n",
              "      <td>57.000000</td>\n",
              "      <td>57.000000</td>\n",
              "      <td>...</td>\n",
              "      <td>57.000000</td>\n",
              "      <td>57.000000</td>\n",
              "      <td>57.000000</td>\n",
              "      <td>57.000000</td>\n",
              "      <td>57.000000</td>\n",
              "      <td>57.000000</td>\n",
              "      <td>57.000000</td>\n",
              "      <td>57.000000</td>\n",
              "      <td>57.000000</td>\n",
              "      <td>57.000000</td>\n",
              "    </tr>\n",
              "    <tr>\n",
              "      <th>68</th>\n",
              "      <td>43</td>\n",
              "      <td>53.080002</td>\n",
              "      <td>53.080002</td>\n",
              "      <td>53.080002</td>\n",
              "      <td>53.080002</td>\n",
              "      <td>53.080002</td>\n",
              "      <td>53.080002</td>\n",
              "      <td>53.080002</td>\n",
              "      <td>53.080002</td>\n",
              "      <td>53.080002</td>\n",
              "      <td>...</td>\n",
              "      <td>53.080002</td>\n",
              "      <td>53.080002</td>\n",
              "      <td>53.080002</td>\n",
              "      <td>53.080002</td>\n",
              "      <td>53.080002</td>\n",
              "      <td>53.080002</td>\n",
              "      <td>53.080002</td>\n",
              "      <td>53.080002</td>\n",
              "      <td>53.080002</td>\n",
              "      <td>53.080002</td>\n",
              "    </tr>\n",
              "    <tr>\n",
              "      <th>69</th>\n",
              "      <td>65</td>\n",
              "      <td>55.000000</td>\n",
              "      <td>55.000000</td>\n",
              "      <td>55.000000</td>\n",
              "      <td>55.000000</td>\n",
              "      <td>55.000000</td>\n",
              "      <td>55.000000</td>\n",
              "      <td>55.000000</td>\n",
              "      <td>55.000000</td>\n",
              "      <td>55.000000</td>\n",
              "      <td>...</td>\n",
              "      <td>55.000000</td>\n",
              "      <td>55.000000</td>\n",
              "      <td>55.000000</td>\n",
              "      <td>55.000000</td>\n",
              "      <td>55.000000</td>\n",
              "      <td>55.000000</td>\n",
              "      <td>55.000000</td>\n",
              "      <td>55.000000</td>\n",
              "      <td>55.000000</td>\n",
              "      <td>55.000000</td>\n",
              "    </tr>\n",
              "  </tbody>\n",
              "</table>\n",
              "<p>3 rows × 25 columns</p>\n",
              "</div>\n",
              "    <div class=\"colab-df-buttons\">\n",
              "\n",
              "  <div class=\"colab-df-container\">\n",
              "    <button class=\"colab-df-convert\" onclick=\"convertToInteractive('df-a7b355d7-ac12-46f4-a24c-c3aec1c90b40')\"\n",
              "            title=\"Convert this dataframe to an interactive table.\"\n",
              "            style=\"display:none;\">\n",
              "\n",
              "  <svg xmlns=\"http://www.w3.org/2000/svg\" height=\"24px\" viewBox=\"0 -960 960 960\">\n",
              "    <path d=\"M120-120v-720h720v720H120Zm60-500h600v-160H180v160Zm220 220h160v-160H400v160Zm0 220h160v-160H400v160ZM180-400h160v-160H180v160Zm440 0h160v-160H620v160ZM180-180h160v-160H180v160Zm440 0h160v-160H620v160Z\"/>\n",
              "  </svg>\n",
              "    </button>\n",
              "\n",
              "  <style>\n",
              "    .colab-df-container {\n",
              "      display:flex;\n",
              "      gap: 12px;\n",
              "    }\n",
              "\n",
              "    .colab-df-convert {\n",
              "      background-color: #E8F0FE;\n",
              "      border: none;\n",
              "      border-radius: 50%;\n",
              "      cursor: pointer;\n",
              "      display: none;\n",
              "      fill: #1967D2;\n",
              "      height: 32px;\n",
              "      padding: 0 0 0 0;\n",
              "      width: 32px;\n",
              "    }\n",
              "\n",
              "    .colab-df-convert:hover {\n",
              "      background-color: #E2EBFA;\n",
              "      box-shadow: 0px 1px 2px rgba(60, 64, 67, 0.3), 0px 1px 3px 1px rgba(60, 64, 67, 0.15);\n",
              "      fill: #174EA6;\n",
              "    }\n",
              "\n",
              "    .colab-df-buttons div {\n",
              "      margin-bottom: 4px;\n",
              "    }\n",
              "\n",
              "    [theme=dark] .colab-df-convert {\n",
              "      background-color: #3B4455;\n",
              "      fill: #D2E3FC;\n",
              "    }\n",
              "\n",
              "    [theme=dark] .colab-df-convert:hover {\n",
              "      background-color: #434B5C;\n",
              "      box-shadow: 0px 1px 3px 1px rgba(0, 0, 0, 0.15);\n",
              "      filter: drop-shadow(0px 1px 2px rgba(0, 0, 0, 0.3));\n",
              "      fill: #FFFFFF;\n",
              "    }\n",
              "  </style>\n",
              "\n",
              "    <script>\n",
              "      const buttonEl =\n",
              "        document.querySelector('#df-a7b355d7-ac12-46f4-a24c-c3aec1c90b40 button.colab-df-convert');\n",
              "      buttonEl.style.display =\n",
              "        google.colab.kernel.accessAllowed ? 'block' : 'none';\n",
              "\n",
              "      async function convertToInteractive(key) {\n",
              "        const element = document.querySelector('#df-a7b355d7-ac12-46f4-a24c-c3aec1c90b40');\n",
              "        const dataTable =\n",
              "          await google.colab.kernel.invokeFunction('convertToInteractive',\n",
              "                                                    [key], {});\n",
              "        if (!dataTable) return;\n",
              "\n",
              "        const docLinkHtml = 'Like what you see? Visit the ' +\n",
              "          '<a target=\"_blank\" href=https://colab.research.google.com/notebooks/data_table.ipynb>data table notebook</a>'\n",
              "          + ' to learn more about interactive tables.';\n",
              "        element.innerHTML = '';\n",
              "        dataTable['output_type'] = 'display_data';\n",
              "        await google.colab.output.renderOutput(dataTable, element);\n",
              "        const docLink = document.createElement('div');\n",
              "        docLink.innerHTML = docLinkHtml;\n",
              "        element.appendChild(docLink);\n",
              "      }\n",
              "    </script>\n",
              "  </div>\n",
              "\n",
              "\n",
              "<div id=\"df-7c8570e5-c61c-4812-ab6c-c35e71c63dd8\">\n",
              "  <button class=\"colab-df-quickchart\" onclick=\"quickchart('df-7c8570e5-c61c-4812-ab6c-c35e71c63dd8')\"\n",
              "            title=\"Suggest charts.\"\n",
              "            style=\"display:none;\">\n",
              "\n",
              "<svg xmlns=\"http://www.w3.org/2000/svg\" height=\"24px\"viewBox=\"0 0 24 24\"\n",
              "     width=\"24px\">\n",
              "    <g>\n",
              "        <path d=\"M19 3H5c-1.1 0-2 .9-2 2v14c0 1.1.9 2 2 2h14c1.1 0 2-.9 2-2V5c0-1.1-.9-2-2-2zM9 17H7v-7h2v7zm4 0h-2V7h2v10zm4 0h-2v-4h2v4z\"/>\n",
              "    </g>\n",
              "</svg>\n",
              "  </button>\n",
              "\n",
              "<style>\n",
              "  .colab-df-quickchart {\n",
              "    background-color: #E8F0FE;\n",
              "    border: none;\n",
              "    border-radius: 50%;\n",
              "    cursor: pointer;\n",
              "    display: none;\n",
              "    fill: #1967D2;\n",
              "    height: 32px;\n",
              "    padding: 0 0 0 0;\n",
              "    width: 32px;\n",
              "  }\n",
              "\n",
              "  .colab-df-quickchart:hover {\n",
              "    background-color: #E2EBFA;\n",
              "    box-shadow: 0px 1px 2px rgba(60, 64, 67, 0.3), 0px 1px 3px 1px rgba(60, 64, 67, 0.15);\n",
              "    fill: #174EA6;\n",
              "  }\n",
              "\n",
              "  [theme=dark] .colab-df-quickchart {\n",
              "    background-color: #3B4455;\n",
              "    fill: #D2E3FC;\n",
              "  }\n",
              "\n",
              "  [theme=dark] .colab-df-quickchart:hover {\n",
              "    background-color: #434B5C;\n",
              "    box-shadow: 0px 1px 3px 1px rgba(0, 0, 0, 0.15);\n",
              "    filter: drop-shadow(0px 1px 2px rgba(0, 0, 0, 0.3));\n",
              "    fill: #FFFFFF;\n",
              "  }\n",
              "</style>\n",
              "\n",
              "  <script>\n",
              "    async function quickchart(key) {\n",
              "      const charts = await google.colab.kernel.invokeFunction(\n",
              "          'suggestCharts', [key], {});\n",
              "    }\n",
              "    (() => {\n",
              "      let quickchartButtonEl =\n",
              "        document.querySelector('#df-7c8570e5-c61c-4812-ab6c-c35e71c63dd8 button');\n",
              "      quickchartButtonEl.style.display =\n",
              "        google.colab.kernel.accessAllowed ? 'block' : 'none';\n",
              "    })();\n",
              "  </script>\n",
              "</div>\n",
              "    </div>\n",
              "  </div>\n"
            ]
          },
          "metadata": {},
          "execution_count": 9
        }
      ],
      "source": [
        "# boundary head data\n",
        "h0_df = results.node['head'].T\n",
        "col_names = [f'h0_{t}' for t in range(1, len(h0_df.columns)+1)]\n",
        "h0_df.columns = col_names\n",
        "h0_df.reset_index(drop=False, inplace=True)\n",
        "h0_df = h0_df.rename(columns={'name': 'node_ID'})\n",
        "\n",
        "if net_info['nt'] > 1:\n",
        "    h0_df = h0_df.iloc[:, :-1] # delete last time step\n",
        "\n",
        "h0_df = h0_df[h0_df['node_ID'].isin(net_info['reservoir_names'])] # only reservoir nodes\n",
        "h0_df"
      ]
    },
    {
      "cell_type": "markdown",
      "metadata": {
        "id": "1NgOgMpIun5v"
      },
      "source": [
        "<span style=\"color:red\">**NB: The above code comprise functions 'load_network_data' and 'plot_network' in the file '~/src/general_functions.py'**.</span>"
      ]
    },
    {
      "cell_type": "markdown",
      "metadata": {
        "id": "SFg6WFO7un5w"
      },
      "source": [
        "### Newton-Raphson hydraulic solver\n",
        "We will now develop our own hydraulic solver using the Newton-Raphson method for solving nonlinear systems of equations."
      ]
    },
    {
      "cell_type": "markdown",
      "metadata": {
        "id": "mWfnH-9pun5w"
      },
      "source": [
        "#### System of nonlinear equations\n",
        "Hydraulic states are computed for each time step $t \\in \\{1, \\dots, n_t\\}$, where $n_t$ denotes the number of discrete time steps in the simulation period. These comprise the following unknown variables for which we wish to solve:\n",
        "- Flow rate $q_t \\in \\mathbb{R}^{n_p}$ conveyed across network links, where $n_p$ is the number of links\n",
        "- Hydraulic head $h_t \\in \\mathbb{R}^{n_n}$ at network nodes, where $n_n$ is the number of junction nodes\n",
        "\n",
        "Their solution is governed by **energy** and **mass** conservation equations, as follows:"
      ]
    },
    {
      "cell_type": "markdown",
      "metadata": {
        "id": "D1yB_37Zun5w"
      },
      "source": [
        "\\begin{equation}\n",
        "    A_{11}(q_t)q_t + A_{12}h_t + A_{10}h_{0t} = 0 \\\\\n",
        "    A_{12}^{T}q_t + d_t = 0,\n",
        "\\label{eq:hydraulic} \\tag{1}\n",
        "\\end{equation}"
      ]
    },
    {
      "cell_type": "markdown",
      "metadata": {
        "id": "n0ZPD4_Sun5w"
      },
      "source": [
        "where\n",
        "- $A_{11} \\in \\mathbb{R}^{n_p \\times n_p} = k_j|q_j^{n-1}|, \\;\\, \\forall j \\in \\{1, \\dots, n_p\\}$ is a diagonal matrix of frictional head losses and $k_j$ is the pipe or valve resistance coefficient\n",
        "- $A_{12} \\in \\mathbb{R}^{n_p \\times n_n}$ is the link-node incidence matrix\n",
        "- $A_{10} \\in \\mathbb{R}^{n_p \\times n_0}$ is the link-known head incidence matrix\n",
        "- $d_t \\in \\mathbb{R}^{n_n}$ is the vector of known demands (i.e. loading conditions)\n",
        "- $h_{0t} \\in \\mathbb{R}^{n_0}$ is the vector of known hydraulic heads (i.e. boundary conditions)"
      ]
    },
    {
      "cell_type": "markdown",
      "metadata": {
        "id": "Supt0mAgun5x"
      },
      "source": [
        "Since the same equations are applied for all time steps, we omit the index $t$ henceforth. The system of nonlinear equations in \\eqref{eq:hydraulic} is written in matrix form, as follows:"
      ]
    },
    {
      "cell_type": "markdown",
      "metadata": {
        "id": "_uG1kVXVun5x"
      },
      "source": [
        "\\begin{equation}\n",
        " F(q,h):= \\left[\n",
        "    {\\renewcommand{\\arraystretch}{1.5}\n",
        "        \\begin{array}{cc}\n",
        "            A_{11}(q) & A_{12}  \\\\\n",
        "            A_{12}^{T} & 0 \\\\\n",
        "        \\end{array}}\\right]\n",
        "    \\left[\n",
        "    {\\renewcommand{\\arraystretch}{1.5}\n",
        "        \\begin{array}{c}\n",
        "            q \\\\\n",
        "            h \\\\\n",
        "        \\end{array}}\\right] -\n",
        "    \\left[\n",
        "    {\\renewcommand{\\arraystretch}{1.5}\n",
        "        \\begin{array}{c}\n",
        "            -A_{10}h_0 \\\\\n",
        "            d \\\\\n",
        "        \\end{array}}\\right] = 0.\n",
        "\\label{eq:hydraulic_matrix} \\tag{2}\n",
        "\\end{equation}"
      ]
    },
    {
      "cell_type": "markdown",
      "metadata": {
        "id": "yHaz_GK1un5x"
      },
      "source": [
        "#### Newton-Raphson method\n",
        "We can then apply the Newton-Raphson method to solve the system of nonlinear equations in \\eqref{eq:hydraulic_matrix}. The Newton-Raphson method is an iterative numerical technique for finding the root of an equation. At each iteration $k$, a new estimate of the root is found using the following formula:"
      ]
    },
    {
      "cell_type": "markdown",
      "metadata": {
        "id": "0tzccjY1un5x"
      },
      "source": [
        "\\begin{equation}\n",
        "    x^{k+1} = x^k - J(x^k)^{-1}F(x^k),\n",
        "\\label{eq:newton_raphson_1} \\tag{3}\n",
        "\\end{equation}"
      ]
    },
    {
      "cell_type": "markdown",
      "metadata": {
        "id": "vRP4Cl8Pun5x"
      },
      "source": [
        "where $J(x)$ is the Jacobian, a matrix of first-order partial derivatives. In general form, if $F(x)$ has $m$ equations, $f_1,f_2,\\dots,f_m$, and $n$ variables, $x_1,x_2,\\dots,x_n$, as"
      ]
    },
    {
      "cell_type": "markdown",
      "metadata": {
        "id": "cM-JDTm4un5y"
      },
      "source": [
        "\\begin{equation}\n",
        "    F(x)= \\left[\\begin{array}{c}\n",
        "    f_1(x_1,\\cdot,x_n)\\\\\n",
        "    \\vdots\\\\\n",
        "    f_m(x_1,\\cdot,x_n)\\\\\n",
        "    \\end{array}\\right],\n",
        "\\label{eq:general_function} \\tag{4}\n",
        "\\end{equation}"
      ]
    },
    {
      "cell_type": "markdown",
      "metadata": {
        "id": "SAnrfosSun5y"
      },
      "source": [
        "then the Jacobian $J(x)$ is expressed mathematically as follows:"
      ]
    },
    {
      "cell_type": "markdown",
      "metadata": {
        "id": "4aMT0Vf4un5y"
      },
      "source": [
        "\\begin{equation}\n",
        "    J(x) =\\left[\\begin{array}{cccc}\n",
        "    \\frac{\\partial f_1}{\\partial x_1} & \\frac{\\partial f_1}{\\partial x_2} & \\cdots & \\frac{\\partial f_1}{\\partial x_n}\\\\\n",
        "    \\frac{\\partial f_2}{\\partial x_1} & \\frac{\\partial f_2}{\\partial x_2} & \\cdots & \\frac{\\partial f_2}{\\partial x_n}\\\\\n",
        "    \\vdots & \\vdots & \\ddots & \\vdots\\\\\n",
        "    \\frac{\\partial f_m}{\\partial x_1} & \\frac{\\partial f_m}{\\partial x_2} & \\cdots & \\frac{\\partial f_m}{\\partial x_n}\\\\\n",
        "    \\end{array}\\right].\n",
        "\\label{eq:jacobian} \\tag{5}\n",
        "\\end{equation}"
      ]
    },
    {
      "cell_type": "markdown",
      "metadata": {
        "id": "x0NNYGNKun5z"
      },
      "source": [
        "#### Hydraulic solver\n",
        "We now define the Jacobian $J(x)$ and Newton-Raphson steps to compute a unique solution to the hydraulic model in \\eqref{eq:hydraulic}. The system of nonlinear equations,"
      ]
    },
    {
      "cell_type": "markdown",
      "metadata": {
        "id": "OWjJbYhQun5z"
      },
      "source": [
        "\\begin{equation}\n",
        "F(q, h) := \\left\\lbrace \\begin{array}{ll}\n",
        "    f_1(q,h) = A_{11}(q)q + A_{12}h + A_{10}h_0 = 0 \\\\\n",
        "    f_2(q,h) = A_{21}q - d = 0,\n",
        "\\end{array}\\right.\n",
        "\\label{eq:nonlinear_system} \\tag{6}\n",
        "\\end{equation}"
      ]
    },
    {
      "cell_type": "markdown",
      "metadata": {
        "id": "LBL8opRiun5z"
      },
      "source": [
        "has a Jacobian computed as"
      ]
    },
    {
      "cell_type": "markdown",
      "metadata": {
        "id": "YEQBO1LZun5z"
      },
      "source": [
        "\\begin{equation}\n",
        "J (q, h) := \\left\\lbrace \\begin{array}{ll}\n",
        "    \\frac{\\partial f_1 }{\\partial q}=\\frac{\\partial A_{11}(q)q}{\\partial q}=\\frac{\\partial K|q^{n-1}|q}{\\partial q}={N Kq}^{n-1} ={NA_{11}(q)} \\\\\n",
        "    \\frac{\\partial f_1 }{\\partial h}=\\frac{\\partial A_{12} h}{\\partial h}=A_{12} \\\\\n",
        "    \\frac{\\partial f_2 }{\\partial q}=\\frac{\\partial A_{12}^T q}{\\partial q}=A_{12}^T \\\\\n",
        "    \\frac{\\partial f_2 }{\\partial h}=0,\n",
        "\\end{array}\\right.\n",
        "\\label{eq:jacobian_hydraulic} \\tag{7}\n",
        "\\end{equation}"
      ]
    },
    {
      "cell_type": "markdown",
      "metadata": {
        "id": "MF-ETTqIun5z"
      },
      "source": [
        "which can be written in matrix form as"
      ]
    },
    {
      "cell_type": "markdown",
      "metadata": {
        "id": "_fki9Bvuun5z"
      },
      "source": [
        "\\begin{equation}\n",
        "    J(q,h)=\\left[\\begin{array}{cc}\n",
        "    \\frac{\\partial f_1}{\\partial q} & \\frac{\\partial f_1}{\\partial h} \\\\\n",
        "    \\frac{\\partial f_2}{\\partial q} & \\frac{\\partial f_2}{\\partial h} \\\\\n",
        "    \\end{array}\\right]=\\left[\\begin{array}{cc}\n",
        "    NA_{11}(q) & {A_{12}} \\\\\n",
        "    {A_{12}^T} & 0 \\\\\n",
        "    \\end{array}\\right], \\; \\text{where} \\;\n",
        "    N=\\left[\\begin{array}{cccc}\n",
        "        n & 0 & \\cdots & 0 \\\\\n",
        "        0 & n & \\cdots & 0 \\\\\n",
        "        \\vdots & \\vdots & \\ddots & 0 \\\\\n",
        "        0 & 0 & \\cdots & n \\\\\n",
        "    \\end{array}\\right].\n",
        "\\label{eq:jacobian_hydraulic_matrix} \\tag{8}\n",
        "\\end{equation}"
      ]
    },
    {
      "cell_type": "markdown",
      "metadata": {
        "id": "MI9vSy05un50"
      },
      "source": [
        "However, computing the inverse of the Jacobian is not computationally efficient (at every iteration) and it may not be possible for singular matrices (i.e. zero-flow pipes). We therefore multiply both sides of \\eqref{eq:newton_raphson_1} by $J(x^k)$ to eliminate its inverse:"
      ]
    },
    {
      "cell_type": "markdown",
      "metadata": {
        "id": "FxRh01e3un50"
      },
      "source": [
        "\\begin{equation}\n",
        "    J(x^k)x^{k+1}=J(x^k)x^k-F(x^k).\n",
        "\\label{eq:newton_raphson_2} \\tag{9}\n",
        "\\end{equation}"
      ]
    },
    {
      "cell_type": "markdown",
      "metadata": {
        "id": "rbbHQABVun50"
      },
      "source": [
        "Each new iterate $x_{k+1}$ of the Newton-Raphson equation is computed by solving the following linear system:"
      ]
    },
    {
      "cell_type": "markdown",
      "metadata": {
        "id": "n6q9ZTpDun50"
      },
      "source": [
        "\\begin{equation}\n",
        "    \\left[\\begin{array}{cc}\n",
        "         NA_{11}(h_k)& A_{12} \\\\\n",
        "         A_{12}^T& 0 \\\\\n",
        "    \\end{array}\\right]\n",
        "    \\left[\\begin{array}{c}\n",
        "         q^{k+1} \\\\\n",
        "         h^{k+1} \\\\\n",
        "    \\end{array}\\right] =\n",
        "    \\left[\\begin{array}{cc}\n",
        "         NA_{11}(q^{k})& A_{12}  \\\\\n",
        "         A_{12}^T& 0 \\\\\n",
        "    \\end{array}\\right]\n",
        "    \\left[\\begin{array}{c}\n",
        "         q^{k} \\\\\n",
        "         h^{k} \\\\\n",
        "    \\end{array}\\right] - \\left[\\left[\\begin{array}{cc}\n",
        "         A_{11}(q^{k})& A_{12} \\\\\n",
        "         A_{12}^T& 0\\\\\n",
        "    \\end{array}\\right]\n",
        "    \\left[\\begin{array}{c}\n",
        "         q^{k} \\\\\n",
        "         h^{k} \\\\\n",
        "    \\end{array}\\right]+\\left[\\begin{array}{c}\n",
        "         A_{10}h_0 \\\\\n",
        "         -d\\\\\n",
        "    \\end{array}\\right]\\right],\n",
        "\\label{eq:newton_step_1} \\tag{10}\n",
        "\\end{equation}"
      ]
    },
    {
      "cell_type": "markdown",
      "metadata": {
        "id": "jGFYeA8Yun51"
      },
      "source": [
        "which simplifies to,"
      ]
    },
    {
      "cell_type": "markdown",
      "metadata": {
        "id": "MS4A9dtCun51"
      },
      "source": [
        "\\begin{equation}\n",
        "    \\left[\\begin{array}{cc}\n",
        "         NA_{11}(q^k)& A_{12} \\\\\n",
        "         A_{12}^T & 0\\\\\n",
        "    \\end{array}\\right] \\left[\\begin{array}{c}\n",
        "          q^{k+1} \\\\\n",
        "          h^{k+1} \\\\\n",
        "    \\end{array}\\right]=\n",
        "    \\left[\\begin{array}{c}\n",
        "         (N-I)A_{11}(q^k)q^k-A_{10}h_0\\\\\n",
        "         d\\\\\n",
        "    \\end{array}\\right].\n",
        "\\label{eq:newton_step_2} \\tag{11}\n",
        "\\end{equation}"
      ]
    },
    {
      "cell_type": "markdown",
      "metadata": {
        "id": "zqO1YBHGun51"
      },
      "source": [
        "At each iteration $k$, we perform the following convergence check:"
      ]
    },
    {
      "cell_type": "markdown",
      "metadata": {
        "id": "ERj18kZ_un52"
      },
      "source": [
        "\\begin{equation}\n",
        "\\begin{Vmatrix}\n",
        "        A_{11}(q^{k+1})q^{k+1} + A_{12}h^{k+1} + A_{10}h_0 \\\\\n",
        "        A_{12}^Tq^{k+1} - d\n",
        "\\end{Vmatrix}\n",
        "    _{\\infty} < \\epsilon_{\\text{tol}}\n",
        "\\label{eq:convergence_check} \\tag{12}\n",
        "\\end{equation}"
      ]
    },
    {
      "cell_type": "markdown",
      "metadata": {
        "id": "KKERckUHun52"
      },
      "source": [
        "where the solver has converged if the maximum error is less than a specified tolerance $\\epsilon_{\\text{tol}}$. The solution process for using the Newton-Raphson method for solving the system of nonlinear equations is shown in the figure below."
      ]
    },
    {
      "cell_type": "code",
      "execution_count": 10,
      "metadata": {
        "colab": {
          "base_uri": "https://localhost:8080/",
          "height": 776
        },
        "id": "ePRDnmybun52",
        "outputId": "f99da134-1793-4fc5-d71f-037e76896895"
      },
      "outputs": [
        {
          "output_type": "execute_result",
          "data": {
            "image/svg+xml": "<?xml version=\"1.0\" encoding=\"UTF-8\" standalone=\"no\"?>\n<!DOCTYPE svg PUBLIC \"-//W3C//DTD SVG 1.1//EN\"\n \"http://www.w3.org/Graphics/SVG/1.1/DTD/svg11.dtd\">\n<!-- Generated by graphviz version 2.43.0 (0)\n -->\n<!-- Title: %3 Pages: 1 -->\n<svg width=\"426pt\" height=\"566pt\"\n viewBox=\"0.00 0.00 426.01 566.00\" xmlns=\"http://www.w3.org/2000/svg\" xmlns:xlink=\"http://www.w3.org/1999/xlink\">\n<g id=\"graph0\" class=\"graph\" transform=\"scale(1 1) rotate(0) translate(4 562)\">\n<title>%3</title>\n<polygon fill=\"white\" stroke=\"transparent\" points=\"-4,4 -4,-562 422.01,-562 422.01,4 -4,4\"/>\n<!-- start -->\n<g id=\"node1\" class=\"node\">\n<title>start</title>\n<path fill=\"none\" stroke=\"black\" d=\"M155.4,-558C155.4,-558 71.4,-558 71.4,-558 65.4,-558 59.4,-552 59.4,-546 59.4,-546 59.4,-534 59.4,-534 59.4,-528 65.4,-522 71.4,-522 71.4,-522 155.4,-522 155.4,-522 161.4,-522 167.4,-528 167.4,-534 167.4,-534 167.4,-546 167.4,-546 167.4,-552 161.4,-558 155.4,-558\"/>\n<text text-anchor=\"middle\" x=\"113.4\" y=\"-536.3\" font-family=\"Times,serif\" font-size=\"14.00\">Start</text>\n</g>\n<!-- input -->\n<g id=\"node2\" class=\"node\">\n<title>input</title>\n<polygon fill=\"none\" stroke=\"black\" points=\"226.7,-486 46.47,-486 0.1,-450 180.33,-450 226.7,-486\"/>\n<text text-anchor=\"middle\" x=\"113.4\" y=\"-464.3\" font-family=\"Times,serif\" font-size=\"14.00\">Input network data</text>\n</g>\n<!-- start&#45;&gt;input -->\n<g id=\"edge1\" class=\"edge\">\n<title>start&#45;&gt;input</title>\n<path fill=\"none\" stroke=\"black\" d=\"M113.4,-521.7C113.4,-513.98 113.4,-504.71 113.4,-496.11\"/>\n<polygon fill=\"black\" stroke=\"black\" points=\"116.9,-496.1 113.4,-486.1 109.9,-496.1 116.9,-496.1\"/>\n</g>\n<!-- initial -->\n<g id=\"node3\" class=\"node\">\n<title>initial</title>\n<polygon fill=\"none\" stroke=\"black\" points=\"223.98,-414 48.07,-414 2.82,-378 178.73,-378 223.98,-414\"/>\n<text text-anchor=\"middle\" x=\"113.4\" y=\"-392.3\" font-family=\"Times,serif\" font-size=\"14.00\">Initialize q^k, h^k</text>\n</g>\n<!-- input&#45;&gt;initial -->\n<g id=\"edge2\" class=\"edge\">\n<title>input&#45;&gt;initial</title>\n<path fill=\"none\" stroke=\"black\" d=\"M113.4,-449.7C113.4,-441.98 113.4,-432.71 113.4,-424.11\"/>\n<polygon fill=\"black\" stroke=\"black\" points=\"116.9,-424.1 113.4,-414.1 109.9,-424.1 116.9,-424.1\"/>\n</g>\n<!-- compute_h -->\n<g id=\"node6\" class=\"node\">\n<title>compute_h</title>\n<polygon fill=\"none\" stroke=\"black\" points=\"203.4,-342 23.4,-342 23.4,-306 203.4,-306 203.4,-342\"/>\n<text text-anchor=\"middle\" x=\"113.4\" y=\"-320.3\" font-family=\"Times,serif\" font-size=\"14.00\">Compute h^{k+1}</text>\n</g>\n<!-- initial&#45;&gt;compute_h -->\n<g id=\"edge5\" class=\"edge\">\n<title>initial&#45;&gt;compute_h</title>\n<path fill=\"none\" stroke=\"black\" d=\"M113.4,-377.7C113.4,-369.98 113.4,-360.71 113.4,-352.11\"/>\n<polygon fill=\"black\" stroke=\"black\" points=\"116.9,-352.1 113.4,-342.1 109.9,-352.1 116.9,-352.1\"/>\n</g>\n<!-- end -->\n<g id=\"node4\" class=\"node\">\n<title>end</title>\n<path fill=\"none\" stroke=\"black\" d=\"M155.4,-36C155.4,-36 71.4,-36 71.4,-36 65.4,-36 59.4,-30 59.4,-24 59.4,-24 59.4,-12 59.4,-12 59.4,-6 65.4,0 71.4,0 71.4,0 155.4,0 155.4,0 161.4,0 167.4,-6 167.4,-12 167.4,-12 167.4,-24 167.4,-24 167.4,-30 161.4,-36 155.4,-36\"/>\n<text text-anchor=\"middle\" x=\"113.4\" y=\"-14.3\" font-family=\"Times,serif\" font-size=\"14.00\">End</text>\n</g>\n<!-- convergence -->\n<g id=\"node5\" class=\"node\">\n<title>convergence</title>\n<polygon fill=\"none\" stroke=\"black\" points=\"113.4,-198 17.14,-171 113.4,-144 209.66,-171 113.4,-198\"/>\n<text text-anchor=\"middle\" x=\"113.4\" y=\"-167.3\" font-family=\"Times,serif\" font-size=\"14.00\">Convergence check</text>\n</g>\n<!-- dummy_1 -->\n<g id=\"node9\" class=\"node\">\n<title>dummy_1</title>\n<text text-anchor=\"middle\" x=\"330.4\" y=\"-167.3\" font-family=\"Times,serif\" font-size=\"14.00\">No</text>\n</g>\n<!-- convergence&#45;&gt;dummy_1 -->\n<g id=\"edge11\" class=\"edge\">\n<title>convergence&#45;&gt;dummy_1</title>\n<path fill=\"none\" stroke=\"black\" d=\"M209.61,-171C240.75,-171 271.89,-171 303.03,-171\"/>\n</g>\n<!-- dummy_3 -->\n<g id=\"node11\" class=\"node\">\n<title>dummy_3</title>\n<text text-anchor=\"middle\" x=\"113.4\" y=\"-86.3\" font-family=\"Times,serif\" font-size=\"14.00\">Yes</text>\n</g>\n<!-- convergence&#45;&gt;dummy_3 -->\n<g id=\"edge3\" class=\"edge\">\n<title>convergence&#45;&gt;dummy_3</title>\n<path fill=\"none\" stroke=\"black\" d=\"M113.4,-143.69C113.4,-132.02 113.4,-118.62 113.4,-108.25\"/>\n</g>\n<!-- compute_q -->\n<g id=\"node7\" class=\"node\">\n<title>compute_q</title>\n<polygon fill=\"none\" stroke=\"black\" points=\"203.4,-270 23.4,-270 23.4,-234 203.4,-234 203.4,-270\"/>\n<text text-anchor=\"middle\" x=\"113.4\" y=\"-248.3\" font-family=\"Times,serif\" font-size=\"14.00\">Compute q^{k+1}</text>\n</g>\n<!-- compute_h&#45;&gt;compute_q -->\n<g id=\"edge6\" class=\"edge\">\n<title>compute_h:s&#45;&gt;compute_q:n</title>\n<path fill=\"none\" stroke=\"black\" d=\"M113.4,-306C113.4,-294 113.4,-288.75 113.4,-280.12\"/>\n<polygon fill=\"black\" stroke=\"black\" points=\"116.9,-280 113.4,-270 109.9,-280 116.9,-280\"/>\n</g>\n<!-- compute_h&#45;&gt;compute_q -->\n<!-- dummy_2 -->\n<g id=\"node10\" class=\"node\">\n<title>dummy_2</title>\n<text text-anchor=\"middle\" x=\"330.4\" y=\"-320.3\" font-family=\"Times,serif\" font-size=\"14.00\">k = k + 1</text>\n</g>\n<!-- compute_h&#45;&gt;dummy_2 -->\n<g id=\"edge12\" class=\"edge\">\n<title>compute_h&#45;&gt;dummy_2</title>\n<path fill=\"none\" stroke=\"black\" d=\"M213.8,-324C241.28,-324 268.76,-324 296.24,-324\"/>\n<polygon fill=\"black\" stroke=\"black\" points=\"213.68,-320.5 203.68,-324 213.68,-327.5 213.68,-320.5\"/>\n</g>\n<!-- compute_q&#45;&gt;convergence -->\n<g id=\"edge7\" class=\"edge\">\n<title>compute_q:s&#45;&gt;convergence:n</title>\n<path fill=\"none\" stroke=\"black\" d=\"M113.4,-234C113.4,-222 113.4,-216.75 113.4,-208.12\"/>\n<polygon fill=\"black\" stroke=\"black\" points=\"116.9,-208 113.4,-198 109.9,-208 116.9,-208\"/>\n</g>\n<!-- compute_q&#45;&gt;convergence -->\n<!-- update -->\n<g id=\"node8\" class=\"node\">\n<title>update</title>\n<polygon fill=\"none\" stroke=\"black\" points=\"403.4,-270 257.4,-270 257.4,-234 403.4,-234 403.4,-270\"/>\n<text text-anchor=\"middle\" x=\"330.4\" y=\"-248.3\" font-family=\"Times,serif\" font-size=\"14.00\">Update A_11(q^{k+1})</text>\n</g>\n<!-- compute_q&#45;&gt;update -->\n<!-- dummy_1&#45;&gt;update -->\n<g id=\"edge8\" class=\"edge\">\n<title>dummy_1&#45;&gt;update:s</title>\n<path fill=\"none\" stroke=\"black\" d=\"M330.4,-189.11C330.4,-198.83 330.4,-211.5 330.4,-223.81\"/>\n<polygon fill=\"black\" stroke=\"black\" points=\"326.9,-224 330.4,-234 333.9,-224 326.9,-224\"/>\n</g>\n<!-- dummy_1&#45;&gt;dummy_2 -->\n<!-- dummy_2&#45;&gt;update -->\n<g id=\"edge9\" class=\"edge\">\n<title>dummy_2&#45;&gt;update:n</title>\n<path fill=\"none\" stroke=\"black\" d=\"M330.4,-305.81C330.4,-295.44 330.4,-281.96 330.4,-270\"/>\n</g>\n<!-- dummy_3&#45;&gt;end -->\n<g id=\"edge4\" class=\"edge\">\n<title>dummy_3&#45;&gt;end</title>\n<path fill=\"none\" stroke=\"black\" d=\"M113.4,-71.7C113.4,-63.98 113.4,-54.71 113.4,-46.11\"/>\n<polygon fill=\"black\" stroke=\"black\" points=\"116.9,-46.1 113.4,-36.1 109.9,-46.1 116.9,-46.1\"/>\n</g>\n</g>\n</svg>\n",
            "text/plain": [
              "<graphviz.graphs.Digraph at 0x788e17796dd0>"
            ]
          },
          "metadata": {},
          "execution_count": 10
        }
      ],
      "source": [
        "# code for generating solution process chart\n",
        "from graphviz import Digraph\n",
        "\n",
        "dot = Digraph()\n",
        "\n",
        "# Add nodes\n",
        "dot.node(\"start\", label=\"Start\", shape=\"rect\", width=\"1.5\", height=\"0.5\", style=\"rounded\")\n",
        "dot.node(\"input\", label=\"Input network data\", shape=\"parallelogram\")\n",
        "dot.node(\"initial\", label=\"Initialize q^k, h^k\", shape=\"parallelogram\")\n",
        "dot.node(\"end\", label=\"End\", shape=\"rect\", width=\"1.5\", height=\"0.5\", style=\"rounded\")\n",
        "dot.node(\"convergence\", label=\"Convergence check\", shape=\"diamond\", width=\"1.0\", height=\"0.75\")\n",
        "dot.node(\"compute_h\", label=\"Compute h^{k+1}\", shape=\"rect\", width=\"2.5\")\n",
        "dot.node(\"compute_q\", label=\"Compute q^{k+1}\", shape=\"rect\", width=\"2.5\")\n",
        "dot.node(\"update\", label=\"Update A_11(q^{k+1})\", shape=\"rect\")\n",
        "dot.node(\"convergence\", label=\"Convergence check\", shape=\"diamond\", width=\"1.0\", height=\"0.75\")\n",
        "dot.node(\"dummy_1\", label=\"No\", shape=\"plaintext\", width=\"0.75\", height=\"0.5\")\n",
        "dot.node(\"dummy_2\", label=\"k = k + 1\", shape=\"plaintext\", width=\"0.75\", height=\"0.5\")\n",
        "dot.node(\"dummy_3\", label=\"Yes\", shape=\"plaintext\", width=\"0.75\", height=\"0.5\")\n",
        "\n",
        "# Add edges\n",
        "dot.edge(\"start\", \"input\")\n",
        "dot.edge(\"input\", \"initial\")\n",
        "dot.edge(\"convergence\", \"dummy_3\", dir=\"none\")\n",
        "dot.edge(\"dummy_3\", \"end\")\n",
        "dot.edge(\"initial\", \"compute_h\")\n",
        "dot.edge(\"compute_h\", \"compute_q\", headport=\"n\", tailport=\"s\")\n",
        "dot.edge(\"compute_q\", \"convergence\", headport=\"n\", tailport=\"s\")\n",
        "dot.edge(\"dummy_1\", \"update\", headport=\"s\")\n",
        "dot.edge(\"dummy_2\", \"update\", dir=\"none\", headport=\"n\")\n",
        "\n",
        "# Subgraphs\n",
        "with dot.subgraph(name=\"same_level_1\") as s1:\n",
        "    s1.attr(rank=\"same\")\n",
        "    s1.edge(\"compute_q\", \"update\", style=\"invis\", minlen=\"3\")\n",
        "with dot.subgraph(name=\"same_level_2\") as s2:\n",
        "    s2.attr(rank=\"same\")\n",
        "    s2.edge(\"convergence\", \"dummy_1\", dir=\"none\")\n",
        "with dot.subgraph(name=\"same_level_3\") as s3:\n",
        "    s3.attr(rank=\"same\")\n",
        "    s3.edge(\"compute_h\", \"dummy_2\", dir=\"back\", minlen=\"2\")\n",
        "with dot.subgraph(name=\"same_level_4\") as s4:\n",
        "    s4.attr(rankdir=\"TB\")\n",
        "    s4.edge(\"dummy_1\", \"dummy_2\", style=\"invis\")\n",
        "with dot.subgraph(name=\"same_level_5\") as s5:\n",
        "    s5.attr(rank=\"TB\")\n",
        "    s5.edge(\"compute_h\", \"compute_q\", style=\"invis\")\n",
        "    s5.edge(\"compute_q\", \"convergence\", style=\"invis\")\n",
        "\n",
        "# View flowchart\n",
        "dot"
      ]
    },
    {
      "cell_type": "markdown",
      "metadata": {
        "id": "OopHOKyLun53"
      },
      "source": [
        "Below is code for implementing the Newton-Raphson solver described above."
      ]
    },
    {
      "cell_type": "code",
      "execution_count": 11,
      "metadata": {
        "colab": {
          "base_uri": "https://localhost:8080/",
          "height": 104
        },
        "id": "f46UnStaun53",
        "outputId": "d3147626-e541-4a6c-cb44-b2363ca1db41"
      },
      "outputs": [
        {
          "output_type": "stream",
          "name": "stderr",
          "text": [
            "/content/CIVE_70019_70057/src/general_functions.py:31: DeprecationWarning: `set_matplotlib_formats` is deprecated since IPython 7.23, directly use `matplotlib_inline.backend_inline.set_matplotlib_formats()`\n",
            "  set_matplotlib_formats('svg')\n",
            "/content/CIVE_70019_70057/src/hydraulic_functions.py:33: DeprecationWarning: `set_matplotlib_formats` is deprecated since IPython 7.23, directly use `matplotlib_inline.backend_inline.set_matplotlib_formats()`\n",
            "  set_matplotlib_formats('svg')\n"
          ]
        },
        {
          "output_type": "display_data",
          "data": {
            "text/plain": [
              "<Figure size 1920x1440 with 0 Axes>"
            ]
          },
          "metadata": {}
        }
      ],
      "source": [
        "## if run locally\n",
        "# from src import general_functions as gen_fn\n",
        "\n",
        "# if run in Google Colab\n",
        "libdir = \"/content/CIVE_70019_70057/src/\"\n",
        "%run {libdir}general_functions.py\n",
        "%run {libdir}hydraulic_functions.py"
      ]
    },
    {
      "cell_type": "markdown",
      "metadata": {
        "id": "fTf_FR_Hun53"
      },
      "source": [
        "First, we use previously written code (now in a function) to load network data. We have to load these functions as follows."
      ]
    },
    {
      "cell_type": "code",
      "execution_count": 12,
      "metadata": {
        "colab": {
          "base_uri": "https://localhost:8080/"
        },
        "id": "vItBmhrSwjds",
        "outputId": "c439b26f-adc2-4f9f-dfcc-562310d8c728"
      },
      "outputs": [
        {
          "output_type": "stream",
          "name": "stdout",
          "text": [
            "/content/CIVE_70019_70057/src\n"
          ]
        }
      ],
      "source": [
        "%cd '/content/CIVE_70019_70057/src/'\n",
        "import general_functions as gen_fn\n",
        "import hydraulic_functions as hyd_fn"
      ]
    },
    {
      "cell_type": "markdown",
      "metadata": {
        "id": "ZJU59rf4wn-G"
      },
      "source": [
        "Then, we can load network data using the previously defined function 'load_network_data'"
      ]
    },
    {
      "cell_type": "code",
      "execution_count": 13,
      "metadata": {
        "id": "qOoMmSeXun54"
      },
      "outputs": [],
      "source": [
        "# net_name = 'demo.inp'\n",
        "net_name = 'pescara.inp'\n",
        "# net_name = 'BWSnet.inp'\n",
        "# net_name = 'bwfl_2022_05_hw.inp'\n",
        "\n",
        "wdn = gen_fn.load_network_data(os.path.join(net_dir, net_name))"
      ]
    },
    {
      "cell_type": "markdown",
      "metadata": {
        "id": "MDQADbIVun54"
      },
      "source": [
        "The network layout is plotted below."
      ]
    },
    {
      "cell_type": "code",
      "execution_count": 14,
      "metadata": {
        "colab": {
          "base_uri": "https://localhost:8080/",
          "height": 501
        },
        "id": "DlSjQ_foun54",
        "outputId": "4f552b81-b685-438d-caf8-ff0afa589df5"
      },
      "outputs": [
        {
          "output_type": "display_data",
          "data": {
            "text/plain": [
              "<Figure size 1920x1440 with 1 Axes>"
            ],
            "image/svg+xml": "<?xml version=\"1.0\" encoding=\"utf-8\" standalone=\"no\"?>\n<!DOCTYPE svg PUBLIC \"-//W3C//DTD SVG 1.1//EN\"\n  \"http://www.w3.org/Graphics/SVG/1.1/DTD/svg11.dtd\">\n<svg xmlns:xlink=\"http://www.w3.org/1999/xlink\" width=\"475.2pt\" height=\"360pt\" viewBox=\"0 0 475.2 360\" xmlns=\"http://www.w3.org/2000/svg\" version=\"1.1\">\n <metadata>\n  <rdf:RDF xmlns:dc=\"http://purl.org/dc/elements/1.1/\" xmlns:cc=\"http://creativecommons.org/ns#\" xmlns:rdf=\"http://www.w3.org/1999/02/22-rdf-syntax-ns#\">\n   <cc:Work>\n    <dc:type rdf:resource=\"http://purl.org/dc/dcmitype/StillImage\"/>\n    <dc:date>2023-08-21T12:39:14.364077</dc:date>\n    <dc:format>image/svg+xml</dc:format>\n    <dc:creator>\n     <cc:Agent>\n      <dc:title>Matplotlib v3.7.1, https://matplotlib.org/</dc:title>\n     </cc:Agent>\n    </dc:creator>\n   </cc:Work>\n  </rdf:RDF>\n </metadata>\n <defs>\n  <style type=\"text/css\">*{stroke-linejoin: round; stroke-linecap: butt}</style>\n </defs>\n <g id=\"figure_1\">\n  <g id=\"patch_1\">\n   <path d=\"M 0 360 \nL 475.2 360 \nL 475.2 0 \nL 0 0 \nz\n\" style=\"fill: #ffffff\"/>\n  </g>\n  <g id=\"axes_1\">\n   <g id=\"LineCollection_1\">\n    <path d=\"M 47.186777 79.804683 \nL 92.118789 99.457027 \n\" clip-path=\"url(#pb400c396db)\" style=\"fill: none; stroke: #000000\"/>\n    <path d=\"M 47.186777 79.804683 \nL 64.322125 80.936589 \n\" clip-path=\"url(#pb400c396db)\" style=\"fill: none; stroke: #000000\"/>\n    <path d=\"M 92.118789 99.457027 \nL 138.995873 92.696794 \n\" clip-path=\"url(#pb400c396db)\" style=\"fill: none; stroke: #000000\"/>\n    <path d=\"M 92.118789 99.457027 \nL 92.47319 82.751451 \n\" clip-path=\"url(#pb400c396db)\" style=\"fill: none; stroke: #000000\"/>\n    <path d=\"M 64.322125 80.936589 \nL 92.47319 82.751451 \n\" clip-path=\"url(#pb400c396db)\" style=\"fill: none; stroke: #000000\"/>\n    <path d=\"M 64.322125 80.936589 \nL 133.118661 54.437343 \n\" clip-path=\"url(#pb400c396db)\" style=\"fill: none; stroke: #000000\"/>\n    <path d=\"M 92.47319 82.751451 \nL 139.067772 85.210269 \n\" clip-path=\"url(#pb400c396db)\" style=\"fill: none; stroke: #000000\"/>\n    <path d=\"M 133.118661 54.437343 \nL 144.97298 58.960632 \n\" clip-path=\"url(#pb400c396db)\" style=\"fill: none; stroke: #000000\"/>\n    <path d=\"M 133.118661 54.437343 \nL 226.984178 49.833451 \n\" clip-path=\"url(#pb400c396db)\" style=\"fill: none; stroke: #000000\"/>\n    <path d=\"M 350.296838 308.427955 \nL 363.078201 305.849533 \n\" clip-path=\"url(#pb400c396db)\" style=\"fill: none; stroke: #000000\"/>\n    <path d=\"M 350.296838 308.427955 \nL 281.289698 205.784221 \n\" clip-path=\"url(#pb400c396db)\" style=\"fill: none; stroke: #000000\"/>\n    <path d=\"M 350.296838 308.427955 \nL 428.013223 322.809917 \n\" clip-path=\"url(#pb400c396db)\" style=\"fill: none; stroke: #000000\"/>\n    <path d=\"M 363.078201 305.849533 \nL 348.571278 246.855235 \n\" clip-path=\"url(#pb400c396db)\" style=\"fill: none; stroke: #000000\"/>\n    <path d=\"M 363.078201 305.849533 \nL 425.146197 311.207451 \n\" clip-path=\"url(#pb400c396db)\" style=\"fill: none; stroke: #000000\"/>\n    <path d=\"M 281.289698 205.784221 \nL 293.959077 161.019346 \n\" clip-path=\"url(#pb400c396db)\" style=\"fill: none; stroke: #000000\"/>\n    <path d=\"M 281.289698 205.784221 \nL 300.067255 211.125672 \n\" clip-path=\"url(#pb400c396db)\" style=\"fill: none; stroke: #000000\"/>\n    <path d=\"M 261.279052 196.25576 \nL 208.663461 182.860098 \n\" clip-path=\"url(#pb400c396db)\" style=\"fill: none; stroke: #000000\"/>\n    <path d=\"M 208.663461 182.860098 \nL 289.430117 116.173002 \n\" clip-path=\"url(#pb400c396db)\" style=\"fill: none; stroke: #000000\"/>\n    <path d=\"M 208.663461 182.860098 \nL 203.927078 145.765488 \n\" clip-path=\"url(#pb400c396db)\" style=\"fill: none; stroke: #000000\"/>\n    <path d=\"M 423.201124 116.330741 \nL 422.580762 112.609146 \n\" clip-path=\"url(#pb400c396db)\" style=\"fill: none; stroke: #000000\"/>\n    <path d=\"M 422.580762 112.609146 \nL 412.603435 109.190895 \n\" clip-path=\"url(#pb400c396db)\" style=\"fill: none; stroke: #000000\"/>\n    <path d=\"M 367.929749 129.948277 \nL 400.25219 104.998684 \n\" clip-path=\"url(#pb400c396db)\" style=\"fill: none; stroke: #000000\"/>\n    <path d=\"M 367.929749 129.948277 \nL 328.67198 126.211081 \n\" clip-path=\"url(#pb400c396db)\" style=\"fill: none; stroke: #000000\"/>\n    <path d=\"M 400.25219 104.998684 \nL 412.603435 109.190895 \n\" clip-path=\"url(#pb400c396db)\" style=\"fill: none; stroke: #000000\"/>\n    <path d=\"M 400.25219 104.998684 \nL 400.454524 104.857413 \n\" clip-path=\"url(#pb400c396db)\" style=\"fill: none; stroke: #000000\"/>\n    <path d=\"M 328.67198 126.211081 \nL 307.456241 123.502655 \n\" clip-path=\"url(#pb400c396db)\" style=\"fill: none; stroke: #000000\"/>\n    <path d=\"M 328.67198 126.211081 \nL 328.997749 96.602128 \n\" clip-path=\"url(#pb400c396db)\" style=\"fill: none; stroke: #000000\"/>\n    <path d=\"M 307.456241 123.502655 \nL 328.997749 96.602128 \n\" clip-path=\"url(#pb400c396db)\" style=\"fill: none; stroke: #000000\"/>\n    <path d=\"M 307.456241 123.502655 \nL 303.948493 123.117841 \n\" clip-path=\"url(#pb400c396db)\" style=\"fill: none; stroke: #000000\"/>\n    <path d=\"M 328.997749 96.602128 \nL 342.299579 64.339351 \n\" clip-path=\"url(#pb400c396db)\" style=\"fill: none; stroke: #000000\"/>\n    <path d=\"M 328.997749 96.602128 \nL 382.551836 101.060415 \n\" clip-path=\"url(#pb400c396db)\" style=\"fill: none; stroke: #000000\"/>\n    <path d=\"M 342.299579 64.339351 \nL 382.758623 43.847179 \n\" clip-path=\"url(#pb400c396db)\" style=\"fill: none; stroke: #000000\"/>\n    <path d=\"M 342.299579 64.339351 \nL 383.001041 64.409553 \n\" clip-path=\"url(#pb400c396db)\" style=\"fill: none; stroke: #000000\"/>\n    <path d=\"M 382.758623 43.847179 \nL 383.001041 64.409553 \n\" clip-path=\"url(#pb400c396db)\" style=\"fill: none; stroke: #000000\"/>\n    <path d=\"M 382.758623 43.847179 \nL 426.732415 37.190083 \n\" clip-path=\"url(#pb400c396db)\" style=\"fill: none; stroke: #000000\"/>\n    <path d=\"M 383.001041 64.409553 \nL 382.551836 101.060415 \n\" clip-path=\"url(#pb400c396db)\" style=\"fill: none; stroke: #000000\"/>\n    <path d=\"M 412.603435 109.190895 \nL 393.885051 184.636826 \n\" clip-path=\"url(#pb400c396db)\" style=\"fill: none; stroke: #000000\"/>\n    <path d=\"M 393.885051 184.636826 \nL 372.117032 173.494576 \n\" clip-path=\"url(#pb400c396db)\" style=\"fill: none; stroke: #000000\"/>\n    <path d=\"M 393.885051 184.636826 \nL 347.831298 244.152009 \n\" clip-path=\"url(#pb400c396db)\" style=\"fill: none; stroke: #000000\"/>\n    <path d=\"M 400.454524 104.857413 \nL 382.551836 101.060415 \n\" clip-path=\"url(#pb400c396db)\" style=\"fill: none; stroke: #000000\"/>\n    <path d=\"M 400.454524 104.857413 \nL 421.042265 56.490547 \n\" clip-path=\"url(#pb400c396db)\" style=\"fill: none; stroke: #000000\"/>\n    <path d=\"M 337.237427 248.290485 \nL 348.571278 246.855235 \n\" clip-path=\"url(#pb400c396db)\" style=\"fill: none; stroke: #000000\"/>\n    <path d=\"M 337.237427 248.290485 \nL 320.515653 217.099811 \n\" clip-path=\"url(#pb400c396db)\" style=\"fill: none; stroke: #000000\"/>\n    <path d=\"M 348.571278 246.855235 \nL 347.831298 244.152009 \n\" clip-path=\"url(#pb400c396db)\" style=\"fill: none; stroke: #000000\"/>\n    <path d=\"M 320.515653 217.099811 \nL 300.067255 211.125672 \n\" clip-path=\"url(#pb400c396db)\" style=\"fill: none; stroke: #000000\"/>\n    <path d=\"M 320.515653 217.099811 \nL 302.569063 162.612335 \n\" clip-path=\"url(#pb400c396db)\" style=\"fill: none; stroke: #000000\"/>\n    <path d=\"M 289.430117 116.173002 \nL 288.861293 94.99354 \n\" clip-path=\"url(#pb400c396db)\" style=\"fill: none; stroke: #000000\"/>\n    <path d=\"M 289.430117 116.173002 \nL 296.448796 120.826296 \n\" clip-path=\"url(#pb400c396db)\" style=\"fill: none; stroke: #000000\"/>\n    <path d=\"M 288.861293 94.99354 \nL 288.598514 94.928537 \n\" clip-path=\"url(#pb400c396db)\" style=\"fill: none; stroke: #000000\"/>\n    <path d=\"M 288.861293 94.99354 \nL 293.072755 95.155612 \n\" clip-path=\"url(#pb400c396db)\" style=\"fill: none; stroke: #000000\"/>\n    <path d=\"M 300.067255 211.125672 \nL 298.54021 161.918977 \n\" clip-path=\"url(#pb400c396db)\" style=\"fill: none; stroke: #000000\"/>\n    <path d=\"M 302.569063 162.612335 \nL 298.54021 161.918977 \n\" clip-path=\"url(#pb400c396db)\" style=\"fill: none; stroke: #000000\"/>\n    <path d=\"M 302.569063 162.612335 \nL 306.044361 136.101822 \n\" clip-path=\"url(#pb400c396db)\" style=\"fill: none; stroke: #000000\"/>\n    <path d=\"M 347.831298 244.152009 \nL 319.175672 162.200654 \n\" clip-path=\"url(#pb400c396db)\" style=\"fill: none; stroke: #000000\"/>\n    <path d=\"M 296.448796 120.826296 \nL 303.948493 123.117841 \n\" clip-path=\"url(#pb400c396db)\" style=\"fill: none; stroke: #000000\"/>\n    <path d=\"M 293.959077 161.019346 \nL 306.044361 136.101822 \n\" clip-path=\"url(#pb400c396db)\" style=\"fill: none; stroke: #000000\"/>\n    <path d=\"M 293.959077 161.019346 \nL 298.54021 161.918977 \n\" clip-path=\"url(#pb400c396db)\" style=\"fill: none; stroke: #000000\"/>\n    <path d=\"M 306.044361 136.101822 \nL 372.117032 173.494576 \n\" clip-path=\"url(#pb400c396db)\" style=\"fill: none; stroke: #000000\"/>\n    <path d=\"M 203.927078 145.765488 \nL 184.354185 152.737195 \n\" clip-path=\"url(#pb400c396db)\" style=\"fill: none; stroke: #000000\"/>\n    <path d=\"M 203.927078 145.765488 \nL 201.934921 126.129612 \n\" clip-path=\"url(#pb400c396db)\" style=\"fill: none; stroke: #000000\"/>\n    <path d=\"M 184.354185 152.737195 \nL 183.717917 152.737195 \n\" clip-path=\"url(#pb400c396db)\" style=\"fill: none; stroke: #000000\"/>\n    <path d=\"M 201.934921 126.129612 \nL 207.16823 97.143814 \n\" clip-path=\"url(#pb400c396db)\" style=\"fill: none; stroke: #000000\"/>\n    <path d=\"M 201.934921 126.129612 \nL 230.085987 92.019904 \n\" clip-path=\"url(#pb400c396db)\" style=\"fill: none; stroke: #000000\"/>\n    <path d=\"M 309.436309 67.995943 \nL 293.072755 95.155612 \n\" clip-path=\"url(#pb400c396db)\" style=\"fill: none; stroke: #000000\"/>\n    <path d=\"M 309.436309 67.995943 \nL 288.237114 63.613926 \n\" clip-path=\"url(#pb400c396db)\" style=\"fill: none; stroke: #000000\"/>\n    <path d=\"M 309.436309 67.995943 \nL 226.984178 49.833451 \n\" clip-path=\"url(#pb400c396db)\" style=\"fill: none; stroke: #000000\"/>\n    <path d=\"M 293.072755 95.155612 \nL 288.523435 81.521609 \n\" clip-path=\"url(#pb400c396db)\" style=\"fill: none; stroke: #000000\"/>\n    <path d=\"M 233.052271 89.950233 \nL 247.611367 92.051972 \n\" clip-path=\"url(#pb400c396db)\" style=\"fill: none; stroke: #000000\"/>\n    <path d=\"M 233.052271 89.950233 \nL 230.085987 92.019904 \n\" clip-path=\"url(#pb400c396db)\" style=\"fill: none; stroke: #000000\"/>\n    <path d=\"M 247.611367 92.051972 \nL 288.598514 94.928537 \n\" clip-path=\"url(#pb400c396db)\" style=\"fill: none; stroke: #000000\"/>\n    <path d=\"M 247.611367 92.051972 \nL 247.694719 78.536706 \n\" clip-path=\"url(#pb400c396db)\" style=\"fill: none; stroke: #000000\"/>\n    <path d=\"M 288.598514 94.928537 \nL 288.523435 81.521609 \n\" clip-path=\"url(#pb400c396db)\" style=\"fill: none; stroke: #000000\"/>\n    <path d=\"M 288.523435 81.521609 \nL 247.694719 78.536706 \n\" clip-path=\"url(#pb400c396db)\" style=\"fill: none; stroke: #000000\"/>\n    <path d=\"M 288.523435 81.521609 \nL 288.237114 63.613926 \n\" clip-path=\"url(#pb400c396db)\" style=\"fill: none; stroke: #000000\"/>\n    <path d=\"M 247.694719 78.536706 \nL 248.060573 64.962506 \n\" clip-path=\"url(#pb400c396db)\" style=\"fill: none; stroke: #000000\"/>\n    <path d=\"M 247.694719 78.536706 \nL 226.984178 77.242728 \n\" clip-path=\"url(#pb400c396db)\" style=\"fill: none; stroke: #000000\"/>\n    <path d=\"M 288.237114 63.613926 \nL 248.060573 64.962506 \n\" clip-path=\"url(#pb400c396db)\" style=\"fill: none; stroke: #000000\"/>\n    <path d=\"M 248.060573 64.962506 \nL 226.984178 64.171212 \n\" clip-path=\"url(#pb400c396db)\" style=\"fill: none; stroke: #000000\"/>\n    <path d=\"M 215.622966 76.538104 \nL 215.563157 63.737863 \n\" clip-path=\"url(#pb400c396db)\" style=\"fill: none; stroke: #000000\"/>\n    <path d=\"M 215.622966 76.538104 \nL 226.984178 87.068467 \n\" clip-path=\"url(#pb400c396db)\" style=\"fill: none; stroke: #000000\"/>\n    <path d=\"M 215.563157 63.737863 \nL 144.97298 58.960632 \n\" clip-path=\"url(#pb400c396db)\" style=\"fill: none; stroke: #000000\"/>\n    <path d=\"M 215.563157 63.737863 \nL 226.984178 64.171212 \n\" clip-path=\"url(#pb400c396db)\" style=\"fill: none; stroke: #000000\"/>\n    <path d=\"M 215.563157 63.737863 \nL 226.984178 77.242728 \n\" clip-path=\"url(#pb400c396db)\" style=\"fill: none; stroke: #000000\"/>\n    <path d=\"M 215.563157 63.737863 \nL 226.984178 49.833451 \n\" clip-path=\"url(#pb400c396db)\" style=\"fill: none; stroke: #000000\"/>\n    <path d=\"M 230.085987 92.019904 \nL 207.16823 97.143814 \n\" clip-path=\"url(#pb400c396db)\" style=\"fill: none; stroke: #000000\"/>\n    <path d=\"M 207.16823 97.143814 \nL 149.979777 93.8287 \n\" clip-path=\"url(#pb400c396db)\" style=\"fill: none; stroke: #000000\"/>\n    <path d=\"M 149.979777 93.8287 \nL 144.654846 75.140989 \n\" clip-path=\"url(#pb400c396db)\" style=\"fill: none; stroke: #000000\"/>\n    <path d=\"M 149.979777 93.8287 \nL 138.995873 92.696794 \n\" clip-path=\"url(#pb400c396db)\" style=\"fill: none; stroke: #000000\"/>\n    <path d=\"M 139.067772 85.210269 \nL 144.654846 75.140989 \n\" clip-path=\"url(#pb400c396db)\" style=\"fill: none; stroke: #000000\"/>\n    <path d=\"M 139.067772 85.210269 \nL 138.995873 92.696794 \n\" clip-path=\"url(#pb400c396db)\" style=\"fill: none; stroke: #000000\"/>\n    <path d=\"M 144.654846 75.140989 \nL 144.97298 58.960632 \n\" clip-path=\"url(#pb400c396db)\" style=\"fill: none; stroke: #000000\"/>\n    <path d=\"M 428.013223 322.809917 \nL 425.146197 311.207451 \n\" clip-path=\"url(#pb400c396db)\" style=\"fill: none; stroke: #000000\"/>\n    <path d=\"M 420.747673 56.327608 \nL 421.042265 56.490547 \n\" clip-path=\"url(#pb400c396db)\" style=\"fill: none; stroke: #000000\"/>\n    <path d=\"M 420.747673 56.327608 \nL 426.732415 37.190083 \n\" clip-path=\"url(#pb400c396db)\" style=\"fill: none; stroke: #000000\"/>\n    <path d=\"M 421.042265 56.490547 \nL 426.732415 37.190083 \n\" clip-path=\"url(#pb400c396db)\" style=\"fill: none; stroke: #000000\"/>\n    <path d=\"M 226.984178 87.068467 \nL 226.984178 77.242728 \n\" clip-path=\"url(#pb400c396db)\" style=\"fill: none; stroke: #000000\"/>\n    <path d=\"M 226.984178 64.171212 \nL 226.984178 77.242728 \n\" clip-path=\"url(#pb400c396db)\" style=\"fill: none; stroke: #000000\"/>\n   </g>\n   <g id=\"PathCollection_1\">\n    <defs>\n     <path id=\"med5b40eace\" d=\"M 0 2.738613 \nC 0.726289 2.738613 1.422928 2.450055 1.936492 1.936492 \nC 2.450055 1.422928 2.738613 0.726289 2.738613 0 \nC 2.738613 -0.726289 2.450055 -1.422928 1.936492 -1.936492 \nC 1.422928 -2.450055 0.726289 -2.738613 0 -2.738613 \nC -0.726289 -2.738613 -1.422928 -2.450055 -1.936492 -1.936492 \nC -2.450055 -1.422928 -2.738613 -0.726289 -2.738613 0 \nC -2.738613 0.726289 -2.450055 1.422928 -1.936492 1.936492 \nC -1.422928 2.450055 -0.726289 2.738613 0 2.738613 \nz\n\" style=\"stroke: #000000\"/>\n    </defs>\n    <g clip-path=\"url(#pb400c396db)\">\n     <use xlink:href=\"#med5b40eace\" x=\"47.186777\" y=\"79.804683\" style=\"stroke: #000000\"/>\n     <use xlink:href=\"#med5b40eace\" x=\"92.118789\" y=\"99.457027\" style=\"stroke: #000000\"/>\n     <use xlink:href=\"#med5b40eace\" x=\"64.322125\" y=\"80.936589\" style=\"stroke: #000000\"/>\n     <use xlink:href=\"#med5b40eace\" x=\"92.47319\" y=\"82.751451\" style=\"stroke: #000000\"/>\n     <use xlink:href=\"#med5b40eace\" x=\"133.118661\" y=\"54.437343\" style=\"stroke: #000000\"/>\n     <use xlink:href=\"#med5b40eace\" x=\"350.296838\" y=\"308.427955\" style=\"stroke: #000000\"/>\n     <use xlink:href=\"#med5b40eace\" x=\"363.078201\" y=\"305.849533\" style=\"stroke: #000000\"/>\n     <use xlink:href=\"#med5b40eace\" x=\"281.289698\" y=\"205.784221\" style=\"stroke: #000000\"/>\n     <use xlink:href=\"#med5b40eace\" x=\"261.279052\" y=\"196.25576\" style=\"stroke: #000000\"/>\n     <use xlink:href=\"#med5b40eace\" x=\"208.663461\" y=\"182.860098\" style=\"stroke: #000000\"/>\n     <use xlink:href=\"#med5b40eace\" x=\"423.201124\" y=\"116.330741\" style=\"stroke: #000000\"/>\n     <use xlink:href=\"#med5b40eace\" x=\"422.580762\" y=\"112.609146\" style=\"stroke: #000000\"/>\n     <use xlink:href=\"#med5b40eace\" x=\"367.929749\" y=\"129.948277\" style=\"stroke: #000000\"/>\n     <use xlink:href=\"#med5b40eace\" x=\"400.25219\" y=\"104.998684\" style=\"stroke: #000000\"/>\n     <use xlink:href=\"#med5b40eace\" x=\"328.67198\" y=\"126.211081\" style=\"stroke: #000000\"/>\n     <use xlink:href=\"#med5b40eace\" x=\"307.456241\" y=\"123.502655\" style=\"stroke: #000000\"/>\n     <use xlink:href=\"#med5b40eace\" x=\"328.997749\" y=\"96.602128\" style=\"stroke: #000000\"/>\n     <use xlink:href=\"#med5b40eace\" x=\"342.299579\" y=\"64.339351\" style=\"stroke: #000000\"/>\n     <use xlink:href=\"#med5b40eace\" x=\"382.758623\" y=\"43.847179\" style=\"stroke: #000000\"/>\n     <use xlink:href=\"#med5b40eace\" x=\"383.001041\" y=\"64.409553\" style=\"stroke: #000000\"/>\n     <use xlink:href=\"#med5b40eace\" x=\"412.603435\" y=\"109.190895\" style=\"stroke: #000000\"/>\n     <use xlink:href=\"#med5b40eace\" x=\"393.885051\" y=\"184.636826\" style=\"stroke: #000000\"/>\n     <use xlink:href=\"#med5b40eace\" x=\"400.454524\" y=\"104.857413\" style=\"stroke: #000000\"/>\n     <use xlink:href=\"#med5b40eace\" x=\"382.551836\" y=\"101.060415\" style=\"stroke: #000000\"/>\n     <use xlink:href=\"#med5b40eace\" x=\"337.237427\" y=\"248.290485\" style=\"stroke: #000000\"/>\n     <use xlink:href=\"#med5b40eace\" x=\"348.571278\" y=\"246.855235\" style=\"stroke: #000000\"/>\n     <use xlink:href=\"#med5b40eace\" x=\"320.515653\" y=\"217.099811\" style=\"stroke: #000000\"/>\n     <use xlink:href=\"#med5b40eace\" x=\"289.430117\" y=\"116.173002\" style=\"stroke: #000000\"/>\n     <use xlink:href=\"#med5b40eace\" x=\"288.861293\" y=\"94.99354\" style=\"stroke: #000000\"/>\n     <use xlink:href=\"#med5b40eace\" x=\"300.067255\" y=\"211.125672\" style=\"stroke: #000000\"/>\n     <use xlink:href=\"#med5b40eace\" x=\"302.569063\" y=\"162.612335\" style=\"stroke: #000000\"/>\n     <use xlink:href=\"#med5b40eace\" x=\"347.831298\" y=\"244.152009\" style=\"stroke: #000000\"/>\n     <use xlink:href=\"#med5b40eace\" x=\"319.175672\" y=\"162.200654\" style=\"stroke: #000000\"/>\n     <use xlink:href=\"#med5b40eace\" x=\"296.448796\" y=\"120.826296\" style=\"stroke: #000000\"/>\n     <use xlink:href=\"#med5b40eace\" x=\"303.948493\" y=\"123.117841\" style=\"stroke: #000000\"/>\n     <use xlink:href=\"#med5b40eace\" x=\"293.959077\" y=\"161.019346\" style=\"stroke: #000000\"/>\n     <use xlink:href=\"#med5b40eace\" x=\"306.044361\" y=\"136.101822\" style=\"stroke: #000000\"/>\n     <use xlink:href=\"#med5b40eace\" x=\"298.54021\" y=\"161.918977\" style=\"stroke: #000000\"/>\n     <use xlink:href=\"#med5b40eace\" x=\"372.117032\" y=\"173.494576\" style=\"stroke: #000000\"/>\n     <use xlink:href=\"#med5b40eace\" x=\"203.927078\" y=\"145.765488\" style=\"stroke: #000000\"/>\n     <use xlink:href=\"#med5b40eace\" x=\"184.354185\" y=\"152.737195\" style=\"stroke: #000000\"/>\n     <use xlink:href=\"#med5b40eace\" x=\"201.934921\" y=\"126.129612\" style=\"stroke: #000000\"/>\n     <use xlink:href=\"#med5b40eace\" x=\"309.436309\" y=\"67.995943\" style=\"stroke: #000000\"/>\n     <use xlink:href=\"#med5b40eace\" x=\"293.072755\" y=\"95.155612\" style=\"stroke: #000000\"/>\n     <use xlink:href=\"#med5b40eace\" x=\"233.052271\" y=\"89.950233\" style=\"stroke: #000000\"/>\n     <use xlink:href=\"#med5b40eace\" x=\"247.611367\" y=\"92.051972\" style=\"stroke: #000000\"/>\n     <use xlink:href=\"#med5b40eace\" x=\"288.598514\" y=\"94.928537\" style=\"stroke: #000000\"/>\n     <use xlink:href=\"#med5b40eace\" x=\"288.523435\" y=\"81.521609\" style=\"stroke: #000000\"/>\n     <use xlink:href=\"#med5b40eace\" x=\"247.694719\" y=\"78.536706\" style=\"stroke: #000000\"/>\n     <use xlink:href=\"#med5b40eace\" x=\"288.237114\" y=\"63.613926\" style=\"stroke: #000000\"/>\n     <use xlink:href=\"#med5b40eace\" x=\"248.060573\" y=\"64.962506\" style=\"stroke: #000000\"/>\n     <use xlink:href=\"#med5b40eace\" x=\"215.622966\" y=\"76.538104\" style=\"stroke: #000000\"/>\n     <use xlink:href=\"#med5b40eace\" x=\"215.563157\" y=\"63.737863\" style=\"stroke: #000000\"/>\n     <use xlink:href=\"#med5b40eace\" x=\"230.085987\" y=\"92.019904\" style=\"stroke: #000000\"/>\n     <use xlink:href=\"#med5b40eace\" x=\"207.16823\" y=\"97.143814\" style=\"stroke: #000000\"/>\n     <use xlink:href=\"#med5b40eace\" x=\"149.979777\" y=\"93.8287\" style=\"stroke: #000000\"/>\n     <use xlink:href=\"#med5b40eace\" x=\"139.067772\" y=\"85.210269\" style=\"stroke: #000000\"/>\n     <use xlink:href=\"#med5b40eace\" x=\"144.654846\" y=\"75.140989\" style=\"stroke: #000000\"/>\n     <use xlink:href=\"#med5b40eace\" x=\"144.97298\" y=\"58.960632\" style=\"stroke: #000000\"/>\n     <use xlink:href=\"#med5b40eace\" x=\"138.995873\" y=\"92.696794\" style=\"stroke: #000000\"/>\n     <use xlink:href=\"#med5b40eace\" x=\"428.013223\" y=\"322.809917\" style=\"stroke: #000000\"/>\n     <use xlink:href=\"#med5b40eace\" x=\"425.146197\" y=\"311.207451\" style=\"stroke: #000000\"/>\n     <use xlink:href=\"#med5b40eace\" x=\"226.984178\" y=\"49.833451\" style=\"stroke: #000000\"/>\n     <use xlink:href=\"#med5b40eace\" x=\"420.747673\" y=\"56.327608\" style=\"stroke: #000000\"/>\n     <use xlink:href=\"#med5b40eace\" x=\"421.042265\" y=\"56.490547\" style=\"stroke: #000000\"/>\n     <use xlink:href=\"#med5b40eace\" x=\"426.732415\" y=\"37.190083\" style=\"stroke: #000000\"/>\n     <use xlink:href=\"#med5b40eace\" x=\"226.984178\" y=\"87.068467\" style=\"stroke: #000000\"/>\n     <use xlink:href=\"#med5b40eace\" x=\"183.717917\" y=\"152.737195\" style=\"stroke: #000000\"/>\n     <use xlink:href=\"#med5b40eace\" x=\"226.984178\" y=\"64.171212\" style=\"stroke: #000000\"/>\n     <use xlink:href=\"#med5b40eace\" x=\"226.984178\" y=\"77.242728\" style=\"stroke: #000000\"/>\n    </g>\n   </g>\n   <g id=\"PathCollection_2\">\n    <defs>\n     <path id=\"m8b88d0babc\" d=\"M -4.330127 4.330127 \nL 4.330127 4.330127 \nL 4.330127 -4.330127 \nL -4.330127 -4.330127 \nz\n\" style=\"stroke: #000000\"/>\n    </defs>\n    <g clip-path=\"url(#pb400c396db)\">\n     <use xlink:href=\"#m8b88d0babc\" x=\"423.201124\" y=\"116.330741\" style=\"stroke: #000000\"/>\n     <use xlink:href=\"#m8b88d0babc\" x=\"184.354185\" y=\"152.737195\" style=\"stroke: #000000\"/>\n     <use xlink:href=\"#m8b88d0babc\" x=\"428.013223\" y=\"322.809917\" style=\"stroke: #000000\"/>\n    </g>\n   </g>\n   <g id=\"text_1\">\n    <g clip-path=\"url(#pb400c396db)\">\n     <!-- Reservoir -->\n     <g transform=\"translate(394.970187 106.901544) scale(0.12 -0.12)\">\n      <defs>\n       <path id=\"DejaVuSans-52\" d=\"M 2841 2188 \nQ 3044 2119 3236 1894 \nQ 3428 1669 3622 1275 \nL 4263 0 \nL 3584 0 \nL 2988 1197 \nQ 2756 1666 2539 1819 \nQ 2322 1972 1947 1972 \nL 1259 1972 \nL 1259 0 \nL 628 0 \nL 628 4666 \nL 2053 4666 \nQ 2853 4666 3247 4331 \nQ 3641 3997 3641 3322 \nQ 3641 2881 3436 2590 \nQ 3231 2300 2841 2188 \nz\nM 1259 4147 \nL 1259 2491 \nL 2053 2491 \nQ 2509 2491 2742 2702 \nQ 2975 2913 2975 3322 \nQ 2975 3731 2742 3939 \nQ 2509 4147 2053 4147 \nL 1259 4147 \nz\n\" transform=\"scale(0.015625)\"/>\n       <path id=\"DejaVuSans-65\" d=\"M 3597 1894 \nL 3597 1613 \nL 953 1613 \nQ 991 1019 1311 708 \nQ 1631 397 2203 397 \nQ 2534 397 2845 478 \nQ 3156 559 3463 722 \nL 3463 178 \nQ 3153 47 2828 -22 \nQ 2503 -91 2169 -91 \nQ 1331 -91 842 396 \nQ 353 884 353 1716 \nQ 353 2575 817 3079 \nQ 1281 3584 2069 3584 \nQ 2775 3584 3186 3129 \nQ 3597 2675 3597 1894 \nz\nM 3022 2063 \nQ 3016 2534 2758 2815 \nQ 2500 3097 2075 3097 \nQ 1594 3097 1305 2825 \nQ 1016 2553 972 2059 \nL 3022 2063 \nz\n\" transform=\"scale(0.015625)\"/>\n       <path id=\"DejaVuSans-73\" d=\"M 2834 3397 \nL 2834 2853 \nQ 2591 2978 2328 3040 \nQ 2066 3103 1784 3103 \nQ 1356 3103 1142 2972 \nQ 928 2841 928 2578 \nQ 928 2378 1081 2264 \nQ 1234 2150 1697 2047 \nL 1894 2003 \nQ 2506 1872 2764 1633 \nQ 3022 1394 3022 966 \nQ 3022 478 2636 193 \nQ 2250 -91 1575 -91 \nQ 1294 -91 989 -36 \nQ 684 19 347 128 \nL 347 722 \nQ 666 556 975 473 \nQ 1284 391 1588 391 \nQ 1994 391 2212 530 \nQ 2431 669 2431 922 \nQ 2431 1156 2273 1281 \nQ 2116 1406 1581 1522 \nL 1381 1569 \nQ 847 1681 609 1914 \nQ 372 2147 372 2553 \nQ 372 3047 722 3315 \nQ 1072 3584 1716 3584 \nQ 2034 3584 2315 3537 \nQ 2597 3491 2834 3397 \nz\n\" transform=\"scale(0.015625)\"/>\n       <path id=\"DejaVuSans-72\" d=\"M 2631 2963 \nQ 2534 3019 2420 3045 \nQ 2306 3072 2169 3072 \nQ 1681 3072 1420 2755 \nQ 1159 2438 1159 1844 \nL 1159 0 \nL 581 0 \nL 581 3500 \nL 1159 3500 \nL 1159 2956 \nQ 1341 3275 1631 3429 \nQ 1922 3584 2338 3584 \nQ 2397 3584 2469 3576 \nQ 2541 3569 2628 3553 \nL 2631 2963 \nz\n\" transform=\"scale(0.015625)\"/>\n       <path id=\"DejaVuSans-76\" d=\"M 191 3500 \nL 800 3500 \nL 1894 563 \nL 2988 3500 \nL 3597 3500 \nL 2284 0 \nL 1503 0 \nL 191 3500 \nz\n\" transform=\"scale(0.015625)\"/>\n       <path id=\"DejaVuSans-6f\" d=\"M 1959 3097 \nQ 1497 3097 1228 2736 \nQ 959 2375 959 1747 \nQ 959 1119 1226 758 \nQ 1494 397 1959 397 \nQ 2419 397 2687 759 \nQ 2956 1122 2956 1747 \nQ 2956 2369 2687 2733 \nQ 2419 3097 1959 3097 \nz\nM 1959 3584 \nQ 2709 3584 3137 3096 \nQ 3566 2609 3566 1747 \nQ 3566 888 3137 398 \nQ 2709 -91 1959 -91 \nQ 1206 -91 779 398 \nQ 353 888 353 1747 \nQ 353 2609 779 3096 \nQ 1206 3584 1959 3584 \nz\n\" transform=\"scale(0.015625)\"/>\n       <path id=\"DejaVuSans-69\" d=\"M 603 3500 \nL 1178 3500 \nL 1178 0 \nL 603 0 \nL 603 3500 \nz\nM 603 4863 \nL 1178 4863 \nL 1178 4134 \nL 603 4134 \nL 603 4863 \nz\n\" transform=\"scale(0.015625)\"/>\n      </defs>\n      <use xlink:href=\"#DejaVuSans-52\"/>\n      <use xlink:href=\"#DejaVuSans-65\" x=\"64.982422\"/>\n      <use xlink:href=\"#DejaVuSans-73\" x=\"126.505859\"/>\n      <use xlink:href=\"#DejaVuSans-65\" x=\"178.605469\"/>\n      <use xlink:href=\"#DejaVuSans-72\" x=\"240.128906\"/>\n      <use xlink:href=\"#DejaVuSans-76\" x=\"281.242188\"/>\n      <use xlink:href=\"#DejaVuSans-6f\" x=\"340.421875\"/>\n      <use xlink:href=\"#DejaVuSans-69\" x=\"401.603516\"/>\n      <use xlink:href=\"#DejaVuSans-72\" x=\"429.386719\"/>\n     </g>\n    </g>\n   </g>\n   <g id=\"text_2\">\n    <g clip-path=\"url(#pb400c396db)\">\n     <!-- Reservoir -->\n     <g transform=\"translate(156.123248 143.307998) scale(0.12 -0.12)\">\n      <use xlink:href=\"#DejaVuSans-52\"/>\n      <use xlink:href=\"#DejaVuSans-65\" x=\"64.982422\"/>\n      <use xlink:href=\"#DejaVuSans-73\" x=\"126.505859\"/>\n      <use xlink:href=\"#DejaVuSans-65\" x=\"178.605469\"/>\n      <use xlink:href=\"#DejaVuSans-72\" x=\"240.128906\"/>\n      <use xlink:href=\"#DejaVuSans-76\" x=\"281.242188\"/>\n      <use xlink:href=\"#DejaVuSans-6f\" x=\"340.421875\"/>\n      <use xlink:href=\"#DejaVuSans-69\" x=\"401.603516\"/>\n      <use xlink:href=\"#DejaVuSans-72\" x=\"429.386719\"/>\n     </g>\n    </g>\n   </g>\n   <g id=\"text_3\">\n    <g clip-path=\"url(#pb400c396db)\">\n     <!-- Reservoir -->\n     <g transform=\"translate(399.782286 313.38072) scale(0.12 -0.12)\">\n      <use xlink:href=\"#DejaVuSans-52\"/>\n      <use xlink:href=\"#DejaVuSans-65\" x=\"64.982422\"/>\n      <use xlink:href=\"#DejaVuSans-73\" x=\"126.505859\"/>\n      <use xlink:href=\"#DejaVuSans-65\" x=\"178.605469\"/>\n      <use xlink:href=\"#DejaVuSans-72\" x=\"240.128906\"/>\n      <use xlink:href=\"#DejaVuSans-76\" x=\"281.242188\"/>\n      <use xlink:href=\"#DejaVuSans-6f\" x=\"340.421875\"/>\n      <use xlink:href=\"#DejaVuSans-69\" x=\"401.603516\"/>\n      <use xlink:href=\"#DejaVuSans-72\" x=\"429.386719\"/>\n     </g>\n    </g>\n   </g>\n  </g>\n </g>\n <defs>\n  <clipPath id=\"pb400c396db\">\n   <rect x=\"7.2\" y=\"7.2\" width=\"460.8\" height=\"345.6\"/>\n  </clipPath>\n </defs>\n</svg>\n"
          },
          "metadata": {}
        }
      ],
      "source": [
        "gen_fn.plot_network(wdn)"
      ]
    },
    {
      "cell_type": "markdown",
      "metadata": {
        "id": "c4luypasun55"
      },
      "source": [
        "Code for the Newton-Raphson solver is below."
      ]
    },
    {
      "cell_type": "code",
      "execution_count": 15,
      "metadata": {
        "colab": {
          "base_uri": "https://localhost:8080/"
        },
        "id": "5fwtmwQBun55",
        "outputId": "3abbfc0c-84f5-4ec4-96a2-e30cfc3cd20b"
      },
      "outputs": [
        {
          "output_type": "stream",
          "name": "stdout",
          "text": [
            "Time step t=1, Iteration k=0. Maximum energy conservation error is 272.50556746170014 m.\n",
            "Time step t=1, Iteration k=1. Maximum energy conservation error is 44.38750593780825 m.\n",
            "Time step t=1, Iteration k=2. Maximum energy conservation error is 10.392667774545082 m.\n",
            "Time step t=1, Iteration k=3. Maximum energy conservation error is 2.554115916567548 m.\n",
            "Time step t=1, Iteration k=4. Maximum energy conservation error is 0.652625617988466 m.\n",
            "Time step t=1, Iteration k=5. Maximum energy conservation error is 0.23182853653983648 m.\n",
            "Time step t=1, Iteration k=6. Maximum energy conservation error is 0.10743247995032726 m.\n",
            "Time step t=1, Iteration k=7. Maximum energy conservation error is 0.02199691062762371 m.\n",
            "Time step t=1, Iteration k=8. Maximum energy conservation error is 0.0005401792146697837 m.\n",
            "Time step t=1, Iteration k=9. Maximum energy conservation error is 4.031730649750598e-07 m.\n",
            "Time step t=2, Iteration k=0. Maximum energy conservation error is 272.50556746170014 m.\n",
            "Time step t=2, Iteration k=1. Maximum energy conservation error is 44.38750593780825 m.\n",
            "Time step t=2, Iteration k=2. Maximum energy conservation error is 10.392667774545082 m.\n",
            "Time step t=2, Iteration k=3. Maximum energy conservation error is 2.554115916567548 m.\n",
            "Time step t=2, Iteration k=4. Maximum energy conservation error is 0.652625617988466 m.\n",
            "Time step t=2, Iteration k=5. Maximum energy conservation error is 0.23182853653983648 m.\n",
            "Time step t=2, Iteration k=6. Maximum energy conservation error is 0.10743247995032726 m.\n",
            "Time step t=2, Iteration k=7. Maximum energy conservation error is 0.02199691062762371 m.\n",
            "Time step t=2, Iteration k=8. Maximum energy conservation error is 0.0005401792146697837 m.\n",
            "Time step t=2, Iteration k=9. Maximum energy conservation error is 4.031730649750598e-07 m.\n",
            "Time step t=3, Iteration k=0. Maximum energy conservation error is 269.3275807741605 m.\n",
            "Time step t=3, Iteration k=1. Maximum energy conservation error is 44.20413530154323 m.\n",
            "Time step t=3, Iteration k=2. Maximum energy conservation error is 10.312902110303186 m.\n",
            "Time step t=3, Iteration k=3. Maximum energy conservation error is 2.483201516061596 m.\n",
            "Time step t=3, Iteration k=4. Maximum energy conservation error is 0.6668914438717898 m.\n",
            "Time step t=3, Iteration k=5. Maximum energy conservation error is 0.22206236113931554 m.\n",
            "Time step t=3, Iteration k=6. Maximum energy conservation error is 0.3844884987557677 m.\n",
            "Time step t=3, Iteration k=7. Maximum energy conservation error is 0.043072041917413734 m.\n",
            "Time step t=3, Iteration k=8. Maximum energy conservation error is 0.0017361126261590393 m.\n",
            "Time step t=3, Iteration k=9. Maximum energy conservation error is 1.1266467594257812e-05 m.\n",
            "Time step t=3, Iteration k=10. Maximum energy conservation error is 4.808670475697774e-10 m.\n",
            "Time step t=4, Iteration k=0. Maximum energy conservation error is 269.3275807741605 m.\n",
            "Time step t=4, Iteration k=1. Maximum energy conservation error is 44.20413530154323 m.\n",
            "Time step t=4, Iteration k=2. Maximum energy conservation error is 10.312902110303186 m.\n",
            "Time step t=4, Iteration k=3. Maximum energy conservation error is 2.483201516061596 m.\n",
            "Time step t=4, Iteration k=4. Maximum energy conservation error is 0.6668914438717898 m.\n",
            "Time step t=4, Iteration k=5. Maximum energy conservation error is 0.22206236113931554 m.\n",
            "Time step t=4, Iteration k=6. Maximum energy conservation error is 0.3844884987557677 m.\n",
            "Time step t=4, Iteration k=7. Maximum energy conservation error is 0.043072041917413734 m.\n",
            "Time step t=4, Iteration k=8. Maximum energy conservation error is 0.0017361126261590393 m.\n",
            "Time step t=4, Iteration k=9. Maximum energy conservation error is 1.1266467594257812e-05 m.\n",
            "Time step t=4, Iteration k=10. Maximum energy conservation error is 4.808670475697774e-10 m.\n",
            "Time step t=5, Iteration k=0. Maximum energy conservation error is 269.3275807741605 m.\n",
            "Time step t=5, Iteration k=1. Maximum energy conservation error is 44.20413530154323 m.\n",
            "Time step t=5, Iteration k=2. Maximum energy conservation error is 10.312902110303186 m.\n",
            "Time step t=5, Iteration k=3. Maximum energy conservation error is 2.483201516061596 m.\n",
            "Time step t=5, Iteration k=4. Maximum energy conservation error is 0.6668914438717898 m.\n",
            "Time step t=5, Iteration k=5. Maximum energy conservation error is 0.22206236113931554 m.\n",
            "Time step t=5, Iteration k=6. Maximum energy conservation error is 0.3844884987557677 m.\n",
            "Time step t=5, Iteration k=7. Maximum energy conservation error is 0.043072041917413734 m.\n",
            "Time step t=5, Iteration k=8. Maximum energy conservation error is 0.0017361126261590393 m.\n",
            "Time step t=5, Iteration k=9. Maximum energy conservation error is 1.1266467594257812e-05 m.\n",
            "Time step t=5, Iteration k=10. Maximum energy conservation error is 4.808670475697774e-10 m.\n",
            "Time step t=6, Iteration k=0. Maximum energy conservation error is 269.3275807741605 m.\n",
            "Time step t=6, Iteration k=1. Maximum energy conservation error is 44.20413530154323 m.\n",
            "Time step t=6, Iteration k=2. Maximum energy conservation error is 10.312902110303186 m.\n",
            "Time step t=6, Iteration k=3. Maximum energy conservation error is 2.483201516061596 m.\n",
            "Time step t=6, Iteration k=4. Maximum energy conservation error is 0.6668914438717898 m.\n",
            "Time step t=6, Iteration k=5. Maximum energy conservation error is 0.22206236113931554 m.\n",
            "Time step t=6, Iteration k=6. Maximum energy conservation error is 0.3844884987557677 m.\n",
            "Time step t=6, Iteration k=7. Maximum energy conservation error is 0.043072041917413734 m.\n",
            "Time step t=6, Iteration k=8. Maximum energy conservation error is 0.0017361126261590393 m.\n",
            "Time step t=6, Iteration k=9. Maximum energy conservation error is 1.1266467594257812e-05 m.\n",
            "Time step t=6, Iteration k=10. Maximum energy conservation error is 4.808670475697774e-10 m.\n",
            "Time step t=7, Iteration k=0. Maximum energy conservation error is 275.70322209798843 m.\n",
            "Time step t=7, Iteration k=1. Maximum energy conservation error is 44.56595217294735 m.\n",
            "Time step t=7, Iteration k=2. Maximum energy conservation error is 10.564953753135876 m.\n",
            "Time step t=7, Iteration k=3. Maximum energy conservation error is 2.998067921262419 m.\n",
            "Time step t=7, Iteration k=4. Maximum energy conservation error is 7.849051050629324 m.\n",
            "Time step t=7, Iteration k=5. Maximum energy conservation error is 1.2567406250292765 m.\n",
            "Time step t=7, Iteration k=6. Maximum energy conservation error is 0.12593602425589245 m.\n",
            "Time step t=7, Iteration k=7. Maximum energy conservation error is 0.0027898379968853745 m.\n",
            "Time step t=7, Iteration k=8. Maximum energy conservation error is 9.17869146714774e-06 m.\n",
            "Time step t=8, Iteration k=0. Maximum energy conservation error is 275.70322209798843 m.\n",
            "Time step t=8, Iteration k=1. Maximum energy conservation error is 44.56595217294735 m.\n",
            "Time step t=8, Iteration k=2. Maximum energy conservation error is 10.564953753135876 m.\n",
            "Time step t=8, Iteration k=3. Maximum energy conservation error is 2.998067921262419 m.\n",
            "Time step t=8, Iteration k=4. Maximum energy conservation error is 7.849051050629324 m.\n",
            "Time step t=8, Iteration k=5. Maximum energy conservation error is 1.2567406250292765 m.\n",
            "Time step t=8, Iteration k=6. Maximum energy conservation error is 0.12593602425589245 m.\n",
            "Time step t=8, Iteration k=7. Maximum energy conservation error is 0.0027898379968853745 m.\n",
            "Time step t=8, Iteration k=8. Maximum energy conservation error is 9.17869146714774e-06 m.\n",
            "Time step t=9, Iteration k=0. Maximum energy conservation error is 282.4824251272649 m.\n",
            "Time step t=9, Iteration k=1. Maximum energy conservation error is 45.11786182861099 m.\n",
            "Time step t=9, Iteration k=2. Maximum energy conservation error is 10.925381407302124 m.\n",
            "Time step t=9, Iteration k=3. Maximum energy conservation error is 4.545810057879302 m.\n",
            "Time step t=9, Iteration k=4. Maximum energy conservation error is 2.9522383754442547 m.\n",
            "Time step t=9, Iteration k=5. Maximum energy conservation error is 0.2328799754031996 m.\n",
            "Time step t=9, Iteration k=6. Maximum energy conservation error is 0.027985709938867342 m.\n",
            "Time step t=9, Iteration k=7. Maximum energy conservation error is 0.00020078771645153093 m.\n",
            "Time step t=9, Iteration k=8. Maximum energy conservation error is 1.4676458007234494e-08 m.\n",
            "Time step t=10, Iteration k=0. Maximum energy conservation error is 282.4824251272649 m.\n",
            "Time step t=10, Iteration k=1. Maximum energy conservation error is 45.11786182861099 m.\n",
            "Time step t=10, Iteration k=2. Maximum energy conservation error is 10.925381407302124 m.\n",
            "Time step t=10, Iteration k=3. Maximum energy conservation error is 4.545810057879302 m.\n",
            "Time step t=10, Iteration k=4. Maximum energy conservation error is 2.9522383754442547 m.\n",
            "Time step t=10, Iteration k=5. Maximum energy conservation error is 0.2328799754031996 m.\n",
            "Time step t=10, Iteration k=6. Maximum energy conservation error is 0.027985709938867342 m.\n",
            "Time step t=10, Iteration k=7. Maximum energy conservation error is 0.00020078771645153093 m.\n",
            "Time step t=10, Iteration k=8. Maximum energy conservation error is 1.4676458007234494e-08 m.\n",
            "Time step t=11, Iteration k=0. Maximum energy conservation error is 280.86044003526786 m.\n",
            "Time step t=11, Iteration k=1. Maximum energy conservation error is 44.96511045592526 m.\n",
            "Time step t=11, Iteration k=2. Maximum energy conservation error is 10.740895658765261 m.\n",
            "Time step t=11, Iteration k=3. Maximum energy conservation error is 4.033040105233394 m.\n",
            "Time step t=11, Iteration k=4. Maximum energy conservation error is 4.960601554219558 m.\n",
            "Time step t=11, Iteration k=5. Maximum energy conservation error is 0.5598774113893983 m.\n",
            "Time step t=11, Iteration k=6. Maximum energy conservation error is 0.037204181059698346 m.\n",
            "Time step t=11, Iteration k=7. Maximum energy conservation error is 0.0004366347746626448 m.\n",
            "Time step t=11, Iteration k=8. Maximum energy conservation error is 7.506427968095863e-08 m.\n",
            "Time step t=12, Iteration k=0. Maximum energy conservation error is 280.86044003526786 m.\n",
            "Time step t=12, Iteration k=1. Maximum energy conservation error is 44.96511045592526 m.\n",
            "Time step t=12, Iteration k=2. Maximum energy conservation error is 10.740895658765261 m.\n",
            "Time step t=12, Iteration k=3. Maximum energy conservation error is 4.033040105233394 m.\n",
            "Time step t=12, Iteration k=4. Maximum energy conservation error is 4.960601554219558 m.\n",
            "Time step t=12, Iteration k=5. Maximum energy conservation error is 0.5598774113893983 m.\n",
            "Time step t=12, Iteration k=6. Maximum energy conservation error is 0.037204181059698346 m.\n",
            "Time step t=12, Iteration k=7. Maximum energy conservation error is 0.0004366347746626448 m.\n",
            "Time step t=12, Iteration k=8. Maximum energy conservation error is 7.506427968095863e-08 m.\n",
            "Time step t=13, Iteration k=0. Maximum energy conservation error is 277.47032455143244 m.\n",
            "Time step t=13, Iteration k=1. Maximum energy conservation error is 44.68768237475561 m.\n",
            "Time step t=13, Iteration k=2. Maximum energy conservation error is 10.67914785682881 m.\n",
            "Time step t=13, Iteration k=3. Maximum energy conservation error is 3.397555081130715 m.\n",
            "Time step t=13, Iteration k=4. Maximum energy conservation error is 26.02001633275293 m.\n",
            "Time step t=13, Iteration k=5. Maximum energy conservation error is 5.180327949198216 m.\n",
            "Time step t=13, Iteration k=6. Maximum energy conservation error is 0.7608161869342087 m.\n",
            "Time step t=13, Iteration k=7. Maximum energy conservation error is 0.0313262682383777 m.\n",
            "Time step t=13, Iteration k=8. Maximum energy conservation error is 5.682876687318483e-05 m.\n",
            "Time step t=13, Iteration k=9. Maximum energy conservation error is 1.8300161386264335e-10 m.\n",
            "Time step t=14, Iteration k=0. Maximum energy conservation error is 277.47032455143244 m.\n",
            "Time step t=14, Iteration k=1. Maximum energy conservation error is 44.68768237475561 m.\n",
            "Time step t=14, Iteration k=2. Maximum energy conservation error is 10.67914785682881 m.\n",
            "Time step t=14, Iteration k=3. Maximum energy conservation error is 3.397555081130715 m.\n",
            "Time step t=14, Iteration k=4. Maximum energy conservation error is 26.02001633275293 m.\n",
            "Time step t=14, Iteration k=5. Maximum energy conservation error is 5.180327949198216 m.\n",
            "Time step t=14, Iteration k=6. Maximum energy conservation error is 0.7608161869342087 m.\n",
            "Time step t=14, Iteration k=7. Maximum energy conservation error is 0.0313262682383777 m.\n",
            "Time step t=14, Iteration k=8. Maximum energy conservation error is 5.682876687318483e-05 m.\n",
            "Time step t=14, Iteration k=9. Maximum energy conservation error is 1.8300161386264335e-10 m.\n",
            "Time step t=15, Iteration k=0. Maximum energy conservation error is 277.47032455143244 m.\n",
            "Time step t=15, Iteration k=1. Maximum energy conservation error is 44.68768237475561 m.\n",
            "Time step t=15, Iteration k=2. Maximum energy conservation error is 10.67914785682881 m.\n",
            "Time step t=15, Iteration k=3. Maximum energy conservation error is 3.397555081130715 m.\n",
            "Time step t=15, Iteration k=4. Maximum energy conservation error is 26.02001633275293 m.\n",
            "Time step t=15, Iteration k=5. Maximum energy conservation error is 5.180327949198216 m.\n",
            "Time step t=15, Iteration k=6. Maximum energy conservation error is 0.7608161869342087 m.\n",
            "Time step t=15, Iteration k=7. Maximum energy conservation error is 0.0313262682383777 m.\n",
            "Time step t=15, Iteration k=8. Maximum energy conservation error is 5.682876687318483e-05 m.\n",
            "Time step t=15, Iteration k=9. Maximum energy conservation error is 1.8300161386264335e-10 m.\n",
            "Time step t=16, Iteration k=0. Maximum energy conservation error is 277.47032455143244 m.\n",
            "Time step t=16, Iteration k=1. Maximum energy conservation error is 44.68768237475561 m.\n",
            "Time step t=16, Iteration k=2. Maximum energy conservation error is 10.67914785682881 m.\n",
            "Time step t=16, Iteration k=3. Maximum energy conservation error is 3.397555081130715 m.\n",
            "Time step t=16, Iteration k=4. Maximum energy conservation error is 26.02001633275293 m.\n",
            "Time step t=16, Iteration k=5. Maximum energy conservation error is 5.180327949198216 m.\n",
            "Time step t=16, Iteration k=6. Maximum energy conservation error is 0.7608161869342087 m.\n",
            "Time step t=16, Iteration k=7. Maximum energy conservation error is 0.0313262682383777 m.\n",
            "Time step t=16, Iteration k=8. Maximum energy conservation error is 5.682876687318483e-05 m.\n",
            "Time step t=16, Iteration k=9. Maximum energy conservation error is 1.8300161386264335e-10 m.\n",
            "Time step t=17, Iteration k=0. Maximum energy conservation error is 279.2433877960551 m.\n",
            "Time step t=17, Iteration k=1. Maximum energy conservation error is 44.825622390120905 m.\n",
            "Time step t=17, Iteration k=2. Maximum energy conservation error is 10.693063340486672 m.\n",
            "Time step t=17, Iteration k=3. Maximum energy conservation error is 3.789947661542636 m.\n",
            "Time step t=17, Iteration k=4. Maximum energy conservation error is 8.8879341725195 m.\n",
            "Time step t=17, Iteration k=5. Maximum energy conservation error is 3.8759163525700755 m.\n",
            "Time step t=17, Iteration k=6. Maximum energy conservation error is 0.66168098214895 m.\n",
            "Time step t=17, Iteration k=7. Maximum energy conservation error is 0.04846768336552032 m.\n",
            "Time step t=17, Iteration k=8. Maximum energy conservation error is 0.0003665174041663777 m.\n",
            "Time step t=17, Iteration k=9. Maximum energy conservation error is 2.162413825779197e-08 m.\n",
            "Time step t=18, Iteration k=0. Maximum energy conservation error is 279.2433877960551 m.\n",
            "Time step t=18, Iteration k=1. Maximum energy conservation error is 44.825622390120905 m.\n",
            "Time step t=18, Iteration k=2. Maximum energy conservation error is 10.693063340486672 m.\n",
            "Time step t=18, Iteration k=3. Maximum energy conservation error is 3.789947661542636 m.\n",
            "Time step t=18, Iteration k=4. Maximum energy conservation error is 8.8879341725195 m.\n",
            "Time step t=18, Iteration k=5. Maximum energy conservation error is 3.8759163525700755 m.\n",
            "Time step t=18, Iteration k=6. Maximum energy conservation error is 0.66168098214895 m.\n",
            "Time step t=18, Iteration k=7. Maximum energy conservation error is 0.04846768336552032 m.\n",
            "Time step t=18, Iteration k=8. Maximum energy conservation error is 0.0003665174041663777 m.\n",
            "Time step t=18, Iteration k=9. Maximum energy conservation error is 2.162413825779197e-08 m.\n",
            "Time step t=19, Iteration k=0. Maximum energy conservation error is 277.47032455143244 m.\n",
            "Time step t=19, Iteration k=1. Maximum energy conservation error is 44.68768237475561 m.\n",
            "Time step t=19, Iteration k=2. Maximum energy conservation error is 10.67914785682881 m.\n",
            "Time step t=19, Iteration k=3. Maximum energy conservation error is 3.397555081130715 m.\n",
            "Time step t=19, Iteration k=4. Maximum energy conservation error is 26.02001633275293 m.\n",
            "Time step t=19, Iteration k=5. Maximum energy conservation error is 5.180327949198216 m.\n",
            "Time step t=19, Iteration k=6. Maximum energy conservation error is 0.7608161869342087 m.\n",
            "Time step t=19, Iteration k=7. Maximum energy conservation error is 0.0313262682383777 m.\n",
            "Time step t=19, Iteration k=8. Maximum energy conservation error is 5.682876687318483e-05 m.\n",
            "Time step t=19, Iteration k=9. Maximum energy conservation error is 1.8300161386264335e-10 m.\n",
            "Time step t=20, Iteration k=0. Maximum energy conservation error is 277.47032455143244 m.\n",
            "Time step t=20, Iteration k=1. Maximum energy conservation error is 44.68768237475561 m.\n",
            "Time step t=20, Iteration k=2. Maximum energy conservation error is 10.67914785682881 m.\n",
            "Time step t=20, Iteration k=3. Maximum energy conservation error is 3.397555081130715 m.\n",
            "Time step t=20, Iteration k=4. Maximum energy conservation error is 26.02001633275293 m.\n",
            "Time step t=20, Iteration k=5. Maximum energy conservation error is 5.180327949198216 m.\n",
            "Time step t=20, Iteration k=6. Maximum energy conservation error is 0.7608161869342087 m.\n",
            "Time step t=20, Iteration k=7. Maximum energy conservation error is 0.0313262682383777 m.\n",
            "Time step t=20, Iteration k=8. Maximum energy conservation error is 5.682876687318483e-05 m.\n",
            "Time step t=20, Iteration k=9. Maximum energy conservation error is 1.8300161386264335e-10 m.\n",
            "Time step t=21, Iteration k=0. Maximum energy conservation error is 275.863621273358 m.\n",
            "Time step t=21, Iteration k=1. Maximum energy conservation error is 44.57634425202927 m.\n",
            "Time step t=21, Iteration k=2. Maximum energy conservation error is 10.576281172241044 m.\n",
            "Time step t=21, Iteration k=3. Maximum energy conservation error is 3.0291667627226864 m.\n",
            "Time step t=21, Iteration k=4. Maximum energy conservation error is 8.869093356152073 m.\n",
            "Time step t=21, Iteration k=5. Maximum energy conservation error is 1.4653995897195826 m.\n",
            "Time step t=21, Iteration k=6. Maximum energy conservation error is 0.12279842010687902 m.\n",
            "Time step t=21, Iteration k=7. Maximum energy conservation error is 0.001997344813002691 m.\n",
            "Time step t=21, Iteration k=8. Maximum energy conservation error is 2.628602594853535e-06 m.\n",
            "Time step t=22, Iteration k=0. Maximum energy conservation error is 272.50556746170014 m.\n",
            "Time step t=22, Iteration k=1. Maximum energy conservation error is 44.38750593780825 m.\n",
            "Time step t=22, Iteration k=2. Maximum energy conservation error is 10.392667774545082 m.\n",
            "Time step t=22, Iteration k=3. Maximum energy conservation error is 2.554115916567548 m.\n",
            "Time step t=22, Iteration k=4. Maximum energy conservation error is 0.652625617988466 m.\n",
            "Time step t=22, Iteration k=5. Maximum energy conservation error is 0.23182853653983648 m.\n",
            "Time step t=22, Iteration k=6. Maximum energy conservation error is 0.10743247995032726 m.\n",
            "Time step t=22, Iteration k=7. Maximum energy conservation error is 0.02199691062762371 m.\n",
            "Time step t=22, Iteration k=8. Maximum energy conservation error is 0.0005401792146697837 m.\n",
            "Time step t=22, Iteration k=9. Maximum energy conservation error is 4.031730649750598e-07 m.\n",
            "Time step t=23, Iteration k=0. Maximum energy conservation error is 272.50556746170014 m.\n",
            "Time step t=23, Iteration k=1. Maximum energy conservation error is 44.38750593780825 m.\n",
            "Time step t=23, Iteration k=2. Maximum energy conservation error is 10.392667774545082 m.\n",
            "Time step t=23, Iteration k=3. Maximum energy conservation error is 2.554115916567548 m.\n",
            "Time step t=23, Iteration k=4. Maximum energy conservation error is 0.652625617988466 m.\n",
            "Time step t=23, Iteration k=5. Maximum energy conservation error is 0.23182853653983648 m.\n",
            "Time step t=23, Iteration k=6. Maximum energy conservation error is 0.10743247995032726 m.\n",
            "Time step t=23, Iteration k=7. Maximum energy conservation error is 0.02199691062762371 m.\n",
            "Time step t=23, Iteration k=8. Maximum energy conservation error is 0.0005401792146697837 m.\n",
            "Time step t=23, Iteration k=9. Maximum energy conservation error is 4.031730649750598e-07 m.\n",
            "Time step t=24, Iteration k=0. Maximum energy conservation error is 272.50556746170014 m.\n",
            "Time step t=24, Iteration k=1. Maximum energy conservation error is 44.38750593780825 m.\n",
            "Time step t=24, Iteration k=2. Maximum energy conservation error is 10.392667774545082 m.\n",
            "Time step t=24, Iteration k=3. Maximum energy conservation error is 2.554115916567548 m.\n",
            "Time step t=24, Iteration k=4. Maximum energy conservation error is 0.652625617988466 m.\n",
            "Time step t=24, Iteration k=5. Maximum energy conservation error is 0.23182853653983648 m.\n",
            "Time step t=24, Iteration k=6. Maximum energy conservation error is 0.10743247995032726 m.\n",
            "Time step t=24, Iteration k=7. Maximum energy conservation error is 0.02199691062762371 m.\n",
            "Time step t=24, Iteration k=8. Maximum energy conservation error is 0.0005401792146697837 m.\n",
            "Time step t=24, Iteration k=9. Maximum energy conservation error is 4.031730649750598e-07 m.\n"
          ]
        }
      ],
      "source": [
        "### Step 1: unload network and hydraulic data\n",
        "A12 = wdn.A12\n",
        "A10 = wdn.A10\n",
        "net_info = wdn.net_info\n",
        "link_df = wdn.link_df\n",
        "node_df = wdn.node_df\n",
        "demand_df = wdn.demand_df\n",
        "h0_df = wdn.h0_df\n",
        "\n",
        "# define head loss equations\n",
        "def friction_loss(net_info, df):\n",
        "    if net_info['headloss'] == 'H-W':\n",
        "        K = 10.67 * df['length'] * (df['C'] ** -df['n_exp']) * (df['diameter'] ** -4.8704)\n",
        "    else:\n",
        "        K = [] # insert DW formula here...\n",
        "\n",
        "    return K\n",
        "\n",
        "def local_loss(df):\n",
        "    K = (8 / (np.pi ** 2 * 9.81)) * (df['diameter'] ** -4) * df['C']\n",
        "\n",
        "    return K\n",
        "\n",
        "# compute loss coefficients\n",
        "K = np.zeros((net_info['np'], 1))\n",
        "for idx, row in link_df.iterrows():\n",
        "    if row['link_type'] == 'pipe':\n",
        "        K[idx] = friction_loss(net_info, row)\n",
        "\n",
        "    elif row['link_type'] == 'valve':\n",
        "        K[idx] = local_loss(row)\n",
        "\n",
        "n_exp = link_df['n_exp'].astype(float).to_numpy().reshape(-1, 1)\n",
        "\n",
        "# set stopping criteria\n",
        "tol = 1e-5\n",
        "kmax = 50\n",
        "\n",
        "# small values in A11 make convergence unsteady; therefore, we need to define a lower bound -- see Todini (1988), page 7\n",
        "tol_A11 = 1e-5\n",
        "\n",
        "# set solution arrays\n",
        "q = np.zeros((net_info['np'], net_info['nt']))\n",
        "h = np.zeros((net_info['nn'], net_info['nt']))\n",
        "\n",
        "\n",
        "# run over all time steps\n",
        "for t in range(net_info['nt']):\n",
        "\n",
        "    ### Step 2: set initial values\n",
        "    hk = 130 * np.ones((net_info['nn'], 1))\n",
        "    qk = 0.03 * np.ones((net_info['np'], 1))\n",
        "\n",
        "    # set boundary head and demand conditions\n",
        "    dk = demand_df.iloc[:, t+1].to_numpy(); dk = dk.reshape(-1, 1)\n",
        "    h0k = h0_df.iloc[:, t+1].to_numpy(); h0k = h0k.reshape(-1, 1)\n",
        "\n",
        "    # initialise A11 matrix\n",
        "    A11_diag = K * (abs(qk) ** (n_exp - 1)) # diagonal elements of matrix A11\n",
        "    A11_diag[A11_diag < tol_A11] = tol_A11 # replace with small value = tol_A11\n",
        "    A11 = sp.diags(A11_diag.T, [0]) # matrix A11, allocated as a sparse diagonal matrix\n",
        "\n",
        "    # begin iterations\n",
        "    for k in range(kmax):\n",
        "\n",
        "        ### Step 3: compute h^{k+1} and q^{k+1} for each iteration k\n",
        "        N = sp.diags(n_exp.T, [0]) # matrix N\n",
        "        I = sp.eye(net_info['np'], format='csr') # identiy matrix with dimension np x np, allocated as a sparse matrix\n",
        "\n",
        "        b = np.concatenate([(N - I) @ A11 @ qk - A10 @ h0k, dk])\n",
        "        J = sp.bmat([[N @ A11, A12], [A12.T, sp.csr_matrix((net_info['nn'], net_info['nn']))]], format='csr')\n",
        "\n",
        "        # solve linear system\n",
        "        x = sp.linalg.spsolve(J, b)\n",
        "        qk = x[:net_info['np']]; qk = qk.reshape(-1, 1)\n",
        "        hk = x[net_info['np']:net_info['np'] + net_info['nn']];hk = hk.reshape(-1, 1)\n",
        "\n",
        "        # update A11 matrix\n",
        "        A11_diag = K * (abs(qk) ** (n_exp - 1)) # diagonal elements of matrix A11\n",
        "        A11_diag[A11_diag < tol_A11] = tol_A11 # replace with small value = tol_A11\n",
        "        A11 = sp.diags(A11_diag.T, [0]) # matrix A11, allocated as a sparse diagonal matrix\n",
        "\n",
        "\n",
        "        ### Step 4: convergence check\n",
        "        err = A11 @ qk + A12 @ hk + A10 @ h0k\n",
        "        max_err = np.linalg.norm(err, np.inf)\n",
        "\n",
        "        # print progress\n",
        "        print(f\"Time step t={t+1}, Iteration k={k}. Maximum energy conservation error is {max_err} m.\")\n",
        "\n",
        "        if max_err < tol:\n",
        "            # if successful,  break from loop\n",
        "            break\n",
        "\n",
        "    q[:, t] = qk.T\n",
        "    h[:, t] = hk.T\n",
        "\n",
        "# convert results to pandas dataframe\n",
        "column_names_q = [f'q_{t+1}' for t in range(net_info['nt'])]\n",
        "q_df = pd.DataFrame(q, columns=column_names_q)\n",
        "q_df.insert(0, 'link_ID', link_df['link_ID'])\n",
        "\n",
        "column_names_h = [f'h_{t+1}' for t in range(net_info['nt'])]\n",
        "h_df = pd.DataFrame(h, columns=column_names_h)\n",
        "h_df.insert(0, 'link_ID', link_df['link_ID'])\n"
      ]
    },
    {
      "cell_type": "markdown",
      "metadata": {
        "id": "3AGvpS3Gun56"
      },
      "source": [
        "<span style=\"color:red\">**NB: The above code comprises a function 'hydraulic_solver' in the file '~/src/hydraulic_functions.py'**.</span>"
      ]
    },
    {
      "cell_type": "markdown",
      "metadata": {
        "id": "TyfLwJPmun56"
      },
      "source": [
        "### Newton-Raphson solver with Schur complement"
      ]
    },
    {
      "cell_type": "markdown",
      "metadata": {
        "id": "ceQ7FMQkun56"
      },
      "source": [
        "We note that the system of linear equations in \\eqref{eq:newton_step_2} has a saddle point form. We can leverage this special structure to improve the computational performance of the Newton-Raphson solver."
      ]
    },
    {
      "cell_type": "markdown",
      "metadata": {
        "id": "2g4yixtIun56"
      },
      "source": [
        "#### Saddle point problem\n",
        "Let us first present the Newton-Raphson step as a general linear system with saddle point form, as folllows:"
      ]
    },
    {
      "cell_type": "markdown",
      "metadata": {
        "id": "SmxfWFI7un57"
      },
      "source": [
        "\\begin{equation}\n",
        "\\left[\\begin{array}{cc}\n",
        "     A&B_{1}  \\\\\n",
        "     B_{2}^T & C \\\\\n",
        "\\end{array}\\right] \\left[\\begin{array}{c}\n",
        "     x \\\\\n",
        "    y \\\\\n",
        "\\end{array}\\right]=\\left[\\begin{array}{c}\n",
        "     f  \\\\\n",
        "     g \\\\\n",
        "\\end{array}\\right], \\; \\text{or} \\; \\mathcal{A}u=b\n",
        "\\label{eq:saddle_point} \\tag{13}\n",
        "\\end{equation}"
      ]
    },
    {
      "cell_type": "markdown",
      "metadata": {
        "id": "VJoQdcgqun57"
      },
      "source": [
        "where the block matrices in \\eqref{eq:saddle_point} must satisfy the following conditions:\n",
        "1. $A \\succeq 0$ is symmetric positive semidefinite\n",
        "2. $B_1 = B_2 = B$\n",
        "3. $C \\succeq 0$ is symmetric positive semidefinite"
      ]
    },
    {
      "cell_type": "markdown",
      "metadata": {
        "id": "CuRH1dkrun58"
      },
      "source": [
        "In the Newton-Raphson step for our hydraulic simulation \\eqref{eq:newton_step_2}, these variables are defined as:\n",
        "- $A=NA_{11}(q_k)$\n",
        "- $B = A_{12}$\n",
        "- $C = O$ (zero matrix)\n",
        "- $x = q^{k+1}$\n",
        "- $y = h^{k+1}$\n",
        "- $f = (N-I)A_{11}(q^k)q^k-A_{10}h_0$\n",
        "- $g = d$"
      ]
    },
    {
      "cell_type": "markdown",
      "metadata": {
        "id": "WOr1gdydun58"
      },
      "source": [
        "#### Block factorisation and the Schur complement\n",
        "If A is nonsingular, the saddle point matrix $\\mathcal{A}$ admits the following block triangular factorization:"
      ]
    },
    {
      "cell_type": "markdown",
      "metadata": {
        "id": "1IJlXvVlun58"
      },
      "source": [
        "\\begin{equation}\n",
        "    \\mathcal{A}=\\left[\\begin{array}{cc}\n",
        "     A&B_1  \\\\\n",
        "     B_2^T& O \\\\\n",
        "\\end{array}\\right] =\\left[\\begin{array}{cc}\n",
        "     I & O \\\\\n",
        "    B_2^TA^{-1} & I \\\\\n",
        "\\end{array}\\right] \\left[\\begin{array}{cc}\n",
        "     A & O  \\\\\n",
        "     O & S \\\\\n",
        "\\end{array}\\right] \\left[\\begin{array}{cc}\n",
        "     I & A^{-1}B_1 \\\\\n",
        "     O & I \\\\\n",
        "\\end{array}\\right]\n",
        "\\label{saddle_property_1} \\tag{14}\n",
        "\\end{equation}\n",
        "\n",
        "\\begin{equation}\n",
        "    \\mathcal{A} = \\left[\\begin{array}{cc}\n",
        "     A & O  \\\\\n",
        "     B_2^T & S \\\\\n",
        "\\end{array}\\right] \\left[\\begin{array}{cc}\n",
        "     I & A^{-1}B_1 \\\\\n",
        "     O & I \\\\\n",
        "\\end{array}\\right]\n",
        "\\label{saddle_property_2} \\tag{15}\n",
        "\\end{equation}\n",
        "\n",
        "\\begin{equation}\n",
        "    \\mathcal{A} = \\left[\\begin{array}{cc}\n",
        "     I & O  \\\\\n",
        "     B_2^TA^{-1} & I \\\\\n",
        "\\end{array}\\right] \\left[\\begin{array}{cc}\n",
        "     A & B_1 \\\\\n",
        "     O & S \\\\\n",
        "\\end{array}\\right]\n",
        "\\label{saddle_property_3} \\tag{16}\n",
        "\\end{equation}"
      ]
    },
    {
      "cell_type": "markdown",
      "metadata": {
        "id": "3mzLecNtun59"
      },
      "source": [
        "where $S=-(B_2^TA^{-1}B_1)$ is the Schur complement of $A$ in $\\mathcal{A}$. In our hydraulic simulation problem, the Schur complement is defined as $S=-A_{12}^T\\left(NA_{11}(q^k)\\right)^{-1}A_{12}$."
      ]
    },
    {
      "cell_type": "markdown",
      "metadata": {
        "id": "Xn_ewBE8un59"
      },
      "source": [
        "The following conditions must hold on the system of linear equations to ensure that $S$ and $\\mathcal{A}$ are nonsingular:\n",
        "1. $A$ is symmetric positive definite\n",
        "2. $B$ has full column rank (i.e. $rank(B) = m$), where $m$ is the number of columns in $B$\n",
        "2. $ker(A)\\cap ker(B)={0}$"
      ]
    },
    {
      "cell_type": "markdown",
      "metadata": {
        "id": "5YdF2dwKun59"
      },
      "source": [
        "For the sake of brevity, we do not show a proof that $\\mathcal{A}$ is nonsingular for our linear system described in \\eqref{eq:newton_step_2}. We also note that, as introduced previously, it is common practice to include a small regularisation term $A_{11}{\\text{_tol}}$ to the diagonal elements of $A_{11}$ to ensure it is positively defined (and is therefore invertible). This has negligible impact on the energy conservation of the network."
      ]
    },
    {
      "cell_type": "markdown",
      "metadata": {
        "id": "LsrHvzR3un5-"
      },
      "source": [
        "#### Application of Schur complement to Newton-Raphson solver\n",
        "Recall the system of linear equations solved at each Newton-Raphson step,"
      ]
    },
    {
      "cell_type": "markdown",
      "metadata": {
        "id": "lgBx8Gbfun5-"
      },
      "source": [
        "\\begin{equation}\n",
        "    \\left[\\begin{array}{cc}\n",
        "         NA_{11}(q^k)& A_{12} \\\\\n",
        "         A_{12}^T & 0\\\\\n",
        "    \\end{array}\\right] \\left[\\begin{array}{c}\n",
        "          q^{k+1} \\\\\n",
        "          h^{k+1} \\\\\n",
        "    \\end{array}\\right]=\n",
        "    \\left[\\begin{array}{c}\n",
        "         (N-I)A_{11}(q^k)q^k-A_{10}h_0\\\\\n",
        "         d\\\\\n",
        "    \\end{array}\\right].\n",
        "\\label{eq:recall_newton_step} \\tag{17}\n",
        "\\end{equation}"
      ]
    },
    {
      "cell_type": "markdown",
      "metadata": {
        "id": "aJRzdPhZun5-"
      },
      "source": [
        "The above system can be written in a more expanded form"
      ]
    },
    {
      "cell_type": "markdown",
      "metadata": {
        "id": "boDzv0k-un5-"
      },
      "source": [
        "\\begin{eqnarray}\n",
        "   NA_{11}(q^k)q^{k+1}+A_{12}h^{k+1}&=&(N-I)A_{11}(q^k)q^k-A_{10}h_0 \\label{eq:newton_step_expand_1} \\tag{18}\\\\\n",
        "    A_{12}^Tq^{k+1}&=&d \\label{eq:newton_step_expand_2} \\tag{19}\n",
        "\\end{eqnarray}"
      ]
    },
    {
      "cell_type": "markdown",
      "metadata": {
        "id": "Y-UqyNhhun5-"
      },
      "source": [
        "Then, multiplying $A_{12}^T\\left(NA_{11}(q^k)\\right)^{-1}$ to each side of \\eqref{eq:newton_step_expand_1} and substituting $A_{12}^Tq^{k+1}=d$ yields"
      ]
    },
    {
      "cell_type": "markdown",
      "metadata": {
        "id": "A_0J5KKCun5_"
      },
      "source": [
        "\\begin{equation}\n",
        "A_{12}^T\\left(NA_{11}(q^k)\\right)^{-1}A_{12}h^{k+1}=A_{12}^T\\left(NA_{11}(q^k)\\right)^{-1}\\left((N-I)A_{11}(q^k)q^k-A_{10}h_0\\right)-d\n",
        "\\tag{20}\n",
        "\\end{equation}"
      ]
    },
    {
      "cell_type": "markdown",
      "metadata": {
        "id": "A2wVXwpJun5_"
      },
      "source": [
        "Finally, with $\\left(NA_{11}(q^k)\\right)^{-1}=N^{-1}\\left(A_{11}(q^k)\\right)^{-1}$, we have"
      ]
    },
    {
      "cell_type": "markdown",
      "metadata": {
        "id": "YH6gze-Uun6A"
      },
      "source": [
        "\\begin{equation}\n",
        "A_{12}^TN^{-1}\\left(A_{11}(q^k)\\right)^{-1}A_{12}h^{k+1}=-A_{12}^TN^{-1}(q^k+\\left(A_{11}(q^k)\\right)^{-1}A_{10}h_0)+A_{12}^Tq^k-d\n",
        "\\label{eq:h_update} \\tag{21}\n",
        "\\end{equation}"
      ]
    },
    {
      "cell_type": "markdown",
      "metadata": {
        "id": "9BrTjveLun6A"
      },
      "source": [
        "A new estimate of $h^{k+1}$ can then be computed from \\eqref{eq:h_update}. Here, the symmetric positive definite matrix $A_{12}^TN^{-1}\\left(A_{11}(q^k)\\right)^{-1}A_{12}$ is much smaller $(n_n \\times n_n)$ than the Jacobian $(n_p+n_n \\times n_p+n_n)$ in the original Newton-Raphson step. It also has nice properties, allowing for the use of fast factorisation algorithms (e.g. Cholesky factorisation).\n",
        "\n",
        "Once $h^{k+1}$ is determined, we can directly compute $q^{k+1}$ by rearanging \\eqref{eq:newton_step_expand_1} and substituting in $h^{k+1}$, as follows"
      ]
    },
    {
      "cell_type": "markdown",
      "metadata": {
        "id": "ccEQDlheun6A"
      },
      "source": [
        "\\begin{equation}\n",
        "   q^{k+1}=-N^{-1}\\left(A_{11}(q^k)\\right)^{-1}A_{12}h^{k+1}+(I-N^{-1})q^k-N^{-1}\\left(A_{11}(q^k)\\right)^{-1}A_{10}h_0\n",
        "\\end{equation}"
      ]
    },
    {
      "cell_type": "markdown",
      "metadata": {
        "id": "1oTTTgo0un6A"
      },
      "source": [
        "Note that this solver routine is known as the global gradient algorithm (GGA), or 'nodal' version of the original Newton-Raphson method. The GGA algorithm is used in EPANET's solver routine."
      ]
    },
    {
      "cell_type": "markdown",
      "metadata": {
        "id": "wrM81tc7un6B"
      },
      "source": [
        "Code for implementing the Newton-Raphson solver with Schur complement is below."
      ]
    },
    {
      "cell_type": "code",
      "execution_count": 16,
      "metadata": {
        "colab": {
          "base_uri": "https://localhost:8080/"
        },
        "id": "ZsQFcR8Oun6B",
        "outputId": "6d243ef4-e037-4157-dcdd-133afcd85612"
      },
      "outputs": [
        {
          "output_type": "stream",
          "name": "stdout",
          "text": [
            "Time step t=1, Iteration k=0. Maximum energy conservation error is 272.5055674616999 m.\n",
            "Time step t=1, Iteration k=1. Maximum energy conservation error is 44.38750593780831 m.\n",
            "Time step t=1, Iteration k=2. Maximum energy conservation error is 10.392667774544881 m.\n",
            "Time step t=1, Iteration k=3. Maximum energy conservation error is 2.5541159165680574 m.\n",
            "Time step t=1, Iteration k=4. Maximum energy conservation error is 0.6526256179883754 m.\n",
            "Time step t=1, Iteration k=5. Maximum energy conservation error is 0.23182853653982477 m.\n",
            "Time step t=1, Iteration k=6. Maximum energy conservation error is 0.10743247995250167 m.\n",
            "Time step t=1, Iteration k=7. Maximum energy conservation error is 0.02199691061043718 m.\n",
            "Time step t=1, Iteration k=8. Maximum energy conservation error is 0.0005401792136992406 m.\n",
            "Time step t=1, Iteration k=9. Maximum energy conservation error is 4.0317258377664533e-07 m.\n",
            "Time step t=2, Iteration k=0. Maximum energy conservation error is 272.5055674616999 m.\n",
            "Time step t=2, Iteration k=1. Maximum energy conservation error is 44.38750593780831 m.\n",
            "Time step t=2, Iteration k=2. Maximum energy conservation error is 10.392667774544881 m.\n",
            "Time step t=2, Iteration k=3. Maximum energy conservation error is 2.5541159165680574 m.\n",
            "Time step t=2, Iteration k=4. Maximum energy conservation error is 0.6526256179883754 m.\n",
            "Time step t=2, Iteration k=5. Maximum energy conservation error is 0.23182853653982477 m.\n",
            "Time step t=2, Iteration k=6. Maximum energy conservation error is 0.10743247995250167 m.\n",
            "Time step t=2, Iteration k=7. Maximum energy conservation error is 0.02199691061043718 m.\n",
            "Time step t=2, Iteration k=8. Maximum energy conservation error is 0.0005401792136992406 m.\n",
            "Time step t=2, Iteration k=9. Maximum energy conservation error is 4.0317258377664533e-07 m.\n",
            "Time step t=3, Iteration k=0. Maximum energy conservation error is 269.3275807741603 m.\n",
            "Time step t=3, Iteration k=1. Maximum energy conservation error is 44.20413530154325 m.\n",
            "Time step t=3, Iteration k=2. Maximum energy conservation error is 10.31290211030319 m.\n",
            "Time step t=3, Iteration k=3. Maximum energy conservation error is 2.4832015160618446 m.\n",
            "Time step t=3, Iteration k=4. Maximum energy conservation error is 0.6668914438720217 m.\n",
            "Time step t=3, Iteration k=5. Maximum energy conservation error is 0.2220623611392773 m.\n",
            "Time step t=3, Iteration k=6. Maximum energy conservation error is 0.3844884987551764 m.\n",
            "Time step t=3, Iteration k=7. Maximum energy conservation error is 0.043072041917733145 m.\n",
            "Time step t=3, Iteration k=8. Maximum energy conservation error is 0.001736112625532131 m.\n",
            "Time step t=3, Iteration k=9. Maximum energy conservation error is 1.1266467146525683e-05 m.\n",
            "Time step t=3, Iteration k=10. Maximum energy conservation error is 4.812977932866502e-10 m.\n",
            "Time step t=4, Iteration k=0. Maximum energy conservation error is 269.3275807741603 m.\n",
            "Time step t=4, Iteration k=1. Maximum energy conservation error is 44.20413530154325 m.\n",
            "Time step t=4, Iteration k=2. Maximum energy conservation error is 10.31290211030319 m.\n",
            "Time step t=4, Iteration k=3. Maximum energy conservation error is 2.4832015160618446 m.\n",
            "Time step t=4, Iteration k=4. Maximum energy conservation error is 0.6668914438720217 m.\n",
            "Time step t=4, Iteration k=5. Maximum energy conservation error is 0.2220623611392773 m.\n",
            "Time step t=4, Iteration k=6. Maximum energy conservation error is 0.3844884987551764 m.\n",
            "Time step t=4, Iteration k=7. Maximum energy conservation error is 0.043072041917733145 m.\n",
            "Time step t=4, Iteration k=8. Maximum energy conservation error is 0.001736112625532131 m.\n",
            "Time step t=4, Iteration k=9. Maximum energy conservation error is 1.1266467146525683e-05 m.\n",
            "Time step t=4, Iteration k=10. Maximum energy conservation error is 4.812977932866502e-10 m.\n",
            "Time step t=5, Iteration k=0. Maximum energy conservation error is 269.3275807741603 m.\n",
            "Time step t=5, Iteration k=1. Maximum energy conservation error is 44.20413530154325 m.\n",
            "Time step t=5, Iteration k=2. Maximum energy conservation error is 10.31290211030319 m.\n",
            "Time step t=5, Iteration k=3. Maximum energy conservation error is 2.4832015160618446 m.\n",
            "Time step t=5, Iteration k=4. Maximum energy conservation error is 0.6668914438720217 m.\n",
            "Time step t=5, Iteration k=5. Maximum energy conservation error is 0.2220623611392773 m.\n",
            "Time step t=5, Iteration k=6. Maximum energy conservation error is 0.3844884987551764 m.\n",
            "Time step t=5, Iteration k=7. Maximum energy conservation error is 0.043072041917733145 m.\n",
            "Time step t=5, Iteration k=8. Maximum energy conservation error is 0.001736112625532131 m.\n",
            "Time step t=5, Iteration k=9. Maximum energy conservation error is 1.1266467146525683e-05 m.\n",
            "Time step t=5, Iteration k=10. Maximum energy conservation error is 4.812977932866502e-10 m.\n",
            "Time step t=6, Iteration k=0. Maximum energy conservation error is 269.3275807741603 m.\n",
            "Time step t=6, Iteration k=1. Maximum energy conservation error is 44.20413530154325 m.\n",
            "Time step t=6, Iteration k=2. Maximum energy conservation error is 10.31290211030319 m.\n",
            "Time step t=6, Iteration k=3. Maximum energy conservation error is 2.4832015160618446 m.\n",
            "Time step t=6, Iteration k=4. Maximum energy conservation error is 0.6668914438720217 m.\n",
            "Time step t=6, Iteration k=5. Maximum energy conservation error is 0.2220623611392773 m.\n",
            "Time step t=6, Iteration k=6. Maximum energy conservation error is 0.3844884987551764 m.\n",
            "Time step t=6, Iteration k=7. Maximum energy conservation error is 0.043072041917733145 m.\n",
            "Time step t=6, Iteration k=8. Maximum energy conservation error is 0.001736112625532131 m.\n",
            "Time step t=6, Iteration k=9. Maximum energy conservation error is 1.1266467146525683e-05 m.\n",
            "Time step t=6, Iteration k=10. Maximum energy conservation error is 4.812977932866502e-10 m.\n",
            "Time step t=7, Iteration k=0. Maximum energy conservation error is 275.7032220979882 m.\n",
            "Time step t=7, Iteration k=1. Maximum energy conservation error is 44.56595217294735 m.\n",
            "Time step t=7, Iteration k=2. Maximum energy conservation error is 10.5649537531354 m.\n",
            "Time step t=7, Iteration k=3. Maximum energy conservation error is 2.9980679212623507 m.\n",
            "Time step t=7, Iteration k=4. Maximum energy conservation error is 7.849051050640151 m.\n",
            "Time step t=7, Iteration k=5. Maximum energy conservation error is 1.2567406250312354 m.\n",
            "Time step t=7, Iteration k=6. Maximum energy conservation error is 0.12593602425635386 m.\n",
            "Time step t=7, Iteration k=7. Maximum energy conservation error is 0.0027898379970219683 m.\n",
            "Time step t=7, Iteration k=8. Maximum energy conservation error is 9.178691470070749e-06 m.\n",
            "Time step t=8, Iteration k=0. Maximum energy conservation error is 275.7032220979882 m.\n",
            "Time step t=8, Iteration k=1. Maximum energy conservation error is 44.56595217294735 m.\n",
            "Time step t=8, Iteration k=2. Maximum energy conservation error is 10.5649537531354 m.\n",
            "Time step t=8, Iteration k=3. Maximum energy conservation error is 2.9980679212623507 m.\n",
            "Time step t=8, Iteration k=4. Maximum energy conservation error is 7.849051050640151 m.\n",
            "Time step t=8, Iteration k=5. Maximum energy conservation error is 1.2567406250312354 m.\n",
            "Time step t=8, Iteration k=6. Maximum energy conservation error is 0.12593602425635386 m.\n",
            "Time step t=8, Iteration k=7. Maximum energy conservation error is 0.0027898379970219683 m.\n",
            "Time step t=8, Iteration k=8. Maximum energy conservation error is 9.178691470070749e-06 m.\n",
            "Time step t=9, Iteration k=0. Maximum energy conservation error is 282.48242512726483 m.\n",
            "Time step t=9, Iteration k=1. Maximum energy conservation error is 45.117861828611034 m.\n",
            "Time step t=9, Iteration k=2. Maximum energy conservation error is 10.925381407302124 m.\n",
            "Time step t=9, Iteration k=3. Maximum energy conservation error is 4.545810057888891 m.\n",
            "Time step t=9, Iteration k=4. Maximum energy conservation error is 2.952238375444492 m.\n",
            "Time step t=9, Iteration k=5. Maximum energy conservation error is 0.23287997540273508 m.\n",
            "Time step t=9, Iteration k=6. Maximum energy conservation error is 0.027985709938879652 m.\n",
            "Time step t=9, Iteration k=7. Maximum energy conservation error is 0.0002007877164514199 m.\n",
            "Time step t=9, Iteration k=8. Maximum energy conservation error is 1.4676444767824925e-08 m.\n",
            "Time step t=10, Iteration k=0. Maximum energy conservation error is 282.48242512726483 m.\n",
            "Time step t=10, Iteration k=1. Maximum energy conservation error is 45.117861828611034 m.\n",
            "Time step t=10, Iteration k=2. Maximum energy conservation error is 10.925381407302124 m.\n",
            "Time step t=10, Iteration k=3. Maximum energy conservation error is 4.545810057888891 m.\n",
            "Time step t=10, Iteration k=4. Maximum energy conservation error is 2.952238375444492 m.\n",
            "Time step t=10, Iteration k=5. Maximum energy conservation error is 0.23287997540273508 m.\n",
            "Time step t=10, Iteration k=6. Maximum energy conservation error is 0.027985709938879652 m.\n",
            "Time step t=10, Iteration k=7. Maximum energy conservation error is 0.0002007877164514199 m.\n",
            "Time step t=10, Iteration k=8. Maximum energy conservation error is 1.4676444767824925e-08 m.\n",
            "Time step t=11, Iteration k=0. Maximum energy conservation error is 280.86044003526774 m.\n",
            "Time step t=11, Iteration k=1. Maximum energy conservation error is 44.965110455925256 m.\n",
            "Time step t=11, Iteration k=2. Maximum energy conservation error is 10.740895658765382 m.\n",
            "Time step t=11, Iteration k=3. Maximum energy conservation error is 4.0330401052332325 m.\n",
            "Time step t=11, Iteration k=4. Maximum energy conservation error is 4.960601554219583 m.\n",
            "Time step t=11, Iteration k=5. Maximum energy conservation error is 0.5598774113761102 m.\n",
            "Time step t=11, Iteration k=6. Maximum energy conservation error is 0.03720418105973122 m.\n",
            "Time step t=11, Iteration k=7. Maximum energy conservation error is 0.0004366347746913024 m.\n",
            "Time step t=11, Iteration k=8. Maximum energy conservation error is 7.506427410208794e-08 m.\n",
            "Time step t=12, Iteration k=0. Maximum energy conservation error is 280.86044003526774 m.\n",
            "Time step t=12, Iteration k=1. Maximum energy conservation error is 44.965110455925256 m.\n",
            "Time step t=12, Iteration k=2. Maximum energy conservation error is 10.740895658765382 m.\n",
            "Time step t=12, Iteration k=3. Maximum energy conservation error is 4.0330401052332325 m.\n",
            "Time step t=12, Iteration k=4. Maximum energy conservation error is 4.960601554219583 m.\n",
            "Time step t=12, Iteration k=5. Maximum energy conservation error is 0.5598774113761102 m.\n",
            "Time step t=12, Iteration k=6. Maximum energy conservation error is 0.03720418105973122 m.\n",
            "Time step t=12, Iteration k=7. Maximum energy conservation error is 0.0004366347746913024 m.\n",
            "Time step t=12, Iteration k=8. Maximum energy conservation error is 7.506427410208794e-08 m.\n",
            "Time step t=13, Iteration k=0. Maximum energy conservation error is 277.47032455143255 m.\n",
            "Time step t=13, Iteration k=1. Maximum energy conservation error is 44.68768237475572 m.\n",
            "Time step t=13, Iteration k=2. Maximum energy conservation error is 10.679147856829243 m.\n",
            "Time step t=13, Iteration k=3. Maximum energy conservation error is 3.397555081130704 m.\n",
            "Time step t=13, Iteration k=4. Maximum energy conservation error is 26.02001633277298 m.\n",
            "Time step t=13, Iteration k=5. Maximum energy conservation error is 5.180327949202856 m.\n",
            "Time step t=13, Iteration k=6. Maximum energy conservation error is 0.7608161869360912 m.\n",
            "Time step t=13, Iteration k=7. Maximum energy conservation error is 0.031326268239589616 m.\n",
            "Time step t=13, Iteration k=8. Maximum energy conservation error is 5.682876943113868e-05 m.\n",
            "Time step t=13, Iteration k=9. Maximum energy conservation error is 1.8425172498837128e-10 m.\n",
            "Time step t=14, Iteration k=0. Maximum energy conservation error is 277.47032455143255 m.\n",
            "Time step t=14, Iteration k=1. Maximum energy conservation error is 44.68768237475572 m.\n",
            "Time step t=14, Iteration k=2. Maximum energy conservation error is 10.679147856829243 m.\n",
            "Time step t=14, Iteration k=3. Maximum energy conservation error is 3.397555081130704 m.\n",
            "Time step t=14, Iteration k=4. Maximum energy conservation error is 26.02001633277298 m.\n",
            "Time step t=14, Iteration k=5. Maximum energy conservation error is 5.180327949202856 m.\n",
            "Time step t=14, Iteration k=6. Maximum energy conservation error is 0.7608161869360912 m.\n",
            "Time step t=14, Iteration k=7. Maximum energy conservation error is 0.031326268239589616 m.\n",
            "Time step t=14, Iteration k=8. Maximum energy conservation error is 5.682876943113868e-05 m.\n",
            "Time step t=14, Iteration k=9. Maximum energy conservation error is 1.8425172498837128e-10 m.\n",
            "Time step t=15, Iteration k=0. Maximum energy conservation error is 277.47032455143255 m.\n",
            "Time step t=15, Iteration k=1. Maximum energy conservation error is 44.68768237475572 m.\n",
            "Time step t=15, Iteration k=2. Maximum energy conservation error is 10.679147856829243 m.\n",
            "Time step t=15, Iteration k=3. Maximum energy conservation error is 3.397555081130704 m.\n",
            "Time step t=15, Iteration k=4. Maximum energy conservation error is 26.02001633277298 m.\n",
            "Time step t=15, Iteration k=5. Maximum energy conservation error is 5.180327949202856 m.\n",
            "Time step t=15, Iteration k=6. Maximum energy conservation error is 0.7608161869360912 m.\n",
            "Time step t=15, Iteration k=7. Maximum energy conservation error is 0.031326268239589616 m.\n",
            "Time step t=15, Iteration k=8. Maximum energy conservation error is 5.682876943113868e-05 m.\n",
            "Time step t=15, Iteration k=9. Maximum energy conservation error is 1.8425172498837128e-10 m.\n",
            "Time step t=16, Iteration k=0. Maximum energy conservation error is 277.47032455143255 m.\n",
            "Time step t=16, Iteration k=1. Maximum energy conservation error is 44.68768237475572 m.\n",
            "Time step t=16, Iteration k=2. Maximum energy conservation error is 10.679147856829243 m.\n",
            "Time step t=16, Iteration k=3. Maximum energy conservation error is 3.397555081130704 m.\n",
            "Time step t=16, Iteration k=4. Maximum energy conservation error is 26.02001633277298 m.\n",
            "Time step t=16, Iteration k=5. Maximum energy conservation error is 5.180327949202856 m.\n",
            "Time step t=16, Iteration k=6. Maximum energy conservation error is 0.7608161869360912 m.\n",
            "Time step t=16, Iteration k=7. Maximum energy conservation error is 0.031326268239589616 m.\n",
            "Time step t=16, Iteration k=8. Maximum energy conservation error is 5.682876943113868e-05 m.\n",
            "Time step t=16, Iteration k=9. Maximum energy conservation error is 1.8425172498837128e-10 m.\n",
            "Time step t=17, Iteration k=0. Maximum energy conservation error is 279.24338779605483 m.\n",
            "Time step t=17, Iteration k=1. Maximum energy conservation error is 44.825622390120834 m.\n",
            "Time step t=17, Iteration k=2. Maximum energy conservation error is 10.693063340486754 m.\n",
            "Time step t=17, Iteration k=3. Maximum energy conservation error is 3.789947661542612 m.\n",
            "Time step t=17, Iteration k=4. Maximum energy conservation error is 8.887934172519595 m.\n",
            "Time step t=17, Iteration k=5. Maximum energy conservation error is 3.8759163525869598 m.\n",
            "Time step t=17, Iteration k=6. Maximum energy conservation error is 0.6616809821533896 m.\n",
            "Time step t=17, Iteration k=7. Maximum energy conservation error is 0.04846768336611207 m.\n",
            "Time step t=17, Iteration k=8. Maximum energy conservation error is 0.00036651740410997835 m.\n",
            "Time step t=17, Iteration k=9. Maximum energy conservation error is 2.16241170525322e-08 m.\n",
            "Time step t=18, Iteration k=0. Maximum energy conservation error is 279.24338779605483 m.\n",
            "Time step t=18, Iteration k=1. Maximum energy conservation error is 44.825622390120834 m.\n",
            "Time step t=18, Iteration k=2. Maximum energy conservation error is 10.693063340486754 m.\n",
            "Time step t=18, Iteration k=3. Maximum energy conservation error is 3.789947661542612 m.\n",
            "Time step t=18, Iteration k=4. Maximum energy conservation error is 8.887934172519595 m.\n",
            "Time step t=18, Iteration k=5. Maximum energy conservation error is 3.8759163525869598 m.\n",
            "Time step t=18, Iteration k=6. Maximum energy conservation error is 0.6616809821533896 m.\n",
            "Time step t=18, Iteration k=7. Maximum energy conservation error is 0.04846768336611207 m.\n",
            "Time step t=18, Iteration k=8. Maximum energy conservation error is 0.00036651740410997835 m.\n",
            "Time step t=18, Iteration k=9. Maximum energy conservation error is 2.16241170525322e-08 m.\n",
            "Time step t=19, Iteration k=0. Maximum energy conservation error is 277.47032455143255 m.\n",
            "Time step t=19, Iteration k=1. Maximum energy conservation error is 44.68768237475572 m.\n",
            "Time step t=19, Iteration k=2. Maximum energy conservation error is 10.679147856829243 m.\n",
            "Time step t=19, Iteration k=3. Maximum energy conservation error is 3.397555081130704 m.\n",
            "Time step t=19, Iteration k=4. Maximum energy conservation error is 26.02001633277298 m.\n",
            "Time step t=19, Iteration k=5. Maximum energy conservation error is 5.180327949202856 m.\n",
            "Time step t=19, Iteration k=6. Maximum energy conservation error is 0.7608161869360912 m.\n",
            "Time step t=19, Iteration k=7. Maximum energy conservation error is 0.031326268239589616 m.\n",
            "Time step t=19, Iteration k=8. Maximum energy conservation error is 5.682876943113868e-05 m.\n",
            "Time step t=19, Iteration k=9. Maximum energy conservation error is 1.8425172498837128e-10 m.\n",
            "Time step t=20, Iteration k=0. Maximum energy conservation error is 277.47032455143255 m.\n",
            "Time step t=20, Iteration k=1. Maximum energy conservation error is 44.68768237475572 m.\n",
            "Time step t=20, Iteration k=2. Maximum energy conservation error is 10.679147856829243 m.\n",
            "Time step t=20, Iteration k=3. Maximum energy conservation error is 3.397555081130704 m.\n",
            "Time step t=20, Iteration k=4. Maximum energy conservation error is 26.02001633277298 m.\n",
            "Time step t=20, Iteration k=5. Maximum energy conservation error is 5.180327949202856 m.\n",
            "Time step t=20, Iteration k=6. Maximum energy conservation error is 0.7608161869360912 m.\n",
            "Time step t=20, Iteration k=7. Maximum energy conservation error is 0.031326268239589616 m.\n",
            "Time step t=20, Iteration k=8. Maximum energy conservation error is 5.682876943113868e-05 m.\n",
            "Time step t=20, Iteration k=9. Maximum energy conservation error is 1.8425172498837128e-10 m.\n",
            "Time step t=21, Iteration k=0. Maximum energy conservation error is 275.8636212733578 m.\n",
            "Time step t=21, Iteration k=1. Maximum energy conservation error is 44.57634425202948 m.\n",
            "Time step t=21, Iteration k=2. Maximum energy conservation error is 10.576281172241156 m.\n",
            "Time step t=21, Iteration k=3. Maximum energy conservation error is 3.029166762722953 m.\n",
            "Time step t=21, Iteration k=4. Maximum energy conservation error is 8.869093356150863 m.\n",
            "Time step t=21, Iteration k=5. Maximum energy conservation error is 1.4653995897191878 m.\n",
            "Time step t=21, Iteration k=6. Maximum energy conservation error is 0.12279842011433839 m.\n",
            "Time step t=21, Iteration k=7. Maximum energy conservation error is 0.001997344812972743 m.\n",
            "Time step t=21, Iteration k=8. Maximum energy conservation error is 2.628602591731033e-06 m.\n",
            "Time step t=22, Iteration k=0. Maximum energy conservation error is 272.5055674616999 m.\n",
            "Time step t=22, Iteration k=1. Maximum energy conservation error is 44.38750593780831 m.\n",
            "Time step t=22, Iteration k=2. Maximum energy conservation error is 10.392667774544881 m.\n",
            "Time step t=22, Iteration k=3. Maximum energy conservation error is 2.5541159165680574 m.\n",
            "Time step t=22, Iteration k=4. Maximum energy conservation error is 0.6526256179883754 m.\n",
            "Time step t=22, Iteration k=5. Maximum energy conservation error is 0.23182853653982477 m.\n",
            "Time step t=22, Iteration k=6. Maximum energy conservation error is 0.10743247995250167 m.\n",
            "Time step t=22, Iteration k=7. Maximum energy conservation error is 0.02199691061043718 m.\n",
            "Time step t=22, Iteration k=8. Maximum energy conservation error is 0.0005401792136992406 m.\n",
            "Time step t=22, Iteration k=9. Maximum energy conservation error is 4.0317258377664533e-07 m.\n",
            "Time step t=23, Iteration k=0. Maximum energy conservation error is 272.5055674616999 m.\n",
            "Time step t=23, Iteration k=1. Maximum energy conservation error is 44.38750593780831 m.\n",
            "Time step t=23, Iteration k=2. Maximum energy conservation error is 10.392667774544881 m.\n",
            "Time step t=23, Iteration k=3. Maximum energy conservation error is 2.5541159165680574 m.\n",
            "Time step t=23, Iteration k=4. Maximum energy conservation error is 0.6526256179883754 m.\n",
            "Time step t=23, Iteration k=5. Maximum energy conservation error is 0.23182853653982477 m.\n",
            "Time step t=23, Iteration k=6. Maximum energy conservation error is 0.10743247995250167 m.\n",
            "Time step t=23, Iteration k=7. Maximum energy conservation error is 0.02199691061043718 m.\n",
            "Time step t=23, Iteration k=8. Maximum energy conservation error is 0.0005401792136992406 m.\n",
            "Time step t=23, Iteration k=9. Maximum energy conservation error is 4.0317258377664533e-07 m.\n",
            "Time step t=24, Iteration k=0. Maximum energy conservation error is 272.5055674616999 m.\n",
            "Time step t=24, Iteration k=1. Maximum energy conservation error is 44.38750593780831 m.\n",
            "Time step t=24, Iteration k=2. Maximum energy conservation error is 10.392667774544881 m.\n",
            "Time step t=24, Iteration k=3. Maximum energy conservation error is 2.5541159165680574 m.\n",
            "Time step t=24, Iteration k=4. Maximum energy conservation error is 0.6526256179883754 m.\n",
            "Time step t=24, Iteration k=5. Maximum energy conservation error is 0.23182853653982477 m.\n",
            "Time step t=24, Iteration k=6. Maximum energy conservation error is 0.10743247995250167 m.\n",
            "Time step t=24, Iteration k=7. Maximum energy conservation error is 0.02199691061043718 m.\n",
            "Time step t=24, Iteration k=8. Maximum energy conservation error is 0.0005401792136992406 m.\n",
            "Time step t=24, Iteration k=9. Maximum energy conservation error is 4.0317258377664533e-07 m.\n"
          ]
        }
      ],
      "source": [
        "### Step 1: unload network and hydraulic data\n",
        "A12 = wdn.A12\n",
        "A10 = wdn.A10\n",
        "net_info = wdn.net_info\n",
        "link_df = wdn.link_df\n",
        "node_df = wdn.node_df\n",
        "demand_df = wdn.demand_df\n",
        "h0_df = wdn.h0_df\n",
        "\n",
        "# define head loss equations\n",
        "def friction_loss(net_info, df):\n",
        "    if net_info['headloss'] == 'H-W':\n",
        "        K = 10.67 * df['length'] * (df['C'] ** -df['n_exp']) * (df['diameter'] ** -4.8704)\n",
        "    else:\n",
        "        K = [] # insert DW formula here...\n",
        "\n",
        "    return K\n",
        "\n",
        "def local_loss(df):\n",
        "    K = (8 / (np.pi ** 2 * 9.81)) * (df['diameter'] ** -4) * df['C']\n",
        "\n",
        "    return K\n",
        "\n",
        "# compute loss coefficients\n",
        "K = np.zeros((net_info['np'], 1))\n",
        "for idx, row in link_df.iterrows():\n",
        "    if row['link_type'] == 'pipe':\n",
        "        K[idx] = friction_loss(net_info, row)\n",
        "\n",
        "    elif row['link_type'] == 'valve':\n",
        "        K[idx] = local_loss(row)\n",
        "\n",
        "n_exp = link_df['n_exp'].astype(float).to_numpy().reshape(-1, 1)\n",
        "\n",
        "# set stopping criteria\n",
        "tol = 1e-5\n",
        "kmax = 50\n",
        "\n",
        "# small values in A11 make convergence unsteady; therefore, we need to define a lower bound -- see Todini (1988), page 7\n",
        "tol_A11 = 1e-5\n",
        "\n",
        "# set solution arrays\n",
        "q = np.zeros((net_info['np'], net_info['nt']))\n",
        "h = np.zeros((net_info['nn'], net_info['nt']))\n",
        "\n",
        "\n",
        "# run over all time steps\n",
        "for t in range(net_info['nt']):\n",
        "\n",
        "    ### Step 2: set initial values\n",
        "    hk = 130 * np.ones((net_info['nn'], 1))\n",
        "    qk = 0.03 * np.ones((net_info['np'], 1))\n",
        "\n",
        "    # set boundary head and demand conditions\n",
        "    dk = demand_df.iloc[:, t+1].to_numpy(); dk = dk.reshape(-1, 1)\n",
        "    h0k = h0_df.iloc[:, t+1].to_numpy(); h0k = h0k.reshape(-1, 1)\n",
        "\n",
        "    # initialise A11 matrix\n",
        "    A11_diag = K * (abs(qk) ** (n_exp - 1)) # diagonal elements of matrix A11\n",
        "    A11_diag[A11_diag < tol_A11] = tol_A11 # replace with small value = tol_A11\n",
        "    A11 = sp.diags(A11_diag.T, [0]) # matrix A11, allocated as a sparse diagonal matrix\n",
        "\n",
        "    # begin iterations\n",
        "    for k in range(kmax):\n",
        "\n",
        "        ### Step 3: compute h^{k+1} and q^{k+1}\n",
        "        inv_A11_diag = 1 / A11_diag; # diagonal elements of the inverse of A11\n",
        "        inv_A11 = sp.diags(inv_A11_diag.T, [0]) # inverse of A11, allocated as a sparse, diagonal matrix\n",
        "\n",
        "        inv_N = sp.diags(1/n_exp.T, [0]) # inverse of matrix N\n",
        "\n",
        "        DD = inv_N @ inv_A11 # matrix inv_N * inv_A11\n",
        "\n",
        "        b = -A12.T @ inv_N @ (qk + inv_A11 @ (A10 @ h0k)) + A12.T @ qk - dk # right-hand side of linear system for finding h^{k+1]\n",
        "        A = A12.T @ DD @ A12 # Schur complement\n",
        "\n",
        "        # solve linear system for h^{k+1]\n",
        "        hk = sp.linalg.spsolve(A, b); hk = hk.reshape(-1, 1)\n",
        "\n",
        "        # solve q^{k+1} by substitution\n",
        "        I = sp.eye(net_info['np'], format='csr') # identiy matrix with dimension np x np, allocated as a sparse matrix\n",
        "        qk = (I - inv_N) @ qk - DD @ ((A12 @ hk) + (A10 @ h0k))\n",
        "\n",
        "        # update A11 matrix\n",
        "        A11_diag = K * (abs(qk) ** (n_exp - 1)) # diagonal elements of matrix A11\n",
        "        A11_diag[A11_diag < tol_A11] = tol_A11 # replace with small value = tol_A11\n",
        "        A11 = sp.diags(A11_diag.T, [0]) # matrix A11, allocated as a sparse diagonal matrix\n",
        "\n",
        "        ### Step 4: convergence check\n",
        "        err = A11 @ qk + A12 @ hk + A10 @ h0k\n",
        "        max_err = np.linalg.norm(err, np.inf)\n",
        "\n",
        "        # print progress\n",
        "        print(f\"Time step t={t+1}, Iteration k={k}. Maximum energy conservation error is {max_err} m.\")\n",
        "\n",
        "        if max_err < tol:\n",
        "            # if successful,  break from loop\n",
        "            break\n",
        "\n",
        "    q[:, t] = qk.T\n",
        "    h[:, t] = hk.T\n",
        "\n",
        "# convert results to pandas dataframe\n",
        "column_names_q = [f'q_{t+1}' for t in range(net_info['nt'])]\n",
        "q_df = pd.DataFrame(q, columns=column_names_q)\n",
        "q_df.insert(0, 'link_ID', link_df['link_ID'])\n",
        "\n",
        "column_names_h = [f'h_{t+1}' for t in range(net_info['nt'])]\n",
        "h_df = pd.DataFrame(h, columns=column_names_h)\n",
        "h_df.insert(0, 'link_ID', link_df['link_ID'])"
      ]
    },
    {
      "cell_type": "markdown",
      "metadata": {
        "id": "v_5YYgSBun6C"
      },
      "source": [
        "<span style=\"color:red\">**NB: The above code comprises a function 'hydraulic_solver' in the file '~/src/hydraulic_functions.py'**.</span>"
      ]
    },
    {
      "cell_type": "markdown",
      "metadata": {
        "id": "qicKOL9mun6C"
      },
      "source": [
        "### Hydraulic solver comparison"
      ]
    },
    {
      "cell_type": "markdown",
      "metadata": {
        "id": "vw3HInMmun6C"
      },
      "source": [
        "Here, we will compare the accuracy and computational times of our Newton-Raphson (original) and Newton-Raphson (with Schur complement) hydraulic solvers. We also check their accuracy in comparison to the EPANET solver engine used in the `wntr` package."
      ]
    },
    {
      "cell_type": "markdown",
      "metadata": {
        "id": "VRD58wwRun6C"
      },
      "source": [
        "Again, we first import the functions we have written and load the network data."
      ]
    },
    {
      "cell_type": "code",
      "execution_count": 17,
      "metadata": {
        "id": "hNxGuKF_un6C"
      },
      "outputs": [],
      "source": [
        "import time # for comparing cpu times\n",
        "\n",
        "# net_name = 'demo.inp'\n",
        "net_name = 'pescara.inp'\n",
        "# net_name = 'BWSnet.inp'\n",
        "# net_name = 'bwfl_2022_05_hw.inp'\n",
        "\n",
        "wdn = gen_fn.load_network_data(os.path.join(net_dir, net_name))"
      ]
    },
    {
      "cell_type": "markdown",
      "metadata": {
        "id": "X1fuNdZDun6C"
      },
      "source": [
        "Simulate hydraulics and compare computational times."
      ]
    },
    {
      "cell_type": "code",
      "execution_count": null,
      "metadata": {
        "id": "YkFVKj_Hun6D"
      },
      "outputs": [],
      "source": [
        "### fn.hydraulic_solver(wdn, method=None, print_status=False)"
      ]
    },
    {
      "cell_type": "code",
      "execution_count": 18,
      "metadata": {
        "colab": {
          "base_uri": "https://localhost:8080/"
        },
        "id": "I3qm7dDmun6D",
        "outputId": "fb911853-dc59-4dbf-9475-f14db1920727"
      },
      "outputs": [
        {
          "output_type": "execute_result",
          "data": {
            "text/plain": [
              "0.6722399409999866"
            ]
          },
          "metadata": {},
          "execution_count": 18
        }
      ],
      "source": [
        "### Newton-Raphson solver\n",
        "start_time = time.perf_counter()\n",
        "q_nr, h_nr = hyd_fn.hydraulic_solver(wdn, method='nr')\n",
        "end_time = time.perf_counter()\n",
        "cpu_time_nr = end_time - start_time\n",
        "cpu_time_nr"
      ]
    },
    {
      "cell_type": "code",
      "execution_count": 19,
      "metadata": {
        "colab": {
          "base_uri": "https://localhost:8080/"
        },
        "id": "KhTJlej_un6D",
        "outputId": "0750678f-e666-481d-d6a5-861100a0d3fb"
      },
      "outputs": [
        {
          "output_type": "execute_result",
          "data": {
            "text/plain": [
              "0.8228282970000009"
            ]
          },
          "metadata": {},
          "execution_count": 19
        }
      ],
      "source": [
        "### Newton-Raphson with Schur complement solver\n",
        "start_time = time.perf_counter()\n",
        "q_schur, h_schur = hyd_fn.hydraulic_solver(wdn, method='nr_schur')\n",
        "end_time = time.perf_counter()\n",
        "cpu_time_schur = end_time - start_time\n",
        "cpu_time_schur"
      ]
    },
    {
      "cell_type": "code",
      "execution_count": 20,
      "metadata": {
        "colab": {
          "base_uri": "https://localhost:8080/"
        },
        "id": "RqMjQ2OPun6D",
        "outputId": "e29c6e8f-00d3-41e7-8366-ca7796bfcdc3"
      },
      "outputs": [
        {
          "output_type": "execute_result",
          "data": {
            "text/plain": [
              "0.060884930999975495"
            ]
          },
          "metadata": {},
          "execution_count": 20
        }
      ],
      "source": [
        "### EPANET solver (via WNTR package)\n",
        "start_time = time.perf_counter()\n",
        "q_epa, h_epa = hyd_fn.epanet_solver(os.path.join(net_dir, net_name))\n",
        "end_time = time.perf_counter()\n",
        "cpu_time_epa = end_time - start_time\n",
        "cpu_time_epa"
      ]
    },
    {
      "cell_type": "markdown",
      "metadata": {
        "id": "V_V4jrjyx1Xv"
      },
      "source": [
        "The results indicate an increase in computational speed applying the Schur complement in the Newton-Raphson step.\n",
        "\n",
        "Note that the EPANET solver used in `wntr` is faster since it is compiled in C++. Python is known to have a slower compiling time since it is a higher level language than C++. Moreover, the presented code was not intended to have efficiency as its main goal. This could certainly be improved upon. In any case, the purpose of this notebook was to describe the solver routine for hydraulic models."
      ]
    },
    {
      "cell_type": "markdown",
      "metadata": {
        "id": "ajYlWRg8un6F"
      },
      "source": [
        "We also show how to plot node and edge values below using the `networkx` package."
      ]
    },
    {
      "cell_type": "code",
      "execution_count": 21,
      "metadata": {
        "colab": {
          "base_uri": "https://localhost:8080/",
          "height": 506
        },
        "id": "beebr8hZun6F",
        "outputId": "15568a61-366d-4946-8aac-a3deef221d7b"
      },
      "outputs": [
        {
          "output_type": "display_data",
          "data": {
            "text/plain": [
              "<Figure size 1920x1440 with 2 Axes>"
            ],
            "image/svg+xml": "<?xml version=\"1.0\" encoding=\"utf-8\" standalone=\"no\"?>\n<!DOCTYPE svg PUBLIC \"-//W3C//DTD SVG 1.1//EN\"\n  \"http://www.w3.org/Graphics/SVG/1.1/DTD/svg11.dtd\">\n<svg xmlns:xlink=\"http://www.w3.org/1999/xlink\" width=\"458.69875pt\" height=\"363.799219pt\" viewBox=\"0 0 458.69875 363.799219\" xmlns=\"http://www.w3.org/2000/svg\" version=\"1.1\">\n <metadata>\n  <rdf:RDF xmlns:dc=\"http://purl.org/dc/elements/1.1/\" xmlns:cc=\"http://creativecommons.org/ns#\" xmlns:rdf=\"http://www.w3.org/1999/02/22-rdf-syntax-ns#\">\n   <cc:Work>\n    <dc:type rdf:resource=\"http://purl.org/dc/dcmitype/StillImage\"/>\n    <dc:date>2023-08-21T12:39:19.329299</dc:date>\n    <dc:format>image/svg+xml</dc:format>\n    <dc:creator>\n     <cc:Agent>\n      <dc:title>Matplotlib v3.7.1, https://matplotlib.org/</dc:title>\n     </cc:Agent>\n    </dc:creator>\n   </cc:Work>\n  </rdf:RDF>\n </metadata>\n <defs>\n  <style type=\"text/css\">*{stroke-linejoin: round; stroke-linecap: butt}</style>\n </defs>\n <g id=\"figure_1\">\n  <g id=\"patch_1\">\n   <path d=\"M 0 363.799219 \nL 458.69875 363.799219 \nL 458.69875 0 \nL 0 0 \nz\n\" style=\"fill: #ffffff\"/>\n  </g>\n  <g id=\"axes_1\">\n   <g id=\"LineCollection_1\">\n    <path d=\"M 39.189421 83.603902 \nL 75.135031 103.256245 \n\" clip-path=\"url(#p059d5b7242)\" style=\"fill: none; stroke: #000000\"/>\n    <path d=\"M 39.189421 83.603902 \nL 52.8977 84.735808 \n\" clip-path=\"url(#p059d5b7242)\" style=\"fill: none; stroke: #000000\"/>\n    <path d=\"M 75.135031 103.256245 \nL 112.636699 96.496013 \n\" clip-path=\"url(#p059d5b7242)\" style=\"fill: none; stroke: #000000\"/>\n    <path d=\"M 75.135031 103.256245 \nL 75.418552 86.55067 \n\" clip-path=\"url(#p059d5b7242)\" style=\"fill: none; stroke: #000000\"/>\n    <path d=\"M 52.8977 84.735808 \nL 75.418552 86.55067 \n\" clip-path=\"url(#p059d5b7242)\" style=\"fill: none; stroke: #000000\"/>\n    <path d=\"M 52.8977 84.735808 \nL 107.934929 58.236562 \n\" clip-path=\"url(#p059d5b7242)\" style=\"fill: none; stroke: #000000\"/>\n    <path d=\"M 75.418552 86.55067 \nL 112.694217 89.009488 \n\" clip-path=\"url(#p059d5b7242)\" style=\"fill: none; stroke: #000000\"/>\n    <path d=\"M 107.934929 58.236562 \nL 117.418384 62.759851 \n\" clip-path=\"url(#p059d5b7242)\" style=\"fill: none; stroke: #000000\"/>\n    <path d=\"M 107.934929 58.236562 \nL 183.027342 53.63267 \n\" clip-path=\"url(#p059d5b7242)\" style=\"fill: none; stroke: #000000\"/>\n    <path d=\"M 281.677471 312.227174 \nL 291.902561 309.648752 \n\" clip-path=\"url(#p059d5b7242)\" style=\"fill: none; stroke: #000000\"/>\n    <path d=\"M 281.677471 312.227174 \nL 226.471758 209.58344 \n\" clip-path=\"url(#p059d5b7242)\" style=\"fill: none; stroke: #000000\"/>\n    <path d=\"M 281.677471 312.227174 \nL 343.850579 326.609136 \n\" clip-path=\"url(#p059d5b7242)\" style=\"fill: none; stroke: #000000\"/>\n    <path d=\"M 291.902561 309.648752 \nL 280.297023 250.654454 \n\" clip-path=\"url(#p059d5b7242)\" style=\"fill: none; stroke: #000000\"/>\n    <path d=\"M 291.902561 309.648752 \nL 341.556958 315.00667 \n\" clip-path=\"url(#p059d5b7242)\" style=\"fill: none; stroke: #000000\"/>\n    <path d=\"M 226.471758 209.58344 \nL 236.607261 164.818565 \n\" clip-path=\"url(#p059d5b7242)\" style=\"fill: none; stroke: #000000\"/>\n    <path d=\"M 226.471758 209.58344 \nL 241.493804 214.92489 \n\" clip-path=\"url(#p059d5b7242)\" style=\"fill: none; stroke: #000000\"/>\n    <path d=\"M 210.463242 200.054978 \nL 168.370769 186.659317 \n\" clip-path=\"url(#p059d5b7242)\" style=\"fill: none; stroke: #000000\"/>\n    <path d=\"M 168.370769 186.659317 \nL 232.984094 119.972221 \n\" clip-path=\"url(#p059d5b7242)\" style=\"fill: none; stroke: #000000\"/>\n    <path d=\"M 168.370769 186.659317 \nL 164.581662 149.564707 \n\" clip-path=\"url(#p059d5b7242)\" style=\"fill: none; stroke: #000000\"/>\n    <path d=\"M 340.000899 120.12996 \nL 339.50461 116.408365 \n\" clip-path=\"url(#p059d5b7242)\" style=\"fill: none; stroke: #000000\"/>\n    <path d=\"M 339.50461 116.408365 \nL 331.522748 112.990114 \n\" clip-path=\"url(#p059d5b7242)\" style=\"fill: none; stroke: #000000\"/>\n    <path d=\"M 295.783799 133.747495 \nL 321.641752 108.797903 \n\" clip-path=\"url(#p059d5b7242)\" style=\"fill: none; stroke: #000000\"/>\n    <path d=\"M 295.783799 133.747495 \nL 264.377584 130.0103 \n\" clip-path=\"url(#p059d5b7242)\" style=\"fill: none; stroke: #000000\"/>\n    <path d=\"M 321.641752 108.797903 \nL 331.522748 112.990114 \n\" clip-path=\"url(#p059d5b7242)\" style=\"fill: none; stroke: #000000\"/>\n    <path d=\"M 321.641752 108.797903 \nL 321.803619 108.656631 \n\" clip-path=\"url(#p059d5b7242)\" style=\"fill: none; stroke: #000000\"/>\n    <path d=\"M 264.377584 130.0103 \nL 247.404993 127.301873 \n\" clip-path=\"url(#p059d5b7242)\" style=\"fill: none; stroke: #000000\"/>\n    <path d=\"M 264.377584 130.0103 \nL 264.638199 100.401347 \n\" clip-path=\"url(#p059d5b7242)\" style=\"fill: none; stroke: #000000\"/>\n    <path d=\"M 247.404993 127.301873 \nL 264.638199 100.401347 \n\" clip-path=\"url(#p059d5b7242)\" style=\"fill: none; stroke: #000000\"/>\n    <path d=\"M 247.404993 127.301873 \nL 244.598794 126.91706 \n\" clip-path=\"url(#p059d5b7242)\" style=\"fill: none; stroke: #000000\"/>\n    <path d=\"M 264.638199 100.401347 \nL 275.279663 68.13857 \n\" clip-path=\"url(#p059d5b7242)\" style=\"fill: none; stroke: #000000\"/>\n    <path d=\"M 264.638199 100.401347 \nL 307.481469 104.859634 \n\" clip-path=\"url(#p059d5b7242)\" style=\"fill: none; stroke: #000000\"/>\n    <path d=\"M 275.279663 68.13857 \nL 307.646899 47.646397 \n\" clip-path=\"url(#p059d5b7242)\" style=\"fill: none; stroke: #000000\"/>\n    <path d=\"M 275.279663 68.13857 \nL 307.840833 68.208772 \n\" clip-path=\"url(#p059d5b7242)\" style=\"fill: none; stroke: #000000\"/>\n    <path d=\"M 307.646899 47.646397 \nL 307.840833 68.208772 \n\" clip-path=\"url(#p059d5b7242)\" style=\"fill: none; stroke: #000000\"/>\n    <path d=\"M 307.646899 47.646397 \nL 342.825932 40.989301 \n\" clip-path=\"url(#p059d5b7242)\" style=\"fill: none; stroke: #000000\"/>\n    <path d=\"M 307.840833 68.208772 \nL 307.481469 104.859634 \n\" clip-path=\"url(#p059d5b7242)\" style=\"fill: none; stroke: #000000\"/>\n    <path d=\"M 331.522748 112.990114 \nL 316.548041 188.436045 \n\" clip-path=\"url(#p059d5b7242)\" style=\"fill: none; stroke: #000000\"/>\n    <path d=\"M 316.548041 188.436045 \nL 299.133625 177.293795 \n\" clip-path=\"url(#p059d5b7242)\" style=\"fill: none; stroke: #000000\"/>\n    <path d=\"M 316.548041 188.436045 \nL 279.705038 247.951228 \n\" clip-path=\"url(#p059d5b7242)\" style=\"fill: none; stroke: #000000\"/>\n    <path d=\"M 321.803619 108.656631 \nL 307.481469 104.859634 \n\" clip-path=\"url(#p059d5b7242)\" style=\"fill: none; stroke: #000000\"/>\n    <path d=\"M 321.803619 108.656631 \nL 338.273812 60.289766 \n\" clip-path=\"url(#p059d5b7242)\" style=\"fill: none; stroke: #000000\"/>\n    <path d=\"M 271.229941 252.089704 \nL 280.297023 250.654454 \n\" clip-path=\"url(#p059d5b7242)\" style=\"fill: none; stroke: #000000\"/>\n    <path d=\"M 271.229941 252.089704 \nL 257.852522 220.89903 \n\" clip-path=\"url(#p059d5b7242)\" style=\"fill: none; stroke: #000000\"/>\n    <path d=\"M 280.297023 250.654454 \nL 279.705038 247.951228 \n\" clip-path=\"url(#p059d5b7242)\" style=\"fill: none; stroke: #000000\"/>\n    <path d=\"M 257.852522 220.89903 \nL 241.493804 214.92489 \n\" clip-path=\"url(#p059d5b7242)\" style=\"fill: none; stroke: #000000\"/>\n    <path d=\"M 257.852522 220.89903 \nL 243.49525 166.411553 \n\" clip-path=\"url(#p059d5b7242)\" style=\"fill: none; stroke: #000000\"/>\n    <path d=\"M 232.984094 119.972221 \nL 232.529035 98.792758 \n\" clip-path=\"url(#p059d5b7242)\" style=\"fill: none; stroke: #000000\"/>\n    <path d=\"M 232.984094 119.972221 \nL 238.599036 124.625515 \n\" clip-path=\"url(#p059d5b7242)\" style=\"fill: none; stroke: #000000\"/>\n    <path d=\"M 232.529035 98.792758 \nL 232.318811 98.727756 \n\" clip-path=\"url(#p059d5b7242)\" style=\"fill: none; stroke: #000000\"/>\n    <path d=\"M 232.529035 98.792758 \nL 235.898204 98.954831 \n\" clip-path=\"url(#p059d5b7242)\" style=\"fill: none; stroke: #000000\"/>\n    <path d=\"M 241.493804 214.92489 \nL 240.272168 165.718196 \n\" clip-path=\"url(#p059d5b7242)\" style=\"fill: none; stroke: #000000\"/>\n    <path d=\"M 243.49525 166.411553 \nL 240.272168 165.718196 \n\" clip-path=\"url(#p059d5b7242)\" style=\"fill: none; stroke: #000000\"/>\n    <path d=\"M 243.49525 166.411553 \nL 246.275489 139.901041 \n\" clip-path=\"url(#p059d5b7242)\" style=\"fill: none; stroke: #000000\"/>\n    <path d=\"M 279.705038 247.951228 \nL 256.780537 165.999873 \n\" clip-path=\"url(#p059d5b7242)\" style=\"fill: none; stroke: #000000\"/>\n    <path d=\"M 238.599036 124.625515 \nL 244.598794 126.91706 \n\" clip-path=\"url(#p059d5b7242)\" style=\"fill: none; stroke: #000000\"/>\n    <path d=\"M 236.607261 164.818565 \nL 246.275489 139.901041 \n\" clip-path=\"url(#p059d5b7242)\" style=\"fill: none; stroke: #000000\"/>\n    <path d=\"M 236.607261 164.818565 \nL 240.272168 165.718196 \n\" clip-path=\"url(#p059d5b7242)\" style=\"fill: none; stroke: #000000\"/>\n    <path d=\"M 246.275489 139.901041 \nL 299.133625 177.293795 \n\" clip-path=\"url(#p059d5b7242)\" style=\"fill: none; stroke: #000000\"/>\n    <path d=\"M 164.581662 149.564707 \nL 148.923348 156.536413 \n\" clip-path=\"url(#p059d5b7242)\" style=\"fill: none; stroke: #000000\"/>\n    <path d=\"M 164.581662 149.564707 \nL 162.987937 129.928831 \n\" clip-path=\"url(#p059d5b7242)\" style=\"fill: none; stroke: #000000\"/>\n    <path d=\"M 148.923348 156.536413 \nL 148.414333 156.536413 \n\" clip-path=\"url(#p059d5b7242)\" style=\"fill: none; stroke: #000000\"/>\n    <path d=\"M 162.987937 129.928831 \nL 167.174584 100.943032 \n\" clip-path=\"url(#p059d5b7242)\" style=\"fill: none; stroke: #000000\"/>\n    <path d=\"M 162.987937 129.928831 \nL 185.508789 95.819123 \n\" clip-path=\"url(#p059d5b7242)\" style=\"fill: none; stroke: #000000\"/>\n    <path d=\"M 248.989047 71.795162 \nL 235.898204 98.954831 \n\" clip-path=\"url(#p059d5b7242)\" style=\"fill: none; stroke: #000000\"/>\n    <path d=\"M 248.989047 71.795162 \nL 232.029691 67.413145 \n\" clip-path=\"url(#p059d5b7242)\" style=\"fill: none; stroke: #000000\"/>\n    <path d=\"M 248.989047 71.795162 \nL 183.027342 53.63267 \n\" clip-path=\"url(#p059d5b7242)\" style=\"fill: none; stroke: #000000\"/>\n    <path d=\"M 235.898204 98.954831 \nL 232.258748 85.320828 \n\" clip-path=\"url(#p059d5b7242)\" style=\"fill: none; stroke: #000000\"/>\n    <path d=\"M 187.881816 93.749451 \nL 199.529094 95.85119 \n\" clip-path=\"url(#p059d5b7242)\" style=\"fill: none; stroke: #000000\"/>\n    <path d=\"M 187.881816 93.749451 \nL 185.508789 95.819123 \n\" clip-path=\"url(#p059d5b7242)\" style=\"fill: none; stroke: #000000\"/>\n    <path d=\"M 199.529094 95.85119 \nL 232.318811 98.727756 \n\" clip-path=\"url(#p059d5b7242)\" style=\"fill: none; stroke: #000000\"/>\n    <path d=\"M 199.529094 95.85119 \nL 199.595775 82.335925 \n\" clip-path=\"url(#p059d5b7242)\" style=\"fill: none; stroke: #000000\"/>\n    <path d=\"M 232.318811 98.727756 \nL 232.258748 85.320828 \n\" clip-path=\"url(#p059d5b7242)\" style=\"fill: none; stroke: #000000\"/>\n    <path d=\"M 232.258748 85.320828 \nL 199.595775 82.335925 \n\" clip-path=\"url(#p059d5b7242)\" style=\"fill: none; stroke: #000000\"/>\n    <path d=\"M 232.258748 85.320828 \nL 232.029691 67.413145 \n\" clip-path=\"url(#p059d5b7242)\" style=\"fill: none; stroke: #000000\"/>\n    <path d=\"M 199.595775 82.335925 \nL 199.888458 68.761724 \n\" clip-path=\"url(#p059d5b7242)\" style=\"fill: none; stroke: #000000\"/>\n    <path d=\"M 199.595775 82.335925 \nL 183.027342 81.041947 \n\" clip-path=\"url(#p059d5b7242)\" style=\"fill: none; stroke: #000000\"/>\n    <path d=\"M 232.029691 67.413145 \nL 199.888458 68.761724 \n\" clip-path=\"url(#p059d5b7242)\" style=\"fill: none; stroke: #000000\"/>\n    <path d=\"M 199.888458 68.761724 \nL 183.027342 67.97043 \n\" clip-path=\"url(#p059d5b7242)\" style=\"fill: none; stroke: #000000\"/>\n    <path d=\"M 173.938373 80.337323 \nL 173.890526 67.537082 \n\" clip-path=\"url(#p059d5b7242)\" style=\"fill: none; stroke: #000000\"/>\n    <path d=\"M 173.938373 80.337323 \nL 183.027342 90.867686 \n\" clip-path=\"url(#p059d5b7242)\" style=\"fill: none; stroke: #000000\"/>\n    <path d=\"M 173.890526 67.537082 \nL 117.418384 62.759851 \n\" clip-path=\"url(#p059d5b7242)\" style=\"fill: none; stroke: #000000\"/>\n    <path d=\"M 173.890526 67.537082 \nL 183.027342 67.97043 \n\" clip-path=\"url(#p059d5b7242)\" style=\"fill: none; stroke: #000000\"/>\n    <path d=\"M 173.890526 67.537082 \nL 183.027342 81.041947 \n\" clip-path=\"url(#p059d5b7242)\" style=\"fill: none; stroke: #000000\"/>\n    <path d=\"M 173.890526 67.537082 \nL 183.027342 53.63267 \n\" clip-path=\"url(#p059d5b7242)\" style=\"fill: none; stroke: #000000\"/>\n    <path d=\"M 185.508789 95.819123 \nL 167.174584 100.943032 \n\" clip-path=\"url(#p059d5b7242)\" style=\"fill: none; stroke: #000000\"/>\n    <path d=\"M 167.174584 100.943032 \nL 121.423822 97.627918 \n\" clip-path=\"url(#p059d5b7242)\" style=\"fill: none; stroke: #000000\"/>\n    <path d=\"M 121.423822 97.627918 \nL 117.163877 78.940208 \n\" clip-path=\"url(#p059d5b7242)\" style=\"fill: none; stroke: #000000\"/>\n    <path d=\"M 121.423822 97.627918 \nL 112.636699 96.496013 \n\" clip-path=\"url(#p059d5b7242)\" style=\"fill: none; stroke: #000000\"/>\n    <path d=\"M 112.694217 89.009488 \nL 117.163877 78.940208 \n\" clip-path=\"url(#p059d5b7242)\" style=\"fill: none; stroke: #000000\"/>\n    <path d=\"M 112.694217 89.009488 \nL 112.636699 96.496013 \n\" clip-path=\"url(#p059d5b7242)\" style=\"fill: none; stroke: #000000\"/>\n    <path d=\"M 117.163877 78.940208 \nL 117.418384 62.759851 \n\" clip-path=\"url(#p059d5b7242)\" style=\"fill: none; stroke: #000000\"/>\n    <path d=\"M 343.850579 326.609136 \nL 341.556958 315.00667 \n\" clip-path=\"url(#p059d5b7242)\" style=\"fill: none; stroke: #000000\"/>\n    <path d=\"M 338.038138 60.126827 \nL 338.273812 60.289766 \n\" clip-path=\"url(#p059d5b7242)\" style=\"fill: none; stroke: #000000\"/>\n    <path d=\"M 338.038138 60.126827 \nL 342.825932 40.989301 \n\" clip-path=\"url(#p059d5b7242)\" style=\"fill: none; stroke: #000000\"/>\n    <path d=\"M 338.273812 60.289766 \nL 342.825932 40.989301 \n\" clip-path=\"url(#p059d5b7242)\" style=\"fill: none; stroke: #000000\"/>\n    <path d=\"M 183.027342 90.867686 \nL 183.027342 81.041947 \n\" clip-path=\"url(#p059d5b7242)\" style=\"fill: none; stroke: #000000\"/>\n    <path d=\"M 183.027342 67.97043 \nL 183.027342 81.041947 \n\" clip-path=\"url(#p059d5b7242)\" style=\"fill: none; stroke: #000000\"/>\n   </g>\n   <g id=\"PathCollection_1\">\n    <defs>\n     <path id=\"C0_0_b6439cbe49\" d=\"M 0 2.738613 \nC 0.726289 2.738613 1.422928 2.450055 1.936492 1.936492 \nC 2.450055 1.422928 2.738613 0.726289 2.738613 -0 \nC 2.738613 -0.726289 2.450055 -1.422928 1.936492 -1.936492 \nC 1.422928 -2.450055 0.726289 -2.738613 0 -2.738613 \nC -0.726289 -2.738613 -1.422928 -2.450055 -1.936492 -1.936492 \nC -2.450055 -1.422928 -2.738613 -0.726289 -2.738613 0 \nC -2.738613 0.726289 -2.450055 1.422928 -1.936492 1.936492 \nC -1.422928 2.450055 -0.726289 2.738613 0 2.738613 \nz\n\"/>\n    </defs>\n    <g clip-path=\"url(#p059d5b7242)\">\n     <use xlink:href=\"#C0_0_b6439cbe49\" x=\"39.189421\" y=\"83.603902\" style=\"fill: #a90426; stroke: #a90426\"/>\n    </g>\n    <g clip-path=\"url(#p059d5b7242)\">\n     <use xlink:href=\"#C0_0_b6439cbe49\" x=\"75.135031\" y=\"103.256245\" style=\"fill: #ad0826; stroke: #ad0826\"/>\n    </g>\n    <g clip-path=\"url(#p059d5b7242)\">\n     <use xlink:href=\"#C0_0_b6439cbe49\" x=\"52.8977\" y=\"84.735808\" style=\"fill: #b10b26; stroke: #b10b26\"/>\n    </g>\n    <g clip-path=\"url(#p059d5b7242)\">\n     <use xlink:href=\"#C0_0_b6439cbe49\" x=\"75.418552\" y=\"86.55067\" style=\"fill: #c21c27; stroke: #c21c27\"/>\n    </g>\n    <g clip-path=\"url(#p059d5b7242)\">\n     <use xlink:href=\"#C0_0_b6439cbe49\" x=\"107.934929\" y=\"58.236562\" style=\"fill: #a50026; stroke: #a50026\"/>\n    </g>\n    <g clip-path=\"url(#p059d5b7242)\">\n     <use xlink:href=\"#C0_0_b6439cbe49\" x=\"281.677471\" y=\"312.227174\" style=\"fill: #eff9dd; stroke: #eff9dd\"/>\n    </g>\n    <g clip-path=\"url(#p059d5b7242)\">\n     <use xlink:href=\"#C0_0_b6439cbe49\" x=\"291.902561\" y=\"309.648752\" style=\"fill: #eff9dd; stroke: #eff9dd\"/>\n    </g>\n    <g clip-path=\"url(#p059d5b7242)\">\n     <use xlink:href=\"#C0_0_b6439cbe49\" x=\"226.471758\" y=\"209.58344\" style=\"fill: #fff1aa; stroke: #fff1aa\"/>\n    </g>\n    <g clip-path=\"url(#p059d5b7242)\">\n     <use xlink:href=\"#C0_0_b6439cbe49\" x=\"210.463242\" y=\"200.054978\" style=\"fill: #f57245; stroke: #f57245\"/>\n    </g>\n    <g clip-path=\"url(#p059d5b7242)\">\n     <use xlink:href=\"#C0_0_b6439cbe49\" x=\"168.370769\" y=\"186.659317\" style=\"fill: #fed485; stroke: #fed485\"/>\n    </g>\n    <g clip-path=\"url(#p059d5b7242)\">\n     <use xlink:href=\"#C0_0_b6439cbe49\" x=\"299.133625\" y=\"177.293795\" style=\"fill: #b9e0ed; stroke: #b9e0ed\"/>\n    </g>\n    <g clip-path=\"url(#p059d5b7242)\">\n     <use xlink:href=\"#C0_0_b6439cbe49\" x=\"295.783799\" y=\"133.747495\" style=\"fill: #70a9cf; stroke: #70a9cf\"/>\n    </g>\n    <g clip-path=\"url(#p059d5b7242)\">\n     <use xlink:href=\"#C0_0_b6439cbe49\" x=\"339.50461\" y=\"116.408365\" style=\"fill: #323896; stroke: #323896\"/>\n    </g>\n    <g clip-path=\"url(#p059d5b7242)\">\n     <use xlink:href=\"#C0_0_b6439cbe49\" x=\"321.641752\" y=\"108.797903\" style=\"fill: #3f62ab; stroke: #3f62ab\"/>\n    </g>\n    <g clip-path=\"url(#p059d5b7242)\">\n     <use xlink:href=\"#C0_0_b6439cbe49\" x=\"264.377584\" y=\"130.0103\" style=\"fill: #b2ddeb; stroke: #b2ddeb\"/>\n    </g>\n    <g clip-path=\"url(#p059d5b7242)\">\n     <use xlink:href=\"#C0_0_b6439cbe49\" x=\"247.404993\" y=\"127.301873\" style=\"fill: #e7f6eb; stroke: #e7f6eb\"/>\n    </g>\n    <g clip-path=\"url(#p059d5b7242)\">\n     <use xlink:href=\"#C0_0_b6439cbe49\" x=\"264.638199\" y=\"100.401347\" style=\"fill: #d8eff6; stroke: #d8eff6\"/>\n    </g>\n    <g clip-path=\"url(#p059d5b7242)\">\n     <use xlink:href=\"#C0_0_b6439cbe49\" x=\"275.279663\" y=\"68.13857\" style=\"fill: #ecf8e2; stroke: #ecf8e2\"/>\n    </g>\n    <g clip-path=\"url(#p059d5b7242)\">\n     <use xlink:href=\"#C0_0_b6439cbe49\" x=\"307.646899\" y=\"47.646397\" style=\"fill: #e4f4f1; stroke: #e4f4f1\"/>\n    </g>\n    <g clip-path=\"url(#p059d5b7242)\">\n     <use xlink:href=\"#C0_0_b6439cbe49\" x=\"307.840833\" y=\"68.208772\" style=\"fill: #daf0f6; stroke: #daf0f6\"/>\n    </g>\n    <g clip-path=\"url(#p059d5b7242)\">\n     <use xlink:href=\"#C0_0_b6439cbe49\" x=\"331.522748\" y=\"112.990114\" style=\"fill: #374a9f; stroke: #374a9f\"/>\n    </g>\n    <g clip-path=\"url(#p059d5b7242)\">\n     <use xlink:href=\"#C0_0_b6439cbe49\" x=\"316.548041\" y=\"188.436045\" style=\"fill: #74add1; stroke: #74add1\"/>\n    </g>\n    <g clip-path=\"url(#p059d5b7242)\">\n     <use xlink:href=\"#C0_0_b6439cbe49\" x=\"321.803619\" y=\"108.656631\" style=\"fill: #4065ac; stroke: #4065ac\"/>\n    </g>\n    <g clip-path=\"url(#p059d5b7242)\">\n     <use xlink:href=\"#C0_0_b6439cbe49\" x=\"307.481469\" y=\"104.859634\" style=\"fill: #4676b5; stroke: #4676b5\"/>\n    </g>\n    <g clip-path=\"url(#p059d5b7242)\">\n     <use xlink:href=\"#C0_0_b6439cbe49\" x=\"271.229941\" y=\"252.089704\" style=\"fill: #fff0a8; stroke: #fff0a8\"/>\n    </g>\n    <g clip-path=\"url(#p059d5b7242)\">\n     <use xlink:href=\"#C0_0_b6439cbe49\" x=\"280.297023\" y=\"250.654454\" style=\"fill: #fff1aa; stroke: #fff1aa\"/>\n    </g>\n    <g clip-path=\"url(#p059d5b7242)\">\n     <use xlink:href=\"#C0_0_b6439cbe49\" x=\"257.852522\" y=\"220.89903\" style=\"fill: #fff0a8; stroke: #fff0a8\"/>\n    </g>\n    <g clip-path=\"url(#p059d5b7242)\">\n     <use xlink:href=\"#C0_0_b6439cbe49\" x=\"232.984094\" y=\"119.972221\" style=\"fill: #fee496; stroke: #fee496\"/>\n    </g>\n    <g clip-path=\"url(#p059d5b7242)\">\n     <use xlink:href=\"#C0_0_b6439cbe49\" x=\"232.529035\" y=\"98.792758\" style=\"fill: #e14430; stroke: #e14430\"/>\n    </g>\n    <g clip-path=\"url(#p059d5b7242)\">\n     <use xlink:href=\"#C0_0_b6439cbe49\" x=\"241.493804\" y=\"214.92489\" style=\"fill: #fff1aa; stroke: #fff1aa\"/>\n    </g>\n    <g clip-path=\"url(#p059d5b7242)\">\n     <use xlink:href=\"#C0_0_b6439cbe49\" x=\"243.49525\" y=\"166.411553\" style=\"fill: #fffab7; stroke: #fffab7\"/>\n    </g>\n    <g clip-path=\"url(#p059d5b7242)\">\n     <use xlink:href=\"#C0_0_b6439cbe49\" x=\"279.705038\" y=\"247.951228\" style=\"fill: #fff1aa; stroke: #fff1aa\"/>\n    </g>\n    <g clip-path=\"url(#p059d5b7242)\">\n     <use xlink:href=\"#C0_0_b6439cbe49\" x=\"256.780537\" y=\"165.999873\" style=\"fill: #feeda4; stroke: #feeda4\"/>\n    </g>\n    <g clip-path=\"url(#p059d5b7242)\">\n     <use xlink:href=\"#C0_0_b6439cbe49\" x=\"238.599036\" y=\"124.625515\" style=\"fill: #f7fcce; stroke: #f7fcce\"/>\n    </g>\n    <g clip-path=\"url(#p059d5b7242)\">\n     <use xlink:href=\"#C0_0_b6439cbe49\" x=\"244.598794\" y=\"126.91706\" style=\"fill: #f1fad9; stroke: #f1fad9\"/>\n    </g>\n    <g clip-path=\"url(#p059d5b7242)\">\n     <use xlink:href=\"#C0_0_b6439cbe49\" x=\"246.275489\" y=\"139.901041\" style=\"fill: #e9f6e8; stroke: #e9f6e8\"/>\n    </g>\n    <g clip-path=\"url(#p059d5b7242)\">\n     <use xlink:href=\"#C0_0_b6439cbe49\" x=\"236.607261\" y=\"164.818565\" style=\"fill: #fff8b5; stroke: #fff8b5\"/>\n    </g>\n    <g clip-path=\"url(#p059d5b7242)\">\n     <use xlink:href=\"#C0_0_b6439cbe49\" x=\"240.272168\" y=\"165.718196\" style=\"fill: #fff8b5; stroke: #fff8b5\"/>\n    </g>\n    <g clip-path=\"url(#p059d5b7242)\">\n     <use xlink:href=\"#C0_0_b6439cbe49\" x=\"164.581662\" y=\"149.564707\" style=\"fill: #fede8e; stroke: #fede8e\"/>\n    </g>\n    <g clip-path=\"url(#p059d5b7242)\">\n     <use xlink:href=\"#C0_0_b6439cbe49\" x=\"162.987937\" y=\"129.928831\" style=\"fill: #fed485; stroke: #fed485\"/>\n    </g>\n    <g clip-path=\"url(#p059d5b7242)\">\n     <use xlink:href=\"#C0_0_b6439cbe49\" x=\"248.989047\" y=\"71.795162\" style=\"fill: #c41e27; stroke: #c41e27\"/>\n    </g>\n    <g clip-path=\"url(#p059d5b7242)\">\n     <use xlink:href=\"#C0_0_b6439cbe49\" x=\"235.898204\" y=\"98.954831\" style=\"fill: #da362a; stroke: #da362a\"/>\n    </g>\n    <g clip-path=\"url(#p059d5b7242)\">\n     <use xlink:href=\"#C0_0_b6439cbe49\" x=\"187.881816\" y=\"93.749451\" style=\"fill: #f67f4b; stroke: #f67f4b\"/>\n    </g>\n    <g clip-path=\"url(#p059d5b7242)\">\n     <use xlink:href=\"#C0_0_b6439cbe49\" x=\"199.529094\" y=\"95.85119\" style=\"fill: #f57245; stroke: #f57245\"/>\n    </g>\n    <g clip-path=\"url(#p059d5b7242)\">\n     <use xlink:href=\"#C0_0_b6439cbe49\" x=\"232.318811\" y=\"98.727756\" style=\"fill: #e14430; stroke: #e14430\"/>\n    </g>\n    <g clip-path=\"url(#p059d5b7242)\">\n     <use xlink:href=\"#C0_0_b6439cbe49\" x=\"232.258748\" y=\"85.320828\" style=\"fill: #d93429; stroke: #d93429\"/>\n    </g>\n    <g clip-path=\"url(#p059d5b7242)\">\n     <use xlink:href=\"#C0_0_b6439cbe49\" x=\"199.595775\" y=\"82.335925\" style=\"fill: #f16640; stroke: #f16640\"/>\n    </g>\n    <g clip-path=\"url(#p059d5b7242)\">\n     <use xlink:href=\"#C0_0_b6439cbe49\" x=\"232.029691\" y=\"67.413145\" style=\"fill: #d62f27; stroke: #d62f27\"/>\n    </g>\n    <g clip-path=\"url(#p059d5b7242)\">\n     <use xlink:href=\"#C0_0_b6439cbe49\" x=\"199.888458\" y=\"68.761724\" style=\"fill: #e65036; stroke: #e65036\"/>\n    </g>\n    <g clip-path=\"url(#p059d5b7242)\">\n     <use xlink:href=\"#C0_0_b6439cbe49\" x=\"173.938373\" y=\"80.337323\" style=\"fill: #b91326; stroke: #b91326\"/>\n    </g>\n    <g clip-path=\"url(#p059d5b7242)\">\n     <use xlink:href=\"#C0_0_b6439cbe49\" x=\"173.890526\" y=\"67.537082\" style=\"fill: #b50f26; stroke: #b50f26\"/>\n    </g>\n    <g clip-path=\"url(#p059d5b7242)\">\n     <use xlink:href=\"#C0_0_b6439cbe49\" x=\"185.508789\" y=\"95.819123\" style=\"fill: #f7814c; stroke: #f7814c\"/>\n    </g>\n    <g clip-path=\"url(#p059d5b7242)\">\n     <use xlink:href=\"#C0_0_b6439cbe49\" x=\"167.174584\" y=\"100.943032\" style=\"fill: #fdbd6f; stroke: #fdbd6f\"/>\n    </g>\n    <g clip-path=\"url(#p059d5b7242)\">\n     <use xlink:href=\"#C0_0_b6439cbe49\" x=\"121.423822\" y=\"97.627918\" style=\"fill: #ea5739; stroke: #ea5739\"/>\n    </g>\n    <g clip-path=\"url(#p059d5b7242)\">\n     <use xlink:href=\"#C0_0_b6439cbe49\" x=\"112.694217\" y=\"89.009488\" style=\"fill: #de402e; stroke: #de402e\"/>\n    </g>\n    <g clip-path=\"url(#p059d5b7242)\">\n     <use xlink:href=\"#C0_0_b6439cbe49\" x=\"117.163877\" y=\"78.940208\" style=\"fill: #d83128; stroke: #d83128\"/>\n    </g>\n    <g clip-path=\"url(#p059d5b7242)\">\n     <use xlink:href=\"#C0_0_b6439cbe49\" x=\"117.418384\" y=\"62.759851\" style=\"fill: #ad0826; stroke: #ad0826\"/>\n    </g>\n    <g clip-path=\"url(#p059d5b7242)\">\n     <use xlink:href=\"#C0_0_b6439cbe49\" x=\"112.636699\" y=\"96.496013\" style=\"fill: #e44c34; stroke: #e44c34\"/>\n    </g>\n    <g clip-path=\"url(#p059d5b7242)\">\n     <use xlink:href=\"#C0_0_b6439cbe49\" x=\"341.556958\" y=\"315.00667\" style=\"fill: #b2ddeb; stroke: #b2ddeb\"/>\n    </g>\n    <g clip-path=\"url(#p059d5b7242)\">\n     <use xlink:href=\"#C0_0_b6439cbe49\" x=\"338.038138\" y=\"60.126827\" style=\"fill: #78b0d3; stroke: #78b0d3\"/>\n    </g>\n    <g clip-path=\"url(#p059d5b7242)\">\n     <use xlink:href=\"#C0_0_b6439cbe49\" x=\"338.273812\" y=\"60.289766\" style=\"fill: #78b0d3; stroke: #78b0d3\"/>\n    </g>\n    <g clip-path=\"url(#p059d5b7242)\">\n     <use xlink:href=\"#C0_0_b6439cbe49\" x=\"183.027342\" y=\"90.867686\" style=\"fill: #bd1726; stroke: #bd1726\"/>\n    </g>\n    <g clip-path=\"url(#p059d5b7242)\">\n     <use xlink:href=\"#C0_0_b6439cbe49\" x=\"342.825932\" y=\"40.989301\" style=\"fill: #85bbd9; stroke: #85bbd9\"/>\n    </g>\n    <g clip-path=\"url(#p059d5b7242)\">\n     <use xlink:href=\"#C0_0_b6439cbe49\" x=\"183.027342\" y=\"53.63267\" style=\"fill: #ab0626; stroke: #ab0626\"/>\n    </g>\n    <g clip-path=\"url(#p059d5b7242)\">\n     <use xlink:href=\"#C0_0_b6439cbe49\" x=\"148.414333\" y=\"156.536413\" style=\"fill: #fee496; stroke: #fee496\"/>\n    </g>\n    <g clip-path=\"url(#p059d5b7242)\">\n     <use xlink:href=\"#C0_0_b6439cbe49\" x=\"183.027342\" y=\"81.041947\" style=\"fill: #c01a27; stroke: #c01a27\"/>\n    </g>\n    <g clip-path=\"url(#p059d5b7242)\">\n     <use xlink:href=\"#C0_0_b6439cbe49\" x=\"183.027342\" y=\"67.97043\" style=\"fill: #c01a27; stroke: #c01a27\"/>\n    </g>\n   </g>\n   <g id=\"PathCollection_2\">\n    <path d=\"M 335.528763 124.602096 \nL 344.473035 124.602096 \nL 344.473035 115.657824 \nL 335.528763 115.657824 \nz\n\" clip-path=\"url(#p059d5b7242)\" style=\"fill: #313695; stroke: #313695\"/>\n    <path d=\"M 144.451212 161.008549 \nL 153.395484 161.008549 \nL 153.395484 152.064277 \nL 144.451212 152.064277 \nz\n\" clip-path=\"url(#p059d5b7242)\" style=\"fill: #fee597; stroke: #fee597\"/>\n    <path d=\"M 339.378443 331.081272 \nL 348.322714 331.081272 \nL 348.322714 322.137 \nL 339.378443 322.137 \nz\n\" clip-path=\"url(#p059d5b7242)\" style=\"fill: #aad8e9; stroke: #aad8e9\"/>\n   </g>\n   <g id=\"text_1\">\n    <g clip-path=\"url(#p059d5b7242)\">\n     <!-- Reservoir -->\n     <g transform=\"translate(311.769962 110.700763) scale(0.12 -0.12)\">\n      <defs>\n       <path id=\"DejaVuSans-52\" d=\"M 2841 2188 \nQ 3044 2119 3236 1894 \nQ 3428 1669 3622 1275 \nL 4263 0 \nL 3584 0 \nL 2988 1197 \nQ 2756 1666 2539 1819 \nQ 2322 1972 1947 1972 \nL 1259 1972 \nL 1259 0 \nL 628 0 \nL 628 4666 \nL 2053 4666 \nQ 2853 4666 3247 4331 \nQ 3641 3997 3641 3322 \nQ 3641 2881 3436 2590 \nQ 3231 2300 2841 2188 \nz\nM 1259 4147 \nL 1259 2491 \nL 2053 2491 \nQ 2509 2491 2742 2702 \nQ 2975 2913 2975 3322 \nQ 2975 3731 2742 3939 \nQ 2509 4147 2053 4147 \nL 1259 4147 \nz\n\" transform=\"scale(0.015625)\"/>\n       <path id=\"DejaVuSans-65\" d=\"M 3597 1894 \nL 3597 1613 \nL 953 1613 \nQ 991 1019 1311 708 \nQ 1631 397 2203 397 \nQ 2534 397 2845 478 \nQ 3156 559 3463 722 \nL 3463 178 \nQ 3153 47 2828 -22 \nQ 2503 -91 2169 -91 \nQ 1331 -91 842 396 \nQ 353 884 353 1716 \nQ 353 2575 817 3079 \nQ 1281 3584 2069 3584 \nQ 2775 3584 3186 3129 \nQ 3597 2675 3597 1894 \nz\nM 3022 2063 \nQ 3016 2534 2758 2815 \nQ 2500 3097 2075 3097 \nQ 1594 3097 1305 2825 \nQ 1016 2553 972 2059 \nL 3022 2063 \nz\n\" transform=\"scale(0.015625)\"/>\n       <path id=\"DejaVuSans-73\" d=\"M 2834 3397 \nL 2834 2853 \nQ 2591 2978 2328 3040 \nQ 2066 3103 1784 3103 \nQ 1356 3103 1142 2972 \nQ 928 2841 928 2578 \nQ 928 2378 1081 2264 \nQ 1234 2150 1697 2047 \nL 1894 2003 \nQ 2506 1872 2764 1633 \nQ 3022 1394 3022 966 \nQ 3022 478 2636 193 \nQ 2250 -91 1575 -91 \nQ 1294 -91 989 -36 \nQ 684 19 347 128 \nL 347 722 \nQ 666 556 975 473 \nQ 1284 391 1588 391 \nQ 1994 391 2212 530 \nQ 2431 669 2431 922 \nQ 2431 1156 2273 1281 \nQ 2116 1406 1581 1522 \nL 1381 1569 \nQ 847 1681 609 1914 \nQ 372 2147 372 2553 \nQ 372 3047 722 3315 \nQ 1072 3584 1716 3584 \nQ 2034 3584 2315 3537 \nQ 2597 3491 2834 3397 \nz\n\" transform=\"scale(0.015625)\"/>\n       <path id=\"DejaVuSans-72\" d=\"M 2631 2963 \nQ 2534 3019 2420 3045 \nQ 2306 3072 2169 3072 \nQ 1681 3072 1420 2755 \nQ 1159 2438 1159 1844 \nL 1159 0 \nL 581 0 \nL 581 3500 \nL 1159 3500 \nL 1159 2956 \nQ 1341 3275 1631 3429 \nQ 1922 3584 2338 3584 \nQ 2397 3584 2469 3576 \nQ 2541 3569 2628 3553 \nL 2631 2963 \nz\n\" transform=\"scale(0.015625)\"/>\n       <path id=\"DejaVuSans-76\" d=\"M 191 3500 \nL 800 3500 \nL 1894 563 \nL 2988 3500 \nL 3597 3500 \nL 2284 0 \nL 1503 0 \nL 191 3500 \nz\n\" transform=\"scale(0.015625)\"/>\n       <path id=\"DejaVuSans-6f\" d=\"M 1959 3097 \nQ 1497 3097 1228 2736 \nQ 959 2375 959 1747 \nQ 959 1119 1226 758 \nQ 1494 397 1959 397 \nQ 2419 397 2687 759 \nQ 2956 1122 2956 1747 \nQ 2956 2369 2687 2733 \nQ 2419 3097 1959 3097 \nz\nM 1959 3584 \nQ 2709 3584 3137 3096 \nQ 3566 2609 3566 1747 \nQ 3566 888 3137 398 \nQ 2709 -91 1959 -91 \nQ 1206 -91 779 398 \nQ 353 888 353 1747 \nQ 353 2609 779 3096 \nQ 1206 3584 1959 3584 \nz\n\" transform=\"scale(0.015625)\"/>\n       <path id=\"DejaVuSans-69\" d=\"M 603 3500 \nL 1178 3500 \nL 1178 0 \nL 603 0 \nL 603 3500 \nz\nM 603 4863 \nL 1178 4863 \nL 1178 4134 \nL 603 4134 \nL 603 4863 \nz\n\" transform=\"scale(0.015625)\"/>\n      </defs>\n      <use xlink:href=\"#DejaVuSans-52\"/>\n      <use xlink:href=\"#DejaVuSans-65\" x=\"64.982422\"/>\n      <use xlink:href=\"#DejaVuSans-73\" x=\"126.505859\"/>\n      <use xlink:href=\"#DejaVuSans-65\" x=\"178.605469\"/>\n      <use xlink:href=\"#DejaVuSans-72\" x=\"240.128906\"/>\n      <use xlink:href=\"#DejaVuSans-76\" x=\"281.242188\"/>\n      <use xlink:href=\"#DejaVuSans-6f\" x=\"340.421875\"/>\n      <use xlink:href=\"#DejaVuSans-69\" x=\"401.603516\"/>\n      <use xlink:href=\"#DejaVuSans-72\" x=\"429.386719\"/>\n     </g>\n    </g>\n   </g>\n   <g id=\"text_2\">\n    <g clip-path=\"url(#p059d5b7242)\">\n     <!-- Reservoir -->\n     <g transform=\"translate(120.692411 147.107216) scale(0.12 -0.12)\">\n      <use xlink:href=\"#DejaVuSans-52\"/>\n      <use xlink:href=\"#DejaVuSans-65\" x=\"64.982422\"/>\n      <use xlink:href=\"#DejaVuSans-73\" x=\"126.505859\"/>\n      <use xlink:href=\"#DejaVuSans-65\" x=\"178.605469\"/>\n      <use xlink:href=\"#DejaVuSans-72\" x=\"240.128906\"/>\n      <use xlink:href=\"#DejaVuSans-76\" x=\"281.242188\"/>\n      <use xlink:href=\"#DejaVuSans-6f\" x=\"340.421875\"/>\n      <use xlink:href=\"#DejaVuSans-69\" x=\"401.603516\"/>\n      <use xlink:href=\"#DejaVuSans-72\" x=\"429.386719\"/>\n     </g>\n    </g>\n   </g>\n   <g id=\"text_3\">\n    <g clip-path=\"url(#p059d5b7242)\">\n     <!-- Reservoir -->\n     <g transform=\"translate(315.619641 317.179939) scale(0.12 -0.12)\">\n      <use xlink:href=\"#DejaVuSans-52\"/>\n      <use xlink:href=\"#DejaVuSans-65\" x=\"64.982422\"/>\n      <use xlink:href=\"#DejaVuSans-73\" x=\"126.505859\"/>\n      <use xlink:href=\"#DejaVuSans-65\" x=\"178.605469\"/>\n      <use xlink:href=\"#DejaVuSans-72\" x=\"240.128906\"/>\n      <use xlink:href=\"#DejaVuSans-76\" x=\"281.242188\"/>\n      <use xlink:href=\"#DejaVuSans-6f\" x=\"340.421875\"/>\n      <use xlink:href=\"#DejaVuSans-69\" x=\"401.603516\"/>\n      <use xlink:href=\"#DejaVuSans-72\" x=\"429.386719\"/>\n     </g>\n    </g>\n   </g>\n  </g>\n  <g id=\"axes_2\">\n   <g id=\"patch_2\">\n    <path d=\"M 398.88 356.599219 \nL 416.16 356.599219 \nL 416.16 10.999219 \nL 398.88 10.999219 \nz\n\" style=\"fill: #ffffff\"/>\n   </g>\n   <image xlink:href=\"data:image/png;base64,\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\" id=\"image4ede3cda4d\" transform=\"scale(1 -1) translate(0 -345.6)\" x=\"398.88\" y=\"-10.8\" width=\"17.28\" height=\"345.6\"/>\n   <g id=\"matplotlib.axis_1\"/>\n   <g id=\"matplotlib.axis_2\">\n    <g id=\"ytick_1\">\n     <g id=\"line2d_1\">\n      <defs>\n       <path id=\"m5c4430cfe5\" d=\"M 0 0 \nL 3.5 0 \n\" style=\"stroke: #000000; stroke-width: 0.8\"/>\n      </defs>\n      <g>\n       <use xlink:href=\"#m5c4430cfe5\" x=\"416.16\" y=\"319.710774\" style=\"stroke: #000000; stroke-width: 0.8\"/>\n      </g>\n     </g>\n     <g id=\"text_4\">\n      <!-- 51 -->\n      <g transform=\"translate(423.16 323.509992) scale(0.1 -0.1)\">\n       <defs>\n        <path id=\"DejaVuSans-35\" d=\"M 691 4666 \nL 3169 4666 \nL 3169 4134 \nL 1269 4134 \nL 1269 2991 \nQ 1406 3038 1543 3061 \nQ 1681 3084 1819 3084 \nQ 2600 3084 3056 2656 \nQ 3513 2228 3513 1497 \nQ 3513 744 3044 326 \nQ 2575 -91 1722 -91 \nQ 1428 -91 1123 -41 \nQ 819 9 494 109 \nL 494 744 \nQ 775 591 1075 516 \nQ 1375 441 1709 441 \nQ 2250 441 2565 725 \nQ 2881 1009 2881 1497 \nQ 2881 1984 2565 2268 \nQ 2250 2553 1709 2553 \nQ 1456 2553 1204 2497 \nQ 953 2441 691 2322 \nL 691 4666 \nz\n\" transform=\"scale(0.015625)\"/>\n        <path id=\"DejaVuSans-31\" d=\"M 794 531 \nL 1825 531 \nL 1825 4091 \nL 703 3866 \nL 703 4441 \nL 1819 4666 \nL 2450 4666 \nL 2450 531 \nL 3481 531 \nL 3481 0 \nL 794 0 \nL 794 531 \nz\n\" transform=\"scale(0.015625)\"/>\n       </defs>\n       <use xlink:href=\"#DejaVuSans-35\"/>\n       <use xlink:href=\"#DejaVuSans-31\" x=\"63.623047\"/>\n      </g>\n     </g>\n    </g>\n    <g id=\"ytick_2\">\n     <g id=\"line2d_2\">\n      <g>\n       <use xlink:href=\"#m5c4430cfe5\" x=\"416.16\" y=\"268.258848\" style=\"stroke: #000000; stroke-width: 0.8\"/>\n      </g>\n     </g>\n     <g id=\"text_5\">\n      <!-- 52 -->\n      <g transform=\"translate(423.16 272.058067) scale(0.1 -0.1)\">\n       <defs>\n        <path id=\"DejaVuSans-32\" d=\"M 1228 531 \nL 3431 531 \nL 3431 0 \nL 469 0 \nL 469 531 \nQ 828 903 1448 1529 \nQ 2069 2156 2228 2338 \nQ 2531 2678 2651 2914 \nQ 2772 3150 2772 3378 \nQ 2772 3750 2511 3984 \nQ 2250 4219 1831 4219 \nQ 1534 4219 1204 4116 \nQ 875 4013 500 3803 \nL 500 4441 \nQ 881 4594 1212 4672 \nQ 1544 4750 1819 4750 \nQ 2544 4750 2975 4387 \nQ 3406 4025 3406 3419 \nQ 3406 3131 3298 2873 \nQ 3191 2616 2906 2266 \nQ 2828 2175 2409 1742 \nQ 1991 1309 1228 531 \nz\n\" transform=\"scale(0.015625)\"/>\n       </defs>\n       <use xlink:href=\"#DejaVuSans-35\"/>\n       <use xlink:href=\"#DejaVuSans-32\" x=\"63.623047\"/>\n      </g>\n     </g>\n    </g>\n    <g id=\"ytick_3\">\n     <g id=\"line2d_3\">\n      <g>\n       <use xlink:href=\"#m5c4430cfe5\" x=\"416.16\" y=\"216.806922\" style=\"stroke: #000000; stroke-width: 0.8\"/>\n      </g>\n     </g>\n     <g id=\"text_6\">\n      <!-- 53 -->\n      <g transform=\"translate(423.16 220.606141) scale(0.1 -0.1)\">\n       <defs>\n        <path id=\"DejaVuSans-33\" d=\"M 2597 2516 \nQ 3050 2419 3304 2112 \nQ 3559 1806 3559 1356 \nQ 3559 666 3084 287 \nQ 2609 -91 1734 -91 \nQ 1441 -91 1130 -33 \nQ 819 25 488 141 \nL 488 750 \nQ 750 597 1062 519 \nQ 1375 441 1716 441 \nQ 2309 441 2620 675 \nQ 2931 909 2931 1356 \nQ 2931 1769 2642 2001 \nQ 2353 2234 1838 2234 \nL 1294 2234 \nL 1294 2753 \nL 1863 2753 \nQ 2328 2753 2575 2939 \nQ 2822 3125 2822 3475 \nQ 2822 3834 2567 4026 \nQ 2313 4219 1838 4219 \nQ 1578 4219 1281 4162 \nQ 984 4106 628 3988 \nL 628 4550 \nQ 988 4650 1302 4700 \nQ 1616 4750 1894 4750 \nQ 2613 4750 3031 4423 \nQ 3450 4097 3450 3541 \nQ 3450 3153 3228 2886 \nQ 3006 2619 2597 2516 \nz\n\" transform=\"scale(0.015625)\"/>\n       </defs>\n       <use xlink:href=\"#DejaVuSans-35\"/>\n       <use xlink:href=\"#DejaVuSans-33\" x=\"63.623047\"/>\n      </g>\n     </g>\n    </g>\n    <g id=\"ytick_4\">\n     <g id=\"line2d_4\">\n      <g>\n       <use xlink:href=\"#m5c4430cfe5\" x=\"416.16\" y=\"165.354996\" style=\"stroke: #000000; stroke-width: 0.8\"/>\n      </g>\n     </g>\n     <g id=\"text_7\">\n      <!-- 54 -->\n      <g transform=\"translate(423.16 169.154215) scale(0.1 -0.1)\">\n       <defs>\n        <path id=\"DejaVuSans-34\" d=\"M 2419 4116 \nL 825 1625 \nL 2419 1625 \nL 2419 4116 \nz\nM 2253 4666 \nL 3047 4666 \nL 3047 1625 \nL 3713 1625 \nL 3713 1100 \nL 3047 1100 \nL 3047 0 \nL 2419 0 \nL 2419 1100 \nL 313 1100 \nL 313 1709 \nL 2253 4666 \nz\n\" transform=\"scale(0.015625)\"/>\n       </defs>\n       <use xlink:href=\"#DejaVuSans-35\"/>\n       <use xlink:href=\"#DejaVuSans-34\" x=\"63.623047\"/>\n      </g>\n     </g>\n    </g>\n    <g id=\"ytick_5\">\n     <g id=\"line2d_5\">\n      <g>\n       <use xlink:href=\"#m5c4430cfe5\" x=\"416.16\" y=\"113.90307\" style=\"stroke: #000000; stroke-width: 0.8\"/>\n      </g>\n     </g>\n     <g id=\"text_8\">\n      <!-- 55 -->\n      <g transform=\"translate(423.16 117.702289) scale(0.1 -0.1)\">\n       <use xlink:href=\"#DejaVuSans-35\"/>\n       <use xlink:href=\"#DejaVuSans-35\" x=\"63.623047\"/>\n      </g>\n     </g>\n    </g>\n    <g id=\"ytick_6\">\n     <g id=\"line2d_6\">\n      <g>\n       <use xlink:href=\"#m5c4430cfe5\" x=\"416.16\" y=\"62.451145\" style=\"stroke: #000000; stroke-width: 0.8\"/>\n      </g>\n     </g>\n     <g id=\"text_9\">\n      <!-- 56 -->\n      <g transform=\"translate(423.16 66.250363) scale(0.1 -0.1)\">\n       <defs>\n        <path id=\"DejaVuSans-36\" d=\"M 2113 2584 \nQ 1688 2584 1439 2293 \nQ 1191 2003 1191 1497 \nQ 1191 994 1439 701 \nQ 1688 409 2113 409 \nQ 2538 409 2786 701 \nQ 3034 994 3034 1497 \nQ 3034 2003 2786 2293 \nQ 2538 2584 2113 2584 \nz\nM 3366 4563 \nL 3366 3988 \nQ 3128 4100 2886 4159 \nQ 2644 4219 2406 4219 \nQ 1781 4219 1451 3797 \nQ 1122 3375 1075 2522 \nQ 1259 2794 1537 2939 \nQ 1816 3084 2150 3084 \nQ 2853 3084 3261 2657 \nQ 3669 2231 3669 1497 \nQ 3669 778 3244 343 \nQ 2819 -91 2113 -91 \nQ 1303 -91 875 529 \nQ 447 1150 447 2328 \nQ 447 3434 972 4092 \nQ 1497 4750 2381 4750 \nQ 2619 4750 2861 4703 \nQ 3103 4656 3366 4563 \nz\n\" transform=\"scale(0.015625)\"/>\n       </defs>\n       <use xlink:href=\"#DejaVuSans-35\"/>\n       <use xlink:href=\"#DejaVuSans-36\" x=\"63.623047\"/>\n      </g>\n     </g>\n    </g>\n    <g id=\"ytick_7\">\n     <g id=\"line2d_7\">\n      <g>\n       <use xlink:href=\"#m5c4430cfe5\" x=\"416.16\" y=\"10.999219\" style=\"stroke: #000000; stroke-width: 0.8\"/>\n      </g>\n     </g>\n     <g id=\"text_10\">\n      <!-- 57 -->\n      <g transform=\"translate(423.16 14.798438) scale(0.1 -0.1)\">\n       <defs>\n        <path id=\"DejaVuSans-37\" d=\"M 525 4666 \nL 3525 4666 \nL 3525 4397 \nL 1831 0 \nL 1172 0 \nL 2766 4134 \nL 525 4134 \nL 525 4666 \nz\n\" transform=\"scale(0.015625)\"/>\n       </defs>\n       <use xlink:href=\"#DejaVuSans-35\"/>\n       <use xlink:href=\"#DejaVuSans-37\" x=\"63.623047\"/>\n      </g>\n     </g>\n    </g>\n    <g id=\"text_11\">\n     <!-- Hydraulic head [m] -->\n     <g transform=\"translate(449.003125 241.570781) rotate(-90) scale(0.12 -0.12)\">\n      <defs>\n       <path id=\"DejaVuSans-48\" d=\"M 628 4666 \nL 1259 4666 \nL 1259 2753 \nL 3553 2753 \nL 3553 4666 \nL 4184 4666 \nL 4184 0 \nL 3553 0 \nL 3553 2222 \nL 1259 2222 \nL 1259 0 \nL 628 0 \nL 628 4666 \nz\n\" transform=\"scale(0.015625)\"/>\n       <path id=\"DejaVuSans-79\" d=\"M 2059 -325 \nQ 1816 -950 1584 -1140 \nQ 1353 -1331 966 -1331 \nL 506 -1331 \nL 506 -850 \nL 844 -850 \nQ 1081 -850 1212 -737 \nQ 1344 -625 1503 -206 \nL 1606 56 \nL 191 3500 \nL 800 3500 \nL 1894 763 \nL 2988 3500 \nL 3597 3500 \nL 2059 -325 \nz\n\" transform=\"scale(0.015625)\"/>\n       <path id=\"DejaVuSans-64\" d=\"M 2906 2969 \nL 2906 4863 \nL 3481 4863 \nL 3481 0 \nL 2906 0 \nL 2906 525 \nQ 2725 213 2448 61 \nQ 2172 -91 1784 -91 \nQ 1150 -91 751 415 \nQ 353 922 353 1747 \nQ 353 2572 751 3078 \nQ 1150 3584 1784 3584 \nQ 2172 3584 2448 3432 \nQ 2725 3281 2906 2969 \nz\nM 947 1747 \nQ 947 1113 1208 752 \nQ 1469 391 1925 391 \nQ 2381 391 2643 752 \nQ 2906 1113 2906 1747 \nQ 2906 2381 2643 2742 \nQ 2381 3103 1925 3103 \nQ 1469 3103 1208 2742 \nQ 947 2381 947 1747 \nz\n\" transform=\"scale(0.015625)\"/>\n       <path id=\"DejaVuSans-61\" d=\"M 2194 1759 \nQ 1497 1759 1228 1600 \nQ 959 1441 959 1056 \nQ 959 750 1161 570 \nQ 1363 391 1709 391 \nQ 2188 391 2477 730 \nQ 2766 1069 2766 1631 \nL 2766 1759 \nL 2194 1759 \nz\nM 3341 1997 \nL 3341 0 \nL 2766 0 \nL 2766 531 \nQ 2569 213 2275 61 \nQ 1981 -91 1556 -91 \nQ 1019 -91 701 211 \nQ 384 513 384 1019 \nQ 384 1609 779 1909 \nQ 1175 2209 1959 2209 \nL 2766 2209 \nL 2766 2266 \nQ 2766 2663 2505 2880 \nQ 2244 3097 1772 3097 \nQ 1472 3097 1187 3025 \nQ 903 2953 641 2809 \nL 641 3341 \nQ 956 3463 1253 3523 \nQ 1550 3584 1831 3584 \nQ 2591 3584 2966 3190 \nQ 3341 2797 3341 1997 \nz\n\" transform=\"scale(0.015625)\"/>\n       <path id=\"DejaVuSans-75\" d=\"M 544 1381 \nL 544 3500 \nL 1119 3500 \nL 1119 1403 \nQ 1119 906 1312 657 \nQ 1506 409 1894 409 \nQ 2359 409 2629 706 \nQ 2900 1003 2900 1516 \nL 2900 3500 \nL 3475 3500 \nL 3475 0 \nL 2900 0 \nL 2900 538 \nQ 2691 219 2414 64 \nQ 2138 -91 1772 -91 \nQ 1169 -91 856 284 \nQ 544 659 544 1381 \nz\nM 1991 3584 \nL 1991 3584 \nz\n\" transform=\"scale(0.015625)\"/>\n       <path id=\"DejaVuSans-6c\" d=\"M 603 4863 \nL 1178 4863 \nL 1178 0 \nL 603 0 \nL 603 4863 \nz\n\" transform=\"scale(0.015625)\"/>\n       <path id=\"DejaVuSans-63\" d=\"M 3122 3366 \nL 3122 2828 \nQ 2878 2963 2633 3030 \nQ 2388 3097 2138 3097 \nQ 1578 3097 1268 2742 \nQ 959 2388 959 1747 \nQ 959 1106 1268 751 \nQ 1578 397 2138 397 \nQ 2388 397 2633 464 \nQ 2878 531 3122 666 \nL 3122 134 \nQ 2881 22 2623 -34 \nQ 2366 -91 2075 -91 \nQ 1284 -91 818 406 \nQ 353 903 353 1747 \nQ 353 2603 823 3093 \nQ 1294 3584 2113 3584 \nQ 2378 3584 2631 3529 \nQ 2884 3475 3122 3366 \nz\n\" transform=\"scale(0.015625)\"/>\n       <path id=\"DejaVuSans-20\" transform=\"scale(0.015625)\"/>\n       <path id=\"DejaVuSans-68\" d=\"M 3513 2113 \nL 3513 0 \nL 2938 0 \nL 2938 2094 \nQ 2938 2591 2744 2837 \nQ 2550 3084 2163 3084 \nQ 1697 3084 1428 2787 \nQ 1159 2491 1159 1978 \nL 1159 0 \nL 581 0 \nL 581 4863 \nL 1159 4863 \nL 1159 2956 \nQ 1366 3272 1645 3428 \nQ 1925 3584 2291 3584 \nQ 2894 3584 3203 3211 \nQ 3513 2838 3513 2113 \nz\n\" transform=\"scale(0.015625)\"/>\n       <path id=\"DejaVuSans-5b\" d=\"M 550 4863 \nL 1875 4863 \nL 1875 4416 \nL 1125 4416 \nL 1125 -397 \nL 1875 -397 \nL 1875 -844 \nL 550 -844 \nL 550 4863 \nz\n\" transform=\"scale(0.015625)\"/>\n       <path id=\"DejaVuSans-6d\" d=\"M 3328 2828 \nQ 3544 3216 3844 3400 \nQ 4144 3584 4550 3584 \nQ 5097 3584 5394 3201 \nQ 5691 2819 5691 2113 \nL 5691 0 \nL 5113 0 \nL 5113 2094 \nQ 5113 2597 4934 2840 \nQ 4756 3084 4391 3084 \nQ 3944 3084 3684 2787 \nQ 3425 2491 3425 1978 \nL 3425 0 \nL 2847 0 \nL 2847 2094 \nQ 2847 2600 2669 2842 \nQ 2491 3084 2119 3084 \nQ 1678 3084 1418 2786 \nQ 1159 2488 1159 1978 \nL 1159 0 \nL 581 0 \nL 581 3500 \nL 1159 3500 \nL 1159 2956 \nQ 1356 3278 1631 3431 \nQ 1906 3584 2284 3584 \nQ 2666 3584 2933 3390 \nQ 3200 3197 3328 2828 \nz\n\" transform=\"scale(0.015625)\"/>\n       <path id=\"DejaVuSans-5d\" d=\"M 1947 4863 \nL 1947 -844 \nL 622 -844 \nL 622 -397 \nL 1369 -397 \nL 1369 4416 \nL 622 4416 \nL 622 4863 \nL 1947 4863 \nz\n\" transform=\"scale(0.015625)\"/>\n      </defs>\n      <use xlink:href=\"#DejaVuSans-48\"/>\n      <use xlink:href=\"#DejaVuSans-79\" x=\"75.195312\"/>\n      <use xlink:href=\"#DejaVuSans-64\" x=\"134.375\"/>\n      <use xlink:href=\"#DejaVuSans-72\" x=\"197.851562\"/>\n      <use xlink:href=\"#DejaVuSans-61\" x=\"238.964844\"/>\n      <use xlink:href=\"#DejaVuSans-75\" x=\"300.244141\"/>\n      <use xlink:href=\"#DejaVuSans-6c\" x=\"363.623047\"/>\n      <use xlink:href=\"#DejaVuSans-69\" x=\"391.40625\"/>\n      <use xlink:href=\"#DejaVuSans-63\" x=\"419.189453\"/>\n      <use xlink:href=\"#DejaVuSans-20\" x=\"474.169922\"/>\n      <use xlink:href=\"#DejaVuSans-68\" x=\"505.957031\"/>\n      <use xlink:href=\"#DejaVuSans-65\" x=\"569.335938\"/>\n      <use xlink:href=\"#DejaVuSans-61\" x=\"630.859375\"/>\n      <use xlink:href=\"#DejaVuSans-64\" x=\"692.138672\"/>\n      <use xlink:href=\"#DejaVuSans-20\" x=\"755.615234\"/>\n      <use xlink:href=\"#DejaVuSans-5b\" x=\"787.402344\"/>\n      <use xlink:href=\"#DejaVuSans-6d\" x=\"826.416016\"/>\n      <use xlink:href=\"#DejaVuSans-5d\" x=\"923.828125\"/>\n     </g>\n    </g>\n   </g>\n   <g id=\"LineCollection_2\"/>\n   <g id=\"patch_3\">\n    <path d=\"M 398.88 356.599219 \nL 407.52 356.599219 \nL 416.16 356.599219 \nL 416.16 10.999219 \nL 407.52 10.999219 \nL 398.88 10.999219 \nL 398.88 356.599219 \nz\n\" style=\"fill: none; stroke: #000000; stroke-width: 0.8; stroke-linejoin: miter; stroke-linecap: square\"/>\n   </g>\n  </g>\n </g>\n <defs>\n  <clipPath id=\"p059d5b7242\">\n   <rect x=\"7.2\" y=\"10.999219\" width=\"368.64\" height=\"345.6\"/>\n  </clipPath>\n </defs>\n</svg>\n"
          },
          "metadata": {}
        }
      ],
      "source": [
        "# set plotting values\n",
        "t = 8\n",
        "plot_type = 'head' # 'flow'\n",
        "if plot_type == 'head':\n",
        "    vals = h_schur\n",
        "elif plot_type == 'flow':\n",
        "    vals = q_schur\n",
        "\n",
        "gen_fn.plot_network(wdn, plot_type=plot_type, vals=vals, t=t)"
      ]
    },
    {
      "cell_type": "markdown",
      "metadata": {
        "id": "nv5gpbRyun6G"
      },
      "source": [
        "An accuracy comparison with EPANET is also presented below."
      ]
    },
    {
      "cell_type": "code",
      "execution_count": 22,
      "metadata": {
        "id": "Leh0DmCYun6G"
      },
      "outputs": [],
      "source": [
        "import matplotlib.pyplot as plt"
      ]
    },
    {
      "cell_type": "code",
      "execution_count": 23,
      "metadata": {
        "colab": {
          "base_uri": "https://localhost:8080/",
          "height": 456
        },
        "id": "MgsNC3BGun6G",
        "outputId": "699a9a36-2523-4a6f-89dc-213ba1ae1131"
      },
      "outputs": [
        {
          "output_type": "display_data",
          "data": {
            "text/plain": [
              "<Figure size 1920x1440 with 1 Axes>"
            ],
            "image/svg+xml": "<?xml version=\"1.0\" encoding=\"utf-8\" standalone=\"no\"?>\n<!DOCTYPE svg PUBLIC \"-//W3C//DTD SVG 1.1//EN\"\n  \"http://www.w3.org/Graphics/SVG/1.1/DTD/svg11.dtd\">\n<svg xmlns:xlink=\"http://www.w3.org/1999/xlink\" width=\"411.285625pt\" height=\"325.986375pt\" viewBox=\"0 0 411.285625 325.986375\" xmlns=\"http://www.w3.org/2000/svg\" version=\"1.1\">\n <metadata>\n  <rdf:RDF xmlns:dc=\"http://purl.org/dc/elements/1.1/\" xmlns:cc=\"http://creativecommons.org/ns#\" xmlns:rdf=\"http://www.w3.org/1999/02/22-rdf-syntax-ns#\">\n   <cc:Work>\n    <dc:type rdf:resource=\"http://purl.org/dc/dcmitype/StillImage\"/>\n    <dc:date>2023-08-21T12:39:20.391083</dc:date>\n    <dc:format>image/svg+xml</dc:format>\n    <dc:creator>\n     <cc:Agent>\n      <dc:title>Matplotlib v3.7.1, https://matplotlib.org/</dc:title>\n     </cc:Agent>\n    </dc:creator>\n   </cc:Work>\n  </rdf:RDF>\n </metadata>\n <defs>\n  <style type=\"text/css\">*{stroke-linejoin: round; stroke-linecap: butt}</style>\n </defs>\n <g id=\"figure_1\">\n  <g id=\"patch_1\">\n   <path d=\"M 0 325.986375 \nL 411.285625 325.986375 \nL 411.285625 0 \nL 0 0 \nz\n\" style=\"fill: #ffffff\"/>\n  </g>\n  <g id=\"axes_1\">\n   <g id=\"patch_2\">\n    <path d=\"M 46.965625 288.430125 \nL 404.085625 288.430125 \nL 404.085625 22.318125 \nL 46.965625 22.318125 \nz\n\" style=\"fill: #ffffff\"/>\n   </g>\n   <g id=\"patch_3\">\n    <path d=\"M 63.198352 288.430125 \nL 76.184534 288.430125 \nL 76.184534 275.973717 \nL 63.198352 275.973717 \nz\n\" clip-path=\"url(#pcee77a4dd7)\" style=\"fill: #0000ff; opacity: 0.6\"/>\n   </g>\n   <g id=\"patch_4\">\n    <path d=\"M 76.184534 288.430125 \nL 89.170716 288.430125 \nL 89.170716 283.639199 \nL 76.184534 283.639199 \nz\n\" clip-path=\"url(#pcee77a4dd7)\" style=\"fill: #0000ff; opacity: 0.6\"/>\n   </g>\n   <g id=\"patch_5\">\n    <path d=\"M 89.170716 288.430125 \nL 102.156898 288.430125 \nL 102.156898 279.327365 \nL 89.170716 279.327365 \nz\n\" clip-path=\"url(#pcee77a4dd7)\" style=\"fill: #0000ff; opacity: 0.6\"/>\n   </g>\n   <g id=\"patch_6\">\n    <path d=\"M 102.156898 288.430125 \nL 115.14308 288.430125 \nL 115.14308 245.790881 \nL 102.156898 245.790881 \nz\n\" clip-path=\"url(#pcee77a4dd7)\" style=\"fill: #0000ff; opacity: 0.6\"/>\n   </g>\n   <g id=\"patch_7\">\n    <path d=\"M 115.14308 288.430125 \nL 128.129261 288.430125 \nL 128.129261 253.456363 \nL 115.14308 253.456363 \nz\n\" clip-path=\"url(#pcee77a4dd7)\" style=\"fill: #0000ff; opacity: 0.6\"/>\n   </g>\n   <g id=\"patch_8\">\n    <path d=\"M 128.129261 288.430125 \nL 141.115443 288.430125 \nL 141.115443 261.121845 \nL 128.129261 261.121845 \nz\n\" clip-path=\"url(#pcee77a4dd7)\" style=\"fill: #0000ff; opacity: 0.6\"/>\n   </g>\n   <g id=\"patch_9\">\n    <path d=\"M 141.115443 288.430125 \nL 154.101625 288.430125 \nL 154.101625 249.14453 \nL 141.115443 249.14453 \nz\n\" clip-path=\"url(#pcee77a4dd7)\" style=\"fill: #0000ff; opacity: 0.6\"/>\n   </g>\n   <g id=\"patch_10\">\n    <path d=\"M 154.101625 288.430125 \nL 167.087807 288.430125 \nL 167.087807 174.40608 \nL 154.101625 174.40608 \nz\n\" clip-path=\"url(#pcee77a4dd7)\" style=\"fill: #0000ff; opacity: 0.6\"/>\n   </g>\n   <g id=\"patch_11\">\n    <path d=\"M 167.087807 288.430125 \nL 180.073989 288.430125 \nL 180.073989 76.671184 \nL 167.087807 76.671184 \nz\n\" clip-path=\"url(#pcee77a4dd7)\" style=\"fill: #0000ff; opacity: 0.6\"/>\n   </g>\n   <g id=\"patch_12\">\n    <path d=\"M 180.073989 288.430125 \nL 193.06017 288.430125 \nL 193.06017 34.990125 \nL 180.073989 34.990125 \nz\n\" clip-path=\"url(#pcee77a4dd7)\" style=\"fill: #0000ff; opacity: 0.6\"/>\n   </g>\n   <g id=\"patch_13\">\n    <path d=\"M 193.06017 288.430125 \nL 206.046352 288.430125 \nL 206.046352 128.413187 \nL 193.06017 128.413187 \nz\n\" clip-path=\"url(#pcee77a4dd7)\" style=\"fill: #0000ff; opacity: 0.6\"/>\n   </g>\n   <g id=\"patch_14\">\n    <path d=\"M 206.046352 288.430125 \nL 219.032534 288.430125 \nL 219.032534 235.729936 \nL 206.046352 235.729936 \nz\n\" clip-path=\"url(#pcee77a4dd7)\" style=\"fill: #0000ff; opacity: 0.6\"/>\n   </g>\n   <g id=\"patch_15\">\n    <path d=\"M 219.032534 288.430125 \nL 232.018716 288.430125 \nL 232.018716 240.520862 \nL 219.032534 240.520862 \nz\n\" clip-path=\"url(#pcee77a4dd7)\" style=\"fill: #0000ff; opacity: 0.6\"/>\n   </g>\n   <g id=\"patch_16\">\n    <path d=\"M 232.018716 288.430125 \nL 245.004898 288.430125 \nL 245.004898 256.810012 \nL 232.018716 256.810012 \nz\n\" clip-path=\"url(#pcee77a4dd7)\" style=\"fill: #0000ff; opacity: 0.6\"/>\n   </g>\n   <g id=\"patch_17\">\n    <path d=\"M 245.004898 288.430125 \nL 257.99108 288.430125 \nL 257.99108 270.703698 \nL 245.004898 270.703698 \nz\n\" clip-path=\"url(#pcee77a4dd7)\" style=\"fill: #0000ff; opacity: 0.6\"/>\n   </g>\n   <g id=\"patch_18\">\n    <path d=\"M 257.99108 288.430125 \nL 270.977261 288.430125 \nL 270.977261 274.057346 \nL 257.99108 274.057346 \nz\n\" clip-path=\"url(#pcee77a4dd7)\" style=\"fill: #0000ff; opacity: 0.6\"/>\n   </g>\n   <g id=\"patch_19\">\n    <path d=\"M 270.977261 288.430125 \nL 283.963443 288.430125 \nL 283.963443 284.597384 \nL 270.977261 284.597384 \nz\n\" clip-path=\"url(#pcee77a4dd7)\" style=\"fill: #0000ff; opacity: 0.6\"/>\n   </g>\n   <g id=\"patch_20\">\n    <path d=\"M 283.963443 288.430125 \nL 296.949625 288.430125 \nL 296.949625 268.308235 \nL 283.963443 268.308235 \nz\n\" clip-path=\"url(#pcee77a4dd7)\" style=\"fill: #0000ff; opacity: 0.6\"/>\n   </g>\n   <g id=\"patch_21\">\n    <path d=\"M 296.949625 288.430125 \nL 309.935807 288.430125 \nL 309.935807 282.681013 \nL 296.949625 282.681013 \nz\n\" clip-path=\"url(#pcee77a4dd7)\" style=\"fill: #0000ff; opacity: 0.6\"/>\n   </g>\n   <g id=\"patch_22\">\n    <path d=\"M 309.935807 288.430125 \nL 322.921989 288.430125 \nL 322.921989 284.597384 \nL 309.935807 284.597384 \nz\n\" clip-path=\"url(#pcee77a4dd7)\" style=\"fill: #0000ff; opacity: 0.6\"/>\n   </g>\n   <g id=\"patch_23\">\n    <path d=\"M 322.921989 288.430125 \nL 335.90817 288.430125 \nL 335.90817 286.513754 \nL 322.921989 286.513754 \nz\n\" clip-path=\"url(#pcee77a4dd7)\" style=\"fill: #0000ff; opacity: 0.6\"/>\n   </g>\n   <g id=\"patch_24\">\n    <path d=\"M 335.90817 288.430125 \nL 348.894352 288.430125 \nL 348.894352 288.430125 \nL 335.90817 288.430125 \nz\n\" clip-path=\"url(#pcee77a4dd7)\" style=\"fill: #0000ff; opacity: 0.6\"/>\n   </g>\n   <g id=\"patch_25\">\n    <path d=\"M 348.894352 288.430125 \nL 361.880534 288.430125 \nL 361.880534 279.806458 \nL 348.894352 279.806458 \nz\n\" clip-path=\"url(#pcee77a4dd7)\" style=\"fill: #0000ff; opacity: 0.6\"/>\n   </g>\n   <g id=\"patch_26\">\n    <path d=\"M 361.880534 288.430125 \nL 374.866716 288.430125 \nL 374.866716 283.639199 \nL 361.880534 283.639199 \nz\n\" clip-path=\"url(#pcee77a4dd7)\" style=\"fill: #0000ff; opacity: 0.6\"/>\n   </g>\n   <g id=\"patch_27\">\n    <path d=\"M 374.866716 288.430125 \nL 387.852898 288.430125 \nL 387.852898 284.597384 \nL 374.866716 284.597384 \nz\n\" clip-path=\"url(#pcee77a4dd7)\" style=\"fill: #0000ff; opacity: 0.6\"/>\n   </g>\n   <g id=\"matplotlib.axis_1\">\n    <g id=\"xtick_1\">\n     <g id=\"line2d_1\">\n      <defs>\n       <path id=\"m17ed094f02\" d=\"M 0 0 \nL 0 3.5 \n\" style=\"stroke: #000000; stroke-width: 0.8\"/>\n      </defs>\n      <g>\n       <use xlink:href=\"#m17ed094f02\" x=\"61.218883\" y=\"288.430125\" style=\"stroke: #000000; stroke-width: 0.8\"/>\n      </g>\n     </g>\n     <g id=\"text_1\">\n      <!-- −0.003 -->\n      <g transform=\"translate(42.714976 303.028562) scale(0.1 -0.1)\">\n       <defs>\n        <path id=\"DejaVuSans-2212\" d=\"M 678 2272 \nL 4684 2272 \nL 4684 1741 \nL 678 1741 \nL 678 2272 \nz\n\" transform=\"scale(0.015625)\"/>\n        <path id=\"DejaVuSans-30\" d=\"M 2034 4250 \nQ 1547 4250 1301 3770 \nQ 1056 3291 1056 2328 \nQ 1056 1369 1301 889 \nQ 1547 409 2034 409 \nQ 2525 409 2770 889 \nQ 3016 1369 3016 2328 \nQ 3016 3291 2770 3770 \nQ 2525 4250 2034 4250 \nz\nM 2034 4750 \nQ 2819 4750 3233 4129 \nQ 3647 3509 3647 2328 \nQ 3647 1150 3233 529 \nQ 2819 -91 2034 -91 \nQ 1250 -91 836 529 \nQ 422 1150 422 2328 \nQ 422 3509 836 4129 \nQ 1250 4750 2034 4750 \nz\n\" transform=\"scale(0.015625)\"/>\n        <path id=\"DejaVuSans-2e\" d=\"M 684 794 \nL 1344 794 \nL 1344 0 \nL 684 0 \nL 684 794 \nz\n\" transform=\"scale(0.015625)\"/>\n        <path id=\"DejaVuSans-33\" d=\"M 2597 2516 \nQ 3050 2419 3304 2112 \nQ 3559 1806 3559 1356 \nQ 3559 666 3084 287 \nQ 2609 -91 1734 -91 \nQ 1441 -91 1130 -33 \nQ 819 25 488 141 \nL 488 750 \nQ 750 597 1062 519 \nQ 1375 441 1716 441 \nQ 2309 441 2620 675 \nQ 2931 909 2931 1356 \nQ 2931 1769 2642 2001 \nQ 2353 2234 1838 2234 \nL 1294 2234 \nL 1294 2753 \nL 1863 2753 \nQ 2328 2753 2575 2939 \nQ 2822 3125 2822 3475 \nQ 2822 3834 2567 4026 \nQ 2313 4219 1838 4219 \nQ 1578 4219 1281 4162 \nQ 984 4106 628 3988 \nL 628 4550 \nQ 988 4650 1302 4700 \nQ 1616 4750 1894 4750 \nQ 2613 4750 3031 4423 \nQ 3450 4097 3450 3541 \nQ 3450 3153 3228 2886 \nQ 3006 2619 2597 2516 \nz\n\" transform=\"scale(0.015625)\"/>\n       </defs>\n       <use xlink:href=\"#DejaVuSans-2212\"/>\n       <use xlink:href=\"#DejaVuSans-30\" x=\"83.789062\"/>\n       <use xlink:href=\"#DejaVuSans-2e\" x=\"147.412109\"/>\n       <use xlink:href=\"#DejaVuSans-30\" x=\"179.199219\"/>\n       <use xlink:href=\"#DejaVuSans-30\" x=\"242.822266\"/>\n       <use xlink:href=\"#DejaVuSans-33\" x=\"306.445312\"/>\n      </g>\n     </g>\n    </g>\n    <g id=\"xtick_2\">\n     <g id=\"line2d_2\">\n      <g>\n       <use xlink:href=\"#m17ed094f02\" x=\"101.710239\" y=\"288.430125\" style=\"stroke: #000000; stroke-width: 0.8\"/>\n      </g>\n     </g>\n     <g id=\"text_2\">\n      <!-- −0.002 -->\n      <g transform=\"translate(83.206332 303.028562) scale(0.1 -0.1)\">\n       <defs>\n        <path id=\"DejaVuSans-32\" d=\"M 1228 531 \nL 3431 531 \nL 3431 0 \nL 469 0 \nL 469 531 \nQ 828 903 1448 1529 \nQ 2069 2156 2228 2338 \nQ 2531 2678 2651 2914 \nQ 2772 3150 2772 3378 \nQ 2772 3750 2511 3984 \nQ 2250 4219 1831 4219 \nQ 1534 4219 1204 4116 \nQ 875 4013 500 3803 \nL 500 4441 \nQ 881 4594 1212 4672 \nQ 1544 4750 1819 4750 \nQ 2544 4750 2975 4387 \nQ 3406 4025 3406 3419 \nQ 3406 3131 3298 2873 \nQ 3191 2616 2906 2266 \nQ 2828 2175 2409 1742 \nQ 1991 1309 1228 531 \nz\n\" transform=\"scale(0.015625)\"/>\n       </defs>\n       <use xlink:href=\"#DejaVuSans-2212\"/>\n       <use xlink:href=\"#DejaVuSans-30\" x=\"83.789062\"/>\n       <use xlink:href=\"#DejaVuSans-2e\" x=\"147.412109\"/>\n       <use xlink:href=\"#DejaVuSans-30\" x=\"179.199219\"/>\n       <use xlink:href=\"#DejaVuSans-30\" x=\"242.822266\"/>\n       <use xlink:href=\"#DejaVuSans-32\" x=\"306.445312\"/>\n      </g>\n     </g>\n    </g>\n    <g id=\"xtick_3\">\n     <g id=\"line2d_3\">\n      <g>\n       <use xlink:href=\"#m17ed094f02\" x=\"142.201594\" y=\"288.430125\" style=\"stroke: #000000; stroke-width: 0.8\"/>\n      </g>\n     </g>\n     <g id=\"text_3\">\n      <!-- −0.001 -->\n      <g transform=\"translate(123.697688 303.028562) scale(0.1 -0.1)\">\n       <defs>\n        <path id=\"DejaVuSans-31\" d=\"M 794 531 \nL 1825 531 \nL 1825 4091 \nL 703 3866 \nL 703 4441 \nL 1819 4666 \nL 2450 4666 \nL 2450 531 \nL 3481 531 \nL 3481 0 \nL 794 0 \nL 794 531 \nz\n\" transform=\"scale(0.015625)\"/>\n       </defs>\n       <use xlink:href=\"#DejaVuSans-2212\"/>\n       <use xlink:href=\"#DejaVuSans-30\" x=\"83.789062\"/>\n       <use xlink:href=\"#DejaVuSans-2e\" x=\"147.412109\"/>\n       <use xlink:href=\"#DejaVuSans-30\" x=\"179.199219\"/>\n       <use xlink:href=\"#DejaVuSans-30\" x=\"242.822266\"/>\n       <use xlink:href=\"#DejaVuSans-31\" x=\"306.445312\"/>\n      </g>\n     </g>\n    </g>\n    <g id=\"xtick_4\">\n     <g id=\"line2d_4\">\n      <g>\n       <use xlink:href=\"#m17ed094f02\" x=\"182.69295\" y=\"288.430125\" style=\"stroke: #000000; stroke-width: 0.8\"/>\n      </g>\n     </g>\n     <g id=\"text_4\">\n      <!-- 0.000 -->\n      <g transform=\"translate(168.378888 303.028562) scale(0.1 -0.1)\">\n       <use xlink:href=\"#DejaVuSans-30\"/>\n       <use xlink:href=\"#DejaVuSans-2e\" x=\"63.623047\"/>\n       <use xlink:href=\"#DejaVuSans-30\" x=\"95.410156\"/>\n       <use xlink:href=\"#DejaVuSans-30\" x=\"159.033203\"/>\n       <use xlink:href=\"#DejaVuSans-30\" x=\"222.65625\"/>\n      </g>\n     </g>\n    </g>\n    <g id=\"xtick_5\">\n     <g id=\"line2d_5\">\n      <g>\n       <use xlink:href=\"#m17ed094f02\" x=\"223.184306\" y=\"288.430125\" style=\"stroke: #000000; stroke-width: 0.8\"/>\n      </g>\n     </g>\n     <g id=\"text_5\">\n      <!-- 0.001 -->\n      <g transform=\"translate(208.870244 303.028562) scale(0.1 -0.1)\">\n       <use xlink:href=\"#DejaVuSans-30\"/>\n       <use xlink:href=\"#DejaVuSans-2e\" x=\"63.623047\"/>\n       <use xlink:href=\"#DejaVuSans-30\" x=\"95.410156\"/>\n       <use xlink:href=\"#DejaVuSans-30\" x=\"159.033203\"/>\n       <use xlink:href=\"#DejaVuSans-31\" x=\"222.65625\"/>\n      </g>\n     </g>\n    </g>\n    <g id=\"xtick_6\">\n     <g id=\"line2d_6\">\n      <g>\n       <use xlink:href=\"#m17ed094f02\" x=\"263.675662\" y=\"288.430125\" style=\"stroke: #000000; stroke-width: 0.8\"/>\n      </g>\n     </g>\n     <g id=\"text_6\">\n      <!-- 0.002 -->\n      <g transform=\"translate(249.3616 303.028562) scale(0.1 -0.1)\">\n       <use xlink:href=\"#DejaVuSans-30\"/>\n       <use xlink:href=\"#DejaVuSans-2e\" x=\"63.623047\"/>\n       <use xlink:href=\"#DejaVuSans-30\" x=\"95.410156\"/>\n       <use xlink:href=\"#DejaVuSans-30\" x=\"159.033203\"/>\n       <use xlink:href=\"#DejaVuSans-32\" x=\"222.65625\"/>\n      </g>\n     </g>\n    </g>\n    <g id=\"xtick_7\">\n     <g id=\"line2d_7\">\n      <g>\n       <use xlink:href=\"#m17ed094f02\" x=\"304.167018\" y=\"288.430125\" style=\"stroke: #000000; stroke-width: 0.8\"/>\n      </g>\n     </g>\n     <g id=\"text_7\">\n      <!-- 0.003 -->\n      <g transform=\"translate(289.852956 303.028562) scale(0.1 -0.1)\">\n       <use xlink:href=\"#DejaVuSans-30\"/>\n       <use xlink:href=\"#DejaVuSans-2e\" x=\"63.623047\"/>\n       <use xlink:href=\"#DejaVuSans-30\" x=\"95.410156\"/>\n       <use xlink:href=\"#DejaVuSans-30\" x=\"159.033203\"/>\n       <use xlink:href=\"#DejaVuSans-33\" x=\"222.65625\"/>\n      </g>\n     </g>\n    </g>\n    <g id=\"xtick_8\">\n     <g id=\"line2d_8\">\n      <g>\n       <use xlink:href=\"#m17ed094f02\" x=\"344.658374\" y=\"288.430125\" style=\"stroke: #000000; stroke-width: 0.8\"/>\n      </g>\n     </g>\n     <g id=\"text_8\">\n      <!-- 0.004 -->\n      <g transform=\"translate(330.344312 303.028562) scale(0.1 -0.1)\">\n       <defs>\n        <path id=\"DejaVuSans-34\" d=\"M 2419 4116 \nL 825 1625 \nL 2419 1625 \nL 2419 4116 \nz\nM 2253 4666 \nL 3047 4666 \nL 3047 1625 \nL 3713 1625 \nL 3713 1100 \nL 3047 1100 \nL 3047 0 \nL 2419 0 \nL 2419 1100 \nL 313 1100 \nL 313 1709 \nL 2253 4666 \nz\n\" transform=\"scale(0.015625)\"/>\n       </defs>\n       <use xlink:href=\"#DejaVuSans-30\"/>\n       <use xlink:href=\"#DejaVuSans-2e\" x=\"63.623047\"/>\n       <use xlink:href=\"#DejaVuSans-30\" x=\"95.410156\"/>\n       <use xlink:href=\"#DejaVuSans-30\" x=\"159.033203\"/>\n       <use xlink:href=\"#DejaVuSans-34\" x=\"222.65625\"/>\n      </g>\n     </g>\n    </g>\n    <g id=\"xtick_9\">\n     <g id=\"line2d_9\">\n      <g>\n       <use xlink:href=\"#m17ed094f02\" x=\"385.14973\" y=\"288.430125\" style=\"stroke: #000000; stroke-width: 0.8\"/>\n      </g>\n     </g>\n     <g id=\"text_9\">\n      <!-- 0.005 -->\n      <g transform=\"translate(370.835668 303.028562) scale(0.1 -0.1)\">\n       <defs>\n        <path id=\"DejaVuSans-35\" d=\"M 691 4666 \nL 3169 4666 \nL 3169 4134 \nL 1269 4134 \nL 1269 2991 \nQ 1406 3038 1543 3061 \nQ 1681 3084 1819 3084 \nQ 2600 3084 3056 2656 \nQ 3513 2228 3513 1497 \nQ 3513 744 3044 326 \nQ 2575 -91 1722 -91 \nQ 1428 -91 1123 -41 \nQ 819 9 494 109 \nL 494 744 \nQ 775 591 1075 516 \nQ 1375 441 1709 441 \nQ 2250 441 2565 725 \nQ 2881 1009 2881 1497 \nQ 2881 1984 2565 2268 \nQ 2250 2553 1709 2553 \nQ 1456 2553 1204 2497 \nQ 953 2441 691 2322 \nL 691 4666 \nz\n\" transform=\"scale(0.015625)\"/>\n       </defs>\n       <use xlink:href=\"#DejaVuSans-30\"/>\n       <use xlink:href=\"#DejaVuSans-2e\" x=\"63.623047\"/>\n       <use xlink:href=\"#DejaVuSans-30\" x=\"95.410156\"/>\n       <use xlink:href=\"#DejaVuSans-30\" x=\"159.033203\"/>\n       <use xlink:href=\"#DejaVuSans-35\" x=\"222.65625\"/>\n      </g>\n     </g>\n    </g>\n    <g id=\"text_10\">\n     <!-- Flow difference [L/s] -->\n     <g transform=\"translate(174.783438 316.706687) scale(0.1 -0.1)\">\n      <defs>\n       <path id=\"DejaVuSans-46\" d=\"M 628 4666 \nL 3309 4666 \nL 3309 4134 \nL 1259 4134 \nL 1259 2759 \nL 3109 2759 \nL 3109 2228 \nL 1259 2228 \nL 1259 0 \nL 628 0 \nL 628 4666 \nz\n\" transform=\"scale(0.015625)\"/>\n       <path id=\"DejaVuSans-6c\" d=\"M 603 4863 \nL 1178 4863 \nL 1178 0 \nL 603 0 \nL 603 4863 \nz\n\" transform=\"scale(0.015625)\"/>\n       <path id=\"DejaVuSans-6f\" d=\"M 1959 3097 \nQ 1497 3097 1228 2736 \nQ 959 2375 959 1747 \nQ 959 1119 1226 758 \nQ 1494 397 1959 397 \nQ 2419 397 2687 759 \nQ 2956 1122 2956 1747 \nQ 2956 2369 2687 2733 \nQ 2419 3097 1959 3097 \nz\nM 1959 3584 \nQ 2709 3584 3137 3096 \nQ 3566 2609 3566 1747 \nQ 3566 888 3137 398 \nQ 2709 -91 1959 -91 \nQ 1206 -91 779 398 \nQ 353 888 353 1747 \nQ 353 2609 779 3096 \nQ 1206 3584 1959 3584 \nz\n\" transform=\"scale(0.015625)\"/>\n       <path id=\"DejaVuSans-77\" d=\"M 269 3500 \nL 844 3500 \nL 1563 769 \nL 2278 3500 \nL 2956 3500 \nL 3675 769 \nL 4391 3500 \nL 4966 3500 \nL 4050 0 \nL 3372 0 \nL 2619 2869 \nL 1863 0 \nL 1184 0 \nL 269 3500 \nz\n\" transform=\"scale(0.015625)\"/>\n       <path id=\"DejaVuSans-20\" transform=\"scale(0.015625)\"/>\n       <path id=\"DejaVuSans-64\" d=\"M 2906 2969 \nL 2906 4863 \nL 3481 4863 \nL 3481 0 \nL 2906 0 \nL 2906 525 \nQ 2725 213 2448 61 \nQ 2172 -91 1784 -91 \nQ 1150 -91 751 415 \nQ 353 922 353 1747 \nQ 353 2572 751 3078 \nQ 1150 3584 1784 3584 \nQ 2172 3584 2448 3432 \nQ 2725 3281 2906 2969 \nz\nM 947 1747 \nQ 947 1113 1208 752 \nQ 1469 391 1925 391 \nQ 2381 391 2643 752 \nQ 2906 1113 2906 1747 \nQ 2906 2381 2643 2742 \nQ 2381 3103 1925 3103 \nQ 1469 3103 1208 2742 \nQ 947 2381 947 1747 \nz\n\" transform=\"scale(0.015625)\"/>\n       <path id=\"DejaVuSans-69\" d=\"M 603 3500 \nL 1178 3500 \nL 1178 0 \nL 603 0 \nL 603 3500 \nz\nM 603 4863 \nL 1178 4863 \nL 1178 4134 \nL 603 4134 \nL 603 4863 \nz\n\" transform=\"scale(0.015625)\"/>\n       <path id=\"DejaVuSans-66\" d=\"M 2375 4863 \nL 2375 4384 \nL 1825 4384 \nQ 1516 4384 1395 4259 \nQ 1275 4134 1275 3809 \nL 1275 3500 \nL 2222 3500 \nL 2222 3053 \nL 1275 3053 \nL 1275 0 \nL 697 0 \nL 697 3053 \nL 147 3053 \nL 147 3500 \nL 697 3500 \nL 697 3744 \nQ 697 4328 969 4595 \nQ 1241 4863 1831 4863 \nL 2375 4863 \nz\n\" transform=\"scale(0.015625)\"/>\n       <path id=\"DejaVuSans-65\" d=\"M 3597 1894 \nL 3597 1613 \nL 953 1613 \nQ 991 1019 1311 708 \nQ 1631 397 2203 397 \nQ 2534 397 2845 478 \nQ 3156 559 3463 722 \nL 3463 178 \nQ 3153 47 2828 -22 \nQ 2503 -91 2169 -91 \nQ 1331 -91 842 396 \nQ 353 884 353 1716 \nQ 353 2575 817 3079 \nQ 1281 3584 2069 3584 \nQ 2775 3584 3186 3129 \nQ 3597 2675 3597 1894 \nz\nM 3022 2063 \nQ 3016 2534 2758 2815 \nQ 2500 3097 2075 3097 \nQ 1594 3097 1305 2825 \nQ 1016 2553 972 2059 \nL 3022 2063 \nz\n\" transform=\"scale(0.015625)\"/>\n       <path id=\"DejaVuSans-72\" d=\"M 2631 2963 \nQ 2534 3019 2420 3045 \nQ 2306 3072 2169 3072 \nQ 1681 3072 1420 2755 \nQ 1159 2438 1159 1844 \nL 1159 0 \nL 581 0 \nL 581 3500 \nL 1159 3500 \nL 1159 2956 \nQ 1341 3275 1631 3429 \nQ 1922 3584 2338 3584 \nQ 2397 3584 2469 3576 \nQ 2541 3569 2628 3553 \nL 2631 2963 \nz\n\" transform=\"scale(0.015625)\"/>\n       <path id=\"DejaVuSans-6e\" d=\"M 3513 2113 \nL 3513 0 \nL 2938 0 \nL 2938 2094 \nQ 2938 2591 2744 2837 \nQ 2550 3084 2163 3084 \nQ 1697 3084 1428 2787 \nQ 1159 2491 1159 1978 \nL 1159 0 \nL 581 0 \nL 581 3500 \nL 1159 3500 \nL 1159 2956 \nQ 1366 3272 1645 3428 \nQ 1925 3584 2291 3584 \nQ 2894 3584 3203 3211 \nQ 3513 2838 3513 2113 \nz\n\" transform=\"scale(0.015625)\"/>\n       <path id=\"DejaVuSans-63\" d=\"M 3122 3366 \nL 3122 2828 \nQ 2878 2963 2633 3030 \nQ 2388 3097 2138 3097 \nQ 1578 3097 1268 2742 \nQ 959 2388 959 1747 \nQ 959 1106 1268 751 \nQ 1578 397 2138 397 \nQ 2388 397 2633 464 \nQ 2878 531 3122 666 \nL 3122 134 \nQ 2881 22 2623 -34 \nQ 2366 -91 2075 -91 \nQ 1284 -91 818 406 \nQ 353 903 353 1747 \nQ 353 2603 823 3093 \nQ 1294 3584 2113 3584 \nQ 2378 3584 2631 3529 \nQ 2884 3475 3122 3366 \nz\n\" transform=\"scale(0.015625)\"/>\n       <path id=\"DejaVuSans-5b\" d=\"M 550 4863 \nL 1875 4863 \nL 1875 4416 \nL 1125 4416 \nL 1125 -397 \nL 1875 -397 \nL 1875 -844 \nL 550 -844 \nL 550 4863 \nz\n\" transform=\"scale(0.015625)\"/>\n       <path id=\"DejaVuSans-4c\" d=\"M 628 4666 \nL 1259 4666 \nL 1259 531 \nL 3531 531 \nL 3531 0 \nL 628 0 \nL 628 4666 \nz\n\" transform=\"scale(0.015625)\"/>\n       <path id=\"DejaVuSans-2f\" d=\"M 1625 4666 \nL 2156 4666 \nL 531 -594 \nL 0 -594 \nL 1625 4666 \nz\n\" transform=\"scale(0.015625)\"/>\n       <path id=\"DejaVuSans-73\" d=\"M 2834 3397 \nL 2834 2853 \nQ 2591 2978 2328 3040 \nQ 2066 3103 1784 3103 \nQ 1356 3103 1142 2972 \nQ 928 2841 928 2578 \nQ 928 2378 1081 2264 \nQ 1234 2150 1697 2047 \nL 1894 2003 \nQ 2506 1872 2764 1633 \nQ 3022 1394 3022 966 \nQ 3022 478 2636 193 \nQ 2250 -91 1575 -91 \nQ 1294 -91 989 -36 \nQ 684 19 347 128 \nL 347 722 \nQ 666 556 975 473 \nQ 1284 391 1588 391 \nQ 1994 391 2212 530 \nQ 2431 669 2431 922 \nQ 2431 1156 2273 1281 \nQ 2116 1406 1581 1522 \nL 1381 1569 \nQ 847 1681 609 1914 \nQ 372 2147 372 2553 \nQ 372 3047 722 3315 \nQ 1072 3584 1716 3584 \nQ 2034 3584 2315 3537 \nQ 2597 3491 2834 3397 \nz\n\" transform=\"scale(0.015625)\"/>\n       <path id=\"DejaVuSans-5d\" d=\"M 1947 4863 \nL 1947 -844 \nL 622 -844 \nL 622 -397 \nL 1369 -397 \nL 1369 4416 \nL 622 4416 \nL 622 4863 \nL 1947 4863 \nz\n\" transform=\"scale(0.015625)\"/>\n      </defs>\n      <use xlink:href=\"#DejaVuSans-46\"/>\n      <use xlink:href=\"#DejaVuSans-6c\" x=\"57.519531\"/>\n      <use xlink:href=\"#DejaVuSans-6f\" x=\"85.302734\"/>\n      <use xlink:href=\"#DejaVuSans-77\" x=\"146.484375\"/>\n      <use xlink:href=\"#DejaVuSans-20\" x=\"228.271484\"/>\n      <use xlink:href=\"#DejaVuSans-64\" x=\"260.058594\"/>\n      <use xlink:href=\"#DejaVuSans-69\" x=\"323.535156\"/>\n      <use xlink:href=\"#DejaVuSans-66\" x=\"351.318359\"/>\n      <use xlink:href=\"#DejaVuSans-66\" x=\"386.523438\"/>\n      <use xlink:href=\"#DejaVuSans-65\" x=\"421.728516\"/>\n      <use xlink:href=\"#DejaVuSans-72\" x=\"483.251953\"/>\n      <use xlink:href=\"#DejaVuSans-65\" x=\"522.115234\"/>\n      <use xlink:href=\"#DejaVuSans-6e\" x=\"583.638672\"/>\n      <use xlink:href=\"#DejaVuSans-63\" x=\"647.017578\"/>\n      <use xlink:href=\"#DejaVuSans-65\" x=\"701.998047\"/>\n      <use xlink:href=\"#DejaVuSans-20\" x=\"763.521484\"/>\n      <use xlink:href=\"#DejaVuSans-5b\" x=\"795.308594\"/>\n      <use xlink:href=\"#DejaVuSans-4c\" x=\"834.322266\"/>\n      <use xlink:href=\"#DejaVuSans-2f\" x=\"890.035156\"/>\n      <use xlink:href=\"#DejaVuSans-73\" x=\"923.726562\"/>\n      <use xlink:href=\"#DejaVuSans-5d\" x=\"975.826172\"/>\n     </g>\n    </g>\n   </g>\n   <g id=\"matplotlib.axis_2\">\n    <g id=\"ytick_1\">\n     <g id=\"line2d_10\">\n      <defs>\n       <path id=\"m2fe679c587\" d=\"M 0 0 \nL -3.5 0 \n\" style=\"stroke: #000000; stroke-width: 0.8\"/>\n      </defs>\n      <g>\n       <use xlink:href=\"#m2fe679c587\" x=\"46.965625\" y=\"288.430125\" style=\"stroke: #000000; stroke-width: 0.8\"/>\n      </g>\n     </g>\n     <g id=\"text_11\">\n      <!-- 0 -->\n      <g transform=\"translate(33.603125 292.229344) scale(0.1 -0.1)\">\n       <use xlink:href=\"#DejaVuSans-30\"/>\n      </g>\n     </g>\n    </g>\n    <g id=\"ytick_2\">\n     <g id=\"line2d_11\">\n      <g>\n       <use xlink:href=\"#m2fe679c587\" x=\"46.965625\" y=\"240.520862\" style=\"stroke: #000000; stroke-width: 0.8\"/>\n      </g>\n     </g>\n     <g id=\"text_12\">\n      <!-- 100 -->\n      <g transform=\"translate(20.878125 244.320081) scale(0.1 -0.1)\">\n       <use xlink:href=\"#DejaVuSans-31\"/>\n       <use xlink:href=\"#DejaVuSans-30\" x=\"63.623047\"/>\n       <use xlink:href=\"#DejaVuSans-30\" x=\"127.246094\"/>\n      </g>\n     </g>\n    </g>\n    <g id=\"ytick_3\">\n     <g id=\"line2d_12\">\n      <g>\n       <use xlink:href=\"#m2fe679c587\" x=\"46.965625\" y=\"192.611599\" style=\"stroke: #000000; stroke-width: 0.8\"/>\n      </g>\n     </g>\n     <g id=\"text_13\">\n      <!-- 200 -->\n      <g transform=\"translate(20.878125 196.410818) scale(0.1 -0.1)\">\n       <use xlink:href=\"#DejaVuSans-32\"/>\n       <use xlink:href=\"#DejaVuSans-30\" x=\"63.623047\"/>\n       <use xlink:href=\"#DejaVuSans-30\" x=\"127.246094\"/>\n      </g>\n     </g>\n    </g>\n    <g id=\"ytick_4\">\n     <g id=\"line2d_13\">\n      <g>\n       <use xlink:href=\"#m2fe679c587\" x=\"46.965625\" y=\"144.702337\" style=\"stroke: #000000; stroke-width: 0.8\"/>\n      </g>\n     </g>\n     <g id=\"text_14\">\n      <!-- 300 -->\n      <g transform=\"translate(20.878125 148.501555) scale(0.1 -0.1)\">\n       <use xlink:href=\"#DejaVuSans-33\"/>\n       <use xlink:href=\"#DejaVuSans-30\" x=\"63.623047\"/>\n       <use xlink:href=\"#DejaVuSans-30\" x=\"127.246094\"/>\n      </g>\n     </g>\n    </g>\n    <g id=\"ytick_5\">\n     <g id=\"line2d_14\">\n      <g>\n       <use xlink:href=\"#m2fe679c587\" x=\"46.965625\" y=\"96.793074\" style=\"stroke: #000000; stroke-width: 0.8\"/>\n      </g>\n     </g>\n     <g id=\"text_15\">\n      <!-- 400 -->\n      <g transform=\"translate(20.878125 100.592293) scale(0.1 -0.1)\">\n       <use xlink:href=\"#DejaVuSans-34\"/>\n       <use xlink:href=\"#DejaVuSans-30\" x=\"63.623047\"/>\n       <use xlink:href=\"#DejaVuSans-30\" x=\"127.246094\"/>\n      </g>\n     </g>\n    </g>\n    <g id=\"ytick_6\">\n     <g id=\"line2d_15\">\n      <g>\n       <use xlink:href=\"#m2fe679c587\" x=\"46.965625\" y=\"48.883811\" style=\"stroke: #000000; stroke-width: 0.8\"/>\n      </g>\n     </g>\n     <g id=\"text_16\">\n      <!-- 500 -->\n      <g transform=\"translate(20.878125 52.68303) scale(0.1 -0.1)\">\n       <use xlink:href=\"#DejaVuSans-35\"/>\n       <use xlink:href=\"#DejaVuSans-30\" x=\"63.623047\"/>\n       <use xlink:href=\"#DejaVuSans-30\" x=\"127.246094\"/>\n      </g>\n     </g>\n    </g>\n    <g id=\"text_17\">\n     <!-- Frequency -->\n     <g transform=\"translate(14.798438 181.203812) rotate(-90) scale(0.1 -0.1)\">\n      <defs>\n       <path id=\"DejaVuSans-71\" d=\"M 947 1747 \nQ 947 1113 1208 752 \nQ 1469 391 1925 391 \nQ 2381 391 2643 752 \nQ 2906 1113 2906 1747 \nQ 2906 2381 2643 2742 \nQ 2381 3103 1925 3103 \nQ 1469 3103 1208 2742 \nQ 947 2381 947 1747 \nz\nM 2906 525 \nQ 2725 213 2448 61 \nQ 2172 -91 1784 -91 \nQ 1150 -91 751 415 \nQ 353 922 353 1747 \nQ 353 2572 751 3078 \nQ 1150 3584 1784 3584 \nQ 2172 3584 2448 3432 \nQ 2725 3281 2906 2969 \nL 2906 3500 \nL 3481 3500 \nL 3481 -1331 \nL 2906 -1331 \nL 2906 525 \nz\n\" transform=\"scale(0.015625)\"/>\n       <path id=\"DejaVuSans-75\" d=\"M 544 1381 \nL 544 3500 \nL 1119 3500 \nL 1119 1403 \nQ 1119 906 1312 657 \nQ 1506 409 1894 409 \nQ 2359 409 2629 706 \nQ 2900 1003 2900 1516 \nL 2900 3500 \nL 3475 3500 \nL 3475 0 \nL 2900 0 \nL 2900 538 \nQ 2691 219 2414 64 \nQ 2138 -91 1772 -91 \nQ 1169 -91 856 284 \nQ 544 659 544 1381 \nz\nM 1991 3584 \nL 1991 3584 \nz\n\" transform=\"scale(0.015625)\"/>\n       <path id=\"DejaVuSans-79\" d=\"M 2059 -325 \nQ 1816 -950 1584 -1140 \nQ 1353 -1331 966 -1331 \nL 506 -1331 \nL 506 -850 \nL 844 -850 \nQ 1081 -850 1212 -737 \nQ 1344 -625 1503 -206 \nL 1606 56 \nL 191 3500 \nL 800 3500 \nL 1894 763 \nL 2988 3500 \nL 3597 3500 \nL 2059 -325 \nz\n\" transform=\"scale(0.015625)\"/>\n      </defs>\n      <use xlink:href=\"#DejaVuSans-46\"/>\n      <use xlink:href=\"#DejaVuSans-72\" x=\"50.269531\"/>\n      <use xlink:href=\"#DejaVuSans-65\" x=\"89.132812\"/>\n      <use xlink:href=\"#DejaVuSans-71\" x=\"150.65625\"/>\n      <use xlink:href=\"#DejaVuSans-75\" x=\"214.132812\"/>\n      <use xlink:href=\"#DejaVuSans-65\" x=\"277.511719\"/>\n      <use xlink:href=\"#DejaVuSans-6e\" x=\"339.035156\"/>\n      <use xlink:href=\"#DejaVuSans-63\" x=\"402.414062\"/>\n      <use xlink:href=\"#DejaVuSans-79\" x=\"457.394531\"/>\n     </g>\n    </g>\n   </g>\n   <g id=\"patch_28\">\n    <path d=\"M 46.965625 288.430125 \nL 46.965625 22.318125 \n\" style=\"fill: none; stroke: #000000; stroke-width: 0.8; stroke-linejoin: miter; stroke-linecap: square\"/>\n   </g>\n   <g id=\"patch_29\">\n    <path d=\"M 404.085625 288.430125 \nL 404.085625 22.318125 \n\" style=\"fill: none; stroke: #000000; stroke-width: 0.8; stroke-linejoin: miter; stroke-linecap: square\"/>\n   </g>\n   <g id=\"patch_30\">\n    <path d=\"M 46.965625 288.430125 \nL 404.085625 288.430125 \n\" style=\"fill: none; stroke: #000000; stroke-width: 0.8; stroke-linejoin: miter; stroke-linecap: square\"/>\n   </g>\n   <g id=\"patch_31\">\n    <path d=\"M 46.965625 22.318125 \nL 404.085625 22.318125 \n\" style=\"fill: none; stroke: #000000; stroke-width: 0.8; stroke-linejoin: miter; stroke-linecap: square\"/>\n   </g>\n   <g id=\"text_18\">\n    <!-- Newton-Raphson v. EPANET -->\n    <g transform=\"translate(142.643125 16.318125) scale(0.12 -0.12)\">\n     <defs>\n      <path id=\"DejaVuSans-4e\" d=\"M 628 4666 \nL 1478 4666 \nL 3547 763 \nL 3547 4666 \nL 4159 4666 \nL 4159 0 \nL 3309 0 \nL 1241 3903 \nL 1241 0 \nL 628 0 \nL 628 4666 \nz\n\" transform=\"scale(0.015625)\"/>\n      <path id=\"DejaVuSans-74\" d=\"M 1172 4494 \nL 1172 3500 \nL 2356 3500 \nL 2356 3053 \nL 1172 3053 \nL 1172 1153 \nQ 1172 725 1289 603 \nQ 1406 481 1766 481 \nL 2356 481 \nL 2356 0 \nL 1766 0 \nQ 1100 0 847 248 \nQ 594 497 594 1153 \nL 594 3053 \nL 172 3053 \nL 172 3500 \nL 594 3500 \nL 594 4494 \nL 1172 4494 \nz\n\" transform=\"scale(0.015625)\"/>\n      <path id=\"DejaVuSans-2d\" d=\"M 313 2009 \nL 1997 2009 \nL 1997 1497 \nL 313 1497 \nL 313 2009 \nz\n\" transform=\"scale(0.015625)\"/>\n      <path id=\"DejaVuSans-52\" d=\"M 2841 2188 \nQ 3044 2119 3236 1894 \nQ 3428 1669 3622 1275 \nL 4263 0 \nL 3584 0 \nL 2988 1197 \nQ 2756 1666 2539 1819 \nQ 2322 1972 1947 1972 \nL 1259 1972 \nL 1259 0 \nL 628 0 \nL 628 4666 \nL 2053 4666 \nQ 2853 4666 3247 4331 \nQ 3641 3997 3641 3322 \nQ 3641 2881 3436 2590 \nQ 3231 2300 2841 2188 \nz\nM 1259 4147 \nL 1259 2491 \nL 2053 2491 \nQ 2509 2491 2742 2702 \nQ 2975 2913 2975 3322 \nQ 2975 3731 2742 3939 \nQ 2509 4147 2053 4147 \nL 1259 4147 \nz\n\" transform=\"scale(0.015625)\"/>\n      <path id=\"DejaVuSans-61\" d=\"M 2194 1759 \nQ 1497 1759 1228 1600 \nQ 959 1441 959 1056 \nQ 959 750 1161 570 \nQ 1363 391 1709 391 \nQ 2188 391 2477 730 \nQ 2766 1069 2766 1631 \nL 2766 1759 \nL 2194 1759 \nz\nM 3341 1997 \nL 3341 0 \nL 2766 0 \nL 2766 531 \nQ 2569 213 2275 61 \nQ 1981 -91 1556 -91 \nQ 1019 -91 701 211 \nQ 384 513 384 1019 \nQ 384 1609 779 1909 \nQ 1175 2209 1959 2209 \nL 2766 2209 \nL 2766 2266 \nQ 2766 2663 2505 2880 \nQ 2244 3097 1772 3097 \nQ 1472 3097 1187 3025 \nQ 903 2953 641 2809 \nL 641 3341 \nQ 956 3463 1253 3523 \nQ 1550 3584 1831 3584 \nQ 2591 3584 2966 3190 \nQ 3341 2797 3341 1997 \nz\n\" transform=\"scale(0.015625)\"/>\n      <path id=\"DejaVuSans-70\" d=\"M 1159 525 \nL 1159 -1331 \nL 581 -1331 \nL 581 3500 \nL 1159 3500 \nL 1159 2969 \nQ 1341 3281 1617 3432 \nQ 1894 3584 2278 3584 \nQ 2916 3584 3314 3078 \nQ 3713 2572 3713 1747 \nQ 3713 922 3314 415 \nQ 2916 -91 2278 -91 \nQ 1894 -91 1617 61 \nQ 1341 213 1159 525 \nz\nM 3116 1747 \nQ 3116 2381 2855 2742 \nQ 2594 3103 2138 3103 \nQ 1681 3103 1420 2742 \nQ 1159 2381 1159 1747 \nQ 1159 1113 1420 752 \nQ 1681 391 2138 391 \nQ 2594 391 2855 752 \nQ 3116 1113 3116 1747 \nz\n\" transform=\"scale(0.015625)\"/>\n      <path id=\"DejaVuSans-68\" d=\"M 3513 2113 \nL 3513 0 \nL 2938 0 \nL 2938 2094 \nQ 2938 2591 2744 2837 \nQ 2550 3084 2163 3084 \nQ 1697 3084 1428 2787 \nQ 1159 2491 1159 1978 \nL 1159 0 \nL 581 0 \nL 581 4863 \nL 1159 4863 \nL 1159 2956 \nQ 1366 3272 1645 3428 \nQ 1925 3584 2291 3584 \nQ 2894 3584 3203 3211 \nQ 3513 2838 3513 2113 \nz\n\" transform=\"scale(0.015625)\"/>\n      <path id=\"DejaVuSans-76\" d=\"M 191 3500 \nL 800 3500 \nL 1894 563 \nL 2988 3500 \nL 3597 3500 \nL 2284 0 \nL 1503 0 \nL 191 3500 \nz\n\" transform=\"scale(0.015625)\"/>\n      <path id=\"DejaVuSans-45\" d=\"M 628 4666 \nL 3578 4666 \nL 3578 4134 \nL 1259 4134 \nL 1259 2753 \nL 3481 2753 \nL 3481 2222 \nL 1259 2222 \nL 1259 531 \nL 3634 531 \nL 3634 0 \nL 628 0 \nL 628 4666 \nz\n\" transform=\"scale(0.015625)\"/>\n      <path id=\"DejaVuSans-50\" d=\"M 1259 4147 \nL 1259 2394 \nL 2053 2394 \nQ 2494 2394 2734 2622 \nQ 2975 2850 2975 3272 \nQ 2975 3691 2734 3919 \nQ 2494 4147 2053 4147 \nL 1259 4147 \nz\nM 628 4666 \nL 2053 4666 \nQ 2838 4666 3239 4311 \nQ 3641 3956 3641 3272 \nQ 3641 2581 3239 2228 \nQ 2838 1875 2053 1875 \nL 1259 1875 \nL 1259 0 \nL 628 0 \nL 628 4666 \nz\n\" transform=\"scale(0.015625)\"/>\n      <path id=\"DejaVuSans-41\" d=\"M 2188 4044 \nL 1331 1722 \nL 3047 1722 \nL 2188 4044 \nz\nM 1831 4666 \nL 2547 4666 \nL 4325 0 \nL 3669 0 \nL 3244 1197 \nL 1141 1197 \nL 716 0 \nL 50 0 \nL 1831 4666 \nz\n\" transform=\"scale(0.015625)\"/>\n      <path id=\"DejaVuSans-54\" d=\"M -19 4666 \nL 3928 4666 \nL 3928 4134 \nL 2272 4134 \nL 2272 0 \nL 1638 0 \nL 1638 4134 \nL -19 4134 \nL -19 4666 \nz\n\" transform=\"scale(0.015625)\"/>\n     </defs>\n     <use xlink:href=\"#DejaVuSans-4e\"/>\n     <use xlink:href=\"#DejaVuSans-65\" x=\"74.804688\"/>\n     <use xlink:href=\"#DejaVuSans-77\" x=\"136.328125\"/>\n     <use xlink:href=\"#DejaVuSans-74\" x=\"218.115234\"/>\n     <use xlink:href=\"#DejaVuSans-6f\" x=\"257.324219\"/>\n     <use xlink:href=\"#DejaVuSans-6e\" x=\"318.505859\"/>\n     <use xlink:href=\"#DejaVuSans-2d\" x=\"381.884766\"/>\n     <use xlink:href=\"#DejaVuSans-52\" x=\"417.96875\"/>\n     <use xlink:href=\"#DejaVuSans-61\" x=\"485.201172\"/>\n     <use xlink:href=\"#DejaVuSans-70\" x=\"546.480469\"/>\n     <use xlink:href=\"#DejaVuSans-68\" x=\"609.957031\"/>\n     <use xlink:href=\"#DejaVuSans-73\" x=\"673.335938\"/>\n     <use xlink:href=\"#DejaVuSans-6f\" x=\"725.435547\"/>\n     <use xlink:href=\"#DejaVuSans-6e\" x=\"786.617188\"/>\n     <use xlink:href=\"#DejaVuSans-20\" x=\"849.996094\"/>\n     <use xlink:href=\"#DejaVuSans-76\" x=\"881.783203\"/>\n     <use xlink:href=\"#DejaVuSans-2e\" x=\"933.212891\"/>\n     <use xlink:href=\"#DejaVuSans-20\" x=\"965\"/>\n     <use xlink:href=\"#DejaVuSans-45\" x=\"996.787109\"/>\n     <use xlink:href=\"#DejaVuSans-50\" x=\"1059.970703\"/>\n     <use xlink:href=\"#DejaVuSans-41\" x=\"1113.898438\"/>\n     <use xlink:href=\"#DejaVuSans-4e\" x=\"1182.306641\"/>\n     <use xlink:href=\"#DejaVuSans-45\" x=\"1257.111328\"/>\n     <use xlink:href=\"#DejaVuSans-54\" x=\"1320.294922\"/>\n    </g>\n   </g>\n  </g>\n </g>\n <defs>\n  <clipPath id=\"pcee77a4dd7\">\n   <rect x=\"46.965625\" y=\"22.318125\" width=\"357.12\" height=\"266.112\"/>\n  </clipPath>\n </defs>\n</svg>\n"
          },
          "metadata": {}
        }
      ],
      "source": [
        "# Newton-Raphson v. EPANET: flow\n",
        "qdiff_1 = q_nr.iloc[:, 1:] - q_epa.iloc[:, 1:]\n",
        "qdiff_1_array = qdiff_1.values.flatten() * 1000\n",
        "plt.hist(qdiff_1_array, bins = 25, color='blue', alpha=0.6)\n",
        "\n",
        "# Set labels and title\n",
        "plt.xlabel('Flow difference [L/s]')\n",
        "plt.ylabel('Frequency')\n",
        "plt.title('Newton-Raphson v. EPANET')\n",
        "\n",
        "# Display the plot\n",
        "plt.show()"
      ]
    },
    {
      "cell_type": "code",
      "execution_count": 24,
      "metadata": {
        "colab": {
          "base_uri": "https://localhost:8080/",
          "height": 456
        },
        "id": "5ePyoSCxun6G",
        "outputId": "944b2e13-294a-4730-a9d1-95fb648232cd"
      },
      "outputs": [
        {
          "output_type": "display_data",
          "data": {
            "text/plain": [
              "<Figure size 1920x1440 with 1 Axes>"
            ],
            "image/svg+xml": "<?xml version=\"1.0\" encoding=\"utf-8\" standalone=\"no\"?>\n<!DOCTYPE svg PUBLIC \"-//W3C//DTD SVG 1.1//EN\"\n  \"http://www.w3.org/Graphics/SVG/1.1/DTD/svg11.dtd\">\n<svg xmlns:xlink=\"http://www.w3.org/1999/xlink\" width=\"411.285625pt\" height=\"325.986375pt\" viewBox=\"0 0 411.285625 325.986375\" xmlns=\"http://www.w3.org/2000/svg\" version=\"1.1\">\n <metadata>\n  <rdf:RDF xmlns:dc=\"http://purl.org/dc/elements/1.1/\" xmlns:cc=\"http://creativecommons.org/ns#\" xmlns:rdf=\"http://www.w3.org/1999/02/22-rdf-syntax-ns#\">\n   <cc:Work>\n    <dc:type rdf:resource=\"http://purl.org/dc/dcmitype/StillImage\"/>\n    <dc:date>2023-08-21T12:39:21.649747</dc:date>\n    <dc:format>image/svg+xml</dc:format>\n    <dc:creator>\n     <cc:Agent>\n      <dc:title>Matplotlib v3.7.1, https://matplotlib.org/</dc:title>\n     </cc:Agent>\n    </dc:creator>\n   </cc:Work>\n  </rdf:RDF>\n </metadata>\n <defs>\n  <style type=\"text/css\">*{stroke-linejoin: round; stroke-linecap: butt}</style>\n </defs>\n <g id=\"figure_1\">\n  <g id=\"patch_1\">\n   <path d=\"M 0 325.986375 \nL 411.285625 325.986375 \nL 411.285625 0 \nL 0 0 \nz\n\" style=\"fill: #ffffff\"/>\n  </g>\n  <g id=\"axes_1\">\n   <g id=\"patch_2\">\n    <path d=\"M 46.965625 288.430125 \nL 404.085625 288.430125 \nL 404.085625 22.318125 \nL 46.965625 22.318125 \nz\n\" style=\"fill: #ffffff\"/>\n   </g>\n   <g id=\"patch_3\">\n    <path d=\"M 63.198352 288.430125 \nL 76.184534 288.430125 \nL 76.184534 34.990125 \nL 63.198352 34.990125 \nz\n\" clip-path=\"url(#p4310a03a65)\" style=\"fill: #ff0000; opacity: 0.6\"/>\n   </g>\n   <g id=\"patch_4\">\n    <path d=\"M 76.184534 288.430125 \nL 89.170716 288.430125 \nL 89.170716 186.268265 \nL 76.184534 186.268265 \nz\n\" clip-path=\"url(#p4310a03a65)\" style=\"fill: #ff0000; opacity: 0.6\"/>\n   </g>\n   <g id=\"patch_5\">\n    <path d=\"M 89.170716 288.430125 \nL 102.156898 288.430125 \nL 102.156898 213.773381 \nL 89.170716 213.773381 \nz\n\" clip-path=\"url(#p4310a03a65)\" style=\"fill: #ff0000; opacity: 0.6\"/>\n   </g>\n   <g id=\"patch_6\">\n    <path d=\"M 102.156898 288.430125 \nL 115.14308 288.430125 \nL 115.14308 207.224544 \nL 102.156898 207.224544 \nz\n\" clip-path=\"url(#p4310a03a65)\" style=\"fill: #ff0000; opacity: 0.6\"/>\n   </g>\n   <g id=\"patch_7\">\n    <path d=\"M 115.14308 288.430125 \nL 128.129261 288.430125 \nL 128.129261 218.357567 \nL 115.14308 218.357567 \nz\n\" clip-path=\"url(#p4310a03a65)\" style=\"fill: #ff0000; opacity: 0.6\"/>\n   </g>\n   <g id=\"patch_8\">\n    <path d=\"M 128.129261 288.430125 \nL 141.115443 288.430125 \nL 141.115443 251.101753 \nL 128.129261 251.101753 \nz\n\" clip-path=\"url(#p4310a03a65)\" style=\"fill: #ff0000; opacity: 0.6\"/>\n   </g>\n   <g id=\"patch_9\">\n    <path d=\"M 141.115443 288.430125 \nL 154.101625 288.430125 \nL 154.101625 224.906404 \nL 141.115443 224.906404 \nz\n\" clip-path=\"url(#p4310a03a65)\" style=\"fill: #ff0000; opacity: 0.6\"/>\n   </g>\n   <g id=\"patch_10\">\n    <path d=\"M 154.101625 288.430125 \nL 167.087807 288.430125 \nL 167.087807 256.995706 \nL 154.101625 256.995706 \nz\n\" clip-path=\"url(#p4310a03a65)\" style=\"fill: #ff0000; opacity: 0.6\"/>\n   </g>\n   <g id=\"patch_11\">\n    <path d=\"M 167.087807 288.430125 \nL 180.073989 288.430125 \nL 180.073989 207.879427 \nL 167.087807 207.879427 \nz\n\" clip-path=\"url(#p4310a03a65)\" style=\"fill: #ff0000; opacity: 0.6\"/>\n   </g>\n   <g id=\"patch_12\">\n    <path d=\"M 180.073989 288.430125 \nL 193.06017 288.430125 \nL 193.06017 262.88966 \nL 180.073989 262.88966 \nz\n\" clip-path=\"url(#p4310a03a65)\" style=\"fill: #ff0000; opacity: 0.6\"/>\n   </g>\n   <g id=\"patch_13\">\n    <path d=\"M 193.06017 288.430125 \nL 206.046352 288.430125 \nL 206.046352 250.446869 \nL 193.06017 250.446869 \nz\n\" clip-path=\"url(#p4310a03a65)\" style=\"fill: #ff0000; opacity: 0.6\"/>\n   </g>\n   <g id=\"patch_14\">\n    <path d=\"M 206.046352 288.430125 \nL 219.032534 288.430125 \nL 219.032534 228.180823 \nL 206.046352 228.180823 \nz\n\" clip-path=\"url(#p4310a03a65)\" style=\"fill: #ff0000; opacity: 0.6\"/>\n   </g>\n   <g id=\"patch_15\">\n    <path d=\"M 219.032534 288.430125 \nL 232.018716 288.430125 \nL 232.018716 269.438497 \nL 219.032534 269.438497 \nz\n\" clip-path=\"url(#p4310a03a65)\" style=\"fill: #ff0000; opacity: 0.6\"/>\n   </g>\n   <g id=\"patch_16\">\n    <path d=\"M 232.018716 288.430125 \nL 245.004898 288.430125 \nL 245.004898 275.987334 \nL 232.018716 275.987334 \nz\n\" clip-path=\"url(#p4310a03a65)\" style=\"fill: #ff0000; opacity: 0.6\"/>\n   </g>\n   <g id=\"patch_17\">\n    <path d=\"M 245.004898 288.430125 \nL 257.99108 288.430125 \nL 257.99108 266.164078 \nL 245.004898 266.164078 \nz\n\" clip-path=\"url(#p4310a03a65)\" style=\"fill: #ff0000; opacity: 0.6\"/>\n   </g>\n   <g id=\"patch_18\">\n    <path d=\"M 257.99108 288.430125 \nL 270.977261 288.430125 \nL 270.977261 275.332451 \nL 257.99108 275.332451 \nz\n\" clip-path=\"url(#p4310a03a65)\" style=\"fill: #ff0000; opacity: 0.6\"/>\n   </g>\n   <g id=\"patch_19\">\n    <path d=\"M 270.977261 288.430125 \nL 283.963443 288.430125 \nL 283.963443 275.332451 \nL 270.977261 275.332451 \nz\n\" clip-path=\"url(#p4310a03a65)\" style=\"fill: #ff0000; opacity: 0.6\"/>\n   </g>\n   <g id=\"patch_20\">\n    <path d=\"M 283.963443 288.430125 \nL 296.949625 288.430125 \nL 296.949625 277.951985 \nL 283.963443 277.951985 \nz\n\" clip-path=\"url(#p4310a03a65)\" style=\"fill: #ff0000; opacity: 0.6\"/>\n   </g>\n   <g id=\"patch_21\">\n    <path d=\"M 296.949625 288.430125 \nL 309.935807 288.430125 \nL 309.935807 276.642218 \nL 296.949625 276.642218 \nz\n\" clip-path=\"url(#p4310a03a65)\" style=\"fill: #ff0000; opacity: 0.6\"/>\n   </g>\n   <g id=\"patch_22\">\n    <path d=\"M 309.935807 288.430125 \nL 322.921989 288.430125 \nL 322.921989 281.881288 \nL 309.935807 281.881288 \nz\n\" clip-path=\"url(#p4310a03a65)\" style=\"fill: #ff0000; opacity: 0.6\"/>\n   </g>\n   <g id=\"patch_23\">\n    <path d=\"M 322.921989 288.430125 \nL 335.90817 288.430125 \nL 335.90817 283.191055 \nL 322.921989 283.191055 \nz\n\" clip-path=\"url(#p4310a03a65)\" style=\"fill: #ff0000; opacity: 0.6\"/>\n   </g>\n   <g id=\"patch_24\">\n    <path d=\"M 335.90817 288.430125 \nL 348.894352 288.430125 \nL 348.894352 285.81059 \nL 335.90817 285.81059 \nz\n\" clip-path=\"url(#p4310a03a65)\" style=\"fill: #ff0000; opacity: 0.6\"/>\n   </g>\n   <g id=\"patch_25\">\n    <path d=\"M 348.894352 288.430125 \nL 361.880534 288.430125 \nL 361.880534 277.951985 \nL 348.894352 277.951985 \nz\n\" clip-path=\"url(#p4310a03a65)\" style=\"fill: #ff0000; opacity: 0.6\"/>\n   </g>\n   <g id=\"patch_26\">\n    <path d=\"M 361.880534 288.430125 \nL 374.866716 288.430125 \nL 374.866716 284.500823 \nL 361.880534 284.500823 \nz\n\" clip-path=\"url(#p4310a03a65)\" style=\"fill: #ff0000; opacity: 0.6\"/>\n   </g>\n   <g id=\"patch_27\">\n    <path d=\"M 374.866716 288.430125 \nL 387.852898 288.430125 \nL 387.852898 284.500823 \nL 374.866716 284.500823 \nz\n\" clip-path=\"url(#p4310a03a65)\" style=\"fill: #ff0000; opacity: 0.6\"/>\n   </g>\n   <g id=\"matplotlib.axis_1\">\n    <g id=\"xtick_1\">\n     <g id=\"line2d_1\">\n      <defs>\n       <path id=\"m2b65f0ae9a\" d=\"M 0 0 \nL 0 3.5 \n\" style=\"stroke: #000000; stroke-width: 0.8\"/>\n      </defs>\n      <g>\n       <use xlink:href=\"#m2b65f0ae9a\" x=\"63.846291\" y=\"288.430125\" style=\"stroke: #000000; stroke-width: 0.8\"/>\n      </g>\n     </g>\n     <g id=\"text_1\">\n      <!-- 0.000 -->\n      <g transform=\"translate(49.532229 303.028562) scale(0.1 -0.1)\">\n       <defs>\n        <path id=\"DejaVuSans-30\" d=\"M 2034 4250 \nQ 1547 4250 1301 3770 \nQ 1056 3291 1056 2328 \nQ 1056 1369 1301 889 \nQ 1547 409 2034 409 \nQ 2525 409 2770 889 \nQ 3016 1369 3016 2328 \nQ 3016 3291 2770 3770 \nQ 2525 4250 2034 4250 \nz\nM 2034 4750 \nQ 2819 4750 3233 4129 \nQ 3647 3509 3647 2328 \nQ 3647 1150 3233 529 \nQ 2819 -91 2034 -91 \nQ 1250 -91 836 529 \nQ 422 1150 422 2328 \nQ 422 3509 836 4129 \nQ 1250 4750 2034 4750 \nz\n\" transform=\"scale(0.015625)\"/>\n        <path id=\"DejaVuSans-2e\" d=\"M 684 794 \nL 1344 794 \nL 1344 0 \nL 684 0 \nL 684 794 \nz\n\" transform=\"scale(0.015625)\"/>\n       </defs>\n       <use xlink:href=\"#DejaVuSans-30\"/>\n       <use xlink:href=\"#DejaVuSans-2e\" x=\"63.623047\"/>\n       <use xlink:href=\"#DejaVuSans-30\" x=\"95.410156\"/>\n       <use xlink:href=\"#DejaVuSans-30\" x=\"159.033203\"/>\n       <use xlink:href=\"#DejaVuSans-30\" x=\"222.65625\"/>\n      </g>\n     </g>\n    </g>\n    <g id=\"xtick_2\">\n     <g id=\"line2d_2\">\n      <g>\n       <use xlink:href=\"#m2b65f0ae9a\" x=\"117.906165\" y=\"288.430125\" style=\"stroke: #000000; stroke-width: 0.8\"/>\n      </g>\n     </g>\n     <g id=\"text_2\">\n      <!-- 0.001 -->\n      <g transform=\"translate(103.592102 303.028562) scale(0.1 -0.1)\">\n       <defs>\n        <path id=\"DejaVuSans-31\" d=\"M 794 531 \nL 1825 531 \nL 1825 4091 \nL 703 3866 \nL 703 4441 \nL 1819 4666 \nL 2450 4666 \nL 2450 531 \nL 3481 531 \nL 3481 0 \nL 794 0 \nL 794 531 \nz\n\" transform=\"scale(0.015625)\"/>\n       </defs>\n       <use xlink:href=\"#DejaVuSans-30\"/>\n       <use xlink:href=\"#DejaVuSans-2e\" x=\"63.623047\"/>\n       <use xlink:href=\"#DejaVuSans-30\" x=\"95.410156\"/>\n       <use xlink:href=\"#DejaVuSans-30\" x=\"159.033203\"/>\n       <use xlink:href=\"#DejaVuSans-31\" x=\"222.65625\"/>\n      </g>\n     </g>\n    </g>\n    <g id=\"xtick_3\">\n     <g id=\"line2d_3\">\n      <g>\n       <use xlink:href=\"#m2b65f0ae9a\" x=\"171.966038\" y=\"288.430125\" style=\"stroke: #000000; stroke-width: 0.8\"/>\n      </g>\n     </g>\n     <g id=\"text_3\">\n      <!-- 0.002 -->\n      <g transform=\"translate(157.651976 303.028562) scale(0.1 -0.1)\">\n       <defs>\n        <path id=\"DejaVuSans-32\" d=\"M 1228 531 \nL 3431 531 \nL 3431 0 \nL 469 0 \nL 469 531 \nQ 828 903 1448 1529 \nQ 2069 2156 2228 2338 \nQ 2531 2678 2651 2914 \nQ 2772 3150 2772 3378 \nQ 2772 3750 2511 3984 \nQ 2250 4219 1831 4219 \nQ 1534 4219 1204 4116 \nQ 875 4013 500 3803 \nL 500 4441 \nQ 881 4594 1212 4672 \nQ 1544 4750 1819 4750 \nQ 2544 4750 2975 4387 \nQ 3406 4025 3406 3419 \nQ 3406 3131 3298 2873 \nQ 3191 2616 2906 2266 \nQ 2828 2175 2409 1742 \nQ 1991 1309 1228 531 \nz\n\" transform=\"scale(0.015625)\"/>\n       </defs>\n       <use xlink:href=\"#DejaVuSans-30\"/>\n       <use xlink:href=\"#DejaVuSans-2e\" x=\"63.623047\"/>\n       <use xlink:href=\"#DejaVuSans-30\" x=\"95.410156\"/>\n       <use xlink:href=\"#DejaVuSans-30\" x=\"159.033203\"/>\n       <use xlink:href=\"#DejaVuSans-32\" x=\"222.65625\"/>\n      </g>\n     </g>\n    </g>\n    <g id=\"xtick_4\">\n     <g id=\"line2d_4\">\n      <g>\n       <use xlink:href=\"#m2b65f0ae9a\" x=\"226.025912\" y=\"288.430125\" style=\"stroke: #000000; stroke-width: 0.8\"/>\n      </g>\n     </g>\n     <g id=\"text_4\">\n      <!-- 0.003 -->\n      <g transform=\"translate(211.711849 303.028562) scale(0.1 -0.1)\">\n       <defs>\n        <path id=\"DejaVuSans-33\" d=\"M 2597 2516 \nQ 3050 2419 3304 2112 \nQ 3559 1806 3559 1356 \nQ 3559 666 3084 287 \nQ 2609 -91 1734 -91 \nQ 1441 -91 1130 -33 \nQ 819 25 488 141 \nL 488 750 \nQ 750 597 1062 519 \nQ 1375 441 1716 441 \nQ 2309 441 2620 675 \nQ 2931 909 2931 1356 \nQ 2931 1769 2642 2001 \nQ 2353 2234 1838 2234 \nL 1294 2234 \nL 1294 2753 \nL 1863 2753 \nQ 2328 2753 2575 2939 \nQ 2822 3125 2822 3475 \nQ 2822 3834 2567 4026 \nQ 2313 4219 1838 4219 \nQ 1578 4219 1281 4162 \nQ 984 4106 628 3988 \nL 628 4550 \nQ 988 4650 1302 4700 \nQ 1616 4750 1894 4750 \nQ 2613 4750 3031 4423 \nQ 3450 4097 3450 3541 \nQ 3450 3153 3228 2886 \nQ 3006 2619 2597 2516 \nz\n\" transform=\"scale(0.015625)\"/>\n       </defs>\n       <use xlink:href=\"#DejaVuSans-30\"/>\n       <use xlink:href=\"#DejaVuSans-2e\" x=\"63.623047\"/>\n       <use xlink:href=\"#DejaVuSans-30\" x=\"95.410156\"/>\n       <use xlink:href=\"#DejaVuSans-30\" x=\"159.033203\"/>\n       <use xlink:href=\"#DejaVuSans-33\" x=\"222.65625\"/>\n      </g>\n     </g>\n    </g>\n    <g id=\"xtick_5\">\n     <g id=\"line2d_5\">\n      <g>\n       <use xlink:href=\"#m2b65f0ae9a\" x=\"280.085785\" y=\"288.430125\" style=\"stroke: #000000; stroke-width: 0.8\"/>\n      </g>\n     </g>\n     <g id=\"text_5\">\n      <!-- 0.004 -->\n      <g transform=\"translate(265.771723 303.028562) scale(0.1 -0.1)\">\n       <defs>\n        <path id=\"DejaVuSans-34\" d=\"M 2419 4116 \nL 825 1625 \nL 2419 1625 \nL 2419 4116 \nz\nM 2253 4666 \nL 3047 4666 \nL 3047 1625 \nL 3713 1625 \nL 3713 1100 \nL 3047 1100 \nL 3047 0 \nL 2419 0 \nL 2419 1100 \nL 313 1100 \nL 313 1709 \nL 2253 4666 \nz\n\" transform=\"scale(0.015625)\"/>\n       </defs>\n       <use xlink:href=\"#DejaVuSans-30\"/>\n       <use xlink:href=\"#DejaVuSans-2e\" x=\"63.623047\"/>\n       <use xlink:href=\"#DejaVuSans-30\" x=\"95.410156\"/>\n       <use xlink:href=\"#DejaVuSans-30\" x=\"159.033203\"/>\n       <use xlink:href=\"#DejaVuSans-34\" x=\"222.65625\"/>\n      </g>\n     </g>\n    </g>\n    <g id=\"xtick_6\">\n     <g id=\"line2d_6\">\n      <g>\n       <use xlink:href=\"#m2b65f0ae9a\" x=\"334.145659\" y=\"288.430125\" style=\"stroke: #000000; stroke-width: 0.8\"/>\n      </g>\n     </g>\n     <g id=\"text_6\">\n      <!-- 0.005 -->\n      <g transform=\"translate(319.831596 303.028562) scale(0.1 -0.1)\">\n       <defs>\n        <path id=\"DejaVuSans-35\" d=\"M 691 4666 \nL 3169 4666 \nL 3169 4134 \nL 1269 4134 \nL 1269 2991 \nQ 1406 3038 1543 3061 \nQ 1681 3084 1819 3084 \nQ 2600 3084 3056 2656 \nQ 3513 2228 3513 1497 \nQ 3513 744 3044 326 \nQ 2575 -91 1722 -91 \nQ 1428 -91 1123 -41 \nQ 819 9 494 109 \nL 494 744 \nQ 775 591 1075 516 \nQ 1375 441 1709 441 \nQ 2250 441 2565 725 \nQ 2881 1009 2881 1497 \nQ 2881 1984 2565 2268 \nQ 2250 2553 1709 2553 \nQ 1456 2553 1204 2497 \nQ 953 2441 691 2322 \nL 691 4666 \nz\n\" transform=\"scale(0.015625)\"/>\n       </defs>\n       <use xlink:href=\"#DejaVuSans-30\"/>\n       <use xlink:href=\"#DejaVuSans-2e\" x=\"63.623047\"/>\n       <use xlink:href=\"#DejaVuSans-30\" x=\"95.410156\"/>\n       <use xlink:href=\"#DejaVuSans-30\" x=\"159.033203\"/>\n       <use xlink:href=\"#DejaVuSans-35\" x=\"222.65625\"/>\n      </g>\n     </g>\n    </g>\n    <g id=\"xtick_7\">\n     <g id=\"line2d_7\">\n      <g>\n       <use xlink:href=\"#m2b65f0ae9a\" x=\"388.205532\" y=\"288.430125\" style=\"stroke: #000000; stroke-width: 0.8\"/>\n      </g>\n     </g>\n     <g id=\"text_7\">\n      <!-- 0.006 -->\n      <g transform=\"translate(373.89147 303.028562) scale(0.1 -0.1)\">\n       <defs>\n        <path id=\"DejaVuSans-36\" d=\"M 2113 2584 \nQ 1688 2584 1439 2293 \nQ 1191 2003 1191 1497 \nQ 1191 994 1439 701 \nQ 1688 409 2113 409 \nQ 2538 409 2786 701 \nQ 3034 994 3034 1497 \nQ 3034 2003 2786 2293 \nQ 2538 2584 2113 2584 \nz\nM 3366 4563 \nL 3366 3988 \nQ 3128 4100 2886 4159 \nQ 2644 4219 2406 4219 \nQ 1781 4219 1451 3797 \nQ 1122 3375 1075 2522 \nQ 1259 2794 1537 2939 \nQ 1816 3084 2150 3084 \nQ 2853 3084 3261 2657 \nQ 3669 2231 3669 1497 \nQ 3669 778 3244 343 \nQ 2819 -91 2113 -91 \nQ 1303 -91 875 529 \nQ 447 1150 447 2328 \nQ 447 3434 972 4092 \nQ 1497 4750 2381 4750 \nQ 2619 4750 2861 4703 \nQ 3103 4656 3366 4563 \nz\n\" transform=\"scale(0.015625)\"/>\n       </defs>\n       <use xlink:href=\"#DejaVuSans-30\"/>\n       <use xlink:href=\"#DejaVuSans-2e\" x=\"63.623047\"/>\n       <use xlink:href=\"#DejaVuSans-30\" x=\"95.410156\"/>\n       <use xlink:href=\"#DejaVuSans-30\" x=\"159.033203\"/>\n       <use xlink:href=\"#DejaVuSans-36\" x=\"222.65625\"/>\n      </g>\n     </g>\n    </g>\n    <g id=\"text_8\">\n     <!-- Head difference [m] -->\n     <g transform=\"translate(175.326406 316.706687) scale(0.1 -0.1)\">\n      <defs>\n       <path id=\"DejaVuSans-48\" d=\"M 628 4666 \nL 1259 4666 \nL 1259 2753 \nL 3553 2753 \nL 3553 4666 \nL 4184 4666 \nL 4184 0 \nL 3553 0 \nL 3553 2222 \nL 1259 2222 \nL 1259 0 \nL 628 0 \nL 628 4666 \nz\n\" transform=\"scale(0.015625)\"/>\n       <path id=\"DejaVuSans-65\" d=\"M 3597 1894 \nL 3597 1613 \nL 953 1613 \nQ 991 1019 1311 708 \nQ 1631 397 2203 397 \nQ 2534 397 2845 478 \nQ 3156 559 3463 722 \nL 3463 178 \nQ 3153 47 2828 -22 \nQ 2503 -91 2169 -91 \nQ 1331 -91 842 396 \nQ 353 884 353 1716 \nQ 353 2575 817 3079 \nQ 1281 3584 2069 3584 \nQ 2775 3584 3186 3129 \nQ 3597 2675 3597 1894 \nz\nM 3022 2063 \nQ 3016 2534 2758 2815 \nQ 2500 3097 2075 3097 \nQ 1594 3097 1305 2825 \nQ 1016 2553 972 2059 \nL 3022 2063 \nz\n\" transform=\"scale(0.015625)\"/>\n       <path id=\"DejaVuSans-61\" d=\"M 2194 1759 \nQ 1497 1759 1228 1600 \nQ 959 1441 959 1056 \nQ 959 750 1161 570 \nQ 1363 391 1709 391 \nQ 2188 391 2477 730 \nQ 2766 1069 2766 1631 \nL 2766 1759 \nL 2194 1759 \nz\nM 3341 1997 \nL 3341 0 \nL 2766 0 \nL 2766 531 \nQ 2569 213 2275 61 \nQ 1981 -91 1556 -91 \nQ 1019 -91 701 211 \nQ 384 513 384 1019 \nQ 384 1609 779 1909 \nQ 1175 2209 1959 2209 \nL 2766 2209 \nL 2766 2266 \nQ 2766 2663 2505 2880 \nQ 2244 3097 1772 3097 \nQ 1472 3097 1187 3025 \nQ 903 2953 641 2809 \nL 641 3341 \nQ 956 3463 1253 3523 \nQ 1550 3584 1831 3584 \nQ 2591 3584 2966 3190 \nQ 3341 2797 3341 1997 \nz\n\" transform=\"scale(0.015625)\"/>\n       <path id=\"DejaVuSans-64\" d=\"M 2906 2969 \nL 2906 4863 \nL 3481 4863 \nL 3481 0 \nL 2906 0 \nL 2906 525 \nQ 2725 213 2448 61 \nQ 2172 -91 1784 -91 \nQ 1150 -91 751 415 \nQ 353 922 353 1747 \nQ 353 2572 751 3078 \nQ 1150 3584 1784 3584 \nQ 2172 3584 2448 3432 \nQ 2725 3281 2906 2969 \nz\nM 947 1747 \nQ 947 1113 1208 752 \nQ 1469 391 1925 391 \nQ 2381 391 2643 752 \nQ 2906 1113 2906 1747 \nQ 2906 2381 2643 2742 \nQ 2381 3103 1925 3103 \nQ 1469 3103 1208 2742 \nQ 947 2381 947 1747 \nz\n\" transform=\"scale(0.015625)\"/>\n       <path id=\"DejaVuSans-20\" transform=\"scale(0.015625)\"/>\n       <path id=\"DejaVuSans-69\" d=\"M 603 3500 \nL 1178 3500 \nL 1178 0 \nL 603 0 \nL 603 3500 \nz\nM 603 4863 \nL 1178 4863 \nL 1178 4134 \nL 603 4134 \nL 603 4863 \nz\n\" transform=\"scale(0.015625)\"/>\n       <path id=\"DejaVuSans-66\" d=\"M 2375 4863 \nL 2375 4384 \nL 1825 4384 \nQ 1516 4384 1395 4259 \nQ 1275 4134 1275 3809 \nL 1275 3500 \nL 2222 3500 \nL 2222 3053 \nL 1275 3053 \nL 1275 0 \nL 697 0 \nL 697 3053 \nL 147 3053 \nL 147 3500 \nL 697 3500 \nL 697 3744 \nQ 697 4328 969 4595 \nQ 1241 4863 1831 4863 \nL 2375 4863 \nz\n\" transform=\"scale(0.015625)\"/>\n       <path id=\"DejaVuSans-72\" d=\"M 2631 2963 \nQ 2534 3019 2420 3045 \nQ 2306 3072 2169 3072 \nQ 1681 3072 1420 2755 \nQ 1159 2438 1159 1844 \nL 1159 0 \nL 581 0 \nL 581 3500 \nL 1159 3500 \nL 1159 2956 \nQ 1341 3275 1631 3429 \nQ 1922 3584 2338 3584 \nQ 2397 3584 2469 3576 \nQ 2541 3569 2628 3553 \nL 2631 2963 \nz\n\" transform=\"scale(0.015625)\"/>\n       <path id=\"DejaVuSans-6e\" d=\"M 3513 2113 \nL 3513 0 \nL 2938 0 \nL 2938 2094 \nQ 2938 2591 2744 2837 \nQ 2550 3084 2163 3084 \nQ 1697 3084 1428 2787 \nQ 1159 2491 1159 1978 \nL 1159 0 \nL 581 0 \nL 581 3500 \nL 1159 3500 \nL 1159 2956 \nQ 1366 3272 1645 3428 \nQ 1925 3584 2291 3584 \nQ 2894 3584 3203 3211 \nQ 3513 2838 3513 2113 \nz\n\" transform=\"scale(0.015625)\"/>\n       <path id=\"DejaVuSans-63\" d=\"M 3122 3366 \nL 3122 2828 \nQ 2878 2963 2633 3030 \nQ 2388 3097 2138 3097 \nQ 1578 3097 1268 2742 \nQ 959 2388 959 1747 \nQ 959 1106 1268 751 \nQ 1578 397 2138 397 \nQ 2388 397 2633 464 \nQ 2878 531 3122 666 \nL 3122 134 \nQ 2881 22 2623 -34 \nQ 2366 -91 2075 -91 \nQ 1284 -91 818 406 \nQ 353 903 353 1747 \nQ 353 2603 823 3093 \nQ 1294 3584 2113 3584 \nQ 2378 3584 2631 3529 \nQ 2884 3475 3122 3366 \nz\n\" transform=\"scale(0.015625)\"/>\n       <path id=\"DejaVuSans-5b\" d=\"M 550 4863 \nL 1875 4863 \nL 1875 4416 \nL 1125 4416 \nL 1125 -397 \nL 1875 -397 \nL 1875 -844 \nL 550 -844 \nL 550 4863 \nz\n\" transform=\"scale(0.015625)\"/>\n       <path id=\"DejaVuSans-6d\" d=\"M 3328 2828 \nQ 3544 3216 3844 3400 \nQ 4144 3584 4550 3584 \nQ 5097 3584 5394 3201 \nQ 5691 2819 5691 2113 \nL 5691 0 \nL 5113 0 \nL 5113 2094 \nQ 5113 2597 4934 2840 \nQ 4756 3084 4391 3084 \nQ 3944 3084 3684 2787 \nQ 3425 2491 3425 1978 \nL 3425 0 \nL 2847 0 \nL 2847 2094 \nQ 2847 2600 2669 2842 \nQ 2491 3084 2119 3084 \nQ 1678 3084 1418 2786 \nQ 1159 2488 1159 1978 \nL 1159 0 \nL 581 0 \nL 581 3500 \nL 1159 3500 \nL 1159 2956 \nQ 1356 3278 1631 3431 \nQ 1906 3584 2284 3584 \nQ 2666 3584 2933 3390 \nQ 3200 3197 3328 2828 \nz\n\" transform=\"scale(0.015625)\"/>\n       <path id=\"DejaVuSans-5d\" d=\"M 1947 4863 \nL 1947 -844 \nL 622 -844 \nL 622 -397 \nL 1369 -397 \nL 1369 4416 \nL 622 4416 \nL 622 4863 \nL 1947 4863 \nz\n\" transform=\"scale(0.015625)\"/>\n      </defs>\n      <use xlink:href=\"#DejaVuSans-48\"/>\n      <use xlink:href=\"#DejaVuSans-65\" x=\"75.195312\"/>\n      <use xlink:href=\"#DejaVuSans-61\" x=\"136.71875\"/>\n      <use xlink:href=\"#DejaVuSans-64\" x=\"197.998047\"/>\n      <use xlink:href=\"#DejaVuSans-20\" x=\"261.474609\"/>\n      <use xlink:href=\"#DejaVuSans-64\" x=\"293.261719\"/>\n      <use xlink:href=\"#DejaVuSans-69\" x=\"356.738281\"/>\n      <use xlink:href=\"#DejaVuSans-66\" x=\"384.521484\"/>\n      <use xlink:href=\"#DejaVuSans-66\" x=\"419.726562\"/>\n      <use xlink:href=\"#DejaVuSans-65\" x=\"454.931641\"/>\n      <use xlink:href=\"#DejaVuSans-72\" x=\"516.455078\"/>\n      <use xlink:href=\"#DejaVuSans-65\" x=\"555.318359\"/>\n      <use xlink:href=\"#DejaVuSans-6e\" x=\"616.841797\"/>\n      <use xlink:href=\"#DejaVuSans-63\" x=\"680.220703\"/>\n      <use xlink:href=\"#DejaVuSans-65\" x=\"735.201172\"/>\n      <use xlink:href=\"#DejaVuSans-20\" x=\"796.724609\"/>\n      <use xlink:href=\"#DejaVuSans-5b\" x=\"828.511719\"/>\n      <use xlink:href=\"#DejaVuSans-6d\" x=\"867.525391\"/>\n      <use xlink:href=\"#DejaVuSans-5d\" x=\"964.9375\"/>\n     </g>\n    </g>\n   </g>\n   <g id=\"matplotlib.axis_2\">\n    <g id=\"ytick_1\">\n     <g id=\"line2d_8\">\n      <defs>\n       <path id=\"mec478378ab\" d=\"M 0 0 \nL -3.5 0 \n\" style=\"stroke: #000000; stroke-width: 0.8\"/>\n      </defs>\n      <g>\n       <use xlink:href=\"#mec478378ab\" x=\"46.965625\" y=\"288.430125\" style=\"stroke: #000000; stroke-width: 0.8\"/>\n      </g>\n     </g>\n     <g id=\"text_9\">\n      <!-- 0 -->\n      <g transform=\"translate(33.603125 292.229344) scale(0.1 -0.1)\">\n       <use xlink:href=\"#DejaVuSans-30\"/>\n      </g>\n     </g>\n    </g>\n    <g id=\"ytick_2\">\n     <g id=\"line2d_9\">\n      <g>\n       <use xlink:href=\"#mec478378ab\" x=\"46.965625\" y=\"255.685939\" style=\"stroke: #000000; stroke-width: 0.8\"/>\n      </g>\n     </g>\n     <g id=\"text_10\">\n      <!-- 50 -->\n      <g transform=\"translate(27.240625 259.485158) scale(0.1 -0.1)\">\n       <use xlink:href=\"#DejaVuSans-35\"/>\n       <use xlink:href=\"#DejaVuSans-30\" x=\"63.623047\"/>\n      </g>\n     </g>\n    </g>\n    <g id=\"ytick_3\">\n     <g id=\"line2d_10\">\n      <g>\n       <use xlink:href=\"#mec478378ab\" x=\"46.965625\" y=\"222.941753\" style=\"stroke: #000000; stroke-width: 0.8\"/>\n      </g>\n     </g>\n     <g id=\"text_11\">\n      <!-- 100 -->\n      <g transform=\"translate(20.878125 226.740972) scale(0.1 -0.1)\">\n       <use xlink:href=\"#DejaVuSans-31\"/>\n       <use xlink:href=\"#DejaVuSans-30\" x=\"63.623047\"/>\n       <use xlink:href=\"#DejaVuSans-30\" x=\"127.246094\"/>\n      </g>\n     </g>\n    </g>\n    <g id=\"ytick_4\">\n     <g id=\"line2d_11\">\n      <g>\n       <use xlink:href=\"#mec478378ab\" x=\"46.965625\" y=\"190.197567\" style=\"stroke: #000000; stroke-width: 0.8\"/>\n      </g>\n     </g>\n     <g id=\"text_12\">\n      <!-- 150 -->\n      <g transform=\"translate(20.878125 193.996786) scale(0.1 -0.1)\">\n       <use xlink:href=\"#DejaVuSans-31\"/>\n       <use xlink:href=\"#DejaVuSans-35\" x=\"63.623047\"/>\n       <use xlink:href=\"#DejaVuSans-30\" x=\"127.246094\"/>\n      </g>\n     </g>\n    </g>\n    <g id=\"ytick_5\">\n     <g id=\"line2d_12\">\n      <g>\n       <use xlink:href=\"#mec478378ab\" x=\"46.965625\" y=\"157.453381\" style=\"stroke: #000000; stroke-width: 0.8\"/>\n      </g>\n     </g>\n     <g id=\"text_13\">\n      <!-- 200 -->\n      <g transform=\"translate(20.878125 161.2526) scale(0.1 -0.1)\">\n       <use xlink:href=\"#DejaVuSans-32\"/>\n       <use xlink:href=\"#DejaVuSans-30\" x=\"63.623047\"/>\n       <use xlink:href=\"#DejaVuSans-30\" x=\"127.246094\"/>\n      </g>\n     </g>\n    </g>\n    <g id=\"ytick_6\">\n     <g id=\"line2d_13\">\n      <g>\n       <use xlink:href=\"#mec478378ab\" x=\"46.965625\" y=\"124.709195\" style=\"stroke: #000000; stroke-width: 0.8\"/>\n      </g>\n     </g>\n     <g id=\"text_14\">\n      <!-- 250 -->\n      <g transform=\"translate(20.878125 128.508414) scale(0.1 -0.1)\">\n       <use xlink:href=\"#DejaVuSans-32\"/>\n       <use xlink:href=\"#DejaVuSans-35\" x=\"63.623047\"/>\n       <use xlink:href=\"#DejaVuSans-30\" x=\"127.246094\"/>\n      </g>\n     </g>\n    </g>\n    <g id=\"ytick_7\">\n     <g id=\"line2d_14\">\n      <g>\n       <use xlink:href=\"#mec478378ab\" x=\"46.965625\" y=\"91.965009\" style=\"stroke: #000000; stroke-width: 0.8\"/>\n      </g>\n     </g>\n     <g id=\"text_15\">\n      <!-- 300 -->\n      <g transform=\"translate(20.878125 95.764227) scale(0.1 -0.1)\">\n       <use xlink:href=\"#DejaVuSans-33\"/>\n       <use xlink:href=\"#DejaVuSans-30\" x=\"63.623047\"/>\n       <use xlink:href=\"#DejaVuSans-30\" x=\"127.246094\"/>\n      </g>\n     </g>\n    </g>\n    <g id=\"ytick_8\">\n     <g id=\"line2d_15\">\n      <g>\n       <use xlink:href=\"#mec478378ab\" x=\"46.965625\" y=\"59.220823\" style=\"stroke: #000000; stroke-width: 0.8\"/>\n      </g>\n     </g>\n     <g id=\"text_16\">\n      <!-- 350 -->\n      <g transform=\"translate(20.878125 63.020041) scale(0.1 -0.1)\">\n       <use xlink:href=\"#DejaVuSans-33\"/>\n       <use xlink:href=\"#DejaVuSans-35\" x=\"63.623047\"/>\n       <use xlink:href=\"#DejaVuSans-30\" x=\"127.246094\"/>\n      </g>\n     </g>\n    </g>\n    <g id=\"ytick_9\">\n     <g id=\"line2d_16\">\n      <g>\n       <use xlink:href=\"#mec478378ab\" x=\"46.965625\" y=\"26.476637\" style=\"stroke: #000000; stroke-width: 0.8\"/>\n      </g>\n     </g>\n     <g id=\"text_17\">\n      <!-- 400 -->\n      <g transform=\"translate(20.878125 30.275855) scale(0.1 -0.1)\">\n       <use xlink:href=\"#DejaVuSans-34\"/>\n       <use xlink:href=\"#DejaVuSans-30\" x=\"63.623047\"/>\n       <use xlink:href=\"#DejaVuSans-30\" x=\"127.246094\"/>\n      </g>\n     </g>\n    </g>\n    <g id=\"text_18\">\n     <!-- Frequency -->\n     <g transform=\"translate(14.798438 181.203812) rotate(-90) scale(0.1 -0.1)\">\n      <defs>\n       <path id=\"DejaVuSans-46\" d=\"M 628 4666 \nL 3309 4666 \nL 3309 4134 \nL 1259 4134 \nL 1259 2759 \nL 3109 2759 \nL 3109 2228 \nL 1259 2228 \nL 1259 0 \nL 628 0 \nL 628 4666 \nz\n\" transform=\"scale(0.015625)\"/>\n       <path id=\"DejaVuSans-71\" d=\"M 947 1747 \nQ 947 1113 1208 752 \nQ 1469 391 1925 391 \nQ 2381 391 2643 752 \nQ 2906 1113 2906 1747 \nQ 2906 2381 2643 2742 \nQ 2381 3103 1925 3103 \nQ 1469 3103 1208 2742 \nQ 947 2381 947 1747 \nz\nM 2906 525 \nQ 2725 213 2448 61 \nQ 2172 -91 1784 -91 \nQ 1150 -91 751 415 \nQ 353 922 353 1747 \nQ 353 2572 751 3078 \nQ 1150 3584 1784 3584 \nQ 2172 3584 2448 3432 \nQ 2725 3281 2906 2969 \nL 2906 3500 \nL 3481 3500 \nL 3481 -1331 \nL 2906 -1331 \nL 2906 525 \nz\n\" transform=\"scale(0.015625)\"/>\n       <path id=\"DejaVuSans-75\" d=\"M 544 1381 \nL 544 3500 \nL 1119 3500 \nL 1119 1403 \nQ 1119 906 1312 657 \nQ 1506 409 1894 409 \nQ 2359 409 2629 706 \nQ 2900 1003 2900 1516 \nL 2900 3500 \nL 3475 3500 \nL 3475 0 \nL 2900 0 \nL 2900 538 \nQ 2691 219 2414 64 \nQ 2138 -91 1772 -91 \nQ 1169 -91 856 284 \nQ 544 659 544 1381 \nz\nM 1991 3584 \nL 1991 3584 \nz\n\" transform=\"scale(0.015625)\"/>\n       <path id=\"DejaVuSans-79\" d=\"M 2059 -325 \nQ 1816 -950 1584 -1140 \nQ 1353 -1331 966 -1331 \nL 506 -1331 \nL 506 -850 \nL 844 -850 \nQ 1081 -850 1212 -737 \nQ 1344 -625 1503 -206 \nL 1606 56 \nL 191 3500 \nL 800 3500 \nL 1894 763 \nL 2988 3500 \nL 3597 3500 \nL 2059 -325 \nz\n\" transform=\"scale(0.015625)\"/>\n      </defs>\n      <use xlink:href=\"#DejaVuSans-46\"/>\n      <use xlink:href=\"#DejaVuSans-72\" x=\"50.269531\"/>\n      <use xlink:href=\"#DejaVuSans-65\" x=\"89.132812\"/>\n      <use xlink:href=\"#DejaVuSans-71\" x=\"150.65625\"/>\n      <use xlink:href=\"#DejaVuSans-75\" x=\"214.132812\"/>\n      <use xlink:href=\"#DejaVuSans-65\" x=\"277.511719\"/>\n      <use xlink:href=\"#DejaVuSans-6e\" x=\"339.035156\"/>\n      <use xlink:href=\"#DejaVuSans-63\" x=\"402.414062\"/>\n      <use xlink:href=\"#DejaVuSans-79\" x=\"457.394531\"/>\n     </g>\n    </g>\n   </g>\n   <g id=\"patch_28\">\n    <path d=\"M 46.965625 288.430125 \nL 46.965625 22.318125 \n\" style=\"fill: none; stroke: #000000; stroke-width: 0.8; stroke-linejoin: miter; stroke-linecap: square\"/>\n   </g>\n   <g id=\"patch_29\">\n    <path d=\"M 404.085625 288.430125 \nL 404.085625 22.318125 \n\" style=\"fill: none; stroke: #000000; stroke-width: 0.8; stroke-linejoin: miter; stroke-linecap: square\"/>\n   </g>\n   <g id=\"patch_30\">\n    <path d=\"M 46.965625 288.430125 \nL 404.085625 288.430125 \n\" style=\"fill: none; stroke: #000000; stroke-width: 0.8; stroke-linejoin: miter; stroke-linecap: square\"/>\n   </g>\n   <g id=\"patch_31\">\n    <path d=\"M 46.965625 22.318125 \nL 404.085625 22.318125 \n\" style=\"fill: none; stroke: #000000; stroke-width: 0.8; stroke-linejoin: miter; stroke-linecap: square\"/>\n   </g>\n   <g id=\"text_19\">\n    <!-- Newton-Raphson v. EPANET -->\n    <g transform=\"translate(142.643125 16.318125) scale(0.12 -0.12)\">\n     <defs>\n      <path id=\"DejaVuSans-4e\" d=\"M 628 4666 \nL 1478 4666 \nL 3547 763 \nL 3547 4666 \nL 4159 4666 \nL 4159 0 \nL 3309 0 \nL 1241 3903 \nL 1241 0 \nL 628 0 \nL 628 4666 \nz\n\" transform=\"scale(0.015625)\"/>\n      <path id=\"DejaVuSans-77\" d=\"M 269 3500 \nL 844 3500 \nL 1563 769 \nL 2278 3500 \nL 2956 3500 \nL 3675 769 \nL 4391 3500 \nL 4966 3500 \nL 4050 0 \nL 3372 0 \nL 2619 2869 \nL 1863 0 \nL 1184 0 \nL 269 3500 \nz\n\" transform=\"scale(0.015625)\"/>\n      <path id=\"DejaVuSans-74\" d=\"M 1172 4494 \nL 1172 3500 \nL 2356 3500 \nL 2356 3053 \nL 1172 3053 \nL 1172 1153 \nQ 1172 725 1289 603 \nQ 1406 481 1766 481 \nL 2356 481 \nL 2356 0 \nL 1766 0 \nQ 1100 0 847 248 \nQ 594 497 594 1153 \nL 594 3053 \nL 172 3053 \nL 172 3500 \nL 594 3500 \nL 594 4494 \nL 1172 4494 \nz\n\" transform=\"scale(0.015625)\"/>\n      <path id=\"DejaVuSans-6f\" d=\"M 1959 3097 \nQ 1497 3097 1228 2736 \nQ 959 2375 959 1747 \nQ 959 1119 1226 758 \nQ 1494 397 1959 397 \nQ 2419 397 2687 759 \nQ 2956 1122 2956 1747 \nQ 2956 2369 2687 2733 \nQ 2419 3097 1959 3097 \nz\nM 1959 3584 \nQ 2709 3584 3137 3096 \nQ 3566 2609 3566 1747 \nQ 3566 888 3137 398 \nQ 2709 -91 1959 -91 \nQ 1206 -91 779 398 \nQ 353 888 353 1747 \nQ 353 2609 779 3096 \nQ 1206 3584 1959 3584 \nz\n\" transform=\"scale(0.015625)\"/>\n      <path id=\"DejaVuSans-2d\" d=\"M 313 2009 \nL 1997 2009 \nL 1997 1497 \nL 313 1497 \nL 313 2009 \nz\n\" transform=\"scale(0.015625)\"/>\n      <path id=\"DejaVuSans-52\" d=\"M 2841 2188 \nQ 3044 2119 3236 1894 \nQ 3428 1669 3622 1275 \nL 4263 0 \nL 3584 0 \nL 2988 1197 \nQ 2756 1666 2539 1819 \nQ 2322 1972 1947 1972 \nL 1259 1972 \nL 1259 0 \nL 628 0 \nL 628 4666 \nL 2053 4666 \nQ 2853 4666 3247 4331 \nQ 3641 3997 3641 3322 \nQ 3641 2881 3436 2590 \nQ 3231 2300 2841 2188 \nz\nM 1259 4147 \nL 1259 2491 \nL 2053 2491 \nQ 2509 2491 2742 2702 \nQ 2975 2913 2975 3322 \nQ 2975 3731 2742 3939 \nQ 2509 4147 2053 4147 \nL 1259 4147 \nz\n\" transform=\"scale(0.015625)\"/>\n      <path id=\"DejaVuSans-70\" d=\"M 1159 525 \nL 1159 -1331 \nL 581 -1331 \nL 581 3500 \nL 1159 3500 \nL 1159 2969 \nQ 1341 3281 1617 3432 \nQ 1894 3584 2278 3584 \nQ 2916 3584 3314 3078 \nQ 3713 2572 3713 1747 \nQ 3713 922 3314 415 \nQ 2916 -91 2278 -91 \nQ 1894 -91 1617 61 \nQ 1341 213 1159 525 \nz\nM 3116 1747 \nQ 3116 2381 2855 2742 \nQ 2594 3103 2138 3103 \nQ 1681 3103 1420 2742 \nQ 1159 2381 1159 1747 \nQ 1159 1113 1420 752 \nQ 1681 391 2138 391 \nQ 2594 391 2855 752 \nQ 3116 1113 3116 1747 \nz\n\" transform=\"scale(0.015625)\"/>\n      <path id=\"DejaVuSans-68\" d=\"M 3513 2113 \nL 3513 0 \nL 2938 0 \nL 2938 2094 \nQ 2938 2591 2744 2837 \nQ 2550 3084 2163 3084 \nQ 1697 3084 1428 2787 \nQ 1159 2491 1159 1978 \nL 1159 0 \nL 581 0 \nL 581 4863 \nL 1159 4863 \nL 1159 2956 \nQ 1366 3272 1645 3428 \nQ 1925 3584 2291 3584 \nQ 2894 3584 3203 3211 \nQ 3513 2838 3513 2113 \nz\n\" transform=\"scale(0.015625)\"/>\n      <path id=\"DejaVuSans-73\" d=\"M 2834 3397 \nL 2834 2853 \nQ 2591 2978 2328 3040 \nQ 2066 3103 1784 3103 \nQ 1356 3103 1142 2972 \nQ 928 2841 928 2578 \nQ 928 2378 1081 2264 \nQ 1234 2150 1697 2047 \nL 1894 2003 \nQ 2506 1872 2764 1633 \nQ 3022 1394 3022 966 \nQ 3022 478 2636 193 \nQ 2250 -91 1575 -91 \nQ 1294 -91 989 -36 \nQ 684 19 347 128 \nL 347 722 \nQ 666 556 975 473 \nQ 1284 391 1588 391 \nQ 1994 391 2212 530 \nQ 2431 669 2431 922 \nQ 2431 1156 2273 1281 \nQ 2116 1406 1581 1522 \nL 1381 1569 \nQ 847 1681 609 1914 \nQ 372 2147 372 2553 \nQ 372 3047 722 3315 \nQ 1072 3584 1716 3584 \nQ 2034 3584 2315 3537 \nQ 2597 3491 2834 3397 \nz\n\" transform=\"scale(0.015625)\"/>\n      <path id=\"DejaVuSans-76\" d=\"M 191 3500 \nL 800 3500 \nL 1894 563 \nL 2988 3500 \nL 3597 3500 \nL 2284 0 \nL 1503 0 \nL 191 3500 \nz\n\" transform=\"scale(0.015625)\"/>\n      <path id=\"DejaVuSans-45\" d=\"M 628 4666 \nL 3578 4666 \nL 3578 4134 \nL 1259 4134 \nL 1259 2753 \nL 3481 2753 \nL 3481 2222 \nL 1259 2222 \nL 1259 531 \nL 3634 531 \nL 3634 0 \nL 628 0 \nL 628 4666 \nz\n\" transform=\"scale(0.015625)\"/>\n      <path id=\"DejaVuSans-50\" d=\"M 1259 4147 \nL 1259 2394 \nL 2053 2394 \nQ 2494 2394 2734 2622 \nQ 2975 2850 2975 3272 \nQ 2975 3691 2734 3919 \nQ 2494 4147 2053 4147 \nL 1259 4147 \nz\nM 628 4666 \nL 2053 4666 \nQ 2838 4666 3239 4311 \nQ 3641 3956 3641 3272 \nQ 3641 2581 3239 2228 \nQ 2838 1875 2053 1875 \nL 1259 1875 \nL 1259 0 \nL 628 0 \nL 628 4666 \nz\n\" transform=\"scale(0.015625)\"/>\n      <path id=\"DejaVuSans-41\" d=\"M 2188 4044 \nL 1331 1722 \nL 3047 1722 \nL 2188 4044 \nz\nM 1831 4666 \nL 2547 4666 \nL 4325 0 \nL 3669 0 \nL 3244 1197 \nL 1141 1197 \nL 716 0 \nL 50 0 \nL 1831 4666 \nz\n\" transform=\"scale(0.015625)\"/>\n      <path id=\"DejaVuSans-54\" d=\"M -19 4666 \nL 3928 4666 \nL 3928 4134 \nL 2272 4134 \nL 2272 0 \nL 1638 0 \nL 1638 4134 \nL -19 4134 \nL -19 4666 \nz\n\" transform=\"scale(0.015625)\"/>\n     </defs>\n     <use xlink:href=\"#DejaVuSans-4e\"/>\n     <use xlink:href=\"#DejaVuSans-65\" x=\"74.804688\"/>\n     <use xlink:href=\"#DejaVuSans-77\" x=\"136.328125\"/>\n     <use xlink:href=\"#DejaVuSans-74\" x=\"218.115234\"/>\n     <use xlink:href=\"#DejaVuSans-6f\" x=\"257.324219\"/>\n     <use xlink:href=\"#DejaVuSans-6e\" x=\"318.505859\"/>\n     <use xlink:href=\"#DejaVuSans-2d\" x=\"381.884766\"/>\n     <use xlink:href=\"#DejaVuSans-52\" x=\"417.96875\"/>\n     <use xlink:href=\"#DejaVuSans-61\" x=\"485.201172\"/>\n     <use xlink:href=\"#DejaVuSans-70\" x=\"546.480469\"/>\n     <use xlink:href=\"#DejaVuSans-68\" x=\"609.957031\"/>\n     <use xlink:href=\"#DejaVuSans-73\" x=\"673.335938\"/>\n     <use xlink:href=\"#DejaVuSans-6f\" x=\"725.435547\"/>\n     <use xlink:href=\"#DejaVuSans-6e\" x=\"786.617188\"/>\n     <use xlink:href=\"#DejaVuSans-20\" x=\"849.996094\"/>\n     <use xlink:href=\"#DejaVuSans-76\" x=\"881.783203\"/>\n     <use xlink:href=\"#DejaVuSans-2e\" x=\"933.212891\"/>\n     <use xlink:href=\"#DejaVuSans-20\" x=\"965\"/>\n     <use xlink:href=\"#DejaVuSans-45\" x=\"996.787109\"/>\n     <use xlink:href=\"#DejaVuSans-50\" x=\"1059.970703\"/>\n     <use xlink:href=\"#DejaVuSans-41\" x=\"1113.898438\"/>\n     <use xlink:href=\"#DejaVuSans-4e\" x=\"1182.306641\"/>\n     <use xlink:href=\"#DejaVuSans-45\" x=\"1257.111328\"/>\n     <use xlink:href=\"#DejaVuSans-54\" x=\"1320.294922\"/>\n    </g>\n   </g>\n  </g>\n </g>\n <defs>\n  <clipPath id=\"p4310a03a65\">\n   <rect x=\"46.965625\" y=\"22.318125\" width=\"357.12\" height=\"266.112\"/>\n  </clipPath>\n </defs>\n</svg>\n"
          },
          "metadata": {}
        }
      ],
      "source": [
        "# Newton-Raphson v. EPANET: hydraulic head\n",
        "hdiff_1 = h_nr.iloc[:, 1:] - h_epa.iloc[:, 1:]\n",
        "hdiff_1_array = hdiff_1.values.flatten()\n",
        "plt.hist(hdiff_1_array, bins = 25, color='red', alpha=0.6)\n",
        "\n",
        "# Set labels and title\n",
        "plt.xlabel('Head difference [m]')\n",
        "plt.ylabel('Frequency')\n",
        "plt.title('Newton-Raphson v. EPANET')\n",
        "\n",
        "# Display the plot\n",
        "plt.show()"
      ]
    },
    {
      "cell_type": "code",
      "execution_count": 25,
      "metadata": {
        "colab": {
          "base_uri": "https://localhost:8080/",
          "height": 456
        },
        "id": "7fS6il0Aun6H",
        "outputId": "9ab64573-f5b9-48d6-e1d8-363133138f60"
      },
      "outputs": [
        {
          "output_type": "display_data",
          "data": {
            "text/plain": [
              "<Figure size 1920x1440 with 1 Axes>"
            ],
            "image/svg+xml": "<?xml version=\"1.0\" encoding=\"utf-8\" standalone=\"no\"?>\n<!DOCTYPE svg PUBLIC \"-//W3C//DTD SVG 1.1//EN\"\n  \"http://www.w3.org/Graphics/SVG/1.1/DTD/svg11.dtd\">\n<svg xmlns:xlink=\"http://www.w3.org/1999/xlink\" width=\"411.285625pt\" height=\"325.986375pt\" viewBox=\"0 0 411.285625 325.986375\" xmlns=\"http://www.w3.org/2000/svg\" version=\"1.1\">\n <metadata>\n  <rdf:RDF xmlns:dc=\"http://purl.org/dc/elements/1.1/\" xmlns:cc=\"http://creativecommons.org/ns#\" xmlns:rdf=\"http://www.w3.org/1999/02/22-rdf-syntax-ns#\">\n   <cc:Work>\n    <dc:type rdf:resource=\"http://purl.org/dc/dcmitype/StillImage\"/>\n    <dc:date>2023-08-21T12:39:22.778536</dc:date>\n    <dc:format>image/svg+xml</dc:format>\n    <dc:creator>\n     <cc:Agent>\n      <dc:title>Matplotlib v3.7.1, https://matplotlib.org/</dc:title>\n     </cc:Agent>\n    </dc:creator>\n   </cc:Work>\n  </rdf:RDF>\n </metadata>\n <defs>\n  <style type=\"text/css\">*{stroke-linejoin: round; stroke-linecap: butt}</style>\n </defs>\n <g id=\"figure_1\">\n  <g id=\"patch_1\">\n   <path d=\"M 0 325.986375 \nL 411.285625 325.986375 \nL 411.285625 0 \nL 0 0 \nz\n\" style=\"fill: #ffffff\"/>\n  </g>\n  <g id=\"axes_1\">\n   <g id=\"patch_2\">\n    <path d=\"M 46.965625 288.430125 \nL 404.085625 288.430125 \nL 404.085625 22.318125 \nL 46.965625 22.318125 \nz\n\" style=\"fill: #ffffff\"/>\n   </g>\n   <g id=\"patch_3\">\n    <path d=\"M 63.198352 288.430125 \nL 76.184534 288.430125 \nL 76.184534 275.973717 \nL 63.198352 275.973717 \nz\n\" clip-path=\"url(#pae98877f39)\" style=\"fill: #0000ff; opacity: 0.6\"/>\n   </g>\n   <g id=\"patch_4\">\n    <path d=\"M 76.184534 288.430125 \nL 89.170716 288.430125 \nL 89.170716 283.639199 \nL 76.184534 283.639199 \nz\n\" clip-path=\"url(#pae98877f39)\" style=\"fill: #0000ff; opacity: 0.6\"/>\n   </g>\n   <g id=\"patch_5\">\n    <path d=\"M 89.170716 288.430125 \nL 102.156898 288.430125 \nL 102.156898 279.327365 \nL 89.170716 279.327365 \nz\n\" clip-path=\"url(#pae98877f39)\" style=\"fill: #0000ff; opacity: 0.6\"/>\n   </g>\n   <g id=\"patch_6\">\n    <path d=\"M 102.156898 288.430125 \nL 115.14308 288.430125 \nL 115.14308 245.790881 \nL 102.156898 245.790881 \nz\n\" clip-path=\"url(#pae98877f39)\" style=\"fill: #0000ff; opacity: 0.6\"/>\n   </g>\n   <g id=\"patch_7\">\n    <path d=\"M 115.14308 288.430125 \nL 128.129261 288.430125 \nL 128.129261 253.456363 \nL 115.14308 253.456363 \nz\n\" clip-path=\"url(#pae98877f39)\" style=\"fill: #0000ff; opacity: 0.6\"/>\n   </g>\n   <g id=\"patch_8\">\n    <path d=\"M 128.129261 288.430125 \nL 141.115443 288.430125 \nL 141.115443 261.121845 \nL 128.129261 261.121845 \nz\n\" clip-path=\"url(#pae98877f39)\" style=\"fill: #0000ff; opacity: 0.6\"/>\n   </g>\n   <g id=\"patch_9\">\n    <path d=\"M 141.115443 288.430125 \nL 154.101625 288.430125 \nL 154.101625 249.14453 \nL 141.115443 249.14453 \nz\n\" clip-path=\"url(#pae98877f39)\" style=\"fill: #0000ff; opacity: 0.6\"/>\n   </g>\n   <g id=\"patch_10\">\n    <path d=\"M 154.101625 288.430125 \nL 167.087807 288.430125 \nL 167.087807 174.40608 \nL 154.101625 174.40608 \nz\n\" clip-path=\"url(#pae98877f39)\" style=\"fill: #0000ff; opacity: 0.6\"/>\n   </g>\n   <g id=\"patch_11\">\n    <path d=\"M 167.087807 288.430125 \nL 180.073989 288.430125 \nL 180.073989 76.671184 \nL 167.087807 76.671184 \nz\n\" clip-path=\"url(#pae98877f39)\" style=\"fill: #0000ff; opacity: 0.6\"/>\n   </g>\n   <g id=\"patch_12\">\n    <path d=\"M 180.073989 288.430125 \nL 193.06017 288.430125 \nL 193.06017 34.990125 \nL 180.073989 34.990125 \nz\n\" clip-path=\"url(#pae98877f39)\" style=\"fill: #0000ff; opacity: 0.6\"/>\n   </g>\n   <g id=\"patch_13\">\n    <path d=\"M 193.06017 288.430125 \nL 206.046352 288.430125 \nL 206.046352 128.413187 \nL 193.06017 128.413187 \nz\n\" clip-path=\"url(#pae98877f39)\" style=\"fill: #0000ff; opacity: 0.6\"/>\n   </g>\n   <g id=\"patch_14\">\n    <path d=\"M 206.046352 288.430125 \nL 219.032534 288.430125 \nL 219.032534 235.729936 \nL 206.046352 235.729936 \nz\n\" clip-path=\"url(#pae98877f39)\" style=\"fill: #0000ff; opacity: 0.6\"/>\n   </g>\n   <g id=\"patch_15\">\n    <path d=\"M 219.032534 288.430125 \nL 232.018716 288.430125 \nL 232.018716 240.520862 \nL 219.032534 240.520862 \nz\n\" clip-path=\"url(#pae98877f39)\" style=\"fill: #0000ff; opacity: 0.6\"/>\n   </g>\n   <g id=\"patch_16\">\n    <path d=\"M 232.018716 288.430125 \nL 245.004898 288.430125 \nL 245.004898 256.810012 \nL 232.018716 256.810012 \nz\n\" clip-path=\"url(#pae98877f39)\" style=\"fill: #0000ff; opacity: 0.6\"/>\n   </g>\n   <g id=\"patch_17\">\n    <path d=\"M 245.004898 288.430125 \nL 257.99108 288.430125 \nL 257.99108 270.703698 \nL 245.004898 270.703698 \nz\n\" clip-path=\"url(#pae98877f39)\" style=\"fill: #0000ff; opacity: 0.6\"/>\n   </g>\n   <g id=\"patch_18\">\n    <path d=\"M 257.99108 288.430125 \nL 270.977261 288.430125 \nL 270.977261 274.057346 \nL 257.99108 274.057346 \nz\n\" clip-path=\"url(#pae98877f39)\" style=\"fill: #0000ff; opacity: 0.6\"/>\n   </g>\n   <g id=\"patch_19\">\n    <path d=\"M 270.977261 288.430125 \nL 283.963443 288.430125 \nL 283.963443 284.597384 \nL 270.977261 284.597384 \nz\n\" clip-path=\"url(#pae98877f39)\" style=\"fill: #0000ff; opacity: 0.6\"/>\n   </g>\n   <g id=\"patch_20\">\n    <path d=\"M 283.963443 288.430125 \nL 296.949625 288.430125 \nL 296.949625 268.308235 \nL 283.963443 268.308235 \nz\n\" clip-path=\"url(#pae98877f39)\" style=\"fill: #0000ff; opacity: 0.6\"/>\n   </g>\n   <g id=\"patch_21\">\n    <path d=\"M 296.949625 288.430125 \nL 309.935807 288.430125 \nL 309.935807 282.681013 \nL 296.949625 282.681013 \nz\n\" clip-path=\"url(#pae98877f39)\" style=\"fill: #0000ff; opacity: 0.6\"/>\n   </g>\n   <g id=\"patch_22\">\n    <path d=\"M 309.935807 288.430125 \nL 322.921989 288.430125 \nL 322.921989 284.597384 \nL 309.935807 284.597384 \nz\n\" clip-path=\"url(#pae98877f39)\" style=\"fill: #0000ff; opacity: 0.6\"/>\n   </g>\n   <g id=\"patch_23\">\n    <path d=\"M 322.921989 288.430125 \nL 335.90817 288.430125 \nL 335.90817 286.513754 \nL 322.921989 286.513754 \nz\n\" clip-path=\"url(#pae98877f39)\" style=\"fill: #0000ff; opacity: 0.6\"/>\n   </g>\n   <g id=\"patch_24\">\n    <path d=\"M 335.90817 288.430125 \nL 348.894352 288.430125 \nL 348.894352 288.430125 \nL 335.90817 288.430125 \nz\n\" clip-path=\"url(#pae98877f39)\" style=\"fill: #0000ff; opacity: 0.6\"/>\n   </g>\n   <g id=\"patch_25\">\n    <path d=\"M 348.894352 288.430125 \nL 361.880534 288.430125 \nL 361.880534 279.806458 \nL 348.894352 279.806458 \nz\n\" clip-path=\"url(#pae98877f39)\" style=\"fill: #0000ff; opacity: 0.6\"/>\n   </g>\n   <g id=\"patch_26\">\n    <path d=\"M 361.880534 288.430125 \nL 374.866716 288.430125 \nL 374.866716 283.639199 \nL 361.880534 283.639199 \nz\n\" clip-path=\"url(#pae98877f39)\" style=\"fill: #0000ff; opacity: 0.6\"/>\n   </g>\n   <g id=\"patch_27\">\n    <path d=\"M 374.866716 288.430125 \nL 387.852898 288.430125 \nL 387.852898 284.597384 \nL 374.866716 284.597384 \nz\n\" clip-path=\"url(#pae98877f39)\" style=\"fill: #0000ff; opacity: 0.6\"/>\n   </g>\n   <g id=\"matplotlib.axis_1\">\n    <g id=\"xtick_1\">\n     <g id=\"line2d_1\">\n      <defs>\n       <path id=\"m6ba17dd108\" d=\"M 0 0 \nL 0 3.5 \n\" style=\"stroke: #000000; stroke-width: 0.8\"/>\n      </defs>\n      <g>\n       <use xlink:href=\"#m6ba17dd108\" x=\"61.218882\" y=\"288.430125\" style=\"stroke: #000000; stroke-width: 0.8\"/>\n      </g>\n     </g>\n     <g id=\"text_1\">\n      <!-- −0.003 -->\n      <g transform=\"translate(42.714976 303.028562) scale(0.1 -0.1)\">\n       <defs>\n        <path id=\"DejaVuSans-2212\" d=\"M 678 2272 \nL 4684 2272 \nL 4684 1741 \nL 678 1741 \nL 678 2272 \nz\n\" transform=\"scale(0.015625)\"/>\n        <path id=\"DejaVuSans-30\" d=\"M 2034 4250 \nQ 1547 4250 1301 3770 \nQ 1056 3291 1056 2328 \nQ 1056 1369 1301 889 \nQ 1547 409 2034 409 \nQ 2525 409 2770 889 \nQ 3016 1369 3016 2328 \nQ 3016 3291 2770 3770 \nQ 2525 4250 2034 4250 \nz\nM 2034 4750 \nQ 2819 4750 3233 4129 \nQ 3647 3509 3647 2328 \nQ 3647 1150 3233 529 \nQ 2819 -91 2034 -91 \nQ 1250 -91 836 529 \nQ 422 1150 422 2328 \nQ 422 3509 836 4129 \nQ 1250 4750 2034 4750 \nz\n\" transform=\"scale(0.015625)\"/>\n        <path id=\"DejaVuSans-2e\" d=\"M 684 794 \nL 1344 794 \nL 1344 0 \nL 684 0 \nL 684 794 \nz\n\" transform=\"scale(0.015625)\"/>\n        <path id=\"DejaVuSans-33\" d=\"M 2597 2516 \nQ 3050 2419 3304 2112 \nQ 3559 1806 3559 1356 \nQ 3559 666 3084 287 \nQ 2609 -91 1734 -91 \nQ 1441 -91 1130 -33 \nQ 819 25 488 141 \nL 488 750 \nQ 750 597 1062 519 \nQ 1375 441 1716 441 \nQ 2309 441 2620 675 \nQ 2931 909 2931 1356 \nQ 2931 1769 2642 2001 \nQ 2353 2234 1838 2234 \nL 1294 2234 \nL 1294 2753 \nL 1863 2753 \nQ 2328 2753 2575 2939 \nQ 2822 3125 2822 3475 \nQ 2822 3834 2567 4026 \nQ 2313 4219 1838 4219 \nQ 1578 4219 1281 4162 \nQ 984 4106 628 3988 \nL 628 4550 \nQ 988 4650 1302 4700 \nQ 1616 4750 1894 4750 \nQ 2613 4750 3031 4423 \nQ 3450 4097 3450 3541 \nQ 3450 3153 3228 2886 \nQ 3006 2619 2597 2516 \nz\n\" transform=\"scale(0.015625)\"/>\n       </defs>\n       <use xlink:href=\"#DejaVuSans-2212\"/>\n       <use xlink:href=\"#DejaVuSans-30\" x=\"83.789062\"/>\n       <use xlink:href=\"#DejaVuSans-2e\" x=\"147.412109\"/>\n       <use xlink:href=\"#DejaVuSans-30\" x=\"179.199219\"/>\n       <use xlink:href=\"#DejaVuSans-30\" x=\"242.822266\"/>\n       <use xlink:href=\"#DejaVuSans-33\" x=\"306.445312\"/>\n      </g>\n     </g>\n    </g>\n    <g id=\"xtick_2\">\n     <g id=\"line2d_2\">\n      <g>\n       <use xlink:href=\"#m6ba17dd108\" x=\"101.710238\" y=\"288.430125\" style=\"stroke: #000000; stroke-width: 0.8\"/>\n      </g>\n     </g>\n     <g id=\"text_2\">\n      <!-- −0.002 -->\n      <g transform=\"translate(83.206332 303.028562) scale(0.1 -0.1)\">\n       <defs>\n        <path id=\"DejaVuSans-32\" d=\"M 1228 531 \nL 3431 531 \nL 3431 0 \nL 469 0 \nL 469 531 \nQ 828 903 1448 1529 \nQ 2069 2156 2228 2338 \nQ 2531 2678 2651 2914 \nQ 2772 3150 2772 3378 \nQ 2772 3750 2511 3984 \nQ 2250 4219 1831 4219 \nQ 1534 4219 1204 4116 \nQ 875 4013 500 3803 \nL 500 4441 \nQ 881 4594 1212 4672 \nQ 1544 4750 1819 4750 \nQ 2544 4750 2975 4387 \nQ 3406 4025 3406 3419 \nQ 3406 3131 3298 2873 \nQ 3191 2616 2906 2266 \nQ 2828 2175 2409 1742 \nQ 1991 1309 1228 531 \nz\n\" transform=\"scale(0.015625)\"/>\n       </defs>\n       <use xlink:href=\"#DejaVuSans-2212\"/>\n       <use xlink:href=\"#DejaVuSans-30\" x=\"83.789062\"/>\n       <use xlink:href=\"#DejaVuSans-2e\" x=\"147.412109\"/>\n       <use xlink:href=\"#DejaVuSans-30\" x=\"179.199219\"/>\n       <use xlink:href=\"#DejaVuSans-30\" x=\"242.822266\"/>\n       <use xlink:href=\"#DejaVuSans-32\" x=\"306.445312\"/>\n      </g>\n     </g>\n    </g>\n    <g id=\"xtick_3\">\n     <g id=\"line2d_3\">\n      <g>\n       <use xlink:href=\"#m6ba17dd108\" x=\"142.201594\" y=\"288.430125\" style=\"stroke: #000000; stroke-width: 0.8\"/>\n      </g>\n     </g>\n     <g id=\"text_3\">\n      <!-- −0.001 -->\n      <g transform=\"translate(123.697688 303.028562) scale(0.1 -0.1)\">\n       <defs>\n        <path id=\"DejaVuSans-31\" d=\"M 794 531 \nL 1825 531 \nL 1825 4091 \nL 703 3866 \nL 703 4441 \nL 1819 4666 \nL 2450 4666 \nL 2450 531 \nL 3481 531 \nL 3481 0 \nL 794 0 \nL 794 531 \nz\n\" transform=\"scale(0.015625)\"/>\n       </defs>\n       <use xlink:href=\"#DejaVuSans-2212\"/>\n       <use xlink:href=\"#DejaVuSans-30\" x=\"83.789062\"/>\n       <use xlink:href=\"#DejaVuSans-2e\" x=\"147.412109\"/>\n       <use xlink:href=\"#DejaVuSans-30\" x=\"179.199219\"/>\n       <use xlink:href=\"#DejaVuSans-30\" x=\"242.822266\"/>\n       <use xlink:href=\"#DejaVuSans-31\" x=\"306.445312\"/>\n      </g>\n     </g>\n    </g>\n    <g id=\"xtick_4\">\n     <g id=\"line2d_4\">\n      <g>\n       <use xlink:href=\"#m6ba17dd108\" x=\"182.69295\" y=\"288.430125\" style=\"stroke: #000000; stroke-width: 0.8\"/>\n      </g>\n     </g>\n     <g id=\"text_4\">\n      <!-- 0.000 -->\n      <g transform=\"translate(168.378887 303.028562) scale(0.1 -0.1)\">\n       <use xlink:href=\"#DejaVuSans-30\"/>\n       <use xlink:href=\"#DejaVuSans-2e\" x=\"63.623047\"/>\n       <use xlink:href=\"#DejaVuSans-30\" x=\"95.410156\"/>\n       <use xlink:href=\"#DejaVuSans-30\" x=\"159.033203\"/>\n       <use xlink:href=\"#DejaVuSans-30\" x=\"222.65625\"/>\n      </g>\n     </g>\n    </g>\n    <g id=\"xtick_5\">\n     <g id=\"line2d_5\">\n      <g>\n       <use xlink:href=\"#m6ba17dd108\" x=\"223.184306\" y=\"288.430125\" style=\"stroke: #000000; stroke-width: 0.8\"/>\n      </g>\n     </g>\n     <g id=\"text_5\">\n      <!-- 0.001 -->\n      <g transform=\"translate(208.870243 303.028562) scale(0.1 -0.1)\">\n       <use xlink:href=\"#DejaVuSans-30\"/>\n       <use xlink:href=\"#DejaVuSans-2e\" x=\"63.623047\"/>\n       <use xlink:href=\"#DejaVuSans-30\" x=\"95.410156\"/>\n       <use xlink:href=\"#DejaVuSans-30\" x=\"159.033203\"/>\n       <use xlink:href=\"#DejaVuSans-31\" x=\"222.65625\"/>\n      </g>\n     </g>\n    </g>\n    <g id=\"xtick_6\">\n     <g id=\"line2d_6\">\n      <g>\n       <use xlink:href=\"#m6ba17dd108\" x=\"263.675662\" y=\"288.430125\" style=\"stroke: #000000; stroke-width: 0.8\"/>\n      </g>\n     </g>\n     <g id=\"text_6\">\n      <!-- 0.002 -->\n      <g transform=\"translate(249.361599 303.028562) scale(0.1 -0.1)\">\n       <use xlink:href=\"#DejaVuSans-30\"/>\n       <use xlink:href=\"#DejaVuSans-2e\" x=\"63.623047\"/>\n       <use xlink:href=\"#DejaVuSans-30\" x=\"95.410156\"/>\n       <use xlink:href=\"#DejaVuSans-30\" x=\"159.033203\"/>\n       <use xlink:href=\"#DejaVuSans-32\" x=\"222.65625\"/>\n      </g>\n     </g>\n    </g>\n    <g id=\"xtick_7\">\n     <g id=\"line2d_7\">\n      <g>\n       <use xlink:href=\"#m6ba17dd108\" x=\"304.167018\" y=\"288.430125\" style=\"stroke: #000000; stroke-width: 0.8\"/>\n      </g>\n     </g>\n     <g id=\"text_7\">\n      <!-- 0.003 -->\n      <g transform=\"translate(289.852955 303.028562) scale(0.1 -0.1)\">\n       <use xlink:href=\"#DejaVuSans-30\"/>\n       <use xlink:href=\"#DejaVuSans-2e\" x=\"63.623047\"/>\n       <use xlink:href=\"#DejaVuSans-30\" x=\"95.410156\"/>\n       <use xlink:href=\"#DejaVuSans-30\" x=\"159.033203\"/>\n       <use xlink:href=\"#DejaVuSans-33\" x=\"222.65625\"/>\n      </g>\n     </g>\n    </g>\n    <g id=\"xtick_8\">\n     <g id=\"line2d_8\">\n      <g>\n       <use xlink:href=\"#m6ba17dd108\" x=\"344.658374\" y=\"288.430125\" style=\"stroke: #000000; stroke-width: 0.8\"/>\n      </g>\n     </g>\n     <g id=\"text_8\">\n      <!-- 0.004 -->\n      <g transform=\"translate(330.344311 303.028562) scale(0.1 -0.1)\">\n       <defs>\n        <path id=\"DejaVuSans-34\" d=\"M 2419 4116 \nL 825 1625 \nL 2419 1625 \nL 2419 4116 \nz\nM 2253 4666 \nL 3047 4666 \nL 3047 1625 \nL 3713 1625 \nL 3713 1100 \nL 3047 1100 \nL 3047 0 \nL 2419 0 \nL 2419 1100 \nL 313 1100 \nL 313 1709 \nL 2253 4666 \nz\n\" transform=\"scale(0.015625)\"/>\n       </defs>\n       <use xlink:href=\"#DejaVuSans-30\"/>\n       <use xlink:href=\"#DejaVuSans-2e\" x=\"63.623047\"/>\n       <use xlink:href=\"#DejaVuSans-30\" x=\"95.410156\"/>\n       <use xlink:href=\"#DejaVuSans-30\" x=\"159.033203\"/>\n       <use xlink:href=\"#DejaVuSans-34\" x=\"222.65625\"/>\n      </g>\n     </g>\n    </g>\n    <g id=\"xtick_9\">\n     <g id=\"line2d_9\">\n      <g>\n       <use xlink:href=\"#m6ba17dd108\" x=\"385.14973\" y=\"288.430125\" style=\"stroke: #000000; stroke-width: 0.8\"/>\n      </g>\n     </g>\n     <g id=\"text_9\">\n      <!-- 0.005 -->\n      <g transform=\"translate(370.835667 303.028562) scale(0.1 -0.1)\">\n       <defs>\n        <path id=\"DejaVuSans-35\" d=\"M 691 4666 \nL 3169 4666 \nL 3169 4134 \nL 1269 4134 \nL 1269 2991 \nQ 1406 3038 1543 3061 \nQ 1681 3084 1819 3084 \nQ 2600 3084 3056 2656 \nQ 3513 2228 3513 1497 \nQ 3513 744 3044 326 \nQ 2575 -91 1722 -91 \nQ 1428 -91 1123 -41 \nQ 819 9 494 109 \nL 494 744 \nQ 775 591 1075 516 \nQ 1375 441 1709 441 \nQ 2250 441 2565 725 \nQ 2881 1009 2881 1497 \nQ 2881 1984 2565 2268 \nQ 2250 2553 1709 2553 \nQ 1456 2553 1204 2497 \nQ 953 2441 691 2322 \nL 691 4666 \nz\n\" transform=\"scale(0.015625)\"/>\n       </defs>\n       <use xlink:href=\"#DejaVuSans-30\"/>\n       <use xlink:href=\"#DejaVuSans-2e\" x=\"63.623047\"/>\n       <use xlink:href=\"#DejaVuSans-30\" x=\"95.410156\"/>\n       <use xlink:href=\"#DejaVuSans-30\" x=\"159.033203\"/>\n       <use xlink:href=\"#DejaVuSans-35\" x=\"222.65625\"/>\n      </g>\n     </g>\n    </g>\n    <g id=\"text_10\">\n     <!-- Flow difference [L/s] -->\n     <g transform=\"translate(174.783438 316.706687) scale(0.1 -0.1)\">\n      <defs>\n       <path id=\"DejaVuSans-46\" d=\"M 628 4666 \nL 3309 4666 \nL 3309 4134 \nL 1259 4134 \nL 1259 2759 \nL 3109 2759 \nL 3109 2228 \nL 1259 2228 \nL 1259 0 \nL 628 0 \nL 628 4666 \nz\n\" transform=\"scale(0.015625)\"/>\n       <path id=\"DejaVuSans-6c\" d=\"M 603 4863 \nL 1178 4863 \nL 1178 0 \nL 603 0 \nL 603 4863 \nz\n\" transform=\"scale(0.015625)\"/>\n       <path id=\"DejaVuSans-6f\" d=\"M 1959 3097 \nQ 1497 3097 1228 2736 \nQ 959 2375 959 1747 \nQ 959 1119 1226 758 \nQ 1494 397 1959 397 \nQ 2419 397 2687 759 \nQ 2956 1122 2956 1747 \nQ 2956 2369 2687 2733 \nQ 2419 3097 1959 3097 \nz\nM 1959 3584 \nQ 2709 3584 3137 3096 \nQ 3566 2609 3566 1747 \nQ 3566 888 3137 398 \nQ 2709 -91 1959 -91 \nQ 1206 -91 779 398 \nQ 353 888 353 1747 \nQ 353 2609 779 3096 \nQ 1206 3584 1959 3584 \nz\n\" transform=\"scale(0.015625)\"/>\n       <path id=\"DejaVuSans-77\" d=\"M 269 3500 \nL 844 3500 \nL 1563 769 \nL 2278 3500 \nL 2956 3500 \nL 3675 769 \nL 4391 3500 \nL 4966 3500 \nL 4050 0 \nL 3372 0 \nL 2619 2869 \nL 1863 0 \nL 1184 0 \nL 269 3500 \nz\n\" transform=\"scale(0.015625)\"/>\n       <path id=\"DejaVuSans-20\" transform=\"scale(0.015625)\"/>\n       <path id=\"DejaVuSans-64\" d=\"M 2906 2969 \nL 2906 4863 \nL 3481 4863 \nL 3481 0 \nL 2906 0 \nL 2906 525 \nQ 2725 213 2448 61 \nQ 2172 -91 1784 -91 \nQ 1150 -91 751 415 \nQ 353 922 353 1747 \nQ 353 2572 751 3078 \nQ 1150 3584 1784 3584 \nQ 2172 3584 2448 3432 \nQ 2725 3281 2906 2969 \nz\nM 947 1747 \nQ 947 1113 1208 752 \nQ 1469 391 1925 391 \nQ 2381 391 2643 752 \nQ 2906 1113 2906 1747 \nQ 2906 2381 2643 2742 \nQ 2381 3103 1925 3103 \nQ 1469 3103 1208 2742 \nQ 947 2381 947 1747 \nz\n\" transform=\"scale(0.015625)\"/>\n       <path id=\"DejaVuSans-69\" d=\"M 603 3500 \nL 1178 3500 \nL 1178 0 \nL 603 0 \nL 603 3500 \nz\nM 603 4863 \nL 1178 4863 \nL 1178 4134 \nL 603 4134 \nL 603 4863 \nz\n\" transform=\"scale(0.015625)\"/>\n       <path id=\"DejaVuSans-66\" d=\"M 2375 4863 \nL 2375 4384 \nL 1825 4384 \nQ 1516 4384 1395 4259 \nQ 1275 4134 1275 3809 \nL 1275 3500 \nL 2222 3500 \nL 2222 3053 \nL 1275 3053 \nL 1275 0 \nL 697 0 \nL 697 3053 \nL 147 3053 \nL 147 3500 \nL 697 3500 \nL 697 3744 \nQ 697 4328 969 4595 \nQ 1241 4863 1831 4863 \nL 2375 4863 \nz\n\" transform=\"scale(0.015625)\"/>\n       <path id=\"DejaVuSans-65\" d=\"M 3597 1894 \nL 3597 1613 \nL 953 1613 \nQ 991 1019 1311 708 \nQ 1631 397 2203 397 \nQ 2534 397 2845 478 \nQ 3156 559 3463 722 \nL 3463 178 \nQ 3153 47 2828 -22 \nQ 2503 -91 2169 -91 \nQ 1331 -91 842 396 \nQ 353 884 353 1716 \nQ 353 2575 817 3079 \nQ 1281 3584 2069 3584 \nQ 2775 3584 3186 3129 \nQ 3597 2675 3597 1894 \nz\nM 3022 2063 \nQ 3016 2534 2758 2815 \nQ 2500 3097 2075 3097 \nQ 1594 3097 1305 2825 \nQ 1016 2553 972 2059 \nL 3022 2063 \nz\n\" transform=\"scale(0.015625)\"/>\n       <path id=\"DejaVuSans-72\" d=\"M 2631 2963 \nQ 2534 3019 2420 3045 \nQ 2306 3072 2169 3072 \nQ 1681 3072 1420 2755 \nQ 1159 2438 1159 1844 \nL 1159 0 \nL 581 0 \nL 581 3500 \nL 1159 3500 \nL 1159 2956 \nQ 1341 3275 1631 3429 \nQ 1922 3584 2338 3584 \nQ 2397 3584 2469 3576 \nQ 2541 3569 2628 3553 \nL 2631 2963 \nz\n\" transform=\"scale(0.015625)\"/>\n       <path id=\"DejaVuSans-6e\" d=\"M 3513 2113 \nL 3513 0 \nL 2938 0 \nL 2938 2094 \nQ 2938 2591 2744 2837 \nQ 2550 3084 2163 3084 \nQ 1697 3084 1428 2787 \nQ 1159 2491 1159 1978 \nL 1159 0 \nL 581 0 \nL 581 3500 \nL 1159 3500 \nL 1159 2956 \nQ 1366 3272 1645 3428 \nQ 1925 3584 2291 3584 \nQ 2894 3584 3203 3211 \nQ 3513 2838 3513 2113 \nz\n\" transform=\"scale(0.015625)\"/>\n       <path id=\"DejaVuSans-63\" d=\"M 3122 3366 \nL 3122 2828 \nQ 2878 2963 2633 3030 \nQ 2388 3097 2138 3097 \nQ 1578 3097 1268 2742 \nQ 959 2388 959 1747 \nQ 959 1106 1268 751 \nQ 1578 397 2138 397 \nQ 2388 397 2633 464 \nQ 2878 531 3122 666 \nL 3122 134 \nQ 2881 22 2623 -34 \nQ 2366 -91 2075 -91 \nQ 1284 -91 818 406 \nQ 353 903 353 1747 \nQ 353 2603 823 3093 \nQ 1294 3584 2113 3584 \nQ 2378 3584 2631 3529 \nQ 2884 3475 3122 3366 \nz\n\" transform=\"scale(0.015625)\"/>\n       <path id=\"DejaVuSans-5b\" d=\"M 550 4863 \nL 1875 4863 \nL 1875 4416 \nL 1125 4416 \nL 1125 -397 \nL 1875 -397 \nL 1875 -844 \nL 550 -844 \nL 550 4863 \nz\n\" transform=\"scale(0.015625)\"/>\n       <path id=\"DejaVuSans-4c\" d=\"M 628 4666 \nL 1259 4666 \nL 1259 531 \nL 3531 531 \nL 3531 0 \nL 628 0 \nL 628 4666 \nz\n\" transform=\"scale(0.015625)\"/>\n       <path id=\"DejaVuSans-2f\" d=\"M 1625 4666 \nL 2156 4666 \nL 531 -594 \nL 0 -594 \nL 1625 4666 \nz\n\" transform=\"scale(0.015625)\"/>\n       <path id=\"DejaVuSans-73\" d=\"M 2834 3397 \nL 2834 2853 \nQ 2591 2978 2328 3040 \nQ 2066 3103 1784 3103 \nQ 1356 3103 1142 2972 \nQ 928 2841 928 2578 \nQ 928 2378 1081 2264 \nQ 1234 2150 1697 2047 \nL 1894 2003 \nQ 2506 1872 2764 1633 \nQ 3022 1394 3022 966 \nQ 3022 478 2636 193 \nQ 2250 -91 1575 -91 \nQ 1294 -91 989 -36 \nQ 684 19 347 128 \nL 347 722 \nQ 666 556 975 473 \nQ 1284 391 1588 391 \nQ 1994 391 2212 530 \nQ 2431 669 2431 922 \nQ 2431 1156 2273 1281 \nQ 2116 1406 1581 1522 \nL 1381 1569 \nQ 847 1681 609 1914 \nQ 372 2147 372 2553 \nQ 372 3047 722 3315 \nQ 1072 3584 1716 3584 \nQ 2034 3584 2315 3537 \nQ 2597 3491 2834 3397 \nz\n\" transform=\"scale(0.015625)\"/>\n       <path id=\"DejaVuSans-5d\" d=\"M 1947 4863 \nL 1947 -844 \nL 622 -844 \nL 622 -397 \nL 1369 -397 \nL 1369 4416 \nL 622 4416 \nL 622 4863 \nL 1947 4863 \nz\n\" transform=\"scale(0.015625)\"/>\n      </defs>\n      <use xlink:href=\"#DejaVuSans-46\"/>\n      <use xlink:href=\"#DejaVuSans-6c\" x=\"57.519531\"/>\n      <use xlink:href=\"#DejaVuSans-6f\" x=\"85.302734\"/>\n      <use xlink:href=\"#DejaVuSans-77\" x=\"146.484375\"/>\n      <use xlink:href=\"#DejaVuSans-20\" x=\"228.271484\"/>\n      <use xlink:href=\"#DejaVuSans-64\" x=\"260.058594\"/>\n      <use xlink:href=\"#DejaVuSans-69\" x=\"323.535156\"/>\n      <use xlink:href=\"#DejaVuSans-66\" x=\"351.318359\"/>\n      <use xlink:href=\"#DejaVuSans-66\" x=\"386.523438\"/>\n      <use xlink:href=\"#DejaVuSans-65\" x=\"421.728516\"/>\n      <use xlink:href=\"#DejaVuSans-72\" x=\"483.251953\"/>\n      <use xlink:href=\"#DejaVuSans-65\" x=\"522.115234\"/>\n      <use xlink:href=\"#DejaVuSans-6e\" x=\"583.638672\"/>\n      <use xlink:href=\"#DejaVuSans-63\" x=\"647.017578\"/>\n      <use xlink:href=\"#DejaVuSans-65\" x=\"701.998047\"/>\n      <use xlink:href=\"#DejaVuSans-20\" x=\"763.521484\"/>\n      <use xlink:href=\"#DejaVuSans-5b\" x=\"795.308594\"/>\n      <use xlink:href=\"#DejaVuSans-4c\" x=\"834.322266\"/>\n      <use xlink:href=\"#DejaVuSans-2f\" x=\"890.035156\"/>\n      <use xlink:href=\"#DejaVuSans-73\" x=\"923.726562\"/>\n      <use xlink:href=\"#DejaVuSans-5d\" x=\"975.826172\"/>\n     </g>\n    </g>\n   </g>\n   <g id=\"matplotlib.axis_2\">\n    <g id=\"ytick_1\">\n     <g id=\"line2d_10\">\n      <defs>\n       <path id=\"m7c25b036b0\" d=\"M 0 0 \nL -3.5 0 \n\" style=\"stroke: #000000; stroke-width: 0.8\"/>\n      </defs>\n      <g>\n       <use xlink:href=\"#m7c25b036b0\" x=\"46.965625\" y=\"288.430125\" style=\"stroke: #000000; stroke-width: 0.8\"/>\n      </g>\n     </g>\n     <g id=\"text_11\">\n      <!-- 0 -->\n      <g transform=\"translate(33.603125 292.229344) scale(0.1 -0.1)\">\n       <use xlink:href=\"#DejaVuSans-30\"/>\n      </g>\n     </g>\n    </g>\n    <g id=\"ytick_2\">\n     <g id=\"line2d_11\">\n      <g>\n       <use xlink:href=\"#m7c25b036b0\" x=\"46.965625\" y=\"240.520862\" style=\"stroke: #000000; stroke-width: 0.8\"/>\n      </g>\n     </g>\n     <g id=\"text_12\">\n      <!-- 100 -->\n      <g transform=\"translate(20.878125 244.320081) scale(0.1 -0.1)\">\n       <use xlink:href=\"#DejaVuSans-31\"/>\n       <use xlink:href=\"#DejaVuSans-30\" x=\"63.623047\"/>\n       <use xlink:href=\"#DejaVuSans-30\" x=\"127.246094\"/>\n      </g>\n     </g>\n    </g>\n    <g id=\"ytick_3\">\n     <g id=\"line2d_12\">\n      <g>\n       <use xlink:href=\"#m7c25b036b0\" x=\"46.965625\" y=\"192.611599\" style=\"stroke: #000000; stroke-width: 0.8\"/>\n      </g>\n     </g>\n     <g id=\"text_13\">\n      <!-- 200 -->\n      <g transform=\"translate(20.878125 196.410818) scale(0.1 -0.1)\">\n       <use xlink:href=\"#DejaVuSans-32\"/>\n       <use xlink:href=\"#DejaVuSans-30\" x=\"63.623047\"/>\n       <use xlink:href=\"#DejaVuSans-30\" x=\"127.246094\"/>\n      </g>\n     </g>\n    </g>\n    <g id=\"ytick_4\">\n     <g id=\"line2d_13\">\n      <g>\n       <use xlink:href=\"#m7c25b036b0\" x=\"46.965625\" y=\"144.702337\" style=\"stroke: #000000; stroke-width: 0.8\"/>\n      </g>\n     </g>\n     <g id=\"text_14\">\n      <!-- 300 -->\n      <g transform=\"translate(20.878125 148.501555) scale(0.1 -0.1)\">\n       <use xlink:href=\"#DejaVuSans-33\"/>\n       <use xlink:href=\"#DejaVuSans-30\" x=\"63.623047\"/>\n       <use xlink:href=\"#DejaVuSans-30\" x=\"127.246094\"/>\n      </g>\n     </g>\n    </g>\n    <g id=\"ytick_5\">\n     <g id=\"line2d_14\">\n      <g>\n       <use xlink:href=\"#m7c25b036b0\" x=\"46.965625\" y=\"96.793074\" style=\"stroke: #000000; stroke-width: 0.8\"/>\n      </g>\n     </g>\n     <g id=\"text_15\">\n      <!-- 400 -->\n      <g transform=\"translate(20.878125 100.592293) scale(0.1 -0.1)\">\n       <use xlink:href=\"#DejaVuSans-34\"/>\n       <use xlink:href=\"#DejaVuSans-30\" x=\"63.623047\"/>\n       <use xlink:href=\"#DejaVuSans-30\" x=\"127.246094\"/>\n      </g>\n     </g>\n    </g>\n    <g id=\"ytick_6\">\n     <g id=\"line2d_15\">\n      <g>\n       <use xlink:href=\"#m7c25b036b0\" x=\"46.965625\" y=\"48.883811\" style=\"stroke: #000000; stroke-width: 0.8\"/>\n      </g>\n     </g>\n     <g id=\"text_16\">\n      <!-- 500 -->\n      <g transform=\"translate(20.878125 52.68303) scale(0.1 -0.1)\">\n       <use xlink:href=\"#DejaVuSans-35\"/>\n       <use xlink:href=\"#DejaVuSans-30\" x=\"63.623047\"/>\n       <use xlink:href=\"#DejaVuSans-30\" x=\"127.246094\"/>\n      </g>\n     </g>\n    </g>\n    <g id=\"text_17\">\n     <!-- Frequency -->\n     <g transform=\"translate(14.798438 181.203812) rotate(-90) scale(0.1 -0.1)\">\n      <defs>\n       <path id=\"DejaVuSans-71\" d=\"M 947 1747 \nQ 947 1113 1208 752 \nQ 1469 391 1925 391 \nQ 2381 391 2643 752 \nQ 2906 1113 2906 1747 \nQ 2906 2381 2643 2742 \nQ 2381 3103 1925 3103 \nQ 1469 3103 1208 2742 \nQ 947 2381 947 1747 \nz\nM 2906 525 \nQ 2725 213 2448 61 \nQ 2172 -91 1784 -91 \nQ 1150 -91 751 415 \nQ 353 922 353 1747 \nQ 353 2572 751 3078 \nQ 1150 3584 1784 3584 \nQ 2172 3584 2448 3432 \nQ 2725 3281 2906 2969 \nL 2906 3500 \nL 3481 3500 \nL 3481 -1331 \nL 2906 -1331 \nL 2906 525 \nz\n\" transform=\"scale(0.015625)\"/>\n       <path id=\"DejaVuSans-75\" d=\"M 544 1381 \nL 544 3500 \nL 1119 3500 \nL 1119 1403 \nQ 1119 906 1312 657 \nQ 1506 409 1894 409 \nQ 2359 409 2629 706 \nQ 2900 1003 2900 1516 \nL 2900 3500 \nL 3475 3500 \nL 3475 0 \nL 2900 0 \nL 2900 538 \nQ 2691 219 2414 64 \nQ 2138 -91 1772 -91 \nQ 1169 -91 856 284 \nQ 544 659 544 1381 \nz\nM 1991 3584 \nL 1991 3584 \nz\n\" transform=\"scale(0.015625)\"/>\n       <path id=\"DejaVuSans-79\" d=\"M 2059 -325 \nQ 1816 -950 1584 -1140 \nQ 1353 -1331 966 -1331 \nL 506 -1331 \nL 506 -850 \nL 844 -850 \nQ 1081 -850 1212 -737 \nQ 1344 -625 1503 -206 \nL 1606 56 \nL 191 3500 \nL 800 3500 \nL 1894 763 \nL 2988 3500 \nL 3597 3500 \nL 2059 -325 \nz\n\" transform=\"scale(0.015625)\"/>\n      </defs>\n      <use xlink:href=\"#DejaVuSans-46\"/>\n      <use xlink:href=\"#DejaVuSans-72\" x=\"50.269531\"/>\n      <use xlink:href=\"#DejaVuSans-65\" x=\"89.132812\"/>\n      <use xlink:href=\"#DejaVuSans-71\" x=\"150.65625\"/>\n      <use xlink:href=\"#DejaVuSans-75\" x=\"214.132812\"/>\n      <use xlink:href=\"#DejaVuSans-65\" x=\"277.511719\"/>\n      <use xlink:href=\"#DejaVuSans-6e\" x=\"339.035156\"/>\n      <use xlink:href=\"#DejaVuSans-63\" x=\"402.414062\"/>\n      <use xlink:href=\"#DejaVuSans-79\" x=\"457.394531\"/>\n     </g>\n    </g>\n   </g>\n   <g id=\"patch_28\">\n    <path d=\"M 46.965625 288.430125 \nL 46.965625 22.318125 \n\" style=\"fill: none; stroke: #000000; stroke-width: 0.8; stroke-linejoin: miter; stroke-linecap: square\"/>\n   </g>\n   <g id=\"patch_29\">\n    <path d=\"M 404.085625 288.430125 \nL 404.085625 22.318125 \n\" style=\"fill: none; stroke: #000000; stroke-width: 0.8; stroke-linejoin: miter; stroke-linecap: square\"/>\n   </g>\n   <g id=\"patch_30\">\n    <path d=\"M 46.965625 288.430125 \nL 404.085625 288.430125 \n\" style=\"fill: none; stroke: #000000; stroke-width: 0.8; stroke-linejoin: miter; stroke-linecap: square\"/>\n   </g>\n   <g id=\"patch_31\">\n    <path d=\"M 46.965625 22.318125 \nL 404.085625 22.318125 \n\" style=\"fill: none; stroke: #000000; stroke-width: 0.8; stroke-linejoin: miter; stroke-linecap: square\"/>\n   </g>\n   <g id=\"text_18\">\n    <!-- Newton-Raphson with Schur v. EPANET -->\n    <g transform=\"translate(108.92125 16.318125) scale(0.12 -0.12)\">\n     <defs>\n      <path id=\"DejaVuSans-4e\" d=\"M 628 4666 \nL 1478 4666 \nL 3547 763 \nL 3547 4666 \nL 4159 4666 \nL 4159 0 \nL 3309 0 \nL 1241 3903 \nL 1241 0 \nL 628 0 \nL 628 4666 \nz\n\" transform=\"scale(0.015625)\"/>\n      <path id=\"DejaVuSans-74\" d=\"M 1172 4494 \nL 1172 3500 \nL 2356 3500 \nL 2356 3053 \nL 1172 3053 \nL 1172 1153 \nQ 1172 725 1289 603 \nQ 1406 481 1766 481 \nL 2356 481 \nL 2356 0 \nL 1766 0 \nQ 1100 0 847 248 \nQ 594 497 594 1153 \nL 594 3053 \nL 172 3053 \nL 172 3500 \nL 594 3500 \nL 594 4494 \nL 1172 4494 \nz\n\" transform=\"scale(0.015625)\"/>\n      <path id=\"DejaVuSans-2d\" d=\"M 313 2009 \nL 1997 2009 \nL 1997 1497 \nL 313 1497 \nL 313 2009 \nz\n\" transform=\"scale(0.015625)\"/>\n      <path id=\"DejaVuSans-52\" d=\"M 2841 2188 \nQ 3044 2119 3236 1894 \nQ 3428 1669 3622 1275 \nL 4263 0 \nL 3584 0 \nL 2988 1197 \nQ 2756 1666 2539 1819 \nQ 2322 1972 1947 1972 \nL 1259 1972 \nL 1259 0 \nL 628 0 \nL 628 4666 \nL 2053 4666 \nQ 2853 4666 3247 4331 \nQ 3641 3997 3641 3322 \nQ 3641 2881 3436 2590 \nQ 3231 2300 2841 2188 \nz\nM 1259 4147 \nL 1259 2491 \nL 2053 2491 \nQ 2509 2491 2742 2702 \nQ 2975 2913 2975 3322 \nQ 2975 3731 2742 3939 \nQ 2509 4147 2053 4147 \nL 1259 4147 \nz\n\" transform=\"scale(0.015625)\"/>\n      <path id=\"DejaVuSans-61\" d=\"M 2194 1759 \nQ 1497 1759 1228 1600 \nQ 959 1441 959 1056 \nQ 959 750 1161 570 \nQ 1363 391 1709 391 \nQ 2188 391 2477 730 \nQ 2766 1069 2766 1631 \nL 2766 1759 \nL 2194 1759 \nz\nM 3341 1997 \nL 3341 0 \nL 2766 0 \nL 2766 531 \nQ 2569 213 2275 61 \nQ 1981 -91 1556 -91 \nQ 1019 -91 701 211 \nQ 384 513 384 1019 \nQ 384 1609 779 1909 \nQ 1175 2209 1959 2209 \nL 2766 2209 \nL 2766 2266 \nQ 2766 2663 2505 2880 \nQ 2244 3097 1772 3097 \nQ 1472 3097 1187 3025 \nQ 903 2953 641 2809 \nL 641 3341 \nQ 956 3463 1253 3523 \nQ 1550 3584 1831 3584 \nQ 2591 3584 2966 3190 \nQ 3341 2797 3341 1997 \nz\n\" transform=\"scale(0.015625)\"/>\n      <path id=\"DejaVuSans-70\" d=\"M 1159 525 \nL 1159 -1331 \nL 581 -1331 \nL 581 3500 \nL 1159 3500 \nL 1159 2969 \nQ 1341 3281 1617 3432 \nQ 1894 3584 2278 3584 \nQ 2916 3584 3314 3078 \nQ 3713 2572 3713 1747 \nQ 3713 922 3314 415 \nQ 2916 -91 2278 -91 \nQ 1894 -91 1617 61 \nQ 1341 213 1159 525 \nz\nM 3116 1747 \nQ 3116 2381 2855 2742 \nQ 2594 3103 2138 3103 \nQ 1681 3103 1420 2742 \nQ 1159 2381 1159 1747 \nQ 1159 1113 1420 752 \nQ 1681 391 2138 391 \nQ 2594 391 2855 752 \nQ 3116 1113 3116 1747 \nz\n\" transform=\"scale(0.015625)\"/>\n      <path id=\"DejaVuSans-68\" d=\"M 3513 2113 \nL 3513 0 \nL 2938 0 \nL 2938 2094 \nQ 2938 2591 2744 2837 \nQ 2550 3084 2163 3084 \nQ 1697 3084 1428 2787 \nQ 1159 2491 1159 1978 \nL 1159 0 \nL 581 0 \nL 581 4863 \nL 1159 4863 \nL 1159 2956 \nQ 1366 3272 1645 3428 \nQ 1925 3584 2291 3584 \nQ 2894 3584 3203 3211 \nQ 3513 2838 3513 2113 \nz\n\" transform=\"scale(0.015625)\"/>\n      <path id=\"DejaVuSans-53\" d=\"M 3425 4513 \nL 3425 3897 \nQ 3066 4069 2747 4153 \nQ 2428 4238 2131 4238 \nQ 1616 4238 1336 4038 \nQ 1056 3838 1056 3469 \nQ 1056 3159 1242 3001 \nQ 1428 2844 1947 2747 \nL 2328 2669 \nQ 3034 2534 3370 2195 \nQ 3706 1856 3706 1288 \nQ 3706 609 3251 259 \nQ 2797 -91 1919 -91 \nQ 1588 -91 1214 -16 \nQ 841 59 441 206 \nL 441 856 \nQ 825 641 1194 531 \nQ 1563 422 1919 422 \nQ 2459 422 2753 634 \nQ 3047 847 3047 1241 \nQ 3047 1584 2836 1778 \nQ 2625 1972 2144 2069 \nL 1759 2144 \nQ 1053 2284 737 2584 \nQ 422 2884 422 3419 \nQ 422 4038 858 4394 \nQ 1294 4750 2059 4750 \nQ 2388 4750 2728 4690 \nQ 3069 4631 3425 4513 \nz\n\" transform=\"scale(0.015625)\"/>\n      <path id=\"DejaVuSans-76\" d=\"M 191 3500 \nL 800 3500 \nL 1894 563 \nL 2988 3500 \nL 3597 3500 \nL 2284 0 \nL 1503 0 \nL 191 3500 \nz\n\" transform=\"scale(0.015625)\"/>\n      <path id=\"DejaVuSans-45\" d=\"M 628 4666 \nL 3578 4666 \nL 3578 4134 \nL 1259 4134 \nL 1259 2753 \nL 3481 2753 \nL 3481 2222 \nL 1259 2222 \nL 1259 531 \nL 3634 531 \nL 3634 0 \nL 628 0 \nL 628 4666 \nz\n\" transform=\"scale(0.015625)\"/>\n      <path id=\"DejaVuSans-50\" d=\"M 1259 4147 \nL 1259 2394 \nL 2053 2394 \nQ 2494 2394 2734 2622 \nQ 2975 2850 2975 3272 \nQ 2975 3691 2734 3919 \nQ 2494 4147 2053 4147 \nL 1259 4147 \nz\nM 628 4666 \nL 2053 4666 \nQ 2838 4666 3239 4311 \nQ 3641 3956 3641 3272 \nQ 3641 2581 3239 2228 \nQ 2838 1875 2053 1875 \nL 1259 1875 \nL 1259 0 \nL 628 0 \nL 628 4666 \nz\n\" transform=\"scale(0.015625)\"/>\n      <path id=\"DejaVuSans-41\" d=\"M 2188 4044 \nL 1331 1722 \nL 3047 1722 \nL 2188 4044 \nz\nM 1831 4666 \nL 2547 4666 \nL 4325 0 \nL 3669 0 \nL 3244 1197 \nL 1141 1197 \nL 716 0 \nL 50 0 \nL 1831 4666 \nz\n\" transform=\"scale(0.015625)\"/>\n      <path id=\"DejaVuSans-54\" d=\"M -19 4666 \nL 3928 4666 \nL 3928 4134 \nL 2272 4134 \nL 2272 0 \nL 1638 0 \nL 1638 4134 \nL -19 4134 \nL -19 4666 \nz\n\" transform=\"scale(0.015625)\"/>\n     </defs>\n     <use xlink:href=\"#DejaVuSans-4e\"/>\n     <use xlink:href=\"#DejaVuSans-65\" x=\"74.804688\"/>\n     <use xlink:href=\"#DejaVuSans-77\" x=\"136.328125\"/>\n     <use xlink:href=\"#DejaVuSans-74\" x=\"218.115234\"/>\n     <use xlink:href=\"#DejaVuSans-6f\" x=\"257.324219\"/>\n     <use xlink:href=\"#DejaVuSans-6e\" x=\"318.505859\"/>\n     <use xlink:href=\"#DejaVuSans-2d\" x=\"381.884766\"/>\n     <use xlink:href=\"#DejaVuSans-52\" x=\"417.96875\"/>\n     <use xlink:href=\"#DejaVuSans-61\" x=\"485.201172\"/>\n     <use xlink:href=\"#DejaVuSans-70\" x=\"546.480469\"/>\n     <use xlink:href=\"#DejaVuSans-68\" x=\"609.957031\"/>\n     <use xlink:href=\"#DejaVuSans-73\" x=\"673.335938\"/>\n     <use xlink:href=\"#DejaVuSans-6f\" x=\"725.435547\"/>\n     <use xlink:href=\"#DejaVuSans-6e\" x=\"786.617188\"/>\n     <use xlink:href=\"#DejaVuSans-20\" x=\"849.996094\"/>\n     <use xlink:href=\"#DejaVuSans-77\" x=\"881.783203\"/>\n     <use xlink:href=\"#DejaVuSans-69\" x=\"963.570312\"/>\n     <use xlink:href=\"#DejaVuSans-74\" x=\"991.353516\"/>\n     <use xlink:href=\"#DejaVuSans-68\" x=\"1030.5625\"/>\n     <use xlink:href=\"#DejaVuSans-20\" x=\"1093.941406\"/>\n     <use xlink:href=\"#DejaVuSans-53\" x=\"1125.728516\"/>\n     <use xlink:href=\"#DejaVuSans-63\" x=\"1189.205078\"/>\n     <use xlink:href=\"#DejaVuSans-68\" x=\"1244.185547\"/>\n     <use xlink:href=\"#DejaVuSans-75\" x=\"1307.564453\"/>\n     <use xlink:href=\"#DejaVuSans-72\" x=\"1370.943359\"/>\n     <use xlink:href=\"#DejaVuSans-20\" x=\"1412.056641\"/>\n     <use xlink:href=\"#DejaVuSans-76\" x=\"1443.84375\"/>\n     <use xlink:href=\"#DejaVuSans-2e\" x=\"1495.273438\"/>\n     <use xlink:href=\"#DejaVuSans-20\" x=\"1527.060547\"/>\n     <use xlink:href=\"#DejaVuSans-45\" x=\"1558.847656\"/>\n     <use xlink:href=\"#DejaVuSans-50\" x=\"1622.03125\"/>\n     <use xlink:href=\"#DejaVuSans-41\" x=\"1675.958984\"/>\n     <use xlink:href=\"#DejaVuSans-4e\" x=\"1744.367188\"/>\n     <use xlink:href=\"#DejaVuSans-45\" x=\"1819.171875\"/>\n     <use xlink:href=\"#DejaVuSans-54\" x=\"1882.355469\"/>\n    </g>\n   </g>\n  </g>\n </g>\n <defs>\n  <clipPath id=\"pae98877f39\">\n   <rect x=\"46.965625\" y=\"22.318125\" width=\"357.12\" height=\"266.112\"/>\n  </clipPath>\n </defs>\n</svg>\n"
          },
          "metadata": {}
        }
      ],
      "source": [
        "# Newton-Raphson with Schur v. EPANET: flow\n",
        "qdiff_2 = q_schur.iloc[:, 1:] - q_epa.iloc[:, 1:]\n",
        "qdiff_2_array = qdiff_2.values.flatten() * 1000\n",
        "plt.hist(qdiff_2_array, bins = 25, color='blue', alpha=0.6)\n",
        "\n",
        "# Set labels and title\n",
        "plt.xlabel('Flow difference [L/s]')\n",
        "plt.ylabel('Frequency')\n",
        "plt.title('Newton-Raphson with Schur v. EPANET')\n",
        "\n",
        "# Display the plot\n",
        "plt.show()"
      ]
    },
    {
      "cell_type": "code",
      "execution_count": 26,
      "metadata": {
        "colab": {
          "base_uri": "https://localhost:8080/",
          "height": 456
        },
        "id": "Ut8eyTGNun6H",
        "outputId": "907c3cb2-2f1b-41cf-ce68-5bf718b1b392"
      },
      "outputs": [
        {
          "output_type": "display_data",
          "data": {
            "text/plain": [
              "<Figure size 1920x1440 with 1 Axes>"
            ],
            "image/svg+xml": "<?xml version=\"1.0\" encoding=\"utf-8\" standalone=\"no\"?>\n<!DOCTYPE svg PUBLIC \"-//W3C//DTD SVG 1.1//EN\"\n  \"http://www.w3.org/Graphics/SVG/1.1/DTD/svg11.dtd\">\n<svg xmlns:xlink=\"http://www.w3.org/1999/xlink\" width=\"411.285625pt\" height=\"325.986375pt\" viewBox=\"0 0 411.285625 325.986375\" xmlns=\"http://www.w3.org/2000/svg\" version=\"1.1\">\n <metadata>\n  <rdf:RDF xmlns:dc=\"http://purl.org/dc/elements/1.1/\" xmlns:cc=\"http://creativecommons.org/ns#\" xmlns:rdf=\"http://www.w3.org/1999/02/22-rdf-syntax-ns#\">\n   <cc:Work>\n    <dc:type rdf:resource=\"http://purl.org/dc/dcmitype/StillImage\"/>\n    <dc:date>2023-08-21T12:39:23.836128</dc:date>\n    <dc:format>image/svg+xml</dc:format>\n    <dc:creator>\n     <cc:Agent>\n      <dc:title>Matplotlib v3.7.1, https://matplotlib.org/</dc:title>\n     </cc:Agent>\n    </dc:creator>\n   </cc:Work>\n  </rdf:RDF>\n </metadata>\n <defs>\n  <style type=\"text/css\">*{stroke-linejoin: round; stroke-linecap: butt}</style>\n </defs>\n <g id=\"figure_1\">\n  <g id=\"patch_1\">\n   <path d=\"M 0 325.986375 \nL 411.285625 325.986375 \nL 411.285625 0 \nL 0 0 \nz\n\" style=\"fill: #ffffff\"/>\n  </g>\n  <g id=\"axes_1\">\n   <g id=\"patch_2\">\n    <path d=\"M 46.965625 288.430125 \nL 404.085625 288.430125 \nL 404.085625 22.318125 \nL 46.965625 22.318125 \nz\n\" style=\"fill: #ffffff\"/>\n   </g>\n   <g id=\"patch_3\">\n    <path d=\"M 63.198352 288.430125 \nL 76.184534 288.430125 \nL 76.184534 34.990125 \nL 63.198352 34.990125 \nz\n\" clip-path=\"url(#p8d782196ce)\" style=\"fill: #ff0000; opacity: 0.6\"/>\n   </g>\n   <g id=\"patch_4\">\n    <path d=\"M 76.184534 288.430125 \nL 89.170716 288.430125 \nL 89.170716 186.268265 \nL 76.184534 186.268265 \nz\n\" clip-path=\"url(#p8d782196ce)\" style=\"fill: #ff0000; opacity: 0.6\"/>\n   </g>\n   <g id=\"patch_5\">\n    <path d=\"M 89.170716 288.430125 \nL 102.156898 288.430125 \nL 102.156898 213.773381 \nL 89.170716 213.773381 \nz\n\" clip-path=\"url(#p8d782196ce)\" style=\"fill: #ff0000; opacity: 0.6\"/>\n   </g>\n   <g id=\"patch_6\">\n    <path d=\"M 102.156898 288.430125 \nL 115.14308 288.430125 \nL 115.14308 207.224544 \nL 102.156898 207.224544 \nz\n\" clip-path=\"url(#p8d782196ce)\" style=\"fill: #ff0000; opacity: 0.6\"/>\n   </g>\n   <g id=\"patch_7\">\n    <path d=\"M 115.14308 288.430125 \nL 128.129261 288.430125 \nL 128.129261 218.357567 \nL 115.14308 218.357567 \nz\n\" clip-path=\"url(#p8d782196ce)\" style=\"fill: #ff0000; opacity: 0.6\"/>\n   </g>\n   <g id=\"patch_8\">\n    <path d=\"M 128.129261 288.430125 \nL 141.115443 288.430125 \nL 141.115443 251.101753 \nL 128.129261 251.101753 \nz\n\" clip-path=\"url(#p8d782196ce)\" style=\"fill: #ff0000; opacity: 0.6\"/>\n   </g>\n   <g id=\"patch_9\">\n    <path d=\"M 141.115443 288.430125 \nL 154.101625 288.430125 \nL 154.101625 224.906404 \nL 141.115443 224.906404 \nz\n\" clip-path=\"url(#p8d782196ce)\" style=\"fill: #ff0000; opacity: 0.6\"/>\n   </g>\n   <g id=\"patch_10\">\n    <path d=\"M 154.101625 288.430125 \nL 167.087807 288.430125 \nL 167.087807 256.995706 \nL 154.101625 256.995706 \nz\n\" clip-path=\"url(#p8d782196ce)\" style=\"fill: #ff0000; opacity: 0.6\"/>\n   </g>\n   <g id=\"patch_11\">\n    <path d=\"M 167.087807 288.430125 \nL 180.073989 288.430125 \nL 180.073989 207.879427 \nL 167.087807 207.879427 \nz\n\" clip-path=\"url(#p8d782196ce)\" style=\"fill: #ff0000; opacity: 0.6\"/>\n   </g>\n   <g id=\"patch_12\">\n    <path d=\"M 180.073989 288.430125 \nL 193.06017 288.430125 \nL 193.06017 262.88966 \nL 180.073989 262.88966 \nz\n\" clip-path=\"url(#p8d782196ce)\" style=\"fill: #ff0000; opacity: 0.6\"/>\n   </g>\n   <g id=\"patch_13\">\n    <path d=\"M 193.06017 288.430125 \nL 206.046352 288.430125 \nL 206.046352 250.446869 \nL 193.06017 250.446869 \nz\n\" clip-path=\"url(#p8d782196ce)\" style=\"fill: #ff0000; opacity: 0.6\"/>\n   </g>\n   <g id=\"patch_14\">\n    <path d=\"M 206.046352 288.430125 \nL 219.032534 288.430125 \nL 219.032534 228.180823 \nL 206.046352 228.180823 \nz\n\" clip-path=\"url(#p8d782196ce)\" style=\"fill: #ff0000; opacity: 0.6\"/>\n   </g>\n   <g id=\"patch_15\">\n    <path d=\"M 219.032534 288.430125 \nL 232.018716 288.430125 \nL 232.018716 269.438497 \nL 219.032534 269.438497 \nz\n\" clip-path=\"url(#p8d782196ce)\" style=\"fill: #ff0000; opacity: 0.6\"/>\n   </g>\n   <g id=\"patch_16\">\n    <path d=\"M 232.018716 288.430125 \nL 245.004898 288.430125 \nL 245.004898 275.987334 \nL 232.018716 275.987334 \nz\n\" clip-path=\"url(#p8d782196ce)\" style=\"fill: #ff0000; opacity: 0.6\"/>\n   </g>\n   <g id=\"patch_17\">\n    <path d=\"M 245.004898 288.430125 \nL 257.99108 288.430125 \nL 257.99108 266.164078 \nL 245.004898 266.164078 \nz\n\" clip-path=\"url(#p8d782196ce)\" style=\"fill: #ff0000; opacity: 0.6\"/>\n   </g>\n   <g id=\"patch_18\">\n    <path d=\"M 257.99108 288.430125 \nL 270.977261 288.430125 \nL 270.977261 275.332451 \nL 257.99108 275.332451 \nz\n\" clip-path=\"url(#p8d782196ce)\" style=\"fill: #ff0000; opacity: 0.6\"/>\n   </g>\n   <g id=\"patch_19\">\n    <path d=\"M 270.977261 288.430125 \nL 283.963443 288.430125 \nL 283.963443 275.332451 \nL 270.977261 275.332451 \nz\n\" clip-path=\"url(#p8d782196ce)\" style=\"fill: #ff0000; opacity: 0.6\"/>\n   </g>\n   <g id=\"patch_20\">\n    <path d=\"M 283.963443 288.430125 \nL 296.949625 288.430125 \nL 296.949625 277.951985 \nL 283.963443 277.951985 \nz\n\" clip-path=\"url(#p8d782196ce)\" style=\"fill: #ff0000; opacity: 0.6\"/>\n   </g>\n   <g id=\"patch_21\">\n    <path d=\"M 296.949625 288.430125 \nL 309.935807 288.430125 \nL 309.935807 276.642218 \nL 296.949625 276.642218 \nz\n\" clip-path=\"url(#p8d782196ce)\" style=\"fill: #ff0000; opacity: 0.6\"/>\n   </g>\n   <g id=\"patch_22\">\n    <path d=\"M 309.935807 288.430125 \nL 322.921989 288.430125 \nL 322.921989 281.881288 \nL 309.935807 281.881288 \nz\n\" clip-path=\"url(#p8d782196ce)\" style=\"fill: #ff0000; opacity: 0.6\"/>\n   </g>\n   <g id=\"patch_23\">\n    <path d=\"M 322.921989 288.430125 \nL 335.90817 288.430125 \nL 335.90817 283.191055 \nL 322.921989 283.191055 \nz\n\" clip-path=\"url(#p8d782196ce)\" style=\"fill: #ff0000; opacity: 0.6\"/>\n   </g>\n   <g id=\"patch_24\">\n    <path d=\"M 335.90817 288.430125 \nL 348.894352 288.430125 \nL 348.894352 285.81059 \nL 335.90817 285.81059 \nz\n\" clip-path=\"url(#p8d782196ce)\" style=\"fill: #ff0000; opacity: 0.6\"/>\n   </g>\n   <g id=\"patch_25\">\n    <path d=\"M 348.894352 288.430125 \nL 361.880534 288.430125 \nL 361.880534 277.951985 \nL 348.894352 277.951985 \nz\n\" clip-path=\"url(#p8d782196ce)\" style=\"fill: #ff0000; opacity: 0.6\"/>\n   </g>\n   <g id=\"patch_26\">\n    <path d=\"M 361.880534 288.430125 \nL 374.866716 288.430125 \nL 374.866716 284.500823 \nL 361.880534 284.500823 \nz\n\" clip-path=\"url(#p8d782196ce)\" style=\"fill: #ff0000; opacity: 0.6\"/>\n   </g>\n   <g id=\"patch_27\">\n    <path d=\"M 374.866716 288.430125 \nL 387.852898 288.430125 \nL 387.852898 284.500823 \nL 374.866716 284.500823 \nz\n\" clip-path=\"url(#p8d782196ce)\" style=\"fill: #ff0000; opacity: 0.6\"/>\n   </g>\n   <g id=\"matplotlib.axis_1\">\n    <g id=\"xtick_1\">\n     <g id=\"line2d_1\">\n      <defs>\n       <path id=\"mb537aae736\" d=\"M 0 0 \nL 0 3.5 \n\" style=\"stroke: #000000; stroke-width: 0.8\"/>\n      </defs>\n      <g>\n       <use xlink:href=\"#mb537aae736\" x=\"63.846291\" y=\"288.430125\" style=\"stroke: #000000; stroke-width: 0.8\"/>\n      </g>\n     </g>\n     <g id=\"text_1\">\n      <!-- 0.000 -->\n      <g transform=\"translate(49.532229 303.028562) scale(0.1 -0.1)\">\n       <defs>\n        <path id=\"DejaVuSans-30\" d=\"M 2034 4250 \nQ 1547 4250 1301 3770 \nQ 1056 3291 1056 2328 \nQ 1056 1369 1301 889 \nQ 1547 409 2034 409 \nQ 2525 409 2770 889 \nQ 3016 1369 3016 2328 \nQ 3016 3291 2770 3770 \nQ 2525 4250 2034 4250 \nz\nM 2034 4750 \nQ 2819 4750 3233 4129 \nQ 3647 3509 3647 2328 \nQ 3647 1150 3233 529 \nQ 2819 -91 2034 -91 \nQ 1250 -91 836 529 \nQ 422 1150 422 2328 \nQ 422 3509 836 4129 \nQ 1250 4750 2034 4750 \nz\n\" transform=\"scale(0.015625)\"/>\n        <path id=\"DejaVuSans-2e\" d=\"M 684 794 \nL 1344 794 \nL 1344 0 \nL 684 0 \nL 684 794 \nz\n\" transform=\"scale(0.015625)\"/>\n       </defs>\n       <use xlink:href=\"#DejaVuSans-30\"/>\n       <use xlink:href=\"#DejaVuSans-2e\" x=\"63.623047\"/>\n       <use xlink:href=\"#DejaVuSans-30\" x=\"95.410156\"/>\n       <use xlink:href=\"#DejaVuSans-30\" x=\"159.033203\"/>\n       <use xlink:href=\"#DejaVuSans-30\" x=\"222.65625\"/>\n      </g>\n     </g>\n    </g>\n    <g id=\"xtick_2\">\n     <g id=\"line2d_2\">\n      <g>\n       <use xlink:href=\"#mb537aae736\" x=\"117.906165\" y=\"288.430125\" style=\"stroke: #000000; stroke-width: 0.8\"/>\n      </g>\n     </g>\n     <g id=\"text_2\">\n      <!-- 0.001 -->\n      <g transform=\"translate(103.592102 303.028562) scale(0.1 -0.1)\">\n       <defs>\n        <path id=\"DejaVuSans-31\" d=\"M 794 531 \nL 1825 531 \nL 1825 4091 \nL 703 3866 \nL 703 4441 \nL 1819 4666 \nL 2450 4666 \nL 2450 531 \nL 3481 531 \nL 3481 0 \nL 794 0 \nL 794 531 \nz\n\" transform=\"scale(0.015625)\"/>\n       </defs>\n       <use xlink:href=\"#DejaVuSans-30\"/>\n       <use xlink:href=\"#DejaVuSans-2e\" x=\"63.623047\"/>\n       <use xlink:href=\"#DejaVuSans-30\" x=\"95.410156\"/>\n       <use xlink:href=\"#DejaVuSans-30\" x=\"159.033203\"/>\n       <use xlink:href=\"#DejaVuSans-31\" x=\"222.65625\"/>\n      </g>\n     </g>\n    </g>\n    <g id=\"xtick_3\">\n     <g id=\"line2d_3\">\n      <g>\n       <use xlink:href=\"#mb537aae736\" x=\"171.966038\" y=\"288.430125\" style=\"stroke: #000000; stroke-width: 0.8\"/>\n      </g>\n     </g>\n     <g id=\"text_3\">\n      <!-- 0.002 -->\n      <g transform=\"translate(157.651976 303.028562) scale(0.1 -0.1)\">\n       <defs>\n        <path id=\"DejaVuSans-32\" d=\"M 1228 531 \nL 3431 531 \nL 3431 0 \nL 469 0 \nL 469 531 \nQ 828 903 1448 1529 \nQ 2069 2156 2228 2338 \nQ 2531 2678 2651 2914 \nQ 2772 3150 2772 3378 \nQ 2772 3750 2511 3984 \nQ 2250 4219 1831 4219 \nQ 1534 4219 1204 4116 \nQ 875 4013 500 3803 \nL 500 4441 \nQ 881 4594 1212 4672 \nQ 1544 4750 1819 4750 \nQ 2544 4750 2975 4387 \nQ 3406 4025 3406 3419 \nQ 3406 3131 3298 2873 \nQ 3191 2616 2906 2266 \nQ 2828 2175 2409 1742 \nQ 1991 1309 1228 531 \nz\n\" transform=\"scale(0.015625)\"/>\n       </defs>\n       <use xlink:href=\"#DejaVuSans-30\"/>\n       <use xlink:href=\"#DejaVuSans-2e\" x=\"63.623047\"/>\n       <use xlink:href=\"#DejaVuSans-30\" x=\"95.410156\"/>\n       <use xlink:href=\"#DejaVuSans-30\" x=\"159.033203\"/>\n       <use xlink:href=\"#DejaVuSans-32\" x=\"222.65625\"/>\n      </g>\n     </g>\n    </g>\n    <g id=\"xtick_4\">\n     <g id=\"line2d_4\">\n      <g>\n       <use xlink:href=\"#mb537aae736\" x=\"226.025912\" y=\"288.430125\" style=\"stroke: #000000; stroke-width: 0.8\"/>\n      </g>\n     </g>\n     <g id=\"text_4\">\n      <!-- 0.003 -->\n      <g transform=\"translate(211.711849 303.028562) scale(0.1 -0.1)\">\n       <defs>\n        <path id=\"DejaVuSans-33\" d=\"M 2597 2516 \nQ 3050 2419 3304 2112 \nQ 3559 1806 3559 1356 \nQ 3559 666 3084 287 \nQ 2609 -91 1734 -91 \nQ 1441 -91 1130 -33 \nQ 819 25 488 141 \nL 488 750 \nQ 750 597 1062 519 \nQ 1375 441 1716 441 \nQ 2309 441 2620 675 \nQ 2931 909 2931 1356 \nQ 2931 1769 2642 2001 \nQ 2353 2234 1838 2234 \nL 1294 2234 \nL 1294 2753 \nL 1863 2753 \nQ 2328 2753 2575 2939 \nQ 2822 3125 2822 3475 \nQ 2822 3834 2567 4026 \nQ 2313 4219 1838 4219 \nQ 1578 4219 1281 4162 \nQ 984 4106 628 3988 \nL 628 4550 \nQ 988 4650 1302 4700 \nQ 1616 4750 1894 4750 \nQ 2613 4750 3031 4423 \nQ 3450 4097 3450 3541 \nQ 3450 3153 3228 2886 \nQ 3006 2619 2597 2516 \nz\n\" transform=\"scale(0.015625)\"/>\n       </defs>\n       <use xlink:href=\"#DejaVuSans-30\"/>\n       <use xlink:href=\"#DejaVuSans-2e\" x=\"63.623047\"/>\n       <use xlink:href=\"#DejaVuSans-30\" x=\"95.410156\"/>\n       <use xlink:href=\"#DejaVuSans-30\" x=\"159.033203\"/>\n       <use xlink:href=\"#DejaVuSans-33\" x=\"222.65625\"/>\n      </g>\n     </g>\n    </g>\n    <g id=\"xtick_5\">\n     <g id=\"line2d_5\">\n      <g>\n       <use xlink:href=\"#mb537aae736\" x=\"280.085785\" y=\"288.430125\" style=\"stroke: #000000; stroke-width: 0.8\"/>\n      </g>\n     </g>\n     <g id=\"text_5\">\n      <!-- 0.004 -->\n      <g transform=\"translate(265.771723 303.028562) scale(0.1 -0.1)\">\n       <defs>\n        <path id=\"DejaVuSans-34\" d=\"M 2419 4116 \nL 825 1625 \nL 2419 1625 \nL 2419 4116 \nz\nM 2253 4666 \nL 3047 4666 \nL 3047 1625 \nL 3713 1625 \nL 3713 1100 \nL 3047 1100 \nL 3047 0 \nL 2419 0 \nL 2419 1100 \nL 313 1100 \nL 313 1709 \nL 2253 4666 \nz\n\" transform=\"scale(0.015625)\"/>\n       </defs>\n       <use xlink:href=\"#DejaVuSans-30\"/>\n       <use xlink:href=\"#DejaVuSans-2e\" x=\"63.623047\"/>\n       <use xlink:href=\"#DejaVuSans-30\" x=\"95.410156\"/>\n       <use xlink:href=\"#DejaVuSans-30\" x=\"159.033203\"/>\n       <use xlink:href=\"#DejaVuSans-34\" x=\"222.65625\"/>\n      </g>\n     </g>\n    </g>\n    <g id=\"xtick_6\">\n     <g id=\"line2d_6\">\n      <g>\n       <use xlink:href=\"#mb537aae736\" x=\"334.145659\" y=\"288.430125\" style=\"stroke: #000000; stroke-width: 0.8\"/>\n      </g>\n     </g>\n     <g id=\"text_6\">\n      <!-- 0.005 -->\n      <g transform=\"translate(319.831596 303.028562) scale(0.1 -0.1)\">\n       <defs>\n        <path id=\"DejaVuSans-35\" d=\"M 691 4666 \nL 3169 4666 \nL 3169 4134 \nL 1269 4134 \nL 1269 2991 \nQ 1406 3038 1543 3061 \nQ 1681 3084 1819 3084 \nQ 2600 3084 3056 2656 \nQ 3513 2228 3513 1497 \nQ 3513 744 3044 326 \nQ 2575 -91 1722 -91 \nQ 1428 -91 1123 -41 \nQ 819 9 494 109 \nL 494 744 \nQ 775 591 1075 516 \nQ 1375 441 1709 441 \nQ 2250 441 2565 725 \nQ 2881 1009 2881 1497 \nQ 2881 1984 2565 2268 \nQ 2250 2553 1709 2553 \nQ 1456 2553 1204 2497 \nQ 953 2441 691 2322 \nL 691 4666 \nz\n\" transform=\"scale(0.015625)\"/>\n       </defs>\n       <use xlink:href=\"#DejaVuSans-30\"/>\n       <use xlink:href=\"#DejaVuSans-2e\" x=\"63.623047\"/>\n       <use xlink:href=\"#DejaVuSans-30\" x=\"95.410156\"/>\n       <use xlink:href=\"#DejaVuSans-30\" x=\"159.033203\"/>\n       <use xlink:href=\"#DejaVuSans-35\" x=\"222.65625\"/>\n      </g>\n     </g>\n    </g>\n    <g id=\"xtick_7\">\n     <g id=\"line2d_7\">\n      <g>\n       <use xlink:href=\"#mb537aae736\" x=\"388.205532\" y=\"288.430125\" style=\"stroke: #000000; stroke-width: 0.8\"/>\n      </g>\n     </g>\n     <g id=\"text_7\">\n      <!-- 0.006 -->\n      <g transform=\"translate(373.89147 303.028562) scale(0.1 -0.1)\">\n       <defs>\n        <path id=\"DejaVuSans-36\" d=\"M 2113 2584 \nQ 1688 2584 1439 2293 \nQ 1191 2003 1191 1497 \nQ 1191 994 1439 701 \nQ 1688 409 2113 409 \nQ 2538 409 2786 701 \nQ 3034 994 3034 1497 \nQ 3034 2003 2786 2293 \nQ 2538 2584 2113 2584 \nz\nM 3366 4563 \nL 3366 3988 \nQ 3128 4100 2886 4159 \nQ 2644 4219 2406 4219 \nQ 1781 4219 1451 3797 \nQ 1122 3375 1075 2522 \nQ 1259 2794 1537 2939 \nQ 1816 3084 2150 3084 \nQ 2853 3084 3261 2657 \nQ 3669 2231 3669 1497 \nQ 3669 778 3244 343 \nQ 2819 -91 2113 -91 \nQ 1303 -91 875 529 \nQ 447 1150 447 2328 \nQ 447 3434 972 4092 \nQ 1497 4750 2381 4750 \nQ 2619 4750 2861 4703 \nQ 3103 4656 3366 4563 \nz\n\" transform=\"scale(0.015625)\"/>\n       </defs>\n       <use xlink:href=\"#DejaVuSans-30\"/>\n       <use xlink:href=\"#DejaVuSans-2e\" x=\"63.623047\"/>\n       <use xlink:href=\"#DejaVuSans-30\" x=\"95.410156\"/>\n       <use xlink:href=\"#DejaVuSans-30\" x=\"159.033203\"/>\n       <use xlink:href=\"#DejaVuSans-36\" x=\"222.65625\"/>\n      </g>\n     </g>\n    </g>\n    <g id=\"text_8\">\n     <!-- Head difference [m] -->\n     <g transform=\"translate(175.326406 316.706687) scale(0.1 -0.1)\">\n      <defs>\n       <path id=\"DejaVuSans-48\" d=\"M 628 4666 \nL 1259 4666 \nL 1259 2753 \nL 3553 2753 \nL 3553 4666 \nL 4184 4666 \nL 4184 0 \nL 3553 0 \nL 3553 2222 \nL 1259 2222 \nL 1259 0 \nL 628 0 \nL 628 4666 \nz\n\" transform=\"scale(0.015625)\"/>\n       <path id=\"DejaVuSans-65\" d=\"M 3597 1894 \nL 3597 1613 \nL 953 1613 \nQ 991 1019 1311 708 \nQ 1631 397 2203 397 \nQ 2534 397 2845 478 \nQ 3156 559 3463 722 \nL 3463 178 \nQ 3153 47 2828 -22 \nQ 2503 -91 2169 -91 \nQ 1331 -91 842 396 \nQ 353 884 353 1716 \nQ 353 2575 817 3079 \nQ 1281 3584 2069 3584 \nQ 2775 3584 3186 3129 \nQ 3597 2675 3597 1894 \nz\nM 3022 2063 \nQ 3016 2534 2758 2815 \nQ 2500 3097 2075 3097 \nQ 1594 3097 1305 2825 \nQ 1016 2553 972 2059 \nL 3022 2063 \nz\n\" transform=\"scale(0.015625)\"/>\n       <path id=\"DejaVuSans-61\" d=\"M 2194 1759 \nQ 1497 1759 1228 1600 \nQ 959 1441 959 1056 \nQ 959 750 1161 570 \nQ 1363 391 1709 391 \nQ 2188 391 2477 730 \nQ 2766 1069 2766 1631 \nL 2766 1759 \nL 2194 1759 \nz\nM 3341 1997 \nL 3341 0 \nL 2766 0 \nL 2766 531 \nQ 2569 213 2275 61 \nQ 1981 -91 1556 -91 \nQ 1019 -91 701 211 \nQ 384 513 384 1019 \nQ 384 1609 779 1909 \nQ 1175 2209 1959 2209 \nL 2766 2209 \nL 2766 2266 \nQ 2766 2663 2505 2880 \nQ 2244 3097 1772 3097 \nQ 1472 3097 1187 3025 \nQ 903 2953 641 2809 \nL 641 3341 \nQ 956 3463 1253 3523 \nQ 1550 3584 1831 3584 \nQ 2591 3584 2966 3190 \nQ 3341 2797 3341 1997 \nz\n\" transform=\"scale(0.015625)\"/>\n       <path id=\"DejaVuSans-64\" d=\"M 2906 2969 \nL 2906 4863 \nL 3481 4863 \nL 3481 0 \nL 2906 0 \nL 2906 525 \nQ 2725 213 2448 61 \nQ 2172 -91 1784 -91 \nQ 1150 -91 751 415 \nQ 353 922 353 1747 \nQ 353 2572 751 3078 \nQ 1150 3584 1784 3584 \nQ 2172 3584 2448 3432 \nQ 2725 3281 2906 2969 \nz\nM 947 1747 \nQ 947 1113 1208 752 \nQ 1469 391 1925 391 \nQ 2381 391 2643 752 \nQ 2906 1113 2906 1747 \nQ 2906 2381 2643 2742 \nQ 2381 3103 1925 3103 \nQ 1469 3103 1208 2742 \nQ 947 2381 947 1747 \nz\n\" transform=\"scale(0.015625)\"/>\n       <path id=\"DejaVuSans-20\" transform=\"scale(0.015625)\"/>\n       <path id=\"DejaVuSans-69\" d=\"M 603 3500 \nL 1178 3500 \nL 1178 0 \nL 603 0 \nL 603 3500 \nz\nM 603 4863 \nL 1178 4863 \nL 1178 4134 \nL 603 4134 \nL 603 4863 \nz\n\" transform=\"scale(0.015625)\"/>\n       <path id=\"DejaVuSans-66\" d=\"M 2375 4863 \nL 2375 4384 \nL 1825 4384 \nQ 1516 4384 1395 4259 \nQ 1275 4134 1275 3809 \nL 1275 3500 \nL 2222 3500 \nL 2222 3053 \nL 1275 3053 \nL 1275 0 \nL 697 0 \nL 697 3053 \nL 147 3053 \nL 147 3500 \nL 697 3500 \nL 697 3744 \nQ 697 4328 969 4595 \nQ 1241 4863 1831 4863 \nL 2375 4863 \nz\n\" transform=\"scale(0.015625)\"/>\n       <path id=\"DejaVuSans-72\" d=\"M 2631 2963 \nQ 2534 3019 2420 3045 \nQ 2306 3072 2169 3072 \nQ 1681 3072 1420 2755 \nQ 1159 2438 1159 1844 \nL 1159 0 \nL 581 0 \nL 581 3500 \nL 1159 3500 \nL 1159 2956 \nQ 1341 3275 1631 3429 \nQ 1922 3584 2338 3584 \nQ 2397 3584 2469 3576 \nQ 2541 3569 2628 3553 \nL 2631 2963 \nz\n\" transform=\"scale(0.015625)\"/>\n       <path id=\"DejaVuSans-6e\" d=\"M 3513 2113 \nL 3513 0 \nL 2938 0 \nL 2938 2094 \nQ 2938 2591 2744 2837 \nQ 2550 3084 2163 3084 \nQ 1697 3084 1428 2787 \nQ 1159 2491 1159 1978 \nL 1159 0 \nL 581 0 \nL 581 3500 \nL 1159 3500 \nL 1159 2956 \nQ 1366 3272 1645 3428 \nQ 1925 3584 2291 3584 \nQ 2894 3584 3203 3211 \nQ 3513 2838 3513 2113 \nz\n\" transform=\"scale(0.015625)\"/>\n       <path id=\"DejaVuSans-63\" d=\"M 3122 3366 \nL 3122 2828 \nQ 2878 2963 2633 3030 \nQ 2388 3097 2138 3097 \nQ 1578 3097 1268 2742 \nQ 959 2388 959 1747 \nQ 959 1106 1268 751 \nQ 1578 397 2138 397 \nQ 2388 397 2633 464 \nQ 2878 531 3122 666 \nL 3122 134 \nQ 2881 22 2623 -34 \nQ 2366 -91 2075 -91 \nQ 1284 -91 818 406 \nQ 353 903 353 1747 \nQ 353 2603 823 3093 \nQ 1294 3584 2113 3584 \nQ 2378 3584 2631 3529 \nQ 2884 3475 3122 3366 \nz\n\" transform=\"scale(0.015625)\"/>\n       <path id=\"DejaVuSans-5b\" d=\"M 550 4863 \nL 1875 4863 \nL 1875 4416 \nL 1125 4416 \nL 1125 -397 \nL 1875 -397 \nL 1875 -844 \nL 550 -844 \nL 550 4863 \nz\n\" transform=\"scale(0.015625)\"/>\n       <path id=\"DejaVuSans-6d\" d=\"M 3328 2828 \nQ 3544 3216 3844 3400 \nQ 4144 3584 4550 3584 \nQ 5097 3584 5394 3201 \nQ 5691 2819 5691 2113 \nL 5691 0 \nL 5113 0 \nL 5113 2094 \nQ 5113 2597 4934 2840 \nQ 4756 3084 4391 3084 \nQ 3944 3084 3684 2787 \nQ 3425 2491 3425 1978 \nL 3425 0 \nL 2847 0 \nL 2847 2094 \nQ 2847 2600 2669 2842 \nQ 2491 3084 2119 3084 \nQ 1678 3084 1418 2786 \nQ 1159 2488 1159 1978 \nL 1159 0 \nL 581 0 \nL 581 3500 \nL 1159 3500 \nL 1159 2956 \nQ 1356 3278 1631 3431 \nQ 1906 3584 2284 3584 \nQ 2666 3584 2933 3390 \nQ 3200 3197 3328 2828 \nz\n\" transform=\"scale(0.015625)\"/>\n       <path id=\"DejaVuSans-5d\" d=\"M 1947 4863 \nL 1947 -844 \nL 622 -844 \nL 622 -397 \nL 1369 -397 \nL 1369 4416 \nL 622 4416 \nL 622 4863 \nL 1947 4863 \nz\n\" transform=\"scale(0.015625)\"/>\n      </defs>\n      <use xlink:href=\"#DejaVuSans-48\"/>\n      <use xlink:href=\"#DejaVuSans-65\" x=\"75.195312\"/>\n      <use xlink:href=\"#DejaVuSans-61\" x=\"136.71875\"/>\n      <use xlink:href=\"#DejaVuSans-64\" x=\"197.998047\"/>\n      <use xlink:href=\"#DejaVuSans-20\" x=\"261.474609\"/>\n      <use xlink:href=\"#DejaVuSans-64\" x=\"293.261719\"/>\n      <use xlink:href=\"#DejaVuSans-69\" x=\"356.738281\"/>\n      <use xlink:href=\"#DejaVuSans-66\" x=\"384.521484\"/>\n      <use xlink:href=\"#DejaVuSans-66\" x=\"419.726562\"/>\n      <use xlink:href=\"#DejaVuSans-65\" x=\"454.931641\"/>\n      <use xlink:href=\"#DejaVuSans-72\" x=\"516.455078\"/>\n      <use xlink:href=\"#DejaVuSans-65\" x=\"555.318359\"/>\n      <use xlink:href=\"#DejaVuSans-6e\" x=\"616.841797\"/>\n      <use xlink:href=\"#DejaVuSans-63\" x=\"680.220703\"/>\n      <use xlink:href=\"#DejaVuSans-65\" x=\"735.201172\"/>\n      <use xlink:href=\"#DejaVuSans-20\" x=\"796.724609\"/>\n      <use xlink:href=\"#DejaVuSans-5b\" x=\"828.511719\"/>\n      <use xlink:href=\"#DejaVuSans-6d\" x=\"867.525391\"/>\n      <use xlink:href=\"#DejaVuSans-5d\" x=\"964.9375\"/>\n     </g>\n    </g>\n   </g>\n   <g id=\"matplotlib.axis_2\">\n    <g id=\"ytick_1\">\n     <g id=\"line2d_8\">\n      <defs>\n       <path id=\"m75af046143\" d=\"M 0 0 \nL -3.5 0 \n\" style=\"stroke: #000000; stroke-width: 0.8\"/>\n      </defs>\n      <g>\n       <use xlink:href=\"#m75af046143\" x=\"46.965625\" y=\"288.430125\" style=\"stroke: #000000; stroke-width: 0.8\"/>\n      </g>\n     </g>\n     <g id=\"text_9\">\n      <!-- 0 -->\n      <g transform=\"translate(33.603125 292.229344) scale(0.1 -0.1)\">\n       <use xlink:href=\"#DejaVuSans-30\"/>\n      </g>\n     </g>\n    </g>\n    <g id=\"ytick_2\">\n     <g id=\"line2d_9\">\n      <g>\n       <use xlink:href=\"#m75af046143\" x=\"46.965625\" y=\"255.685939\" style=\"stroke: #000000; stroke-width: 0.8\"/>\n      </g>\n     </g>\n     <g id=\"text_10\">\n      <!-- 50 -->\n      <g transform=\"translate(27.240625 259.485158) scale(0.1 -0.1)\">\n       <use xlink:href=\"#DejaVuSans-35\"/>\n       <use xlink:href=\"#DejaVuSans-30\" x=\"63.623047\"/>\n      </g>\n     </g>\n    </g>\n    <g id=\"ytick_3\">\n     <g id=\"line2d_10\">\n      <g>\n       <use xlink:href=\"#m75af046143\" x=\"46.965625\" y=\"222.941753\" style=\"stroke: #000000; stroke-width: 0.8\"/>\n      </g>\n     </g>\n     <g id=\"text_11\">\n      <!-- 100 -->\n      <g transform=\"translate(20.878125 226.740972) scale(0.1 -0.1)\">\n       <use xlink:href=\"#DejaVuSans-31\"/>\n       <use xlink:href=\"#DejaVuSans-30\" x=\"63.623047\"/>\n       <use xlink:href=\"#DejaVuSans-30\" x=\"127.246094\"/>\n      </g>\n     </g>\n    </g>\n    <g id=\"ytick_4\">\n     <g id=\"line2d_11\">\n      <g>\n       <use xlink:href=\"#m75af046143\" x=\"46.965625\" y=\"190.197567\" style=\"stroke: #000000; stroke-width: 0.8\"/>\n      </g>\n     </g>\n     <g id=\"text_12\">\n      <!-- 150 -->\n      <g transform=\"translate(20.878125 193.996786) scale(0.1 -0.1)\">\n       <use xlink:href=\"#DejaVuSans-31\"/>\n       <use xlink:href=\"#DejaVuSans-35\" x=\"63.623047\"/>\n       <use xlink:href=\"#DejaVuSans-30\" x=\"127.246094\"/>\n      </g>\n     </g>\n    </g>\n    <g id=\"ytick_5\">\n     <g id=\"line2d_12\">\n      <g>\n       <use xlink:href=\"#m75af046143\" x=\"46.965625\" y=\"157.453381\" style=\"stroke: #000000; stroke-width: 0.8\"/>\n      </g>\n     </g>\n     <g id=\"text_13\">\n      <!-- 200 -->\n      <g transform=\"translate(20.878125 161.2526) scale(0.1 -0.1)\">\n       <use xlink:href=\"#DejaVuSans-32\"/>\n       <use xlink:href=\"#DejaVuSans-30\" x=\"63.623047\"/>\n       <use xlink:href=\"#DejaVuSans-30\" x=\"127.246094\"/>\n      </g>\n     </g>\n    </g>\n    <g id=\"ytick_6\">\n     <g id=\"line2d_13\">\n      <g>\n       <use xlink:href=\"#m75af046143\" x=\"46.965625\" y=\"124.709195\" style=\"stroke: #000000; stroke-width: 0.8\"/>\n      </g>\n     </g>\n     <g id=\"text_14\">\n      <!-- 250 -->\n      <g transform=\"translate(20.878125 128.508414) scale(0.1 -0.1)\">\n       <use xlink:href=\"#DejaVuSans-32\"/>\n       <use xlink:href=\"#DejaVuSans-35\" x=\"63.623047\"/>\n       <use xlink:href=\"#DejaVuSans-30\" x=\"127.246094\"/>\n      </g>\n     </g>\n    </g>\n    <g id=\"ytick_7\">\n     <g id=\"line2d_14\">\n      <g>\n       <use xlink:href=\"#m75af046143\" x=\"46.965625\" y=\"91.965009\" style=\"stroke: #000000; stroke-width: 0.8\"/>\n      </g>\n     </g>\n     <g id=\"text_15\">\n      <!-- 300 -->\n      <g transform=\"translate(20.878125 95.764227) scale(0.1 -0.1)\">\n       <use xlink:href=\"#DejaVuSans-33\"/>\n       <use xlink:href=\"#DejaVuSans-30\" x=\"63.623047\"/>\n       <use xlink:href=\"#DejaVuSans-30\" x=\"127.246094\"/>\n      </g>\n     </g>\n    </g>\n    <g id=\"ytick_8\">\n     <g id=\"line2d_15\">\n      <g>\n       <use xlink:href=\"#m75af046143\" x=\"46.965625\" y=\"59.220823\" style=\"stroke: #000000; stroke-width: 0.8\"/>\n      </g>\n     </g>\n     <g id=\"text_16\">\n      <!-- 350 -->\n      <g transform=\"translate(20.878125 63.020041) scale(0.1 -0.1)\">\n       <use xlink:href=\"#DejaVuSans-33\"/>\n       <use xlink:href=\"#DejaVuSans-35\" x=\"63.623047\"/>\n       <use xlink:href=\"#DejaVuSans-30\" x=\"127.246094\"/>\n      </g>\n     </g>\n    </g>\n    <g id=\"ytick_9\">\n     <g id=\"line2d_16\">\n      <g>\n       <use xlink:href=\"#m75af046143\" x=\"46.965625\" y=\"26.476637\" style=\"stroke: #000000; stroke-width: 0.8\"/>\n      </g>\n     </g>\n     <g id=\"text_17\">\n      <!-- 400 -->\n      <g transform=\"translate(20.878125 30.275855) scale(0.1 -0.1)\">\n       <use xlink:href=\"#DejaVuSans-34\"/>\n       <use xlink:href=\"#DejaVuSans-30\" x=\"63.623047\"/>\n       <use xlink:href=\"#DejaVuSans-30\" x=\"127.246094\"/>\n      </g>\n     </g>\n    </g>\n    <g id=\"text_18\">\n     <!-- Frequency -->\n     <g transform=\"translate(14.798438 181.203812) rotate(-90) scale(0.1 -0.1)\">\n      <defs>\n       <path id=\"DejaVuSans-46\" d=\"M 628 4666 \nL 3309 4666 \nL 3309 4134 \nL 1259 4134 \nL 1259 2759 \nL 3109 2759 \nL 3109 2228 \nL 1259 2228 \nL 1259 0 \nL 628 0 \nL 628 4666 \nz\n\" transform=\"scale(0.015625)\"/>\n       <path id=\"DejaVuSans-71\" d=\"M 947 1747 \nQ 947 1113 1208 752 \nQ 1469 391 1925 391 \nQ 2381 391 2643 752 \nQ 2906 1113 2906 1747 \nQ 2906 2381 2643 2742 \nQ 2381 3103 1925 3103 \nQ 1469 3103 1208 2742 \nQ 947 2381 947 1747 \nz\nM 2906 525 \nQ 2725 213 2448 61 \nQ 2172 -91 1784 -91 \nQ 1150 -91 751 415 \nQ 353 922 353 1747 \nQ 353 2572 751 3078 \nQ 1150 3584 1784 3584 \nQ 2172 3584 2448 3432 \nQ 2725 3281 2906 2969 \nL 2906 3500 \nL 3481 3500 \nL 3481 -1331 \nL 2906 -1331 \nL 2906 525 \nz\n\" transform=\"scale(0.015625)\"/>\n       <path id=\"DejaVuSans-75\" d=\"M 544 1381 \nL 544 3500 \nL 1119 3500 \nL 1119 1403 \nQ 1119 906 1312 657 \nQ 1506 409 1894 409 \nQ 2359 409 2629 706 \nQ 2900 1003 2900 1516 \nL 2900 3500 \nL 3475 3500 \nL 3475 0 \nL 2900 0 \nL 2900 538 \nQ 2691 219 2414 64 \nQ 2138 -91 1772 -91 \nQ 1169 -91 856 284 \nQ 544 659 544 1381 \nz\nM 1991 3584 \nL 1991 3584 \nz\n\" transform=\"scale(0.015625)\"/>\n       <path id=\"DejaVuSans-79\" d=\"M 2059 -325 \nQ 1816 -950 1584 -1140 \nQ 1353 -1331 966 -1331 \nL 506 -1331 \nL 506 -850 \nL 844 -850 \nQ 1081 -850 1212 -737 \nQ 1344 -625 1503 -206 \nL 1606 56 \nL 191 3500 \nL 800 3500 \nL 1894 763 \nL 2988 3500 \nL 3597 3500 \nL 2059 -325 \nz\n\" transform=\"scale(0.015625)\"/>\n      </defs>\n      <use xlink:href=\"#DejaVuSans-46\"/>\n      <use xlink:href=\"#DejaVuSans-72\" x=\"50.269531\"/>\n      <use xlink:href=\"#DejaVuSans-65\" x=\"89.132812\"/>\n      <use xlink:href=\"#DejaVuSans-71\" x=\"150.65625\"/>\n      <use xlink:href=\"#DejaVuSans-75\" x=\"214.132812\"/>\n      <use xlink:href=\"#DejaVuSans-65\" x=\"277.511719\"/>\n      <use xlink:href=\"#DejaVuSans-6e\" x=\"339.035156\"/>\n      <use xlink:href=\"#DejaVuSans-63\" x=\"402.414062\"/>\n      <use xlink:href=\"#DejaVuSans-79\" x=\"457.394531\"/>\n     </g>\n    </g>\n   </g>\n   <g id=\"patch_28\">\n    <path d=\"M 46.965625 288.430125 \nL 46.965625 22.318125 \n\" style=\"fill: none; stroke: #000000; stroke-width: 0.8; stroke-linejoin: miter; stroke-linecap: square\"/>\n   </g>\n   <g id=\"patch_29\">\n    <path d=\"M 404.085625 288.430125 \nL 404.085625 22.318125 \n\" style=\"fill: none; stroke: #000000; stroke-width: 0.8; stroke-linejoin: miter; stroke-linecap: square\"/>\n   </g>\n   <g id=\"patch_30\">\n    <path d=\"M 46.965625 288.430125 \nL 404.085625 288.430125 \n\" style=\"fill: none; stroke: #000000; stroke-width: 0.8; stroke-linejoin: miter; stroke-linecap: square\"/>\n   </g>\n   <g id=\"patch_31\">\n    <path d=\"M 46.965625 22.318125 \nL 404.085625 22.318125 \n\" style=\"fill: none; stroke: #000000; stroke-width: 0.8; stroke-linejoin: miter; stroke-linecap: square\"/>\n   </g>\n   <g id=\"text_19\">\n    <!-- Newton-Raphson with Schur v. EPANET -->\n    <g transform=\"translate(108.92125 16.318125) scale(0.12 -0.12)\">\n     <defs>\n      <path id=\"DejaVuSans-4e\" d=\"M 628 4666 \nL 1478 4666 \nL 3547 763 \nL 3547 4666 \nL 4159 4666 \nL 4159 0 \nL 3309 0 \nL 1241 3903 \nL 1241 0 \nL 628 0 \nL 628 4666 \nz\n\" transform=\"scale(0.015625)\"/>\n      <path id=\"DejaVuSans-77\" d=\"M 269 3500 \nL 844 3500 \nL 1563 769 \nL 2278 3500 \nL 2956 3500 \nL 3675 769 \nL 4391 3500 \nL 4966 3500 \nL 4050 0 \nL 3372 0 \nL 2619 2869 \nL 1863 0 \nL 1184 0 \nL 269 3500 \nz\n\" transform=\"scale(0.015625)\"/>\n      <path id=\"DejaVuSans-74\" d=\"M 1172 4494 \nL 1172 3500 \nL 2356 3500 \nL 2356 3053 \nL 1172 3053 \nL 1172 1153 \nQ 1172 725 1289 603 \nQ 1406 481 1766 481 \nL 2356 481 \nL 2356 0 \nL 1766 0 \nQ 1100 0 847 248 \nQ 594 497 594 1153 \nL 594 3053 \nL 172 3053 \nL 172 3500 \nL 594 3500 \nL 594 4494 \nL 1172 4494 \nz\n\" transform=\"scale(0.015625)\"/>\n      <path id=\"DejaVuSans-6f\" d=\"M 1959 3097 \nQ 1497 3097 1228 2736 \nQ 959 2375 959 1747 \nQ 959 1119 1226 758 \nQ 1494 397 1959 397 \nQ 2419 397 2687 759 \nQ 2956 1122 2956 1747 \nQ 2956 2369 2687 2733 \nQ 2419 3097 1959 3097 \nz\nM 1959 3584 \nQ 2709 3584 3137 3096 \nQ 3566 2609 3566 1747 \nQ 3566 888 3137 398 \nQ 2709 -91 1959 -91 \nQ 1206 -91 779 398 \nQ 353 888 353 1747 \nQ 353 2609 779 3096 \nQ 1206 3584 1959 3584 \nz\n\" transform=\"scale(0.015625)\"/>\n      <path id=\"DejaVuSans-2d\" d=\"M 313 2009 \nL 1997 2009 \nL 1997 1497 \nL 313 1497 \nL 313 2009 \nz\n\" transform=\"scale(0.015625)\"/>\n      <path id=\"DejaVuSans-52\" d=\"M 2841 2188 \nQ 3044 2119 3236 1894 \nQ 3428 1669 3622 1275 \nL 4263 0 \nL 3584 0 \nL 2988 1197 \nQ 2756 1666 2539 1819 \nQ 2322 1972 1947 1972 \nL 1259 1972 \nL 1259 0 \nL 628 0 \nL 628 4666 \nL 2053 4666 \nQ 2853 4666 3247 4331 \nQ 3641 3997 3641 3322 \nQ 3641 2881 3436 2590 \nQ 3231 2300 2841 2188 \nz\nM 1259 4147 \nL 1259 2491 \nL 2053 2491 \nQ 2509 2491 2742 2702 \nQ 2975 2913 2975 3322 \nQ 2975 3731 2742 3939 \nQ 2509 4147 2053 4147 \nL 1259 4147 \nz\n\" transform=\"scale(0.015625)\"/>\n      <path id=\"DejaVuSans-70\" d=\"M 1159 525 \nL 1159 -1331 \nL 581 -1331 \nL 581 3500 \nL 1159 3500 \nL 1159 2969 \nQ 1341 3281 1617 3432 \nQ 1894 3584 2278 3584 \nQ 2916 3584 3314 3078 \nQ 3713 2572 3713 1747 \nQ 3713 922 3314 415 \nQ 2916 -91 2278 -91 \nQ 1894 -91 1617 61 \nQ 1341 213 1159 525 \nz\nM 3116 1747 \nQ 3116 2381 2855 2742 \nQ 2594 3103 2138 3103 \nQ 1681 3103 1420 2742 \nQ 1159 2381 1159 1747 \nQ 1159 1113 1420 752 \nQ 1681 391 2138 391 \nQ 2594 391 2855 752 \nQ 3116 1113 3116 1747 \nz\n\" transform=\"scale(0.015625)\"/>\n      <path id=\"DejaVuSans-68\" d=\"M 3513 2113 \nL 3513 0 \nL 2938 0 \nL 2938 2094 \nQ 2938 2591 2744 2837 \nQ 2550 3084 2163 3084 \nQ 1697 3084 1428 2787 \nQ 1159 2491 1159 1978 \nL 1159 0 \nL 581 0 \nL 581 4863 \nL 1159 4863 \nL 1159 2956 \nQ 1366 3272 1645 3428 \nQ 1925 3584 2291 3584 \nQ 2894 3584 3203 3211 \nQ 3513 2838 3513 2113 \nz\n\" transform=\"scale(0.015625)\"/>\n      <path id=\"DejaVuSans-73\" d=\"M 2834 3397 \nL 2834 2853 \nQ 2591 2978 2328 3040 \nQ 2066 3103 1784 3103 \nQ 1356 3103 1142 2972 \nQ 928 2841 928 2578 \nQ 928 2378 1081 2264 \nQ 1234 2150 1697 2047 \nL 1894 2003 \nQ 2506 1872 2764 1633 \nQ 3022 1394 3022 966 \nQ 3022 478 2636 193 \nQ 2250 -91 1575 -91 \nQ 1294 -91 989 -36 \nQ 684 19 347 128 \nL 347 722 \nQ 666 556 975 473 \nQ 1284 391 1588 391 \nQ 1994 391 2212 530 \nQ 2431 669 2431 922 \nQ 2431 1156 2273 1281 \nQ 2116 1406 1581 1522 \nL 1381 1569 \nQ 847 1681 609 1914 \nQ 372 2147 372 2553 \nQ 372 3047 722 3315 \nQ 1072 3584 1716 3584 \nQ 2034 3584 2315 3537 \nQ 2597 3491 2834 3397 \nz\n\" transform=\"scale(0.015625)\"/>\n      <path id=\"DejaVuSans-53\" d=\"M 3425 4513 \nL 3425 3897 \nQ 3066 4069 2747 4153 \nQ 2428 4238 2131 4238 \nQ 1616 4238 1336 4038 \nQ 1056 3838 1056 3469 \nQ 1056 3159 1242 3001 \nQ 1428 2844 1947 2747 \nL 2328 2669 \nQ 3034 2534 3370 2195 \nQ 3706 1856 3706 1288 \nQ 3706 609 3251 259 \nQ 2797 -91 1919 -91 \nQ 1588 -91 1214 -16 \nQ 841 59 441 206 \nL 441 856 \nQ 825 641 1194 531 \nQ 1563 422 1919 422 \nQ 2459 422 2753 634 \nQ 3047 847 3047 1241 \nQ 3047 1584 2836 1778 \nQ 2625 1972 2144 2069 \nL 1759 2144 \nQ 1053 2284 737 2584 \nQ 422 2884 422 3419 \nQ 422 4038 858 4394 \nQ 1294 4750 2059 4750 \nQ 2388 4750 2728 4690 \nQ 3069 4631 3425 4513 \nz\n\" transform=\"scale(0.015625)\"/>\n      <path id=\"DejaVuSans-76\" d=\"M 191 3500 \nL 800 3500 \nL 1894 563 \nL 2988 3500 \nL 3597 3500 \nL 2284 0 \nL 1503 0 \nL 191 3500 \nz\n\" transform=\"scale(0.015625)\"/>\n      <path id=\"DejaVuSans-45\" d=\"M 628 4666 \nL 3578 4666 \nL 3578 4134 \nL 1259 4134 \nL 1259 2753 \nL 3481 2753 \nL 3481 2222 \nL 1259 2222 \nL 1259 531 \nL 3634 531 \nL 3634 0 \nL 628 0 \nL 628 4666 \nz\n\" transform=\"scale(0.015625)\"/>\n      <path id=\"DejaVuSans-50\" d=\"M 1259 4147 \nL 1259 2394 \nL 2053 2394 \nQ 2494 2394 2734 2622 \nQ 2975 2850 2975 3272 \nQ 2975 3691 2734 3919 \nQ 2494 4147 2053 4147 \nL 1259 4147 \nz\nM 628 4666 \nL 2053 4666 \nQ 2838 4666 3239 4311 \nQ 3641 3956 3641 3272 \nQ 3641 2581 3239 2228 \nQ 2838 1875 2053 1875 \nL 1259 1875 \nL 1259 0 \nL 628 0 \nL 628 4666 \nz\n\" transform=\"scale(0.015625)\"/>\n      <path id=\"DejaVuSans-41\" d=\"M 2188 4044 \nL 1331 1722 \nL 3047 1722 \nL 2188 4044 \nz\nM 1831 4666 \nL 2547 4666 \nL 4325 0 \nL 3669 0 \nL 3244 1197 \nL 1141 1197 \nL 716 0 \nL 50 0 \nL 1831 4666 \nz\n\" transform=\"scale(0.015625)\"/>\n      <path id=\"DejaVuSans-54\" d=\"M -19 4666 \nL 3928 4666 \nL 3928 4134 \nL 2272 4134 \nL 2272 0 \nL 1638 0 \nL 1638 4134 \nL -19 4134 \nL -19 4666 \nz\n\" transform=\"scale(0.015625)\"/>\n     </defs>\n     <use xlink:href=\"#DejaVuSans-4e\"/>\n     <use xlink:href=\"#DejaVuSans-65\" x=\"74.804688\"/>\n     <use xlink:href=\"#DejaVuSans-77\" x=\"136.328125\"/>\n     <use xlink:href=\"#DejaVuSans-74\" x=\"218.115234\"/>\n     <use xlink:href=\"#DejaVuSans-6f\" x=\"257.324219\"/>\n     <use xlink:href=\"#DejaVuSans-6e\" x=\"318.505859\"/>\n     <use xlink:href=\"#DejaVuSans-2d\" x=\"381.884766\"/>\n     <use xlink:href=\"#DejaVuSans-52\" x=\"417.96875\"/>\n     <use xlink:href=\"#DejaVuSans-61\" x=\"485.201172\"/>\n     <use xlink:href=\"#DejaVuSans-70\" x=\"546.480469\"/>\n     <use xlink:href=\"#DejaVuSans-68\" x=\"609.957031\"/>\n     <use xlink:href=\"#DejaVuSans-73\" x=\"673.335938\"/>\n     <use xlink:href=\"#DejaVuSans-6f\" x=\"725.435547\"/>\n     <use xlink:href=\"#DejaVuSans-6e\" x=\"786.617188\"/>\n     <use xlink:href=\"#DejaVuSans-20\" x=\"849.996094\"/>\n     <use xlink:href=\"#DejaVuSans-77\" x=\"881.783203\"/>\n     <use xlink:href=\"#DejaVuSans-69\" x=\"963.570312\"/>\n     <use xlink:href=\"#DejaVuSans-74\" x=\"991.353516\"/>\n     <use xlink:href=\"#DejaVuSans-68\" x=\"1030.5625\"/>\n     <use xlink:href=\"#DejaVuSans-20\" x=\"1093.941406\"/>\n     <use xlink:href=\"#DejaVuSans-53\" x=\"1125.728516\"/>\n     <use xlink:href=\"#DejaVuSans-63\" x=\"1189.205078\"/>\n     <use xlink:href=\"#DejaVuSans-68\" x=\"1244.185547\"/>\n     <use xlink:href=\"#DejaVuSans-75\" x=\"1307.564453\"/>\n     <use xlink:href=\"#DejaVuSans-72\" x=\"1370.943359\"/>\n     <use xlink:href=\"#DejaVuSans-20\" x=\"1412.056641\"/>\n     <use xlink:href=\"#DejaVuSans-76\" x=\"1443.84375\"/>\n     <use xlink:href=\"#DejaVuSans-2e\" x=\"1495.273438\"/>\n     <use xlink:href=\"#DejaVuSans-20\" x=\"1527.060547\"/>\n     <use xlink:href=\"#DejaVuSans-45\" x=\"1558.847656\"/>\n     <use xlink:href=\"#DejaVuSans-50\" x=\"1622.03125\"/>\n     <use xlink:href=\"#DejaVuSans-41\" x=\"1675.958984\"/>\n     <use xlink:href=\"#DejaVuSans-4e\" x=\"1744.367188\"/>\n     <use xlink:href=\"#DejaVuSans-45\" x=\"1819.171875\"/>\n     <use xlink:href=\"#DejaVuSans-54\" x=\"1882.355469\"/>\n    </g>\n   </g>\n  </g>\n </g>\n <defs>\n  <clipPath id=\"p8d782196ce\">\n   <rect x=\"46.965625\" y=\"22.318125\" width=\"357.12\" height=\"266.112\"/>\n  </clipPath>\n </defs>\n</svg>\n"
          },
          "metadata": {}
        }
      ],
      "source": [
        "# Newton-Raphson with Schur v. EPANET: hydraulic head\n",
        "hdiff_2 = h_schur.iloc[:, 1:] - h_epa.iloc[:, 1:]\n",
        "hdiff_2_array = hdiff_2.values.flatten()\n",
        "plt.hist(hdiff_2_array, bins = 25, color='red', alpha=0.6)\n",
        "\n",
        "# Set labels and title\n",
        "plt.xlabel('Head difference [m]')\n",
        "plt.ylabel('Frequency')\n",
        "plt.title('Newton-Raphson with Schur v. EPANET')\n",
        "\n",
        "# Display the plot\n",
        "plt.show()"
      ]
    },
    {
      "cell_type": "markdown",
      "metadata": {
        "id": "0zW7VJmxun6H"
      },
      "source": [
        "### Future work items"
      ]
    },
    {
      "cell_type": "markdown",
      "metadata": {
        "id": "MICG5FEoun6I"
      },
      "source": [
        "This notebook could be extended to include:\n",
        "1. Tanks (i.e. storage facilities with finite volume)\n",
        "2. Hydraulic controls (e.g. pressure control valves, pumping)"
      ]
    }
  ],
  "metadata": {
    "colab": {
      "provenance": [],
      "include_colab_link": true
    },
    "kernelspec": {
      "display_name": "Python 3 (ipykernel)",
      "language": "python",
      "name": "python3"
    },
    "language_info": {
      "codemirror_mode": {
        "name": "ipython",
        "version": 3
      },
      "file_extension": ".py",
      "mimetype": "text/x-python",
      "name": "python",
      "nbconvert_exporter": "python",
      "pygments_lexer": "ipython3",
      "version": "3.10.11"
    }
  },
  "nbformat": 4,
  "nbformat_minor": 0
}