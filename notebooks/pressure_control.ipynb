{
  "cells": [
    {
      "cell_type": "markdown",
      "metadata": {
        "id": "view-in-github",
        "colab_type": "text"
      },
      "source": [
        "<a href=\"https://colab.research.google.com/github/bradleywjenks/CIVE_70019_70057/blob/main/notebooks/pressure_control.ipynb\" target=\"_parent\"><img src=\"https://colab.research.google.com/assets/colab-badge.svg\" alt=\"Open In Colab\"/></a>"
      ]
    },
    {
      "cell_type": "markdown",
      "id": "c3ea0ffc",
      "metadata": {
        "id": "c3ea0ffc"
      },
      "source": [
        "# Pressure control implementations in water distribution networks\n",
        "### CIVE 70019/70057\n",
        "Department of Civil and Environmental Engineering, Imperial College London\\\n",
        "Autumn 2023"
      ]
    },
    {
      "cell_type": "markdown",
      "id": "5eebea76",
      "metadata": {
        "id": "5eebea76"
      },
      "source": [
        "### Preamble\n",
        "This notebook walks through the following pressure control implementations in water distribution network operations:\n",
        "- Fixed outlet\n",
        "- Time-based\n",
        "- Flow modulation\n",
        "- Model-based optimization\n",
        "\n",
        "Code implementations for flow modulation and model-based optimal control will be presented."
      ]
    },
    {
      "cell_type": "markdown",
      "id": "e7aeb130",
      "metadata": {
        "id": "e7aeb130"
      },
      "source": [
        "First, we must clone the GitHub repository and install dependencies (only run this once)."
      ]
    },
    {
      "cell_type": "code",
      "source": [
        "# Run this cell if in Google Colab\n",
        "!git clone https://github.com/bradleywjenks/CIVE_70019_70057.git\n",
        "!pip install wntr"
      ],
      "metadata": {
        "id": "XUkd0ndZ-Fy_",
        "outputId": "4fd768b0-2920-4f7d-fe2c-d9b4802eef93",
        "colab": {
          "base_uri": "https://localhost:8080/"
        }
      },
      "id": "XUkd0ndZ-Fy_",
      "execution_count": 1,
      "outputs": [
        {
          "output_type": "stream",
          "name": "stdout",
          "text": [
            "Cloning into 'CIVE_70019_70057'...\n",
            "remote: Enumerating objects: 181, done.\u001b[K\n",
            "remote: Counting objects: 100% (181/181), done.\u001b[K\n",
            "remote: Compressing objects: 100% (130/130), done.\u001b[K\n",
            "remote: Total 181 (delta 84), reused 134 (delta 47), pack-reused 0\u001b[K\n",
            "Receiving objects: 100% (181/181), 2.07 MiB | 13.23 MiB/s, done.\n",
            "Resolving deltas: 100% (84/84), done.\n",
            "Collecting wntr\n",
            "  Downloading wntr-1.0.0-cp310-cp310-manylinux_2_17_x86_64.manylinux2014_x86_64.whl (4.2 MB)\n",
            "\u001b[2K     \u001b[90m━━━━━━━━━━━━━━━━━━━━━━━━━━━━━━━━━━━━━━━━\u001b[0m \u001b[32m4.2/4.2 MB\u001b[0m \u001b[31m12.4 MB/s\u001b[0m eta \u001b[36m0:00:00\u001b[0m\n",
            "\u001b[?25hRequirement already satisfied: numpy>=1.21 in /usr/local/lib/python3.10/dist-packages (from wntr) (1.23.5)\n",
            "Requirement already satisfied: scipy in /usr/local/lib/python3.10/dist-packages (from wntr) (1.10.1)\n",
            "Requirement already satisfied: networkx in /usr/local/lib/python3.10/dist-packages (from wntr) (3.1)\n",
            "Requirement already satisfied: pandas in /usr/local/lib/python3.10/dist-packages (from wntr) (1.5.3)\n",
            "Requirement already satisfied: matplotlib in /usr/local/lib/python3.10/dist-packages (from wntr) (3.7.1)\n",
            "Requirement already satisfied: contourpy>=1.0.1 in /usr/local/lib/python3.10/dist-packages (from matplotlib->wntr) (1.1.0)\n",
            "Requirement already satisfied: cycler>=0.10 in /usr/local/lib/python3.10/dist-packages (from matplotlib->wntr) (0.11.0)\n",
            "Requirement already satisfied: fonttools>=4.22.0 in /usr/local/lib/python3.10/dist-packages (from matplotlib->wntr) (4.42.0)\n",
            "Requirement already satisfied: kiwisolver>=1.0.1 in /usr/local/lib/python3.10/dist-packages (from matplotlib->wntr) (1.4.4)\n",
            "Requirement already satisfied: packaging>=20.0 in /usr/local/lib/python3.10/dist-packages (from matplotlib->wntr) (23.1)\n",
            "Requirement already satisfied: pillow>=6.2.0 in /usr/local/lib/python3.10/dist-packages (from matplotlib->wntr) (9.4.0)\n",
            "Requirement already satisfied: pyparsing>=2.3.1 in /usr/local/lib/python3.10/dist-packages (from matplotlib->wntr) (3.1.1)\n",
            "Requirement already satisfied: python-dateutil>=2.7 in /usr/local/lib/python3.10/dist-packages (from matplotlib->wntr) (2.8.2)\n",
            "Requirement already satisfied: pytz>=2020.1 in /usr/local/lib/python3.10/dist-packages (from pandas->wntr) (2023.3)\n",
            "Requirement already satisfied: six>=1.5 in /usr/local/lib/python3.10/dist-packages (from python-dateutil>=2.7->matplotlib->wntr) (1.16.0)\n",
            "Installing collected packages: wntr\n",
            "Successfully installed wntr-1.0.0\n"
          ]
        }
      ]
    },
    {
      "cell_type": "markdown",
      "source": [
        "### Data preparation"
      ],
      "metadata": {
        "id": "g1R6pk6b-ooQ"
      },
      "id": "g1R6pk6b-ooQ"
    },
    {
      "cell_type": "markdown",
      "source": [
        "Load data provided in the module repository."
      ],
      "metadata": {
        "id": "kZJwZHFTWCAS"
      },
      "id": "kZJwZHFTWCAS"
    },
    {
      "cell_type": "code",
      "source": [
        "# # Load dependencies\n",
        "# import numpy as np\n",
        "# import pandas as pd\n",
        "# import matplotlib.pyplot as plt\n",
        "# import os\n",
        "# import scipy.io as sio\n",
        "# import numpy as np\n",
        "\n",
        "# net_dir = '/content/CIVE_70019_70057/data/networks/'\n",
        "\n",
        "# # Load the .mat file\n",
        "# mat_data = sio.loadmat('your_mat_file.mat')\n",
        "\n",
        "# # Extract the variables you want to save as .npy\n",
        "# data_to_save = {\n",
        "#     'p_in': mat_data['p_in'],\n",
        "#     'p_out': mat_data['p_out'],\n",
        "#     'p_critical': mat_data['p_critical'],\n",
        "#     'flow': mat_data['flow'],\n",
        "#     'time': mat_data['time'],\n",
        "#     'outlet_elev': mat_data['outlet_elev'],\n",
        "#     'critical_elev': mat_data['critical_elev']\n",
        "# }\n",
        "\n",
        "# # Save the data as a .npy file\n",
        "# np.save('data.npy', data_to_save)"
      ],
      "metadata": {
        "id": "hAIUTiKc-qiD"
      },
      "id": "hAIUTiKc-qiD",
      "execution_count": 2,
      "outputs": []
    }
  ],
  "metadata": {
    "kernelspec": {
      "display_name": "Python 3 (ipykernel)",
      "language": "python",
      "name": "python3"
    },
    "language_info": {
      "codemirror_mode": {
        "name": "ipython",
        "version": 3
      },
      "file_extension": ".py",
      "mimetype": "text/x-python",
      "name": "python",
      "nbconvert_exporter": "python",
      "pygments_lexer": "ipython3",
      "version": "3.10.11"
    },
    "colab": {
      "provenance": [],
      "include_colab_link": true
    }
  },
  "nbformat": 4,
  "nbformat_minor": 5
}