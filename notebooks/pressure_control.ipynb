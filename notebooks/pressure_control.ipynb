{
  "cells": [
    {
      "cell_type": "markdown",
      "id": "037e7309",
      "metadata": {
        "colab_type": "text",
        "id": "view-in-github"
      },
      "source": [
        "<a href=\"https://colab.research.google.com/github/bradleywjenks/CIVE_70019_70057/blob/main/notebooks/pressure_control.ipynb\" target=\"_parent\"><img src=\"https://colab.research.google.com/assets/colab-badge.svg\" alt=\"Open In Colab\"/></a>"
      ]
    },
    {
      "cell_type": "markdown",
      "id": "c3ea0ffc",
      "metadata": {
        "id": "c3ea0ffc"
      },
      "source": [
        "# Pressure control implementations in water distribution networks\n",
        "### CIVE 70019/70057\n",
        "Department of Civil and Environmental Engineering, Imperial College London\\\n",
        "Autumn 2023"
      ]
    },
    {
      "cell_type": "markdown",
      "id": "5eebea76",
      "metadata": {
        "id": "5eebea76"
      },
      "source": [
        "### Preamble\n",
        "This notebook walks through the following pressure control implementations in water distribution network operations:\n",
        "- Fixed outlet\n",
        "- Time-based\n",
        "- Flow modulation\n",
        "- Model-based optimization\n",
        "\n",
        "Code implementations for flow modulation and model-based optimal control will be presented."
      ]
    },
    {
      "cell_type": "markdown",
      "id": "e7aeb130",
      "metadata": {
        "id": "e7aeb130"
      },
      "source": [
        "First, we must clone the GitHub repository and install dependencies (only run this once)."
      ]
    },
    {
      "cell_type": "code",
      "execution_count": null,
      "id": "XUkd0ndZ-Fy_",
      "metadata": {
        "colab": {
          "base_uri": "https://localhost:8080/"
        },
        "id": "XUkd0ndZ-Fy_",
        "outputId": "4fd768b0-2920-4f7d-fe2c-d9b4802eef93"
      },
      "outputs": [],
      "source": [
        "# Run this cell if in Google Colab\n",
        "!git clone https://github.com/bradleywjenks/CIVE_70019_70057.git\n",
        "!pip install wntr"
      ]
    },
    {
      "cell_type": "markdown",
      "id": "g1R6pk6b-ooQ",
      "metadata": {
        "id": "g1R6pk6b-ooQ"
      },
      "source": [
        "### Data preparation"
      ]
    },
    {
      "cell_type": "markdown",
      "id": "kZJwZHFTWCAS",
      "metadata": {
        "id": "kZJwZHFTWCAS"
      },
      "source": [
        "Load data provided in the module repository."
      ]
    },
    {
      "cell_type": "code",
      "execution_count": 1,
      "id": "hAIUTiKc-qiD",
      "metadata": {
        "id": "hAIUTiKc-qiD"
      },
      "outputs": [],
      "source": [
        "# Load dependencies\n",
        "import numpy as np\n",
        "import pandas as pd\n",
        "import matplotlib.pyplot as plt\n",
        "import os\n",
        "\n",
        "data_dir = ''\n",
        "# Load elevation and operational data\n",
        "data = np.load(data_dir, allow_pickle=True).item()"
      ]
    }
  ],
  "metadata": {
    "colab": {
      "include_colab_link": true,
      "provenance": []
    },
    "kernelspec": {
      "display_name": "Python 3 (ipykernel)",
      "language": "python",
      "name": "python3"
    },
    "language_info": {
      "codemirror_mode": {
        "name": "ipython",
        "version": 3
      },
      "file_extension": ".py",
      "mimetype": "text/x-python",
      "name": "python",
      "nbconvert_exporter": "python",
      "pygments_lexer": "ipython3",
      "version": "3.10.11"
    }
  },
  "nbformat": 4,
  "nbformat_minor": 5
}
