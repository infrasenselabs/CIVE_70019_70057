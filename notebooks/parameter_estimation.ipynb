{
 "cells": [
  {
   "cell_type": "markdown",
   "id": "c3ea0ffc",
   "metadata": {},
   "source": [
    "# Pressure control implementations\n",
    "### CIVE 70019/70057\n",
    "Department of Civil and Environmental Engineering, Imperial College London\\\n",
    "Autumn 2023"
   ]
  },
  {
   "cell_type": "markdown",
   "id": "5eebea76",
   "metadata": {},
   "source": [
    "### Preamble\n",
    "This notebook walks through the following pressure control implementations in water distribution networks (WDNs):\n",
    "- Fixed outlet\n",
    "- Time-based\n",
    "- Flow modulation\n",
    "- Model-based optimization\n",
    "\n",
    "Code implementations for flow modulation and model-based optimal control will be presented."
   ]
  },
  {
   "cell_type": "markdown",
   "id": "e7aeb130",
   "metadata": {},
   "source": [
    "First, we must change to the project's base directory (only run this once)."
   ]
  },
  {
   "cell_type": "code",
   "execution_count": null,
   "id": "81998578",
   "metadata": {},
   "outputs": [],
   "source": [
    "import os\n",
    "os.chdir('..')\n",
    "os.getcwd()"
   ]
  }
 ],
 "metadata": {
  "kernelspec": {
   "display_name": "Python 3 (ipykernel)",
   "language": "python",
   "name": "python3"
  },
  "language_info": {
   "codemirror_mode": {
    "name": "ipython",
    "version": 3
   },
   "file_extension": ".py",
   "mimetype": "text/x-python",
   "name": "python",
   "nbconvert_exporter": "python",
   "pygments_lexer": "ipython3",
   "version": "3.10.11"
  }
 },
 "nbformat": 4,
 "nbformat_minor": 5
}
